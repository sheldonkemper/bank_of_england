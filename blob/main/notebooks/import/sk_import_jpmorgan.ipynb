{
  "cells": [
    {
      "cell_type": "markdown",
      "metadata": {
        "id": "view-in-github",
        "colab_type": "text"
      },
      "source": [
        "<a href=\"https://colab.research.google.com/github/sheldonkemper/bank_of_england/blob/main/blob/main/notebooks/import/sk_import_jpmorgan.ipynb\" target=\"_parent\"><img src=\"https://colab.research.google.com/assets/colab-badge.svg\" alt=\"Open In Colab\"/></a>"
      ]
    },
    {
      "cell_type": "code",
      "execution_count": 13,
      "metadata": {
        "id": "2C9SSNHREALD",
        "outputId": "ae511ed3-ba83-4d3c-87d2-4acfeed620c5",
        "colab": {
          "base_uri": "https://localhost:8080/",
          "height": 104
        }
      },
      "outputs": [
        {
          "output_type": "execute_result",
          "data": {
            "text/plain": [
              "'\\n===================================================\\nAuthor: Sheldon Kemper\\nRole: Data Engineering Lead, Bank of England Employer Project (Quant Collective)\\nLinkedIn: https://www.linkedin.com/in/sheldon-kemper\\nDate: 2025-02-04\\nVersion: 1.0\\n\\nDescription:\\n    This notebook is dedicated to the data engineering functions for the Bank of England Employer Project.\\n    It includes code for mounting Google Drive, reading raw PDF files (e.g., earnings call transcripts),\\n    and performing text extraction and cleaning using pdfplumber and regular expressions.\\n\\nDependencies:\\n    - pdfplumber\\n    - re\\n    - google.colab (for mounting Google Drive)\\n    - os\\n\\n===================================================\\n'"
            ],
            "application/vnd.google.colaboratory.intrinsic+json": {
              "type": "string"
            }
          },
          "metadata": {},
          "execution_count": 13
        }
      ],
      "source": [
        "\"\"\"\n",
        "===================================================\n",
        "Author: Sheldon Kemper\n",
        "Role: Data Engineering Lead, Bank of England Employer Project (Quant Collective)\n",
        "LinkedIn: https://www.linkedin.com/in/sheldon-kemper\n",
        "Date: 2025-02-04\n",
        "Version: 1.0\n",
        "\n",
        "Description:\n",
        "    This notebook is dedicated to the data engineering functions for the Bank of England Employer Project.\n",
        "    It includes code for mounting Google Drive, reading raw PDF files (e.g., earnings call transcripts),\n",
        "    and performing text extraction and cleaning using pdfplumber and regular expressions.\n",
        "\n",
        "Dependencies:\n",
        "    - pdfplumber\n",
        "    - re\n",
        "    - google.colab (for mounting Google Drive)\n",
        "    - os\n",
        "\n",
        "===================================================\n",
        "\"\"\""
      ]
    },
    {
      "cell_type": "code",
      "source": [
        "!pip install pdfplumber  # Install pdfplumber library"
      ],
      "metadata": {
        "id": "bbVKn3KeJht9",
        "outputId": "11ef5f6d-c016-41fb-e595-eec2b5a666a8",
        "colab": {
          "base_uri": "https://localhost:8080/"
        }
      },
      "execution_count": 14,
      "outputs": [
        {
          "output_type": "stream",
          "name": "stdout",
          "text": [
            "Requirement already satisfied: pdfplumber in /usr/local/lib/python3.11/dist-packages (0.11.5)\n",
            "Requirement already satisfied: pdfminer.six==20231228 in /usr/local/lib/python3.11/dist-packages (from pdfplumber) (20231228)\n",
            "Requirement already satisfied: Pillow>=9.1 in /usr/local/lib/python3.11/dist-packages (from pdfplumber) (11.1.0)\n",
            "Requirement already satisfied: pypdfium2>=4.18.0 in /usr/local/lib/python3.11/dist-packages (from pdfplumber) (4.30.1)\n",
            "Requirement already satisfied: charset-normalizer>=2.0.0 in /usr/local/lib/python3.11/dist-packages (from pdfminer.six==20231228->pdfplumber) (3.4.1)\n",
            "Requirement already satisfied: cryptography>=36.0.0 in /usr/local/lib/python3.11/dist-packages (from pdfminer.six==20231228->pdfplumber) (43.0.3)\n",
            "Requirement already satisfied: cffi>=1.12 in /usr/local/lib/python3.11/dist-packages (from cryptography>=36.0.0->pdfminer.six==20231228->pdfplumber) (1.17.1)\n",
            "Requirement already satisfied: pycparser in /usr/local/lib/python3.11/dist-packages (from cffi>=1.12->cryptography>=36.0.0->pdfminer.six==20231228->pdfplumber) (2.22)\n"
          ]
        }
      ]
    },
    {
      "cell_type": "code",
      "execution_count": 15,
      "metadata": {
        "id": "DsiugvqOJCW3"
      },
      "outputs": [],
      "source": [
        "import os\n",
        "import requests\n",
        "import pdfplumber\n",
        "import re\n",
        "import pandas as pd\n",
        "from google.colab import drive"
      ]
    },
    {
      "cell_type": "code",
      "execution_count": 16,
      "metadata": {
        "colab": {
          "base_uri": "https://localhost:8080/"
        },
        "id": "6VD8ipZFGbLk",
        "outputId": "5c46a92f-82b5-4be5-ad3e-8acd0ffc32bf"
      },
      "outputs": [
        {
          "output_type": "stream",
          "name": "stdout",
          "text": [
            "Mounted at /content/drive\n",
            "['raw', 'model', 'cleansed', 'processed']\n"
          ]
        }
      ],
      "source": [
        "# Mount Google Drive to the root location with force_remount\n",
        "drive.mount('/content/drive', force_remount=True)\n",
        "\n",
        "# Assuming 'BOE' folder is in 'MyDrive' and already shared\n",
        "BOE_path = '/content/drive/MyDrive/BOE/bank_of_england/data'\n",
        "\n",
        "# Now you (and others with access) can work with files in this directory\n",
        "# For example, you can list the contents:\n",
        "print(os.listdir(BOE_path))"
      ]
    },
    {
      "cell_type": "code",
      "execution_count": 24,
      "metadata": {
        "id": "wJf27jjOJCW4",
        "outputId": "fb19c642-b37f-45e2-fa92-da12bdad2984",
        "colab": {
          "base_uri": "https://localhost:8080/"
        }
      },
      "outputs": [
        {
          "output_type": "stream",
          "name": "stdout",
          "text": [
            "Drive already mounted at /content/drive; to attempt to forcibly remount, call drive.mount(\"/content/drive\", force_remount=True).\n",
            "('https://www.jpmorganchase.com/content/dam/jpmc/jpmorgan-chase-and-co/investor-relations/documents/quarterly-earnings/2023/1st-quarter/1q23-earnings-transcript.pdf', 'exists', '/content/drive/My Drive/BOE/bank_of_england/data/raw/1q23-earnings-transcript.pdf')\n",
            "('https://www.jpmorganchase.com/content/dam/jpmc/jpmorgan-chase-and-co/investor-relations/documents/quarterly-earnings/2023/2nd-quarter/2q23-earnings-transcript.pdf', 'exists', '/content/drive/My Drive/BOE/bank_of_england/data/raw/2q23-earnings-transcript.pdf')\n",
            "('https://www.jpmorganchase.com/content/dam/jpmc/jpmorgan-chase-and-co/investor-relations/documents/quarterly-earnings/2024/1st-quarter/jpm-1q24-earnings-call-transcript.pdf', 'exists', '/content/drive/My Drive/BOE/bank_of_england/data/raw/jpm-1q24-earnings-call-transcript.pdf')\n",
            "('https://www.jpmorganchase.com/content/dam/jpmc/jpmorgan-chase-and-co/investor-relations/documents/quarterly-earnings/2024/2nd-quarter/jpm-2q24-earnings-call-transcript-final.pdf', 'exists', '/content/drive/My Drive/BOE/bank_of_england/data/raw/jpm-2q24-earnings-call-transcript-final.pdf')\n",
            "('https://www.jpmorganchase.com/content/dam/jpmc/jpmorgan-chase-and-co/investor-relations/documents/quarterly-earnings/2023/3rd-quarter/jpm-3q23-earnings-call-transcript.pdf', 'exists', '/content/drive/My Drive/BOE/bank_of_england/data/raw/jpm-3q23-earnings-call-transcript.pdf')\n",
            "('https://www.jpmorganchase.com/content/dam/jpmc/jpmorgan-chase-and-co/investor-relations/documents/quarterly-earnings/2023/4th-quarter/jpm-4q23-earnings-call-transcript.pdf', 'exists', '/content/drive/My Drive/BOE/bank_of_england/data/raw/jpm-4q23-earnings-call-transcript.pdf')\n",
            "('https://www.jpmorganchase.com/content/dam/jpmc/jpmorgan-chase-and-co/investor-relations/documents/quarterly-earnings/2024/3rd-quarter/jpmc-third-quarter-2024-earnings-conference-call-transcript.pdf', 'exists', '/content/drive/My Drive/BOE/bank_of_england/data/raw/jpmc-third-quarter-2024-earnings-conference-call-transcript.pdf')\n",
            "('https://www.jpmorganchase.com/content/dam/jpmc/jpmorgan-chase-and-co/investor-relations/documents/quarterly-earnings/2024/4th-quarter/4q24-earnings-transcript.pdf', 'exists', '/content/drive/My Drive/BOE/bank_of_england/data/raw/4q24-earnings-transcript.pdf')\n",
            "\n",
            "Summary of Downloads:\n",
            "('https://www.jpmorganchase.com/content/dam/jpmc/jpmorgan-chase-and-co/investor-relations/documents/quarterly-earnings/2023/1st-quarter/1q23-earnings-transcript.pdf', 'exists', '/content/drive/My Drive/BOE/bank_of_england/data/raw/1q23-earnings-transcript.pdf')\n",
            "('https://www.jpmorganchase.com/content/dam/jpmc/jpmorgan-chase-and-co/investor-relations/documents/quarterly-earnings/2023/2nd-quarter/2q23-earnings-transcript.pdf', 'exists', '/content/drive/My Drive/BOE/bank_of_england/data/raw/2q23-earnings-transcript.pdf')\n",
            "('https://www.jpmorganchase.com/content/dam/jpmc/jpmorgan-chase-and-co/investor-relations/documents/quarterly-earnings/2024/1st-quarter/jpm-1q24-earnings-call-transcript.pdf', 'exists', '/content/drive/My Drive/BOE/bank_of_england/data/raw/jpm-1q24-earnings-call-transcript.pdf')\n",
            "('https://www.jpmorganchase.com/content/dam/jpmc/jpmorgan-chase-and-co/investor-relations/documents/quarterly-earnings/2024/2nd-quarter/jpm-2q24-earnings-call-transcript-final.pdf', 'exists', '/content/drive/My Drive/BOE/bank_of_england/data/raw/jpm-2q24-earnings-call-transcript-final.pdf')\n",
            "('https://www.jpmorganchase.com/content/dam/jpmc/jpmorgan-chase-and-co/investor-relations/documents/quarterly-earnings/2023/3rd-quarter/jpm-3q23-earnings-call-transcript.pdf', 'exists', '/content/drive/My Drive/BOE/bank_of_england/data/raw/jpm-3q23-earnings-call-transcript.pdf')\n",
            "('https://www.jpmorganchase.com/content/dam/jpmc/jpmorgan-chase-and-co/investor-relations/documents/quarterly-earnings/2023/4th-quarter/jpm-4q23-earnings-call-transcript.pdf', 'exists', '/content/drive/My Drive/BOE/bank_of_england/data/raw/jpm-4q23-earnings-call-transcript.pdf')\n",
            "('https://www.jpmorganchase.com/content/dam/jpmc/jpmorgan-chase-and-co/investor-relations/documents/quarterly-earnings/2024/3rd-quarter/jpmc-third-quarter-2024-earnings-conference-call-transcript.pdf', 'exists', '/content/drive/My Drive/BOE/bank_of_england/data/raw/jpmc-third-quarter-2024-earnings-conference-call-transcript.pdf')\n",
            "('https://www.jpmorganchase.com/content/dam/jpmc/jpmorgan-chase-and-co/investor-relations/documents/quarterly-earnings/2024/4th-quarter/4q24-earnings-transcript.pdf', 'exists', '/content/drive/My Drive/BOE/bank_of_england/data/raw/4q24-earnings-transcript.pdf')\n"
          ]
        }
      ],
      "source": [
        "# Notebook 1: Import Transcripts and Append Data (Improved Download Code)\n",
        "\n",
        "# -------------------------------\n",
        "# 1. Mount Google Drive and import necessary libraries\n",
        "# -------------------------------\n",
        "from google.colab import drive\n",
        "drive.mount('/content/drive')\n",
        "\n",
        "import os\n",
        "import requests\n",
        "from concurrent.futures import ThreadPoolExecutor, as_completed\n",
        "\n",
        "# -------------------------------\n",
        "# 2. Define local paths on your Google Drive\n",
        "# -------------------------------\n",
        "raw_dir = \"/content/drive/My Drive/BOE/bank_of_england/data/raw/\"\n",
        "processed_dir = \"/content/drive/My Drive/BOE/bank_of_england/data/processed/\"\n",
        "\n",
        "# Create directories if they don't exist\n",
        "os.makedirs(raw_dir, exist_ok=True)\n",
        "os.makedirs(processed_dir, exist_ok=True)\n",
        "\n",
        "# -------------------------------\n",
        "# 3. Define the list of transcript URLs you are interested in\n",
        "# -------------------------------\n",
        "transcript_urls = [\n",
        "    \"https://www.jpmorganchase.com/content/dam/jpmc/jpmorgan-chase-and-co/investor-relations/documents/quarterly-earnings/2023/1st-quarter/1q23-earnings-transcript.pdf\",\n",
        "    \"https://www.jpmorganchase.com/content/dam/jpmc/jpmorgan-chase-and-co/investor-relations/documents/quarterly-earnings/2023/2nd-quarter/2q23-earnings-transcript.pdf\",\n",
        "    \"https://www.jpmorganchase.com/content/dam/jpmc/jpmorgan-chase-and-co/investor-relations/documents/quarterly-earnings/2023/3rd-quarter/jpm-3q23-earnings-call-transcript.pdf\",\n",
        "    \"https://www.jpmorganchase.com/content/dam/jpmc/jpmorgan-chase-and-co/investor-relations/documents/quarterly-earnings/2023/4th-quarter/jpm-4q23-earnings-call-transcript.pdf\",\n",
        "    \"https://www.jpmorganchase.com/content/dam/jpmc/jpmorgan-chase-and-co/investor-relations/documents/quarterly-earnings/2024/1st-quarter/jpm-1q24-earnings-call-transcript.pdf\",\n",
        "    \"https://www.jpmorganchase.com/content/dam/jpmc/jpmorgan-chase-and-co/investor-relations/documents/quarterly-earnings/2024/2nd-quarter/jpm-2q24-earnings-call-transcript-final.pdf\",\n",
        "    \"https://www.jpmorganchase.com/content/dam/jpmc/jpmorgan-chase-and-co/investor-relations/documents/quarterly-earnings/2024/3rd-quarter/jpmc-third-quarter-2024-earnings-conference-call-transcript.pdf\",\n",
        "    \"https://www.jpmorganchase.com/content/dam/jpmc/jpmorgan-chase-and-co/investor-relations/documents/quarterly-earnings/2024/4th-quarter/4q24-earnings-transcript.pdf\"\n",
        "]\n",
        "\n",
        "# -------------------------------\n",
        "# 4. Define a function to download a PDF\n",
        "# -------------------------------\n",
        "def download_pdf(url, raw_dir):\n",
        "    \"\"\"Downloads a PDF from the given URL and saves it to raw_dir.\n",
        "    Returns a tuple: (url, status, file_path or error message).\n",
        "    \"\"\"\n",
        "    file_name = url.split(\"/\")[-1]\n",
        "    file_path = os.path.join(raw_dir, file_name)\n",
        "\n",
        "    # Skip download if file already exists\n",
        "    if os.path.exists(file_path):\n",
        "        return (url, \"exists\", file_path)\n",
        "\n",
        "    try:\n",
        "        response = requests.get(url, timeout=15)\n",
        "        if response.status_code == 200:\n",
        "            with open(file_path, \"wb\") as f:\n",
        "                f.write(response.content)\n",
        "            return (url, \"downloaded\", file_path)\n",
        "        else:\n",
        "            return (url, f\"Failed (status code: {response.status_code})\", None)\n",
        "    except Exception as e:\n",
        "        return (url, f\"Error: {str(e)}\", None)\n",
        "\n",
        "# -------------------------------\n",
        "# 5. Download all PDFs concurrently and log the results\n",
        "# -------------------------------\n",
        "results = []\n",
        "with ThreadPoolExecutor(max_workers=4) as executor:\n",
        "    futures = [executor.submit(download_pdf, url, raw_dir) for url in transcript_urls]\n",
        "    for future in as_completed(futures):\n",
        "        result = future.result()\n",
        "        results.append(result)\n",
        "        print(result)\n",
        "\n",
        "print(\"\\nSummary of Downloads:\")\n",
        "for res in results:\n",
        "    print(res)\n"
      ]
    },
    {
      "cell_type": "markdown",
      "source": [],
      "metadata": {
        "id": "-6wyySTZLUsy"
      }
    }
  ],
  "metadata": {
    "colab": {
      "provenance": [],
      "include_colab_link": true
    },
    "kernelspec": {
      "display_name": "Python 3",
      "name": "python3"
    },
    "language_info": {
      "codemirror_mode": {
        "name": "ipython",
        "version": 3
      },
      "file_extension": ".py",
      "mimetype": "text/x-python",
      "name": "python",
      "nbconvert_exporter": "python",
      "pygments_lexer": "ipython3",
      "version": "3.9.6"
    }
  },
  "nbformat": 4,
  "nbformat_minor": 0
}