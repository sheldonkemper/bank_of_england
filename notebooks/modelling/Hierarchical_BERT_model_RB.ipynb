{
  "nbformat": 4,
  "nbformat_minor": 0,
  "metadata": {
    "colab": {
      "provenance": [],
      "authorship_tag": "ABX9TyNHC3j5KBSi8VzjWDNFIH4j",
      "include_colab_link": true
    },
    "kernelspec": {
      "name": "python3",
      "display_name": "Python 3"
    },
    "language_info": {
      "name": "python"
    }
  },
  "cells": [
    {
      "cell_type": "markdown",
      "metadata": {
        "id": "view-in-github",
        "colab_type": "text"
      },
      "source": [
        "<a href=\"https://colab.research.google.com/github/sheldonkemper/bank_of_england/blob/main/notebooks/modelling/Hierarchical_BERT_model_RB.ipynb\" target=\"_parent\"><img src=\"https://colab.research.google.com/assets/colab-badge.svg\" alt=\"Open In Colab\"/></a>"
      ]
    },
    {
      "cell_type": "markdown",
      "source": [
        "If you don’t have a trained model, you need to train the Hierarchical BERT model from scratch on your dataset."
      ],
      "metadata": {
        "id": "GHC4yqZvnIV9"
      }
    },
    {
      "cell_type": "markdown",
      "source": [
        "#**Step 1: Prepare the Dataset**\n",
        "\n",
        "We assume you have a dataset with long texts and labels (e.g., a CSV file with text and label columns)."
      ],
      "metadata": {
        "id": "uZ-b5PWjmofQ"
      }
    },
    {
      "cell_type": "code",
      "execution_count": null,
      "metadata": {
        "id": "TomdyvKZmlDB"
      },
      "outputs": [],
      "source": [
        "import pandas as pd\n",
        "from torch.utils.data import Dataset, DataLoader\n",
        "\n",
        "class LongTextDataset(Dataset):\n",
        "    def __init__(self, df, tokenizer, max_length=512, stride=256):\n",
        "        self.texts = df[\"text\"].tolist()\n",
        "        self.labels = df[\"label\"].tolist()\n",
        "        self.tokenizer = tokenizer\n",
        "        self.max_length = max_length\n",
        "        self.stride = stride\n",
        "\n",
        "    def __len__(self):\n",
        "        return len(self.texts)\n",
        "\n",
        "    def __getitem__(self, idx):\n",
        "        text = self.texts[idx]\n",
        "        label = self.labels[idx]\n",
        "\n",
        "        # Chunk the long text\n",
        "        chunks = chunk_text(text, self.tokenizer, self.max_length, self.stride)\n",
        "        padded_chunks, attention_masks = pad_chunks(chunks, self.max_length)\n",
        "\n",
        "        return {\n",
        "            \"input_ids\": padded_chunks,\n",
        "            \"attention_mask\": attention_masks,\n",
        "            \"label\": torch.tensor(label, dtype=torch.long),\n",
        "        }\n",
        "\n",
        "# Load dataset\n",
        "df = pd.read_csv(\"your_dataset.csv\")  # Ensure the dataset has 'text' and 'label' columns\n",
        "tokenizer = BertTokenizer.from_pretrained(\"bert-base-uncased\")\n",
        "\n",
        "train_dataset = LongTextDataset(df, tokenizer)\n",
        "train_loader = DataLoader(train_dataset, batch_size=4, shuffle=True)\n"
      ]
    },
    {
      "cell_type": "markdown",
      "source": [
        "#**Step 2: Define Training Functions**"
      ],
      "metadata": {
        "id": "PhI2Bvmxm1e4"
      }
    },
    {
      "cell_type": "code",
      "source": [
        "import torch.optim as optim\n",
        "\n",
        "device = torch.device(\"cuda\" if torch.cuda.is_available() else \"cpu\")\n",
        "\n",
        "# Initialize model\n",
        "model = HierarchicalBERT(num_labels=3).to(device)  # Adjust `num_labels` based on your dataset\n",
        "optimizer = optim.AdamW(model.parameters(), lr=2e-5)\n",
        "loss_fn = nn.CrossEntropyLoss()\n",
        "\n",
        "# Training loop\n",
        "def train_model(model, train_loader, epochs=3):\n",
        "    model.train()\n",
        "\n",
        "    for epoch in range(epochs):\n",
        "        total_loss = 0\n",
        "        for batch in train_loader:\n",
        "            input_ids = batch[\"input_ids\"].to(device)\n",
        "            attention_mask = batch[\"attention_mask\"].to(device)\n",
        "            labels = batch[\"label\"].to(device)\n",
        "\n",
        "            optimizer.zero_grad()\n",
        "            outputs = model(input_ids, attention_mask)\n",
        "            loss = loss_fn(outputs, labels)\n",
        "            loss.backward()\n",
        "            optimizer.step()\n",
        "\n",
        "            total_loss += loss.item()\n",
        "\n",
        "        print(f\"Epoch {epoch+1}, Loss: {total_loss/len(train_loader)}\")\n",
        "\n",
        "# Train the model\n",
        "train_model(model, train_loader, epochs=3)"
      ],
      "metadata": {
        "id": "Cv3q6-oZmt53"
      },
      "execution_count": null,
      "outputs": []
    },
    {
      "cell_type": "markdown",
      "source": [
        "#**Step 3: Save and Load the Trained Model**"
      ],
      "metadata": {
        "id": "p-bFzyb6m6qx"
      }
    },
    {
      "cell_type": "code",
      "source": [
        "# Save trained model\n",
        "torch.save(model.state_dict(), \"hierarchical_bert.pth\")\n",
        "\n",
        "# Load model later\n",
        "model = HierarchicalBERT(num_labels=3)\n",
        "model.load_state_dict(torch.load(\"hierarchical_bert.pth\"))\n",
        "model.eval()"
      ],
      "metadata": {
        "id": "R_9mK93wm6XB"
      },
      "execution_count": null,
      "outputs": []
    },
    {
      "cell_type": "markdown",
      "source": [
        "Now, you have a trained Hierarchical BERT model that can classify topics for long texts!"
      ],
      "metadata": {
        "id": "Ub3blBuFnA_K"
      }
    }
  ]
}