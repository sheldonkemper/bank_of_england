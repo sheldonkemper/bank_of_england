{
  "cells": [
    {
      "cell_type": "markdown",
      "metadata": {
        "id": "view-in-github",
        "colab_type": "text"
      },
      "source": [
        "<a href=\"https://colab.research.google.com/github/sheldonkemper/bank_of_england/blob/main/notebooks/modelling/kk_mvp_modelling.ipynb\" target=\"_parent\"><img src=\"https://colab.research.google.com/assets/colab-badge.svg\" alt=\"Open In Colab\"/></a>"
      ]
    },
    {
      "cell_type": "code",
      "source": [
        "\"\"\"\n",
        "===================================================\n",
        "Author: Kasia Kirby\n",
        "Role: Reporting Lead, Bank of England Employer Project (Quant Collective)\n",
        "LinkedIn: https://www.linkedin.com/in/kasia-kirby\n",
        "Date: 2025-02-17\n",
        "Version: 1.0\n",
        "\n",
        "Description:\n",
        "    This notebook builds the end to end NLP pipeline to run topic modelling,\n",
        "    sentiment analysis, and summarisation on JPM quarterly call trancripts from 2023-2024.\n",
        "\n",
        "===================================================\n",
        "\"\"\""
      ],
      "metadata": {
        "colab": {
          "base_uri": "https://localhost:8080/",
          "height": 89
        },
        "id": "9nrMOE0XLdw_",
        "outputId": "9f242150-ebf9-494f-c26b-395f8a39f03a"
      },
      "execution_count": null,
      "outputs": [
        {
          "output_type": "execute_result",
          "data": {
            "text/plain": [
              "'\\n===================================================\\nAuthor: Kasia Kirby\\nRole: Reporting Lead, Bank of England Employer Project (Quant Collective)\\nLinkedIn: https://www.linkedin.com/in/kasia-kirby\\nDate: 2025-02-17\\nVersion: 1.0\\n\\nDescription:\\n    This notebook builds the end to end NLP pipeline to run topic modelling, \\n    sentiment analysis, and summarisation on JPM quarterly call trancripts from 2023-2024.  \\n\\n===================================================\\n'"
            ],
            "application/vnd.google.colaboratory.intrinsic+json": {
              "type": "string"
            }
          },
          "metadata": {},
          "execution_count": 1
        }
      ]
    },
    {
      "cell_type": "markdown",
      "source": [
        "**Task**\n",
        "\n",
        "Model the transcript data by analyst and by selected quarters using BERTopic, FinBert and LLM model.\n",
        "\n",
        "**Data**\n",
        "\n",
        "JMP bank, 2023-2024, Management & Q&A transcripts\n",
        "\n",
        "**Requirements**\n",
        "\n",
        "1. finBERt returns sentiment accuracy\n",
        "2. LLM model returns better sentiment accuracy\n",
        "3. BERTopic performs accurate topic extraction\n",
        "4. LLM is able to capture more topic context and provide summarisation of those\n",
        "5. Analyst topics of interest and sentiment varies widely quarter by quarter\n",
        "6. Topics and sentiment comparison between analysts.\n",
        "\n",
        "**Approach**\n",
        "\n",
        "Topic model -> Sentiment analysis -> Insight + Comparison\n",
        "\n",
        "- First, topics are identified freely by the model on each transcript\n",
        "- Second the model is trained with G-SIB assessment topics\n",
        "- Third, sentiment analysis is run on the resulting four files (Q&A and management - with free topics, and trained topics)\n",
        "- Fourth, all are compared against each other to find best insights\n",
        "\n",
        "**Benchmark analysis**\n",
        "\n",
        "- **comparison between model types and their results** (apply like-for-like rules when comparing the models results i.e. if we gather insights on a specific analyst in a specific quarter (Q42024) compare models results and ability to capture correct information using the same analyst and quarter across all models),\n",
        "- **comparison between Q42024 analyst insights and other quarters insights** (apply full models flow across at least two different periods i.e. Q4 2024 and Q2 2024 and choose a specific analyst and check what major topics and sentiment they cover between the two periods; do they have similar sentiment over time? Do they focus on specific topic areas that are of interest in that specific quarter over the other quarter?),\n",
        "- **comparison between two different analysts in the same quarter** (are analysts interested in different topics? What can we extract at analyst level with regards to sentiment, topics of interest and conversation summarisation?)\n",
        "\n"
      ],
      "metadata": {
        "id": "DL1p36Sz_LMs"
      }
    },
    {
      "cell_type": "markdown",
      "source": [
        "# 1. Import libraries and files"
      ],
      "metadata": {
        "id": "LQhH4Ne6L0wi"
      }
    },
    {
      "cell_type": "code",
      "execution_count": null,
      "metadata": {
        "id": "IyrdK8-KUs3l"
      },
      "outputs": [],
      "source": [
        "import os\n",
        "import sys\n",
        "from google.colab import drive\n",
        "\n",
        "import pandas as pd\n",
        "import matplotlib.pyplot as plt"
      ]
    },
    {
      "cell_type": "code",
      "execution_count": null,
      "metadata": {
        "id": "6VD8ipZFGbLk",
        "colab": {
          "base_uri": "https://localhost:8080/"
        },
        "outputId": "75937bb2-9569-4eb0-bd6a-273d2b6ec592"
      },
      "outputs": [
        {
          "output_type": "stream",
          "name": "stdout",
          "text": [
            "Mounted at /content/drive\n",
            "['kk_modelling.ipynb', 'sk_RAG_jpmorgan.ipynb', 'rb_bert_test.ipynb', 'rb_test_hyerarchical_bert_model.ipynb', 'OB_test_api_metric_gathering.ipynb']\n"
          ]
        }
      ],
      "source": [
        "# Mount Google Drive to the root location\n",
        "drive.mount('/content/drive', force_remount=True)\n",
        "BOE_path = '/content/drive/MyDrive/BOE/bank_of_england/notebooks/modelling'\n",
        "print(os.listdir(BOE_path))"
      ]
    }
  ],
  "metadata": {
    "colab": {
      "provenance": [],
      "include_colab_link": true
    },
    "kernelspec": {
      "display_name": "Python 3",
      "name": "python3"
    },
    "language_info": {
      "name": "python"
    }
  },
  "nbformat": 4,
  "nbformat_minor": 0
}