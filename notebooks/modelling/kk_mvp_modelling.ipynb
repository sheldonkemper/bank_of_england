{
  "cells": [
    {
      "cell_type": "markdown",
      "metadata": {
        "id": "view-in-github",
        "colab_type": "text"
      },
      "source": [
        "<a href=\"https://colab.research.google.com/github/sheldonkemper/bank_of_england/blob/main/notebooks/modelling/kk_mvp_modelling.ipynb\" target=\"_parent\"><img src=\"https://colab.research.google.com/assets/colab-badge.svg\" alt=\"Open In Colab\"/></a>"
      ]
    },
    {
      "cell_type": "code",
      "source": [
        "\"\"\"\n",
        "===================================================\n",
        "Author: Kasia Kirby\n",
        "Role: Reporting Lead, Bank of England Employer Project (Quant Collective)\n",
        "LinkedIn: https://www.linkedin.com/in/kasia-kirby\n",
        "Date: 2025-02-17\n",
        "Version: 1.0\n",
        "\n",
        "Description:\n",
        "    This notebook builds the end to end NLP pipeline to run topic modelling,\n",
        "    sentiment analysis, and summarisation on JPM quarterly call trancripts from 2023-2024.\n",
        "\n",
        "===================================================\n",
        "\"\"\""
      ],
      "metadata": {
        "colab": {
          "base_uri": "https://localhost:8080/",
          "height": 89
        },
        "id": "9nrMOE0XLdw_",
        "outputId": "9f242150-ebf9-494f-c26b-395f8a39f03a"
      },
      "execution_count": 1,
      "outputs": [
        {
          "output_type": "execute_result",
          "data": {
            "text/plain": [
              "'\\n===================================================\\nAuthor: Kasia Kirby\\nRole: Reporting Lead, Bank of England Employer Project (Quant Collective)\\nLinkedIn: https://www.linkedin.com/in/kasia-kirby\\nDate: 2025-02-17\\nVersion: 1.0\\n\\nDescription:\\n    This notebook builds the end to end NLP pipeline to run topic modelling, \\n    sentiment analysis, and summarisation on JPM quarterly call trancripts from 2023-2024.  \\n\\n===================================================\\n'"
            ],
            "application/vnd.google.colaboratory.intrinsic+json": {
              "type": "string"
            }
          },
          "metadata": {},
          "execution_count": 1
        }
      ]
    },
    {
      "cell_type": "markdown",
      "source": [
        "# 1. Import libraries and files"
      ],
      "metadata": {
        "id": "LQhH4Ne6L0wi"
      }
    },
    {
      "cell_type": "code",
      "execution_count": 2,
      "metadata": {
        "id": "IyrdK8-KUs3l"
      },
      "outputs": [],
      "source": [
        "import os\n",
        "import sys\n",
        "from google.colab import drive\n",
        "\n",
        "import pandas as pd\n",
        "import matplotlib.pyplot as plt"
      ]
    },
    {
      "cell_type": "code",
      "execution_count": 6,
      "metadata": {
        "id": "6VD8ipZFGbLk",
        "colab": {
          "base_uri": "https://localhost:8080/"
        },
        "outputId": "75937bb2-9569-4eb0-bd6a-273d2b6ec592"
      },
      "outputs": [
        {
          "output_type": "stream",
          "name": "stdout",
          "text": [
            "Mounted at /content/drive\n",
            "['kk_modelling.ipynb', 'sk_RAG_jpmorgan.ipynb', 'rb_bert_test.ipynb', 'rb_test_hyerarchical_bert_model.ipynb', 'OB_test_api_metric_gathering.ipynb']\n"
          ]
        }
      ],
      "source": [
        "# Mount Google Drive to the root location\n",
        "drive.mount('/content/drive', force_remount=True)\n",
        "BOE_path = '/content/drive/MyDrive/BOE/bank_of_england/notebooks/modelling'\n",
        "print(os.listdir(BOE_path))"
      ]
    }
  ],
  "metadata": {
    "colab": {
      "provenance": [],
      "include_colab_link": true
    },
    "kernelspec": {
      "display_name": "Python 3",
      "name": "python3"
    },
    "language_info": {
      "name": "python"
    }
  },
  "nbformat": 4,
  "nbformat_minor": 0
}