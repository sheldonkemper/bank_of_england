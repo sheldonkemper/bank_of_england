{
  "cells": [
    {
      "cell_type": "markdown",
      "metadata": {
        "id": "view-in-github",
        "colab_type": "text"
      },
      "source": [
        "<a href=\"https://colab.research.google.com/github/sheldonkemper/bank_of_england/blob/main/notebooks/modelling/rb_flan_t5_summarisation.ipynb\" target=\"_parent\"><img src=\"https://colab.research.google.com/assets/colab-badge.svg\" alt=\"Open In Colab\"/></a>"
      ]
    },
    {
      "cell_type": "code",
      "source": [
        "\n",
        "\"\"\"\n",
        "===================================================\n",
        "Author: Rita Bini\n",
        "Role: Analytics and Data Science, Bank of England Employer Project (Quant Collective)\n",
        "Linkedin: https://www.linkedin.com/in/rita-bini/\n",
        "Date: 2025-03-08\n",
        "Version: 1.0\n",
        "\n",
        "Description:\n",
        "    This notebook contains a pipeline for a Flan-T5 (large)\n",
        "    model for text summarisation of financial text. The model will be part of our LLM\n",
        "    pipeline and linked to topic and sentiment modeling results for a final insights dashboard.\n",
        "===================================================\n",
        "\"\"\""
      ],
      "metadata": {
        "colab": {
          "base_uri": "https://localhost:8080/",
          "height": 53
        },
        "id": "iwWuqzaDr-MX",
        "outputId": "7eae837f-c632-4400-da56-89eb33977f09"
      },
      "execution_count": null,
      "outputs": [
        {
          "output_type": "execute_result",
          "data": {
            "text/plain": [
              "'\\n===================================================\\nAuthor: Rita Bini\\nRole: Analytics and Data Science, Bank of England Employer Project (Quant Collective)\\nLinkedin: https://www.linkedin.com/in/rita-bini/\\nDate: 2025-03-08\\nVersion: 1.0\\n\\nDescription:\\n    This notebook contains a pipeline for a Flan-T5 (large)\\n    model for text summarisation of financial text. The model will be part of our LLM\\n    pipeline and linked to topic and sentiment modeling results for a final insights dashboard.\\n===================================================\\n'"
            ],
            "application/vnd.google.colaboratory.intrinsic+json": {
              "type": "string"
            }
          },
          "metadata": {},
          "execution_count": 1
        }
      ]
    },
    {
      "cell_type": "markdown",
      "source": [
        "# **Imports**"
      ],
      "metadata": {
        "id": "p6fVafQjbq5s"
      }
    },
    {
      "cell_type": "code",
      "execution_count": 1,
      "metadata": {
        "collapsed": true,
        "id": "4_UYXE_38U87"
      },
      "outputs": [],
      "source": [
        "!pip install umap-learn hdbscan sentence-transformers > /dev/null 2>&1\n",
        "!pip install transformers torch > /dev/null 2>&1\n",
        "!pip install tensorboard > /dev/null 2>&1\n",
        "!pip install tensorflow > /dev/null 2>&1"
      ]
    },
    {
      "cell_type": "code",
      "execution_count": 2,
      "metadata": {
        "id": "siaJxgIwEUqh"
      },
      "outputs": [],
      "source": [
        "import time\n",
        "import torch\n",
        "from google.colab import drive\n",
        "import os\n",
        "import sys\n",
        "import pandas as pd\n",
        "import re\n",
        "from transformers import AutoModelForSeq2SeqLM, AutoTokenizer,Seq2SeqTrainingArguments, Seq2SeqTrainer, DataCollatorForSeq2Seq\n",
        "from typing import List, Union, Optional\n",
        "import logging\n",
        "import tensorflow as tf\n",
        "import numpy as np\n",
        "import random\n",
        "\n",
        "\n",
        "import warnings\n",
        "warnings.filterwarnings(\"ignore\", category=UserWarning)"
      ]
    },
    {
      "cell_type": "code",
      "source": [
        "def reset_session():\n",
        "    tf.keras.backend.clear_session()\n",
        "    np.random.seed(42)\n",
        "    random.seed(42)\n",
        "    tf.random.set_seed(42)"
      ],
      "metadata": {
        "id": "VnoqUmd7GT93"
      },
      "execution_count": 3,
      "outputs": []
    },
    {
      "cell_type": "markdown",
      "source": [
        "# **Data loading**"
      ],
      "metadata": {
        "id": "WBj7oSqbbvQN"
      }
    },
    {
      "cell_type": "code",
      "source": [
        "# Load data (questions and answers for JPM and UBS)\n",
        "\n",
        "drive.mount('/content/drive', force_remount=True)"
      ],
      "metadata": {
        "colab": {
          "base_uri": "https://localhost:8080/"
        },
        "id": "wNecU-4IvEtV",
        "outputId": "243fa515-2346-4eac-f7af-ad6d8334bca4"
      },
      "execution_count": 7,
      "outputs": [
        {
          "output_type": "stream",
          "name": "stdout",
          "text": [
            "Mounted at /content/drive\n"
          ]
        }
      ]
    },
    {
      "cell_type": "code",
      "source": [
        "path1 = \"/content/drive/MyDrive/bank_of_england/data/preprocessed_data/jp_morgan_qna.csv\"\n",
        "path2 = \"/content/drive/MyDrive/bank_of_england/data/preprocessed_data/ubs_qa_df_preprocessed_ver2.csv\"\n",
        "\n",
        "JP_qna = pd.read_csv(path1)\n",
        "UBS_qna = pd.read_csv(path2)"
      ],
      "metadata": {
        "id": "dkDBBoEUvFR1"
      },
      "execution_count": 8,
      "outputs": []
    },
    {
      "cell_type": "code",
      "source": [
        "JP_qna = JP_qna[JP_qna[\"Quarter\"] != \"1Q23\"]\n",
        "UBS_qna = UBS_qna[UBS_qna[\"Quarter\"] != \"1Q23\"]"
      ],
      "metadata": {
        "id": "wz6Pq_7nMu3n"
      },
      "execution_count": 9,
      "outputs": []
    },
    {
      "cell_type": "markdown",
      "source": [
        "# **Model pipeline**"
      ],
      "metadata": {
        "id": "2Gz6S_5Gnnlk"
      }
    },
    {
      "cell_type": "code",
      "source": [
        "logging.basicConfig(level=logging.INFO)\n",
        "logger = logging.getLogger(__name__)\n",
        "\n",
        "\n",
        "class TextSummarizer:\n",
        "    def __init__(self, model_name: str = \"google/flan-t5-large\", device: Optional[str] = None):\n",
        "        \"\"\"Initialize the summarizer with model and device.\"\"\"\n",
        "        self.device = device or ('cuda' if torch.cuda.is_available() else 'cpu')\n",
        "        logger.info(f\"Using device: {self.device}\")\n",
        "\n",
        "        try:\n",
        "            self.tokenizer = AutoTokenizer.from_pretrained(model_name)\n",
        "            self.model = AutoModelForSeq2SeqLM.from_pretrained(model_name).to(self.device)\n",
        "            logger.info(f\"Successfully loaded {model_name}\")\n",
        "        except Exception as e:\n",
        "            logger.error(f\"Error loading model: {str(e)}\")\n",
        "            raise\n",
        "\n",
        "    def chunk_text(self,\n",
        "                  text: Union[str, List[str]],\n",
        "                  chunk_size: int = 400,\n",
        "                  overlap: int = 50) -> List[str]:\n",
        "        \"\"\"Split text into overlapping chunks.\"\"\"\n",
        "\n",
        "        if chunk_size <= 0 or overlap < 0 or overlap >= chunk_size:\n",
        "            raise ValueError(\"Invalid chunk_size or overlap parameters\")\n",
        "\n",
        "        try:\n",
        "\n",
        "            if isinstance(text, list):\n",
        "                text = \" \".join(text)\n",
        "\n",
        "            if not text.strip():\n",
        "                return []\n",
        "\n",
        "            words = text.split()\n",
        "            chunks = []\n",
        "            start = 0\n",
        "\n",
        "            while start < len(words):\n",
        "                end = min(start + chunk_size, len(words))\n",
        "                chunk = \" \".join(words[start:end])\n",
        "                chunks.append(chunk)\n",
        "                start += chunk_size - overlap\n",
        "\n",
        "            logger.debug(f\"Split text into {len(chunks)} chunks\")\n",
        "            return chunks\n",
        "\n",
        "        except Exception as e:\n",
        "            logger.error(f\"Error in chunk_text: {str(e)}\")\n",
        "            raise\n",
        "\n",
        "    def summarize_text(self,\n",
        "                      text: str,\n",
        "                      min_new_tokens: int = 100,\n",
        "                      max_new_tokens: int = 400) -> str:\n",
        "        \"\"\"Summarize a single piece of text.\"\"\"\n",
        "\n",
        "        if pd.isna(text) or not text.strip():\n",
        "            logger.warning(\"Empty or NaN text provided\")\n",
        "            return \"\"\n",
        "\n",
        "        try:\n",
        "            prompt = f\"Rewrite the following text into a concise and original summary while maintaining its key ideas: {text}\"\n",
        "\n",
        "\n",
        "            inputs = self.tokenizer(\n",
        "                prompt,\n",
        "                return_tensors=\"pt\",\n",
        "                truncation=True,\n",
        "                max_length=512\n",
        "            ).to(self.device)\n",
        "\n",
        "\n",
        "            with torch.no_grad():\n",
        "                outputs = self.model.generate(\n",
        "                    inputs.input_ids,\n",
        "                    min_new_tokens=min_new_tokens,\n",
        "                    max_new_tokens=max_new_tokens,\n",
        "                    num_beams=4,\n",
        "                    length_penalty=2,\n",
        "                    no_repeat_ngram_size=3,\n",
        "                    early_stopping=True,\n",
        "                    do_sample=False\n",
        "                )\n",
        "\n",
        "            summary = self.tokenizer.decode(outputs[0], skip_special_tokens=True)\n",
        "            return summary\n",
        "\n",
        "        except Exception as e:\n",
        "            logger.error(f\"Error in summarize_text: {str(e)}\")\n",
        "            raise\n",
        "\n",
        "    def summarize_long_text(self,\n",
        "                          text: Union[str, List[str]],\n",
        "                          chunk_size: int = 300,\n",
        "                          overlap: int = 50) -> str:\n",
        "        \"\"\"Handle long text summarization.\"\"\"\n",
        "        try:\n",
        "            # Get chunks\n",
        "            chunks = self.chunk_text(text, chunk_size, overlap)\n",
        "            if not chunks:\n",
        "                logger.warning(\"No valid chunks to summarize\")\n",
        "                return \"\"\n",
        "\n",
        "            # Summarize chunks\n",
        "            chunk_summaries = []\n",
        "            for i, chunk in enumerate(chunks):\n",
        "                logger.debug(f\"Summarizing chunk {i+1}/{len(chunks)}\")\n",
        "                summary = self.summarize_text(chunk)\n",
        "                if summary.strip():\n",
        "                    chunk_summaries.append(summary)\n",
        "\n",
        "            if not chunk_summaries:\n",
        "                logger.warning(\"No valid summaries generated\")\n",
        "                return \"\"\n",
        "\n",
        "\n",
        "            if len(chunk_summaries) == 1:\n",
        "                return chunk_summaries[0]\n",
        "\n",
        "            # Summarize the combined summaries\n",
        "            logger.debug(\"Generating final summary\")\n",
        "            final_summary = self.summarize_text(\n",
        "                \" \".join(chunk_summaries),\n",
        "                min_new_tokens=150,\n",
        "                max_new_tokens=300\n",
        "            )\n",
        "\n",
        "            return final_summary\n",
        "\n",
        "        except Exception as e:\n",
        "            logger.error(f\"Error in summarize_long_text: {str(e)}\")\n",
        "            raise\n"
      ],
      "metadata": {
        "id": "jhne_gln-eDU"
      },
      "execution_count": 10,
      "outputs": []
    },
    {
      "cell_type": "markdown",
      "source": [
        "# **Applying model to all quarters and to analysts level data**"
      ],
      "metadata": {
        "id": "eEdXczDUb8pb"
      }
    },
    {
      "cell_type": "markdown",
      "source": [
        "###**JPMorgan**"
      ],
      "metadata": {
        "id": "8_kDZIJteMSa"
      }
    },
    {
      "cell_type": "code",
      "source": [
        "summarizer = TextSummarizer()\n",
        "\n",
        "summary_data = []\n",
        "\n",
        "quarter_years = JP_qna[\"Quarter\"].unique()\n",
        "analysts = JP_qna[\"Analyst\"].unique()\n",
        "\n",
        "# Loop through each unique Quarter-Year and Analyst\n",
        "for quarter in quarter_years:\n",
        "    for analyst in analysts:\n",
        "        filtered_df = JP_qna[(JP_qna[\"Quarter\"] == quarter) & (JP_qna[\"Analyst\"] == analyst)]\n",
        "\n",
        "        snippets = filtered_df[\"Response\"].dropna().astype(str).tolist()\n",
        "\n",
        "        if not snippets:\n",
        "            logger.warning(f\"No valid snippets found for Quarter-Year: {quarter}, Analyst: {analyst}\")\n",
        "            continue\n",
        "\n",
        "        print(type(summarizer))\n",
        "\n",
        "        # Generate the summary for the text in this Quarter-Year and Analyst\n",
        "        try:\n",
        "            summary_text = summarizer.summarize_long_text(snippets)\n",
        "            print(f\"✅ Successfully generated summary for Quarter {quarter}, Analyst {analyst}\")\n",
        "        except Exception as e:\n",
        "            logger.error(f\"Error summarizing for Quarter {quarter}, Analyst {analyst}: {str(e)}\")\n",
        "            continue\n",
        "\n",
        "        summary_data.append({\"Summary\": summary_text, \"Quarter\": quarter, \"Analyst\": analyst})\n",
        "\n",
        "df_summaryJPM = pd.DataFrame(summary_data)\n",
        "\n",
        "# Print final message after completion\n",
        "print(f\"🎯 Summarization completed for {len(summary_data)} entries.\")\n"
      ],
      "metadata": {
        "colab": {
          "base_uri": "https://localhost:8080/",
          "height": 1000,
          "referenced_widgets": [
            "b920778886544a9ca65c76f2ab9a6bea",
            "8613171786df4f8dbc9d23baaec903c5",
            "39d14cf546724df0b553c03ee8269247",
            "a4c9fec399124beabd275eef94b4d517",
            "29a2230f3b744e95a4b6ee5a25f2fd7b",
            "0bfcb327dbc045dcb9188d09e6519199",
            "6260b89885df4c26b94a3d2f41023f39",
            "0fcdfbe8088c426eb2c726b953f903b6",
            "a883ebc8eab340668390eedfe37c84d6",
            "14b10ee797cf413ba765868b547fe4c6",
            "85ef481d987540ee9a122184df717997",
            "360e6ae143034403916bb6a307cced12",
            "a1fcc7b0937f475b97d1d94048520d8d",
            "a2f83a1291ea48d9bb1dc5903b811c89",
            "c35d6022633c4e6680a92780692fe1be",
            "eab96a223fb642acaf0d1956e473fd4a",
            "f3430730f1c64ada8e6dda313a372f80",
            "a62d48a4c1034ffd8714257711f149e0",
            "82cf2993c4ce47beab18c6a3ed7fc26b",
            "07de9aad9af344c4a5a859f338e9176d",
            "95dc45c3511d4259a0fe53f37c0dfba8",
            "c128f93416ef47fa995eef52f80438f4",
            "ae47e8d523b544be941d72574ea0a1f9",
            "3f5ba0124aff4d4ba95c2d93056a201c",
            "42b7b149aa074baabd2a334c3ef68ea8",
            "62f4477cdf154ce79f48eafadcbcfa11",
            "f724aeb9c30849b490b07d3b15ecd393",
            "a20613439bb94c0e82e24dd116291e80",
            "71a473bda9484b38b8600e321a625f3f",
            "3a8a0980c9054acba5d3fa0b228d8efb",
            "89dbaa68574b415792307e38d5b80e33",
            "a5b0e5fbadd04899924e2b6c058fe4c8",
            "346c65e20b3547999af8a34f612e003e",
            "ba75bb2d3852469f819a77cc5c9d7947",
            "5872abbc36284c988f44fa68dd3acd26",
            "564048359894414c9fc0c1f5c6e4abc2",
            "985b4039a18f4875985139063e0be529",
            "2abafacbf2f040bab802f32d93fd36ae",
            "4b5dab871123422aac27ff692142752e",
            "c4a7cc33a0354a7684919357ccfc024a",
            "ad1f8c407aac4e229f36a661bd089043",
            "9cc82f4c9a49404c9db8c10575ba69e3",
            "e394669a5fa0473d84717c6d279e15bb",
            "ec3af84e8cb7470b863e7fb54b4e0ed4",
            "b2bb6ce5bfbf4582ba351bee01e3ab1a",
            "5b19c07a5c2a495fbf5161c67abd3bca",
            "ae2301a0874f4508b4a7fc38e2cc2a21",
            "a9cc68c3676e420f849ff31e51374a4e",
            "1981b7b0f82148568f4b6c93ef39cd9c",
            "5da9b84ebfb94ce6b642eadfea332e75",
            "98a20c5bc496412cbcd17def3dd8b868",
            "e0bf472ae3ef4068afe280ea7329fd1e",
            "24c9ec6375f84c5f850b3d393c3be792",
            "7cf9f850a9444ba0b2ae1bb912def514",
            "2475c78bc004410f96b1d9422f32faa5",
            "f244dbf61b70473bb880242a04f049ec",
            "6a0dc68c118d4490a556d4139aa91d26",
            "5e69dc0f291445a09535a6cd7c0fd4ad",
            "06a7fcb704934ed2a88a2d40b7b6cf8c",
            "4add790490db455fb7c681d56e256f81",
            "8a29c557ecbb4afeb2ba0f2ebe3c2795",
            "f7c915632cb64a68b56a9a94f5211195",
            "23a3942e5b734ef780bd92c92c412d32",
            "d867451ca0b046a0ab1c9155b23ced23",
            "bfbe0aa62a0141a3b728774941a206a3",
            "df89257e40a045c5af43fd5785fba409",
            "e7634e846c374302946b9a8ff6326662",
            "11d19cc9e2d44dea8c593be226ff6876",
            "84a3609120a645d88d8bc3f74bb20e38",
            "2cadb27cab2b471d91512f01881f8f25",
            "34fcefee8fe74fdeb243cce7f0c28258",
            "94bdd114a77046ed85c98446946a6404",
            "eaf9a79807e74d9cb899b83f0b15a77e",
            "5ed4c64606a146a4b9742729a6d20f3d",
            "5b2e3506656f4867a0c442b2b2e2772a",
            "a69931215a0f4826a2e59fe7c87ce677",
            "9aa8fce89e9341d0bd97006af09a30d3"
          ]
        },
        "id": "Qr9WV3e6K5uM",
        "outputId": "bcff697a-fe01-4614-f604-c5688dfd8f0c"
      },
      "execution_count": 11,
      "outputs": [
        {
          "output_type": "display_data",
          "data": {
            "text/plain": [
              "tokenizer_config.json:   0%|          | 0.00/2.54k [00:00<?, ?B/s]"
            ],
            "application/vnd.jupyter.widget-view+json": {
              "version_major": 2,
              "version_minor": 0,
              "model_id": "b920778886544a9ca65c76f2ab9a6bea"
            }
          },
          "metadata": {}
        },
        {
          "output_type": "display_data",
          "data": {
            "text/plain": [
              "spiece.model:   0%|          | 0.00/792k [00:00<?, ?B/s]"
            ],
            "application/vnd.jupyter.widget-view+json": {
              "version_major": 2,
              "version_minor": 0,
              "model_id": "360e6ae143034403916bb6a307cced12"
            }
          },
          "metadata": {}
        },
        {
          "output_type": "display_data",
          "data": {
            "text/plain": [
              "tokenizer.json:   0%|          | 0.00/2.42M [00:00<?, ?B/s]"
            ],
            "application/vnd.jupyter.widget-view+json": {
              "version_major": 2,
              "version_minor": 0,
              "model_id": "ae47e8d523b544be941d72574ea0a1f9"
            }
          },
          "metadata": {}
        },
        {
          "output_type": "display_data",
          "data": {
            "text/plain": [
              "special_tokens_map.json:   0%|          | 0.00/2.20k [00:00<?, ?B/s]"
            ],
            "application/vnd.jupyter.widget-view+json": {
              "version_major": 2,
              "version_minor": 0,
              "model_id": "ba75bb2d3852469f819a77cc5c9d7947"
            }
          },
          "metadata": {}
        },
        {
          "output_type": "display_data",
          "data": {
            "text/plain": [
              "config.json:   0%|          | 0.00/662 [00:00<?, ?B/s]"
            ],
            "application/vnd.jupyter.widget-view+json": {
              "version_major": 2,
              "version_minor": 0,
              "model_id": "b2bb6ce5bfbf4582ba351bee01e3ab1a"
            }
          },
          "metadata": {}
        },
        {
          "output_type": "display_data",
          "data": {
            "text/plain": [
              "model.safetensors:   0%|          | 0.00/3.13G [00:00<?, ?B/s]"
            ],
            "application/vnd.jupyter.widget-view+json": {
              "version_major": 2,
              "version_minor": 0,
              "model_id": "f244dbf61b70473bb880242a04f049ec"
            }
          },
          "metadata": {}
        },
        {
          "output_type": "display_data",
          "data": {
            "text/plain": [
              "generation_config.json:   0%|          | 0.00/147 [00:00<?, ?B/s]"
            ],
            "application/vnd.jupyter.widget-view+json": {
              "version_major": 2,
              "version_minor": 0,
              "model_id": "e7634e846c374302946b9a8ff6326662"
            }
          },
          "metadata": {}
        },
        {
          "output_type": "stream",
          "name": "stdout",
          "text": [
            "<class '__main__.TextSummarizer'>\n",
            "✅ Successfully generated summary for Quarter 4Q24, Analyst John McDonald\n",
            "<class '__main__.TextSummarizer'>\n",
            "✅ Successfully generated summary for Quarter 4Q24, Analyst Mike Mayo\n",
            "<class '__main__.TextSummarizer'>\n",
            "✅ Successfully generated summary for Quarter 4Q24, Analyst Jim Mitchell\n",
            "<class '__main__.TextSummarizer'>\n",
            "✅ Successfully generated summary for Quarter 4Q24, Analyst Erika Najarian\n",
            "<class '__main__.TextSummarizer'>\n",
            "✅ Successfully generated summary for Quarter 4Q24, Analyst Erika\n",
            "<class '__main__.TextSummarizer'>\n",
            "✅ Successfully generated summary for Quarter 4Q24, Analyst Matt O'Connor\n",
            "<class '__main__.TextSummarizer'>\n",
            "✅ Successfully generated summary for Quarter 4Q24, Analyst Betsy L. Graseck\n",
            "<class '__main__.TextSummarizer'>\n",
            "✅ Successfully generated summary for Quarter 4Q24, Analyst Ebrahim H. Poonawala\n",
            "<class '__main__.TextSummarizer'>\n",
            "✅ Successfully generated summary for Quarter 4Q24, Analyst Gerard Cassidy\n",
            "<class '__main__.TextSummarizer'>\n"
          ]
        },
        {
          "output_type": "stream",
          "name": "stderr",
          "text": [
            "WARNING:__main__:No valid snippets found for Quarter-Year: 4Q24, Analyst: Steven Chubak\n",
            "WARNING:__main__:No valid snippets found for Quarter-Year: 4Q24, Analyst: Glenn Schorr\n",
            "WARNING:__main__:No valid snippets found for Quarter-Year: 4Q24, Analyst: Saul Martinez\n",
            "WARNING:__main__:No valid snippets found for Quarter-Year: 4Q24, Analyst: Ken Usdin\n",
            "WARNING:__main__:No valid snippets found for Quarter-Year: 4Q24, Analyst: Jeremy Barnum\n",
            "WARNING:__main__:No valid snippets found for Quarter-Year: 4Q24, Analyst: Charles W. Peabody\n",
            "WARNING:__main__:No valid snippets found for Quarter-Year: 4Q24, Analyst: Manan Gosalia\n",
            "WARNING:__main__:No valid snippets found for Quarter-Year: 4Q24, Analyst: Ryan Kenny\n",
            "WARNING:__main__:No valid snippets found for Quarter-Year: 3Q24, Analyst: John McDonald\n"
          ]
        },
        {
          "output_type": "stream",
          "name": "stdout",
          "text": [
            "✅ Successfully generated summary for Quarter 4Q24, Analyst Jamie Dimon\n",
            "<class '__main__.TextSummarizer'>\n",
            "✅ Successfully generated summary for Quarter 3Q24, Analyst Mike Mayo\n",
            "<class '__main__.TextSummarizer'>\n",
            "✅ Successfully generated summary for Quarter 3Q24, Analyst Jim Mitchell\n",
            "<class '__main__.TextSummarizer'>\n"
          ]
        },
        {
          "output_type": "stream",
          "name": "stderr",
          "text": [
            "WARNING:__main__:No valid snippets found for Quarter-Year: 3Q24, Analyst: Erika\n"
          ]
        },
        {
          "output_type": "stream",
          "name": "stdout",
          "text": [
            "✅ Successfully generated summary for Quarter 3Q24, Analyst Erika Najarian\n",
            "<class '__main__.TextSummarizer'>\n",
            "✅ Successfully generated summary for Quarter 3Q24, Analyst Matt O'Connor\n",
            "<class '__main__.TextSummarizer'>\n",
            "✅ Successfully generated summary for Quarter 3Q24, Analyst Betsy L. Graseck\n",
            "<class '__main__.TextSummarizer'>\n",
            "✅ Successfully generated summary for Quarter 3Q24, Analyst Ebrahim H. Poonawala\n",
            "<class '__main__.TextSummarizer'>\n"
          ]
        },
        {
          "output_type": "stream",
          "name": "stderr",
          "text": [
            "WARNING:__main__:No valid snippets found for Quarter-Year: 3Q24, Analyst: Jamie Dimon\n"
          ]
        },
        {
          "output_type": "stream",
          "name": "stdout",
          "text": [
            "✅ Successfully generated summary for Quarter 3Q24, Analyst Gerard Cassidy\n",
            "<class '__main__.TextSummarizer'>\n",
            "✅ Successfully generated summary for Quarter 3Q24, Analyst Steven Chubak\n",
            "<class '__main__.TextSummarizer'>\n",
            "✅ Successfully generated summary for Quarter 3Q24, Analyst Glenn Schorr\n",
            "<class '__main__.TextSummarizer'>\n"
          ]
        },
        {
          "output_type": "stream",
          "name": "stderr",
          "text": [
            "WARNING:__main__:No valid snippets found for Quarter-Year: 3Q24, Analyst: Ken Usdin\n",
            "WARNING:__main__:No valid snippets found for Quarter-Year: 3Q24, Analyst: Jeremy Barnum\n",
            "WARNING:__main__:No valid snippets found for Quarter-Year: 3Q24, Analyst: Charles W. Peabody\n",
            "WARNING:__main__:No valid snippets found for Quarter-Year: 3Q24, Analyst: Manan Gosalia\n",
            "WARNING:__main__:No valid snippets found for Quarter-Year: 3Q24, Analyst: Ryan Kenny\n",
            "WARNING:__main__:No valid snippets found for Quarter-Year: 2Q24, Analyst: John McDonald\n"
          ]
        },
        {
          "output_type": "stream",
          "name": "stdout",
          "text": [
            "✅ Successfully generated summary for Quarter 3Q24, Analyst Saul Martinez\n",
            "<class '__main__.TextSummarizer'>\n",
            "✅ Successfully generated summary for Quarter 2Q24, Analyst Mike Mayo\n",
            "<class '__main__.TextSummarizer'>\n",
            "✅ Successfully generated summary for Quarter 2Q24, Analyst Jim Mitchell\n",
            "<class '__main__.TextSummarizer'>\n"
          ]
        },
        {
          "output_type": "stream",
          "name": "stderr",
          "text": [
            "WARNING:__main__:No valid snippets found for Quarter-Year: 2Q24, Analyst: Erika\n"
          ]
        },
        {
          "output_type": "stream",
          "name": "stdout",
          "text": [
            "✅ Successfully generated summary for Quarter 2Q24, Analyst Erika Najarian\n",
            "<class '__main__.TextSummarizer'>\n",
            "✅ Successfully generated summary for Quarter 2Q24, Analyst Matt O'Connor\n",
            "<class '__main__.TextSummarizer'>\n"
          ]
        },
        {
          "output_type": "stream",
          "name": "stderr",
          "text": [
            "WARNING:__main__:No valid snippets found for Quarter-Year: 2Q24, Analyst: Ebrahim H. Poonawala\n"
          ]
        },
        {
          "output_type": "stream",
          "name": "stdout",
          "text": [
            "✅ Successfully generated summary for Quarter 2Q24, Analyst Betsy L. Graseck\n",
            "<class '__main__.TextSummarizer'>\n"
          ]
        },
        {
          "output_type": "stream",
          "name": "stderr",
          "text": [
            "WARNING:__main__:No valid snippets found for Quarter-Year: 2Q24, Analyst: Jamie Dimon\n"
          ]
        },
        {
          "output_type": "stream",
          "name": "stdout",
          "text": [
            "✅ Successfully generated summary for Quarter 2Q24, Analyst Gerard Cassidy\n",
            "<class '__main__.TextSummarizer'>\n",
            "✅ Successfully generated summary for Quarter 2Q24, Analyst Steven Chubak\n",
            "<class '__main__.TextSummarizer'>\n",
            "✅ Successfully generated summary for Quarter 2Q24, Analyst Glenn Schorr\n",
            "<class '__main__.TextSummarizer'>\n",
            "✅ Successfully generated summary for Quarter 2Q24, Analyst Saul Martinez\n",
            "<class '__main__.TextSummarizer'>\n",
            "✅ Successfully generated summary for Quarter 2Q24, Analyst Ken Usdin\n",
            "<class '__main__.TextSummarizer'>\n"
          ]
        },
        {
          "output_type": "stream",
          "name": "stderr",
          "text": [
            "WARNING:__main__:No valid snippets found for Quarter-Year: 2Q24, Analyst: Charles W. Peabody\n",
            "WARNING:__main__:No valid snippets found for Quarter-Year: 2Q24, Analyst: Manan Gosalia\n",
            "WARNING:__main__:No valid snippets found for Quarter-Year: 2Q24, Analyst: Ryan Kenny\n"
          ]
        },
        {
          "output_type": "stream",
          "name": "stdout",
          "text": [
            "✅ Successfully generated summary for Quarter 2Q24, Analyst Jeremy Barnum\n",
            "<class '__main__.TextSummarizer'>\n",
            "✅ Successfully generated summary for Quarter 1Q24, Analyst John McDonald\n",
            "<class '__main__.TextSummarizer'>\n",
            "✅ Successfully generated summary for Quarter 1Q24, Analyst Mike Mayo\n",
            "<class '__main__.TextSummarizer'>\n",
            "✅ Successfully generated summary for Quarter 1Q24, Analyst Jim Mitchell\n",
            "<class '__main__.TextSummarizer'>\n"
          ]
        },
        {
          "output_type": "stream",
          "name": "stderr",
          "text": [
            "WARNING:__main__:No valid snippets found for Quarter-Year: 1Q24, Analyst: Erika\n"
          ]
        },
        {
          "output_type": "stream",
          "name": "stdout",
          "text": [
            "✅ Successfully generated summary for Quarter 1Q24, Analyst Erika Najarian\n",
            "<class '__main__.TextSummarizer'>\n",
            "✅ Successfully generated summary for Quarter 1Q24, Analyst Matt O'Connor\n",
            "<class '__main__.TextSummarizer'>\n",
            "✅ Successfully generated summary for Quarter 1Q24, Analyst Betsy L. Graseck\n",
            "<class '__main__.TextSummarizer'>\n",
            "✅ Successfully generated summary for Quarter 1Q24, Analyst Ebrahim H. Poonawala\n",
            "<class '__main__.TextSummarizer'>\n"
          ]
        },
        {
          "output_type": "stream",
          "name": "stderr",
          "text": [
            "WARNING:__main__:No valid snippets found for Quarter-Year: 1Q24, Analyst: Jamie Dimon\n",
            "WARNING:__main__:No valid snippets found for Quarter-Year: 1Q24, Analyst: Steven Chubak\n"
          ]
        },
        {
          "output_type": "stream",
          "name": "stdout",
          "text": [
            "✅ Successfully generated summary for Quarter 1Q24, Analyst Gerard Cassidy\n",
            "<class '__main__.TextSummarizer'>\n"
          ]
        },
        {
          "output_type": "stream",
          "name": "stderr",
          "text": [
            "WARNING:__main__:No valid snippets found for Quarter-Year: 1Q24, Analyst: Saul Martinez\n"
          ]
        },
        {
          "output_type": "stream",
          "name": "stdout",
          "text": [
            "✅ Successfully generated summary for Quarter 1Q24, Analyst Glenn Schorr\n",
            "<class '__main__.TextSummarizer'>\n"
          ]
        },
        {
          "output_type": "stream",
          "name": "stderr",
          "text": [
            "WARNING:__main__:No valid snippets found for Quarter-Year: 1Q24, Analyst: Jeremy Barnum\n"
          ]
        },
        {
          "output_type": "stream",
          "name": "stdout",
          "text": [
            "✅ Successfully generated summary for Quarter 1Q24, Analyst Ken Usdin\n",
            "<class '__main__.TextSummarizer'>\n"
          ]
        },
        {
          "output_type": "stream",
          "name": "stderr",
          "text": [
            "WARNING:__main__:No valid snippets found for Quarter-Year: 1Q24, Analyst: Manan Gosalia\n",
            "WARNING:__main__:No valid snippets found for Quarter-Year: 1Q24, Analyst: Ryan Kenny\n"
          ]
        },
        {
          "output_type": "stream",
          "name": "stdout",
          "text": [
            "✅ Successfully generated summary for Quarter 1Q24, Analyst Charles W. Peabody\n",
            "<class '__main__.TextSummarizer'>\n",
            "✅ Successfully generated summary for Quarter 4Q23, Analyst John McDonald\n",
            "<class '__main__.TextSummarizer'>\n",
            "✅ Successfully generated summary for Quarter 4Q23, Analyst Mike Mayo\n",
            "<class '__main__.TextSummarizer'>\n",
            "✅ Successfully generated summary for Quarter 4Q23, Analyst Jim Mitchell\n",
            "<class '__main__.TextSummarizer'>\n"
          ]
        },
        {
          "output_type": "stream",
          "name": "stderr",
          "text": [
            "WARNING:__main__:No valid snippets found for Quarter-Year: 4Q23, Analyst: Erika\n"
          ]
        },
        {
          "output_type": "stream",
          "name": "stdout",
          "text": [
            "✅ Successfully generated summary for Quarter 4Q23, Analyst Erika Najarian\n",
            "<class '__main__.TextSummarizer'>\n"
          ]
        },
        {
          "output_type": "stream",
          "name": "stderr",
          "text": [
            "WARNING:__main__:No valid snippets found for Quarter-Year: 4Q23, Analyst: Betsy L. Graseck\n"
          ]
        },
        {
          "output_type": "stream",
          "name": "stdout",
          "text": [
            "✅ Successfully generated summary for Quarter 4Q23, Analyst Matt O'Connor\n",
            "<class '__main__.TextSummarizer'>\n",
            "✅ Successfully generated summary for Quarter 4Q23, Analyst Ebrahim H. Poonawala\n",
            "<class '__main__.TextSummarizer'>\n"
          ]
        },
        {
          "output_type": "stream",
          "name": "stderr",
          "text": [
            "WARNING:__main__:No valid snippets found for Quarter-Year: 4Q23, Analyst: Jamie Dimon\n",
            "WARNING:__main__:No valid snippets found for Quarter-Year: 4Q23, Analyst: Steven Chubak\n"
          ]
        },
        {
          "output_type": "stream",
          "name": "stdout",
          "text": [
            "✅ Successfully generated summary for Quarter 4Q23, Analyst Gerard Cassidy\n",
            "<class '__main__.TextSummarizer'>\n"
          ]
        },
        {
          "output_type": "stream",
          "name": "stderr",
          "text": [
            "WARNING:__main__:No valid snippets found for Quarter-Year: 4Q23, Analyst: Saul Martinez\n",
            "WARNING:__main__:No valid snippets found for Quarter-Year: 4Q23, Analyst: Ken Usdin\n"
          ]
        },
        {
          "output_type": "stream",
          "name": "stdout",
          "text": [
            "✅ Successfully generated summary for Quarter 4Q23, Analyst Glenn Schorr\n",
            "<class '__main__.TextSummarizer'>\n",
            "✅ Successfully generated summary for Quarter 4Q23, Analyst Jeremy Barnum\n",
            "<class '__main__.TextSummarizer'>\n",
            "✅ Successfully generated summary for Quarter 4Q23, Analyst Charles W. Peabody\n",
            "<class '__main__.TextSummarizer'>\n"
          ]
        },
        {
          "output_type": "stream",
          "name": "stderr",
          "text": [
            "WARNING:__main__:No valid snippets found for Quarter-Year: 4Q23, Analyst: Ryan Kenny\n"
          ]
        },
        {
          "output_type": "stream",
          "name": "stdout",
          "text": [
            "✅ Successfully generated summary for Quarter 4Q23, Analyst Manan Gosalia\n",
            "<class '__main__.TextSummarizer'>\n",
            "✅ Successfully generated summary for Quarter 3Q23, Analyst John McDonald\n",
            "<class '__main__.TextSummarizer'>\n",
            "✅ Successfully generated summary for Quarter 3Q23, Analyst Mike Mayo\n",
            "<class '__main__.TextSummarizer'>\n",
            "✅ Successfully generated summary for Quarter 3Q23, Analyst Jim Mitchell\n",
            "<class '__main__.TextSummarizer'>\n"
          ]
        },
        {
          "output_type": "stream",
          "name": "stderr",
          "text": [
            "WARNING:__main__:No valid snippets found for Quarter-Year: 3Q23, Analyst: Erika\n"
          ]
        },
        {
          "output_type": "stream",
          "name": "stdout",
          "text": [
            "✅ Successfully generated summary for Quarter 3Q23, Analyst Erika Najarian\n",
            "<class '__main__.TextSummarizer'>\n"
          ]
        },
        {
          "output_type": "stream",
          "name": "stderr",
          "text": [
            "WARNING:__main__:No valid snippets found for Quarter-Year: 3Q23, Analyst: Betsy L. Graseck\n"
          ]
        },
        {
          "output_type": "stream",
          "name": "stdout",
          "text": [
            "✅ Successfully generated summary for Quarter 3Q23, Analyst Matt O'Connor\n",
            "<class '__main__.TextSummarizer'>\n",
            "✅ Successfully generated summary for Quarter 3Q23, Analyst Ebrahim H. Poonawala\n",
            "<class '__main__.TextSummarizer'>\n",
            "✅ Successfully generated summary for Quarter 3Q23, Analyst Gerard Cassidy\n",
            "<class '__main__.TextSummarizer'>\n",
            "✅ Successfully generated summary for Quarter 3Q23, Analyst Jamie Dimon\n",
            "<class '__main__.TextSummarizer'>\n",
            "✅ Successfully generated summary for Quarter 3Q23, Analyst Steven Chubak\n",
            "<class '__main__.TextSummarizer'>\n"
          ]
        },
        {
          "output_type": "stream",
          "name": "stderr",
          "text": [
            "WARNING:__main__:No valid snippets found for Quarter-Year: 3Q23, Analyst: Saul Martinez\n",
            "WARNING:__main__:No valid snippets found for Quarter-Year: 3Q23, Analyst: Ken Usdin\n",
            "WARNING:__main__:No valid snippets found for Quarter-Year: 3Q23, Analyst: Jeremy Barnum\n",
            "WARNING:__main__:No valid snippets found for Quarter-Year: 3Q23, Analyst: Charles W. Peabody\n",
            "WARNING:__main__:No valid snippets found for Quarter-Year: 3Q23, Analyst: Manan Gosalia\n"
          ]
        },
        {
          "output_type": "stream",
          "name": "stdout",
          "text": [
            "✅ Successfully generated summary for Quarter 3Q23, Analyst Glenn Schorr\n",
            "<class '__main__.TextSummarizer'>\n",
            "✅ Successfully generated summary for Quarter 3Q23, Analyst Ryan Kenny\n",
            "<class '__main__.TextSummarizer'>\n",
            "✅ Successfully generated summary for Quarter 2Q23, Analyst John McDonald\n",
            "<class '__main__.TextSummarizer'>\n",
            "✅ Successfully generated summary for Quarter 2Q23, Analyst Mike Mayo\n",
            "<class '__main__.TextSummarizer'>\n",
            "✅ Successfully generated summary for Quarter 2Q23, Analyst Jim Mitchell\n",
            "<class '__main__.TextSummarizer'>\n"
          ]
        },
        {
          "output_type": "stream",
          "name": "stderr",
          "text": [
            "WARNING:__main__:No valid snippets found for Quarter-Year: 2Q23, Analyst: Erika\n"
          ]
        },
        {
          "output_type": "stream",
          "name": "stdout",
          "text": [
            "✅ Successfully generated summary for Quarter 2Q23, Analyst Erika Najarian\n",
            "<class '__main__.TextSummarizer'>\n",
            "✅ Successfully generated summary for Quarter 2Q23, Analyst Matt O'Connor\n",
            "<class '__main__.TextSummarizer'>\n",
            "✅ Successfully generated summary for Quarter 2Q23, Analyst Betsy L. Graseck\n",
            "<class '__main__.TextSummarizer'>\n",
            "✅ Successfully generated summary for Quarter 2Q23, Analyst Ebrahim H. Poonawala\n",
            "<class '__main__.TextSummarizer'>\n"
          ]
        },
        {
          "output_type": "stream",
          "name": "stderr",
          "text": [
            "WARNING:__main__:No valid snippets found for Quarter-Year: 2Q23, Analyst: Jamie Dimon\n"
          ]
        },
        {
          "output_type": "stream",
          "name": "stdout",
          "text": [
            "✅ Successfully generated summary for Quarter 2Q23, Analyst Gerard Cassidy\n",
            "<class '__main__.TextSummarizer'>\n",
            "✅ Successfully generated summary for Quarter 2Q23, Analyst Steven Chubak\n",
            "<class '__main__.TextSummarizer'>\n"
          ]
        },
        {
          "output_type": "stream",
          "name": "stderr",
          "text": [
            "WARNING:__main__:No valid snippets found for Quarter-Year: 2Q23, Analyst: Saul Martinez\n"
          ]
        },
        {
          "output_type": "stream",
          "name": "stdout",
          "text": [
            "✅ Successfully generated summary for Quarter 2Q23, Analyst Glenn Schorr\n",
            "<class '__main__.TextSummarizer'>\n",
            "✅ Successfully generated summary for Quarter 2Q23, Analyst Ken Usdin\n",
            "<class '__main__.TextSummarizer'>\n",
            "✅ Successfully generated summary for Quarter 2Q23, Analyst Jeremy Barnum\n",
            "<class '__main__.TextSummarizer'>\n"
          ]
        },
        {
          "output_type": "stream",
          "name": "stderr",
          "text": [
            "WARNING:__main__:No valid snippets found for Quarter-Year: 2Q23, Analyst: Manan Gosalia\n",
            "WARNING:__main__:No valid snippets found for Quarter-Year: 2Q23, Analyst: Ryan Kenny\n"
          ]
        },
        {
          "output_type": "stream",
          "name": "stdout",
          "text": [
            "✅ Successfully generated summary for Quarter 2Q23, Analyst Charles W. Peabody\n",
            "🎯 Summarization completed for 77 entries.\n"
          ]
        }
      ]
    },
    {
      "cell_type": "markdown",
      "source": [
        "🔍 The warnings from the loop occur because some quarter/analyst combinations are not present in every quarter."
      ],
      "metadata": {
        "id": "qsRGGcJQPzsb"
      }
    },
    {
      "cell_type": "markdown",
      "source": [
        "###**UBS**"
      ],
      "metadata": {
        "id": "sPNoYCUabR52"
      }
    },
    {
      "cell_type": "code",
      "source": [
        "reset_session()"
      ],
      "metadata": {
        "id": "VLOIWedwbRXe"
      },
      "execution_count": null,
      "outputs": []
    },
    {
      "cell_type": "code",
      "source": [
        "summarizer = TextSummarizer()\n",
        "\n",
        "summary_dataUBS = []\n",
        "\n",
        "quarter_years = UBS_qna[\"Quarter\"].unique()\n",
        "analysts = UBS_qna[\"Analyst_Bank\"].unique()\n",
        "\n",
        "# Loop through each unique Quarter-Year and Analyst\n",
        "for quarter in quarter_years:\n",
        "    for analyst in analysts:\n",
        "        filtered_df = UBS_qna[(UBS_qna[\"Quarter\"] == quarter) & (UBS_qna[\"Analyst_Bank\"] == analyst)]\n",
        "\n",
        "        snippets = filtered_df[\"Response\"].dropna().astype(str).tolist()\n",
        "\n",
        "        if not snippets:\n",
        "            logger.warning(f\"No valid snippets found for Quarter-Year: {quarter}, Analyst_Bank: {analyst}\")\n",
        "            continue\n",
        "\n",
        "        print(type(summarizer))\n",
        "\n",
        "        # Generate the summary for the text in this Quarter-Year and Analyst\n",
        "        try:\n",
        "            summary_text = summarizer.summarize_long_text(snippets)\n",
        "            print(f\"✅ Successfully generated summary for Quarter {quarter}, Analyst_Bank {analyst}\")\n",
        "        except Exception as e:\n",
        "            logger.error(f\"Error summarizing for Quarter {quarter}, Analyst_Bank {analyst}: {str(e)}\")\n",
        "            continue\n",
        "\n",
        "        summary_dataUBS.append({\"Summary\": summary_text, \"Quarter\": quarter, \"Analyst_Bank\": analyst})\n",
        "\n",
        "df_summaryUBS = pd.DataFrame(summary_dataUBS)\n",
        "\n",
        "# Print final message after completion\n",
        "print(f\"🎯 Summarization completed for {len(summary_dataUBS)} entries.\")\n"
      ],
      "metadata": {
        "colab": {
          "base_uri": "https://localhost:8080/"
        },
        "id": "JX8oWA49Lbqp",
        "outputId": "7e14c2c7-aa2a-4e88-e878-8c81d2bb60e3"
      },
      "execution_count": 12,
      "outputs": [
        {
          "metadata": {
            "tags": null
          },
          "name": "stdout",
          "output_type": "stream",
          "text": [
            "<class '__main__.TextSummarizer'>\n",
            "✅ Successfully generated summary for Quarter 1Q24, Analyst_Bank Bank of America\n",
            "<class '__main__.TextSummarizer'>\n",
            "✅ Successfully generated summary for Quarter 1Q24, Analyst_Bank Goldman Sachs\n",
            "<class '__main__.TextSummarizer'>\n",
            "✅ Successfully generated summary for Quarter 1Q24, Analyst_Bank JP\n",
            "<class '__main__.TextSummarizer'>\n",
            "✅ Successfully generated summary for Quarter 1Q24, Analyst_Bank Morgan Stanley\n",
            "<class '__main__.TextSummarizer'>\n",
            "✅ Successfully generated summary for Quarter 1Q24, Analyst_Bank BNP Paribas Exane\n",
            "<class '__main__.TextSummarizer'>\n",
            "✅ Successfully generated summary for Quarter 1Q24, Analyst_Bank Citigroup\n",
            "<class '__main__.TextSummarizer'>\n",
            "✅ Successfully generated summary for Quarter 1Q24, Analyst_Bank RBC\n",
            "<class '__main__.TextSummarizer'>\n",
            "✅ Successfully generated summary for Quarter 1Q24, Analyst_Bank Deutsche Bank\n",
            "<class '__main__.TextSummarizer'>\n",
            "✅ Successfully generated summary for Quarter 1Q24, Analyst_Bank HSBC\n",
            "<class '__main__.TextSummarizer'>\n"
          ]
        },
        {
          "metadata": {
            "tags": null
          },
          "name": "stderr",
          "output_type": "stream",
          "text": [
            "WARNING:__main__:No valid snippets found for Quarter-Year: 1Q24, Analyst_Bank: Exane BNP Paribas\n",
            "WARNING:__main__:No valid snippets found for Quarter-Year: 1Q24, Analyst_Bank: Bank of America Merrill Lynch\n",
            "WARNING:__main__:No valid snippets found for Quarter-Year: 1Q24, Analyst_Bank: Jefferies\n",
            "WARNING:__main__:No valid snippets found for Quarter-Year: 1Q24, Analyst_Bank: Autonomous Research\n",
            "WARNING:__main__:No valid snippets found for Quarter-Year: 1Q24, Analyst_Bank: Barclays\n",
            "WARNING:__main__:No valid snippets found for Quarter-Year: 1Q24, Analyst_Bank: Société Générale\n",
            "WARNING:__main__:No valid snippets found for Quarter-Year: 1Q24, Analyst_Bank: Mediobanca\n",
            "WARNING:__main__:No valid snippets found for Quarter-Year: 1Q24, Analyst_Bank: Citi\n",
            "WARNING:__main__:No valid snippets found for Quarter-Year: 1Q24, Analyst_Bank: BNP Paribas\n",
            "WARNING:__main__:No valid snippets found for Quarter-Year: 1Q24, Analyst_Bank: Kian Abouhossein, JP\n",
            "WARNING:__main__:No valid snippets found for Quarter-Year: 1Q24, Analyst_Bank: Anke Reingen, RBC\n",
            "WARNING:__main__:No valid snippets found for Quarter-Year: 1Q24, Analyst_Bank: Chis Hallam, Goldman\n",
            "WARNING:__main__:No valid snippets found for Quarter-Year: 1Q24, Analyst_Bank: Autonomous\n",
            "WARNING:__main__:No valid snippets found for Quarter-Year: 1Q24, Analyst_Bank: Société Génerale\n",
            "WARNING:__main__:No valid snippets found for Quarter-Year: 1Q24, Analyst_Bank: Kepler Chevreux\n",
            "WARNING:__main__:No valid snippets found for Quarter-Year: 1Q24, Analyst_Bank: JPMorgan\n",
            "WARNING:__main__:No valid snippets found for Quarter-Year: 2Q23, Analyst_Bank: Bank of America\n"
          ]
        },
        {
          "metadata": {
            "tags": null
          },
          "name": "stdout",
          "output_type": "stream",
          "text": [
            "✅ Successfully generated summary for Quarter 1Q24, Analyst_Bank KBW\n",
            "<class '__main__.TextSummarizer'>\n",
            "✅ Successfully generated summary for Quarter 2Q23, Analyst_Bank Goldman Sachs\n",
            "<class '__main__.TextSummarizer'>\n",
            "✅ Successfully generated summary for Quarter 2Q23, Analyst_Bank JP\n",
            "<class '__main__.TextSummarizer'>\n"
          ]
        },
        {
          "metadata": {
            "tags": null
          },
          "name": "stderr",
          "output_type": "stream",
          "text": [
            "WARNING:__main__:No valid snippets found for Quarter-Year: 2Q23, Analyst_Bank: BNP Paribas Exane\n"
          ]
        },
        {
          "metadata": {
            "tags": null
          },
          "name": "stdout",
          "output_type": "stream",
          "text": [
            "✅ Successfully generated summary for Quarter 2Q23, Analyst_Bank Morgan Stanley\n",
            "<class '__main__.TextSummarizer'>\n",
            "✅ Successfully generated summary for Quarter 2Q23, Analyst_Bank Citigroup\n",
            "<class '__main__.TextSummarizer'>\n",
            "✅ Successfully generated summary for Quarter 2Q23, Analyst_Bank RBC\n",
            "<class '__main__.TextSummarizer'>\n"
          ]
        },
        {
          "metadata": {
            "tags": null
          },
          "name": "stderr",
          "output_type": "stream",
          "text": [
            "WARNING:__main__:No valid snippets found for Quarter-Year: 2Q23, Analyst_Bank: HSBC\n",
            "WARNING:__main__:No valid snippets found for Quarter-Year: 2Q23, Analyst_Bank: KBW\n"
          ]
        },
        {
          "metadata": {
            "tags": null
          },
          "name": "stdout",
          "output_type": "stream",
          "text": [
            "✅ Successfully generated summary for Quarter 2Q23, Analyst_Bank Deutsche Bank\n",
            "<class '__main__.TextSummarizer'>\n",
            "✅ Successfully generated summary for Quarter 2Q23, Analyst_Bank Exane BNP Paribas\n",
            "<class '__main__.TextSummarizer'>\n",
            "✅ Successfully generated summary for Quarter 2Q23, Analyst_Bank Bank of America Merrill Lynch\n",
            "<class '__main__.TextSummarizer'>\n",
            "✅ Successfully generated summary for Quarter 2Q23, Analyst_Bank Jefferies\n",
            "<class '__main__.TextSummarizer'>\n",
            "✅ Successfully generated summary for Quarter 2Q23, Analyst_Bank Autonomous Research\n",
            "<class '__main__.TextSummarizer'>\n",
            "✅ Successfully generated summary for Quarter 2Q23, Analyst_Bank Barclays\n",
            "<class '__main__.TextSummarizer'>\n",
            "✅ Successfully generated summary for Quarter 2Q23, Analyst_Bank Société Générale\n",
            "<class '__main__.TextSummarizer'>\n"
          ]
        },
        {
          "metadata": {
            "tags": null
          },
          "name": "stderr",
          "output_type": "stream",
          "text": [
            "WARNING:__main__:No valid snippets found for Quarter-Year: 2Q23, Analyst_Bank: Citi\n",
            "WARNING:__main__:No valid snippets found for Quarter-Year: 2Q23, Analyst_Bank: BNP Paribas\n",
            "WARNING:__main__:No valid snippets found for Quarter-Year: 2Q23, Analyst_Bank: Kian Abouhossein, JP\n",
            "WARNING:__main__:No valid snippets found for Quarter-Year: 2Q23, Analyst_Bank: Anke Reingen, RBC\n",
            "WARNING:__main__:No valid snippets found for Quarter-Year: 2Q23, Analyst_Bank: Chis Hallam, Goldman\n",
            "WARNING:__main__:No valid snippets found for Quarter-Year: 2Q23, Analyst_Bank: Autonomous\n",
            "WARNING:__main__:No valid snippets found for Quarter-Year: 2Q23, Analyst_Bank: Société Génerale\n",
            "WARNING:__main__:No valid snippets found for Quarter-Year: 2Q23, Analyst_Bank: Kepler Chevreux\n",
            "WARNING:__main__:No valid snippets found for Quarter-Year: 2Q23, Analyst_Bank: JPMorgan\n",
            "WARNING:__main__:No valid snippets found for Quarter-Year: 2Q24, Analyst_Bank: Bank of America\n",
            "WARNING:__main__:No valid snippets found for Quarter-Year: 2Q24, Analyst_Bank: Goldman Sachs\n"
          ]
        },
        {
          "metadata": {
            "tags": null
          },
          "name": "stdout",
          "output_type": "stream",
          "text": [
            "✅ Successfully generated summary for Quarter 2Q23, Analyst_Bank Mediobanca\n",
            "<class '__main__.TextSummarizer'>\n",
            "✅ Successfully generated summary for Quarter 2Q24, Analyst_Bank JP\n",
            "<class '__main__.TextSummarizer'>\n"
          ]
        },
        {
          "metadata": {
            "tags": null
          },
          "name": "stderr",
          "output_type": "stream",
          "text": [
            "WARNING:__main__:No valid snippets found for Quarter-Year: 2Q24, Analyst_Bank: BNP Paribas Exane\n"
          ]
        },
        {
          "metadata": {
            "tags": null
          },
          "name": "stdout",
          "output_type": "stream",
          "text": [
            "✅ Successfully generated summary for Quarter 2Q24, Analyst_Bank Morgan Stanley\n",
            "<class '__main__.TextSummarizer'>\n",
            "✅ Successfully generated summary for Quarter 2Q24, Analyst_Bank Citigroup\n",
            "<class '__main__.TextSummarizer'>\n",
            "✅ Successfully generated summary for Quarter 2Q24, Analyst_Bank RBC\n",
            "<class '__main__.TextSummarizer'>\n"
          ]
        },
        {
          "metadata": {
            "tags": null
          },
          "name": "stderr",
          "output_type": "stream",
          "text": [
            "WARNING:__main__:No valid snippets found for Quarter-Year: 2Q24, Analyst_Bank: HSBC\n"
          ]
        },
        {
          "metadata": {
            "tags": null
          },
          "name": "stdout",
          "output_type": "stream",
          "text": [
            "✅ Successfully generated summary for Quarter 2Q24, Analyst_Bank Deutsche Bank\n",
            "<class '__main__.TextSummarizer'>\n"
          ]
        },
        {
          "metadata": {
            "tags": null
          },
          "name": "stderr",
          "output_type": "stream",
          "text": [
            "WARNING:__main__:No valid snippets found for Quarter-Year: 2Q24, Analyst_Bank: Exane BNP Paribas\n",
            "WARNING:__main__:No valid snippets found for Quarter-Year: 2Q24, Analyst_Bank: Bank of America Merrill Lynch\n",
            "WARNING:__main__:No valid snippets found for Quarter-Year: 2Q24, Analyst_Bank: Jefferies\n",
            "WARNING:__main__:No valid snippets found for Quarter-Year: 2Q24, Analyst_Bank: Autonomous Research\n",
            "WARNING:__main__:No valid snippets found for Quarter-Year: 2Q24, Analyst_Bank: Barclays\n",
            "WARNING:__main__:No valid snippets found for Quarter-Year: 2Q24, Analyst_Bank: Société Générale\n"
          ]
        },
        {
          "metadata": {
            "tags": null
          },
          "name": "stdout",
          "output_type": "stream",
          "text": [
            "✅ Successfully generated summary for Quarter 2Q24, Analyst_Bank KBW\n",
            "<class '__main__.TextSummarizer'>\n",
            "✅ Successfully generated summary for Quarter 2Q24, Analyst_Bank Mediobanca\n",
            "<class '__main__.TextSummarizer'>\n",
            "✅ Successfully generated summary for Quarter 2Q24, Analyst_Bank Citi\n",
            "<class '__main__.TextSummarizer'>\n"
          ]
        },
        {
          "metadata": {
            "tags": null
          },
          "name": "stderr",
          "output_type": "stream",
          "text": [
            "WARNING:__main__:No valid snippets found for Quarter-Year: 2Q24, Analyst_Bank: Kian Abouhossein, JP\n"
          ]
        },
        {
          "metadata": {
            "tags": null
          },
          "name": "stdout",
          "output_type": "stream",
          "text": [
            "✅ Successfully generated summary for Quarter 2Q24, Analyst_Bank BNP Paribas\n",
            "<class '__main__.TextSummarizer'>\n",
            "✅ Successfully generated summary for Quarter 2Q24, Analyst_Bank Anke Reingen, RBC\n",
            "<class '__main__.TextSummarizer'>\n"
          ]
        },
        {
          "metadata": {
            "tags": null
          },
          "name": "stderr",
          "output_type": "stream",
          "text": [
            "WARNING:__main__:No valid snippets found for Quarter-Year: 2Q24, Analyst_Bank: Autonomous\n",
            "WARNING:__main__:No valid snippets found for Quarter-Year: 2Q24, Analyst_Bank: Société Génerale\n",
            "WARNING:__main__:No valid snippets found for Quarter-Year: 2Q24, Analyst_Bank: Kepler Chevreux\n",
            "WARNING:__main__:No valid snippets found for Quarter-Year: 2Q24, Analyst_Bank: JPMorgan\n",
            "WARNING:__main__:No valid snippets found for Quarter-Year: 3Q23, Analyst_Bank: Bank of America\n"
          ]
        },
        {
          "metadata": {
            "tags": null
          },
          "name": "stdout",
          "output_type": "stream",
          "text": [
            "✅ Successfully generated summary for Quarter 2Q24, Analyst_Bank Chis Hallam, Goldman\n",
            "<class '__main__.TextSummarizer'>\n"
          ]
        },
        {
          "metadata": {
            "tags": null
          },
          "name": "stderr",
          "output_type": "stream",
          "text": [
            "WARNING:__main__:No valid snippets found for Quarter-Year: 3Q23, Analyst_Bank: JP\n"
          ]
        },
        {
          "metadata": {
            "tags": null
          },
          "name": "stdout",
          "output_type": "stream",
          "text": [
            "✅ Successfully generated summary for Quarter 3Q23, Analyst_Bank Goldman Sachs\n",
            "<class '__main__.TextSummarizer'>\n"
          ]
        },
        {
          "metadata": {
            "tags": null
          },
          "name": "stderr",
          "output_type": "stream",
          "text": [
            "WARNING:__main__:No valid snippets found for Quarter-Year: 3Q23, Analyst_Bank: BNP Paribas Exane\n"
          ]
        },
        {
          "metadata": {
            "tags": null
          },
          "name": "stdout",
          "output_type": "stream",
          "text": [
            "✅ Successfully generated summary for Quarter 3Q23, Analyst_Bank Morgan Stanley\n",
            "<class '__main__.TextSummarizer'>\n"
          ]
        },
        {
          "metadata": {
            "tags": null
          },
          "name": "stderr",
          "output_type": "stream",
          "text": [
            "WARNING:__main__:No valid snippets found for Quarter-Year: 3Q23, Analyst_Bank: RBC\n"
          ]
        },
        {
          "metadata": {
            "tags": null
          },
          "name": "stdout",
          "output_type": "stream",
          "text": [
            "✅ Successfully generated summary for Quarter 3Q23, Analyst_Bank Citigroup\n",
            "<class '__main__.TextSummarizer'>\n"
          ]
        },
        {
          "metadata": {
            "tags": null
          },
          "name": "stderr",
          "output_type": "stream",
          "text": [
            "WARNING:__main__:No valid snippets found for Quarter-Year: 3Q23, Analyst_Bank: HSBC\n",
            "WARNING:__main__:No valid snippets found for Quarter-Year: 3Q23, Analyst_Bank: KBW\n"
          ]
        },
        {
          "metadata": {
            "tags": null
          },
          "name": "stdout",
          "output_type": "stream",
          "text": [
            "✅ Successfully generated summary for Quarter 3Q23, Analyst_Bank Deutsche Bank\n",
            "<class '__main__.TextSummarizer'>\n"
          ]
        },
        {
          "metadata": {
            "tags": null
          },
          "name": "stderr",
          "output_type": "stream",
          "text": [
            "WARNING:__main__:No valid snippets found for Quarter-Year: 3Q23, Analyst_Bank: Bank of America Merrill Lynch\n"
          ]
        },
        {
          "metadata": {
            "tags": null
          },
          "name": "stdout",
          "output_type": "stream",
          "text": [
            "✅ Successfully generated summary for Quarter 3Q23, Analyst_Bank Exane BNP Paribas\n",
            "<class '__main__.TextSummarizer'>\n",
            "✅ Successfully generated summary for Quarter 3Q23, Analyst_Bank Jefferies\n",
            "<class '__main__.TextSummarizer'>\n",
            "✅ Successfully generated summary for Quarter 3Q23, Analyst_Bank Autonomous Research\n",
            "<class '__main__.TextSummarizer'>\n",
            "✅ Successfully generated summary for Quarter 3Q23, Analyst_Bank Barclays\n",
            "<class '__main__.TextSummarizer'>\n",
            "✅ Successfully generated summary for Quarter 3Q23, Analyst_Bank Société Générale\n",
            "<class '__main__.TextSummarizer'>\n"
          ]
        },
        {
          "metadata": {
            "tags": null
          },
          "name": "stderr",
          "output_type": "stream",
          "text": [
            "WARNING:__main__:No valid snippets found for Quarter-Year: 3Q23, Analyst_Bank: Citi\n",
            "WARNING:__main__:No valid snippets found for Quarter-Year: 3Q23, Analyst_Bank: BNP Paribas\n",
            "WARNING:__main__:No valid snippets found for Quarter-Year: 3Q23, Analyst_Bank: Kian Abouhossein, JP\n",
            "WARNING:__main__:No valid snippets found for Quarter-Year: 3Q23, Analyst_Bank: Anke Reingen, RBC\n",
            "WARNING:__main__:No valid snippets found for Quarter-Year: 3Q23, Analyst_Bank: Chis Hallam, Goldman\n",
            "WARNING:__main__:No valid snippets found for Quarter-Year: 3Q23, Analyst_Bank: Autonomous\n",
            "WARNING:__main__:No valid snippets found for Quarter-Year: 3Q23, Analyst_Bank: Société Génerale\n",
            "WARNING:__main__:No valid snippets found for Quarter-Year: 3Q23, Analyst_Bank: Kepler Chevreux\n",
            "WARNING:__main__:No valid snippets found for Quarter-Year: 3Q23, Analyst_Bank: JPMorgan\n",
            "WARNING:__main__:No valid snippets found for Quarter-Year: 3Q24, Analyst_Bank: Bank of America\n"
          ]
        },
        {
          "metadata": {
            "tags": null
          },
          "name": "stdout",
          "output_type": "stream",
          "text": [
            "✅ Successfully generated summary for Quarter 3Q23, Analyst_Bank Mediobanca\n",
            "<class '__main__.TextSummarizer'>\n",
            "✅ Successfully generated summary for Quarter 3Q24, Analyst_Bank Goldman Sachs\n",
            "<class '__main__.TextSummarizer'>\n",
            "✅ Successfully generated summary for Quarter 3Q24, Analyst_Bank JP\n",
            "<class '__main__.TextSummarizer'>\n"
          ]
        },
        {
          "metadata": {
            "tags": null
          },
          "name": "stderr",
          "output_type": "stream",
          "text": [
            "WARNING:__main__:No valid snippets found for Quarter-Year: 3Q24, Analyst_Bank: BNP Paribas Exane\n",
            "WARNING:__main__:No valid snippets found for Quarter-Year: 3Q24, Analyst_Bank: Citigroup\n"
          ]
        },
        {
          "metadata": {
            "tags": null
          },
          "name": "stdout",
          "output_type": "stream",
          "text": [
            "✅ Successfully generated summary for Quarter 3Q24, Analyst_Bank Morgan Stanley\n",
            "<class '__main__.TextSummarizer'>\n",
            "✅ Successfully generated summary for Quarter 3Q24, Analyst_Bank RBC\n",
            "<class '__main__.TextSummarizer'>\n",
            "✅ Successfully generated summary for Quarter 3Q24, Analyst_Bank Deutsche Bank\n",
            "<class '__main__.TextSummarizer'>\n"
          ]
        },
        {
          "metadata": {
            "tags": null
          },
          "name": "stderr",
          "output_type": "stream",
          "text": [
            "WARNING:__main__:No valid snippets found for Quarter-Year: 3Q24, Analyst_Bank: KBW\n",
            "WARNING:__main__:No valid snippets found for Quarter-Year: 3Q24, Analyst_Bank: Exane BNP Paribas\n",
            "WARNING:__main__:No valid snippets found for Quarter-Year: 3Q24, Analyst_Bank: Bank of America Merrill Lynch\n",
            "WARNING:__main__:No valid snippets found for Quarter-Year: 3Q24, Analyst_Bank: Jefferies\n",
            "WARNING:__main__:No valid snippets found for Quarter-Year: 3Q24, Analyst_Bank: Autonomous Research\n",
            "WARNING:__main__:No valid snippets found for Quarter-Year: 3Q24, Analyst_Bank: Barclays\n",
            "WARNING:__main__:No valid snippets found for Quarter-Year: 3Q24, Analyst_Bank: Société Générale\n"
          ]
        },
        {
          "output_type": "stream",
          "name": "stdout",
          "text": [
            "✅ Successfully generated summary for Quarter 3Q24, Analyst_Bank HSBC\n",
            "<class '__main__.TextSummarizer'>\n",
            "✅ Successfully generated summary for Quarter 3Q24, Analyst_Bank Mediobanca\n",
            "<class '__main__.TextSummarizer'>\n",
            "✅ Successfully generated summary for Quarter 3Q24, Analyst_Bank Citi\n",
            "<class '__main__.TextSummarizer'>\n"
          ]
        },
        {
          "output_type": "stream",
          "name": "stderr",
          "text": [
            "WARNING:__main__:No valid snippets found for Quarter-Year: 3Q24, Analyst_Bank: Kian Abouhossein, JP\n",
            "WARNING:__main__:No valid snippets found for Quarter-Year: 3Q24, Analyst_Bank: Anke Reingen, RBC\n",
            "WARNING:__main__:No valid snippets found for Quarter-Year: 3Q24, Analyst_Bank: Chis Hallam, Goldman\n"
          ]
        },
        {
          "output_type": "stream",
          "name": "stdout",
          "text": [
            "✅ Successfully generated summary for Quarter 3Q24, Analyst_Bank BNP Paribas\n",
            "<class '__main__.TextSummarizer'>\n"
          ]
        },
        {
          "output_type": "stream",
          "name": "stderr",
          "text": [
            "WARNING:__main__:No valid snippets found for Quarter-Year: 3Q24, Analyst_Bank: Société Génerale\n",
            "WARNING:__main__:No valid snippets found for Quarter-Year: 3Q24, Analyst_Bank: Kepler Chevreux\n",
            "WARNING:__main__:No valid snippets found for Quarter-Year: 3Q24, Analyst_Bank: JPMorgan\n"
          ]
        },
        {
          "output_type": "stream",
          "name": "stdout",
          "text": [
            "✅ Successfully generated summary for Quarter 3Q24, Analyst_Bank Autonomous\n",
            "<class '__main__.TextSummarizer'>\n",
            "✅ Successfully generated summary for Quarter 4Q23, Analyst_Bank Bank of America\n",
            "<class '__main__.TextSummarizer'>\n",
            "✅ Successfully generated summary for Quarter 4Q23, Analyst_Bank Goldman Sachs\n",
            "<class '__main__.TextSummarizer'>\n",
            "✅ Successfully generated summary for Quarter 4Q23, Analyst_Bank JP\n",
            "<class '__main__.TextSummarizer'>\n",
            "✅ Successfully generated summary for Quarter 4Q23, Analyst_Bank Morgan Stanley\n",
            "<class '__main__.TextSummarizer'>\n",
            "✅ Successfully generated summary for Quarter 4Q23, Analyst_Bank BNP Paribas Exane\n",
            "<class '__main__.TextSummarizer'>\n",
            "✅ Successfully generated summary for Quarter 4Q23, Analyst_Bank Citigroup\n",
            "<class '__main__.TextSummarizer'>\n",
            "✅ Successfully generated summary for Quarter 4Q23, Analyst_Bank RBC\n",
            "<class '__main__.TextSummarizer'>\n",
            "✅ Successfully generated summary for Quarter 4Q23, Analyst_Bank Deutsche Bank\n",
            "<class '__main__.TextSummarizer'>\n",
            "✅ Successfully generated summary for Quarter 4Q23, Analyst_Bank HSBC\n",
            "<class '__main__.TextSummarizer'>\n"
          ]
        },
        {
          "output_type": "stream",
          "name": "stderr",
          "text": [
            "WARNING:__main__:No valid snippets found for Quarter-Year: 4Q23, Analyst_Bank: Exane BNP Paribas\n",
            "WARNING:__main__:No valid snippets found for Quarter-Year: 4Q23, Analyst_Bank: Bank of America Merrill Lynch\n",
            "WARNING:__main__:No valid snippets found for Quarter-Year: 4Q23, Analyst_Bank: Jefferies\n",
            "WARNING:__main__:No valid snippets found for Quarter-Year: 4Q23, Analyst_Bank: Autonomous Research\n",
            "WARNING:__main__:No valid snippets found for Quarter-Year: 4Q23, Analyst_Bank: Barclays\n"
          ]
        },
        {
          "output_type": "stream",
          "name": "stdout",
          "text": [
            "✅ Successfully generated summary for Quarter 4Q23, Analyst_Bank KBW\n",
            "<class '__main__.TextSummarizer'>\n",
            "✅ Successfully generated summary for Quarter 4Q23, Analyst_Bank Société Générale\n",
            "<class '__main__.TextSummarizer'>\n"
          ]
        },
        {
          "output_type": "stream",
          "name": "stderr",
          "text": [
            "WARNING:__main__:No valid snippets found for Quarter-Year: 4Q23, Analyst_Bank: Citi\n",
            "WARNING:__main__:No valid snippets found for Quarter-Year: 4Q23, Analyst_Bank: BNP Paribas\n",
            "WARNING:__main__:No valid snippets found for Quarter-Year: 4Q23, Analyst_Bank: Kian Abouhossein, JP\n",
            "WARNING:__main__:No valid snippets found for Quarter-Year: 4Q23, Analyst_Bank: Anke Reingen, RBC\n",
            "WARNING:__main__:No valid snippets found for Quarter-Year: 4Q23, Analyst_Bank: Chis Hallam, Goldman\n"
          ]
        },
        {
          "output_type": "stream",
          "name": "stdout",
          "text": [
            "✅ Successfully generated summary for Quarter 4Q23, Analyst_Bank Mediobanca\n",
            "<class '__main__.TextSummarizer'>\n",
            "✅ Successfully generated summary for Quarter 4Q23, Analyst_Bank Autonomous\n",
            "<class '__main__.TextSummarizer'>\n",
            "✅ Successfully generated summary for Quarter 4Q23, Analyst_Bank Société Génerale\n",
            "<class '__main__.TextSummarizer'>\n"
          ]
        },
        {
          "output_type": "stream",
          "name": "stderr",
          "text": [
            "WARNING:__main__:No valid snippets found for Quarter-Year: 4Q23, Analyst_Bank: JPMorgan\n"
          ]
        },
        {
          "output_type": "stream",
          "name": "stdout",
          "text": [
            "✅ Successfully generated summary for Quarter 4Q23, Analyst_Bank Kepler Chevreux\n",
            "<class '__main__.TextSummarizer'>\n",
            "✅ Successfully generated summary for Quarter 4Q24, Analyst_Bank Bank of America\n",
            "<class '__main__.TextSummarizer'>\n"
          ]
        },
        {
          "output_type": "stream",
          "name": "stderr",
          "text": [
            "WARNING:__main__:No valid snippets found for Quarter-Year: 4Q24, Analyst_Bank: JP\n"
          ]
        },
        {
          "output_type": "stream",
          "name": "stdout",
          "text": [
            "✅ Successfully generated summary for Quarter 4Q24, Analyst_Bank Goldman Sachs\n",
            "<class '__main__.TextSummarizer'>\n"
          ]
        },
        {
          "output_type": "stream",
          "name": "stderr",
          "text": [
            "WARNING:__main__:No valid snippets found for Quarter-Year: 4Q24, Analyst_Bank: BNP Paribas Exane\n",
            "WARNING:__main__:No valid snippets found for Quarter-Year: 4Q24, Analyst_Bank: Citigroup\n"
          ]
        },
        {
          "output_type": "stream",
          "name": "stdout",
          "text": [
            "✅ Successfully generated summary for Quarter 4Q24, Analyst_Bank Morgan Stanley\n",
            "<class '__main__.TextSummarizer'>\n"
          ]
        },
        {
          "output_type": "stream",
          "name": "stderr",
          "text": [
            "WARNING:__main__:No valid snippets found for Quarter-Year: 4Q24, Analyst_Bank: Deutsche Bank\n"
          ]
        },
        {
          "output_type": "stream",
          "name": "stdout",
          "text": [
            "✅ Successfully generated summary for Quarter 4Q24, Analyst_Bank RBC\n",
            "<class '__main__.TextSummarizer'>\n"
          ]
        },
        {
          "output_type": "stream",
          "name": "stderr",
          "text": [
            "WARNING:__main__:No valid snippets found for Quarter-Year: 4Q24, Analyst_Bank: KBW\n",
            "WARNING:__main__:No valid snippets found for Quarter-Year: 4Q24, Analyst_Bank: Exane BNP Paribas\n",
            "WARNING:__main__:No valid snippets found for Quarter-Year: 4Q24, Analyst_Bank: Bank of America Merrill Lynch\n",
            "WARNING:__main__:No valid snippets found for Quarter-Year: 4Q24, Analyst_Bank: Jefferies\n"
          ]
        },
        {
          "output_type": "stream",
          "name": "stdout",
          "text": [
            "✅ Successfully generated summary for Quarter 4Q24, Analyst_Bank HSBC\n",
            "<class '__main__.TextSummarizer'>\n"
          ]
        },
        {
          "output_type": "stream",
          "name": "stderr",
          "text": [
            "WARNING:__main__:No valid snippets found for Quarter-Year: 4Q24, Analyst_Bank: Barclays\n",
            "WARNING:__main__:No valid snippets found for Quarter-Year: 4Q24, Analyst_Bank: Société Générale\n"
          ]
        },
        {
          "output_type": "stream",
          "name": "stdout",
          "text": [
            "✅ Successfully generated summary for Quarter 4Q24, Analyst_Bank Autonomous Research\n",
            "<class '__main__.TextSummarizer'>\n",
            "✅ Successfully generated summary for Quarter 4Q24, Analyst_Bank Mediobanca\n",
            "<class '__main__.TextSummarizer'>\n",
            "✅ Successfully generated summary for Quarter 4Q24, Analyst_Bank Citi\n",
            "<class '__main__.TextSummarizer'>\n"
          ]
        },
        {
          "output_type": "stream",
          "name": "stderr",
          "text": [
            "WARNING:__main__:No valid snippets found for Quarter-Year: 4Q24, Analyst_Bank: Kian Abouhossein, JP\n",
            "WARNING:__main__:No valid snippets found for Quarter-Year: 4Q24, Analyst_Bank: Anke Reingen, RBC\n",
            "WARNING:__main__:No valid snippets found for Quarter-Year: 4Q24, Analyst_Bank: Chis Hallam, Goldman\n",
            "WARNING:__main__:No valid snippets found for Quarter-Year: 4Q24, Analyst_Bank: Autonomous\n",
            "WARNING:__main__:No valid snippets found for Quarter-Year: 4Q24, Analyst_Bank: Société Génerale\n",
            "WARNING:__main__:No valid snippets found for Quarter-Year: 4Q24, Analyst_Bank: Kepler Chevreux\n"
          ]
        },
        {
          "output_type": "stream",
          "name": "stdout",
          "text": [
            "✅ Successfully generated summary for Quarter 4Q24, Analyst_Bank BNP Paribas\n",
            "<class '__main__.TextSummarizer'>\n",
            "✅ Successfully generated summary for Quarter 4Q24, Analyst_Bank JPMorgan\n",
            "🎯 Summarization completed for 79 entries.\n"
          ]
        }
      ]
    },
    {
      "cell_type": "markdown",
      "source": [
        "# **Export Output Datasets**"
      ],
      "metadata": {
        "id": "bNUEhN8rqnsK"
      }
    },
    {
      "cell_type": "code",
      "source": [
        "# Save CSVs\n",
        "file_path_1 = \"/content/drive/MyDrive/bank_of_england/data/model_outputs/sent_output/summary_output_JPM.csv\"\n",
        "file_path_2 = \"/content/drive/MyDrive/bank_of_england/data/model_outputs/sent_output/summary_output_UBS.csv\"\n",
        "\n",
        "df_summaryJPM.to_csv(file_path_1, index=False)\n",
        "df_summaryUBS.to_csv(file_path_2, index=False)\n",
        "\n",
        "# Check if files were successfully saved\n",
        "if os.path.exists(file_path_1):\n",
        "    print(f\"✅ File saved successfully: {file_path_1}\")\n",
        "else:\n",
        "    print(f\"❌ Failed to save: {file_path_1}\")\n",
        "\n",
        "if os.path.exists(file_path_2):\n",
        "    print(f\"✅ File saved successfully: {file_path_2}\")\n",
        "else:\n",
        "    print(f\"❌ Failed to save: {file_path_2}\")\n"
      ],
      "metadata": {
        "colab": {
          "base_uri": "https://localhost:8080/"
        },
        "id": "us6KHVF4MGnA",
        "outputId": "a6bef13b-be9d-4ec5-b31f-e9f248b325ed"
      },
      "execution_count": 13,
      "outputs": [
        {
          "output_type": "stream",
          "name": "stdout",
          "text": [
            "✅ File saved successfully: /content/drive/MyDrive/bank_of_england/data/model_outputs/sent_output/summary_output_JPM.csv\n",
            "✅ File saved successfully: /content/drive/MyDrive/bank_of_england/data/model_outputs/sent_output/summary_output_UBS.csv\n"
          ]
        }
      ]
    }
  ],
  "metadata": {
    "colab": {
      "provenance": [],
      "gpuType": "A100",
      "include_colab_link": true
    },
    "kernelspec": {
      "display_name": "Python 3",
      "name": "python3"
    },
    "language_info": {
      "name": "python"
    },
    "accelerator": "GPU",
    "widgets": {
      "application/vnd.jupyter.widget-state+json": {
        "b920778886544a9ca65c76f2ab9a6bea": {
          "model_module": "@jupyter-widgets/controls",
          "model_name": "HBoxModel",
          "model_module_version": "1.5.0",
          "state": {
            "_dom_classes": [],
            "_model_module": "@jupyter-widgets/controls",
            "_model_module_version": "1.5.0",
            "_model_name": "HBoxModel",
            "_view_count": null,
            "_view_module": "@jupyter-widgets/controls",
            "_view_module_version": "1.5.0",
            "_view_name": "HBoxView",
            "box_style": "",
            "children": [
              "IPY_MODEL_8613171786df4f8dbc9d23baaec903c5",
              "IPY_MODEL_39d14cf546724df0b553c03ee8269247",
              "IPY_MODEL_a4c9fec399124beabd275eef94b4d517"
            ],
            "layout": "IPY_MODEL_29a2230f3b744e95a4b6ee5a25f2fd7b"
          }
        },
        "8613171786df4f8dbc9d23baaec903c5": {
          "model_module": "@jupyter-widgets/controls",
          "model_name": "HTMLModel",
          "model_module_version": "1.5.0",
          "state": {
            "_dom_classes": [],
            "_model_module": "@jupyter-widgets/controls",
            "_model_module_version": "1.5.0",
            "_model_name": "HTMLModel",
            "_view_count": null,
            "_view_module": "@jupyter-widgets/controls",
            "_view_module_version": "1.5.0",
            "_view_name": "HTMLView",
            "description": "",
            "description_tooltip": null,
            "layout": "IPY_MODEL_0bfcb327dbc045dcb9188d09e6519199",
            "placeholder": "​",
            "style": "IPY_MODEL_6260b89885df4c26b94a3d2f41023f39",
            "value": "tokenizer_config.json: 100%"
          }
        },
        "39d14cf546724df0b553c03ee8269247": {
          "model_module": "@jupyter-widgets/controls",
          "model_name": "FloatProgressModel",
          "model_module_version": "1.5.0",
          "state": {
            "_dom_classes": [],
            "_model_module": "@jupyter-widgets/controls",
            "_model_module_version": "1.5.0",
            "_model_name": "FloatProgressModel",
            "_view_count": null,
            "_view_module": "@jupyter-widgets/controls",
            "_view_module_version": "1.5.0",
            "_view_name": "ProgressView",
            "bar_style": "success",
            "description": "",
            "description_tooltip": null,
            "layout": "IPY_MODEL_0fcdfbe8088c426eb2c726b953f903b6",
            "max": 2539,
            "min": 0,
            "orientation": "horizontal",
            "style": "IPY_MODEL_a883ebc8eab340668390eedfe37c84d6",
            "value": 2539
          }
        },
        "a4c9fec399124beabd275eef94b4d517": {
          "model_module": "@jupyter-widgets/controls",
          "model_name": "HTMLModel",
          "model_module_version": "1.5.0",
          "state": {
            "_dom_classes": [],
            "_model_module": "@jupyter-widgets/controls",
            "_model_module_version": "1.5.0",
            "_model_name": "HTMLModel",
            "_view_count": null,
            "_view_module": "@jupyter-widgets/controls",
            "_view_module_version": "1.5.0",
            "_view_name": "HTMLView",
            "description": "",
            "description_tooltip": null,
            "layout": "IPY_MODEL_14b10ee797cf413ba765868b547fe4c6",
            "placeholder": "​",
            "style": "IPY_MODEL_85ef481d987540ee9a122184df717997",
            "value": " 2.54k/2.54k [00:00&lt;00:00, 280kB/s]"
          }
        },
        "29a2230f3b744e95a4b6ee5a25f2fd7b": {
          "model_module": "@jupyter-widgets/base",
          "model_name": "LayoutModel",
          "model_module_version": "1.2.0",
          "state": {
            "_model_module": "@jupyter-widgets/base",
            "_model_module_version": "1.2.0",
            "_model_name": "LayoutModel",
            "_view_count": null,
            "_view_module": "@jupyter-widgets/base",
            "_view_module_version": "1.2.0",
            "_view_name": "LayoutView",
            "align_content": null,
            "align_items": null,
            "align_self": null,
            "border": null,
            "bottom": null,
            "display": null,
            "flex": null,
            "flex_flow": null,
            "grid_area": null,
            "grid_auto_columns": null,
            "grid_auto_flow": null,
            "grid_auto_rows": null,
            "grid_column": null,
            "grid_gap": null,
            "grid_row": null,
            "grid_template_areas": null,
            "grid_template_columns": null,
            "grid_template_rows": null,
            "height": null,
            "justify_content": null,
            "justify_items": null,
            "left": null,
            "margin": null,
            "max_height": null,
            "max_width": null,
            "min_height": null,
            "min_width": null,
            "object_fit": null,
            "object_position": null,
            "order": null,
            "overflow": null,
            "overflow_x": null,
            "overflow_y": null,
            "padding": null,
            "right": null,
            "top": null,
            "visibility": null,
            "width": null
          }
        },
        "0bfcb327dbc045dcb9188d09e6519199": {
          "model_module": "@jupyter-widgets/base",
          "model_name": "LayoutModel",
          "model_module_version": "1.2.0",
          "state": {
            "_model_module": "@jupyter-widgets/base",
            "_model_module_version": "1.2.0",
            "_model_name": "LayoutModel",
            "_view_count": null,
            "_view_module": "@jupyter-widgets/base",
            "_view_module_version": "1.2.0",
            "_view_name": "LayoutView",
            "align_content": null,
            "align_items": null,
            "align_self": null,
            "border": null,
            "bottom": null,
            "display": null,
            "flex": null,
            "flex_flow": null,
            "grid_area": null,
            "grid_auto_columns": null,
            "grid_auto_flow": null,
            "grid_auto_rows": null,
            "grid_column": null,
            "grid_gap": null,
            "grid_row": null,
            "grid_template_areas": null,
            "grid_template_columns": null,
            "grid_template_rows": null,
            "height": null,
            "justify_content": null,
            "justify_items": null,
            "left": null,
            "margin": null,
            "max_height": null,
            "max_width": null,
            "min_height": null,
            "min_width": null,
            "object_fit": null,
            "object_position": null,
            "order": null,
            "overflow": null,
            "overflow_x": null,
            "overflow_y": null,
            "padding": null,
            "right": null,
            "top": null,
            "visibility": null,
            "width": null
          }
        },
        "6260b89885df4c26b94a3d2f41023f39": {
          "model_module": "@jupyter-widgets/controls",
          "model_name": "DescriptionStyleModel",
          "model_module_version": "1.5.0",
          "state": {
            "_model_module": "@jupyter-widgets/controls",
            "_model_module_version": "1.5.0",
            "_model_name": "DescriptionStyleModel",
            "_view_count": null,
            "_view_module": "@jupyter-widgets/base",
            "_view_module_version": "1.2.0",
            "_view_name": "StyleView",
            "description_width": ""
          }
        },
        "0fcdfbe8088c426eb2c726b953f903b6": {
          "model_module": "@jupyter-widgets/base",
          "model_name": "LayoutModel",
          "model_module_version": "1.2.0",
          "state": {
            "_model_module": "@jupyter-widgets/base",
            "_model_module_version": "1.2.0",
            "_model_name": "LayoutModel",
            "_view_count": null,
            "_view_module": "@jupyter-widgets/base",
            "_view_module_version": "1.2.0",
            "_view_name": "LayoutView",
            "align_content": null,
            "align_items": null,
            "align_self": null,
            "border": null,
            "bottom": null,
            "display": null,
            "flex": null,
            "flex_flow": null,
            "grid_area": null,
            "grid_auto_columns": null,
            "grid_auto_flow": null,
            "grid_auto_rows": null,
            "grid_column": null,
            "grid_gap": null,
            "grid_row": null,
            "grid_template_areas": null,
            "grid_template_columns": null,
            "grid_template_rows": null,
            "height": null,
            "justify_content": null,
            "justify_items": null,
            "left": null,
            "margin": null,
            "max_height": null,
            "max_width": null,
            "min_height": null,
            "min_width": null,
            "object_fit": null,
            "object_position": null,
            "order": null,
            "overflow": null,
            "overflow_x": null,
            "overflow_y": null,
            "padding": null,
            "right": null,
            "top": null,
            "visibility": null,
            "width": null
          }
        },
        "a883ebc8eab340668390eedfe37c84d6": {
          "model_module": "@jupyter-widgets/controls",
          "model_name": "ProgressStyleModel",
          "model_module_version": "1.5.0",
          "state": {
            "_model_module": "@jupyter-widgets/controls",
            "_model_module_version": "1.5.0",
            "_model_name": "ProgressStyleModel",
            "_view_count": null,
            "_view_module": "@jupyter-widgets/base",
            "_view_module_version": "1.2.0",
            "_view_name": "StyleView",
            "bar_color": null,
            "description_width": ""
          }
        },
        "14b10ee797cf413ba765868b547fe4c6": {
          "model_module": "@jupyter-widgets/base",
          "model_name": "LayoutModel",
          "model_module_version": "1.2.0",
          "state": {
            "_model_module": "@jupyter-widgets/base",
            "_model_module_version": "1.2.0",
            "_model_name": "LayoutModel",
            "_view_count": null,
            "_view_module": "@jupyter-widgets/base",
            "_view_module_version": "1.2.0",
            "_view_name": "LayoutView",
            "align_content": null,
            "align_items": null,
            "align_self": null,
            "border": null,
            "bottom": null,
            "display": null,
            "flex": null,
            "flex_flow": null,
            "grid_area": null,
            "grid_auto_columns": null,
            "grid_auto_flow": null,
            "grid_auto_rows": null,
            "grid_column": null,
            "grid_gap": null,
            "grid_row": null,
            "grid_template_areas": null,
            "grid_template_columns": null,
            "grid_template_rows": null,
            "height": null,
            "justify_content": null,
            "justify_items": null,
            "left": null,
            "margin": null,
            "max_height": null,
            "max_width": null,
            "min_height": null,
            "min_width": null,
            "object_fit": null,
            "object_position": null,
            "order": null,
            "overflow": null,
            "overflow_x": null,
            "overflow_y": null,
            "padding": null,
            "right": null,
            "top": null,
            "visibility": null,
            "width": null
          }
        },
        "85ef481d987540ee9a122184df717997": {
          "model_module": "@jupyter-widgets/controls",
          "model_name": "DescriptionStyleModel",
          "model_module_version": "1.5.0",
          "state": {
            "_model_module": "@jupyter-widgets/controls",
            "_model_module_version": "1.5.0",
            "_model_name": "DescriptionStyleModel",
            "_view_count": null,
            "_view_module": "@jupyter-widgets/base",
            "_view_module_version": "1.2.0",
            "_view_name": "StyleView",
            "description_width": ""
          }
        },
        "360e6ae143034403916bb6a307cced12": {
          "model_module": "@jupyter-widgets/controls",
          "model_name": "HBoxModel",
          "model_module_version": "1.5.0",
          "state": {
            "_dom_classes": [],
            "_model_module": "@jupyter-widgets/controls",
            "_model_module_version": "1.5.0",
            "_model_name": "HBoxModel",
            "_view_count": null,
            "_view_module": "@jupyter-widgets/controls",
            "_view_module_version": "1.5.0",
            "_view_name": "HBoxView",
            "box_style": "",
            "children": [
              "IPY_MODEL_a1fcc7b0937f475b97d1d94048520d8d",
              "IPY_MODEL_a2f83a1291ea48d9bb1dc5903b811c89",
              "IPY_MODEL_c35d6022633c4e6680a92780692fe1be"
            ],
            "layout": "IPY_MODEL_eab96a223fb642acaf0d1956e473fd4a"
          }
        },
        "a1fcc7b0937f475b97d1d94048520d8d": {
          "model_module": "@jupyter-widgets/controls",
          "model_name": "HTMLModel",
          "model_module_version": "1.5.0",
          "state": {
            "_dom_classes": [],
            "_model_module": "@jupyter-widgets/controls",
            "_model_module_version": "1.5.0",
            "_model_name": "HTMLModel",
            "_view_count": null,
            "_view_module": "@jupyter-widgets/controls",
            "_view_module_version": "1.5.0",
            "_view_name": "HTMLView",
            "description": "",
            "description_tooltip": null,
            "layout": "IPY_MODEL_f3430730f1c64ada8e6dda313a372f80",
            "placeholder": "​",
            "style": "IPY_MODEL_a62d48a4c1034ffd8714257711f149e0",
            "value": "spiece.model: 100%"
          }
        },
        "a2f83a1291ea48d9bb1dc5903b811c89": {
          "model_module": "@jupyter-widgets/controls",
          "model_name": "FloatProgressModel",
          "model_module_version": "1.5.0",
          "state": {
            "_dom_classes": [],
            "_model_module": "@jupyter-widgets/controls",
            "_model_module_version": "1.5.0",
            "_model_name": "FloatProgressModel",
            "_view_count": null,
            "_view_module": "@jupyter-widgets/controls",
            "_view_module_version": "1.5.0",
            "_view_name": "ProgressView",
            "bar_style": "success",
            "description": "",
            "description_tooltip": null,
            "layout": "IPY_MODEL_82cf2993c4ce47beab18c6a3ed7fc26b",
            "max": 791656,
            "min": 0,
            "orientation": "horizontal",
            "style": "IPY_MODEL_07de9aad9af344c4a5a859f338e9176d",
            "value": 791656
          }
        },
        "c35d6022633c4e6680a92780692fe1be": {
          "model_module": "@jupyter-widgets/controls",
          "model_name": "HTMLModel",
          "model_module_version": "1.5.0",
          "state": {
            "_dom_classes": [],
            "_model_module": "@jupyter-widgets/controls",
            "_model_module_version": "1.5.0",
            "_model_name": "HTMLModel",
            "_view_count": null,
            "_view_module": "@jupyter-widgets/controls",
            "_view_module_version": "1.5.0",
            "_view_name": "HTMLView",
            "description": "",
            "description_tooltip": null,
            "layout": "IPY_MODEL_95dc45c3511d4259a0fe53f37c0dfba8",
            "placeholder": "​",
            "style": "IPY_MODEL_c128f93416ef47fa995eef52f80438f4",
            "value": " 792k/792k [00:00&lt;00:00, 40.4MB/s]"
          }
        },
        "eab96a223fb642acaf0d1956e473fd4a": {
          "model_module": "@jupyter-widgets/base",
          "model_name": "LayoutModel",
          "model_module_version": "1.2.0",
          "state": {
            "_model_module": "@jupyter-widgets/base",
            "_model_module_version": "1.2.0",
            "_model_name": "LayoutModel",
            "_view_count": null,
            "_view_module": "@jupyter-widgets/base",
            "_view_module_version": "1.2.0",
            "_view_name": "LayoutView",
            "align_content": null,
            "align_items": null,
            "align_self": null,
            "border": null,
            "bottom": null,
            "display": null,
            "flex": null,
            "flex_flow": null,
            "grid_area": null,
            "grid_auto_columns": null,
            "grid_auto_flow": null,
            "grid_auto_rows": null,
            "grid_column": null,
            "grid_gap": null,
            "grid_row": null,
            "grid_template_areas": null,
            "grid_template_columns": null,
            "grid_template_rows": null,
            "height": null,
            "justify_content": null,
            "justify_items": null,
            "left": null,
            "margin": null,
            "max_height": null,
            "max_width": null,
            "min_height": null,
            "min_width": null,
            "object_fit": null,
            "object_position": null,
            "order": null,
            "overflow": null,
            "overflow_x": null,
            "overflow_y": null,
            "padding": null,
            "right": null,
            "top": null,
            "visibility": null,
            "width": null
          }
        },
        "f3430730f1c64ada8e6dda313a372f80": {
          "model_module": "@jupyter-widgets/base",
          "model_name": "LayoutModel",
          "model_module_version": "1.2.0",
          "state": {
            "_model_module": "@jupyter-widgets/base",
            "_model_module_version": "1.2.0",
            "_model_name": "LayoutModel",
            "_view_count": null,
            "_view_module": "@jupyter-widgets/base",
            "_view_module_version": "1.2.0",
            "_view_name": "LayoutView",
            "align_content": null,
            "align_items": null,
            "align_self": null,
            "border": null,
            "bottom": null,
            "display": null,
            "flex": null,
            "flex_flow": null,
            "grid_area": null,
            "grid_auto_columns": null,
            "grid_auto_flow": null,
            "grid_auto_rows": null,
            "grid_column": null,
            "grid_gap": null,
            "grid_row": null,
            "grid_template_areas": null,
            "grid_template_columns": null,
            "grid_template_rows": null,
            "height": null,
            "justify_content": null,
            "justify_items": null,
            "left": null,
            "margin": null,
            "max_height": null,
            "max_width": null,
            "min_height": null,
            "min_width": null,
            "object_fit": null,
            "object_position": null,
            "order": null,
            "overflow": null,
            "overflow_x": null,
            "overflow_y": null,
            "padding": null,
            "right": null,
            "top": null,
            "visibility": null,
            "width": null
          }
        },
        "a62d48a4c1034ffd8714257711f149e0": {
          "model_module": "@jupyter-widgets/controls",
          "model_name": "DescriptionStyleModel",
          "model_module_version": "1.5.0",
          "state": {
            "_model_module": "@jupyter-widgets/controls",
            "_model_module_version": "1.5.0",
            "_model_name": "DescriptionStyleModel",
            "_view_count": null,
            "_view_module": "@jupyter-widgets/base",
            "_view_module_version": "1.2.0",
            "_view_name": "StyleView",
            "description_width": ""
          }
        },
        "82cf2993c4ce47beab18c6a3ed7fc26b": {
          "model_module": "@jupyter-widgets/base",
          "model_name": "LayoutModel",
          "model_module_version": "1.2.0",
          "state": {
            "_model_module": "@jupyter-widgets/base",
            "_model_module_version": "1.2.0",
            "_model_name": "LayoutModel",
            "_view_count": null,
            "_view_module": "@jupyter-widgets/base",
            "_view_module_version": "1.2.0",
            "_view_name": "LayoutView",
            "align_content": null,
            "align_items": null,
            "align_self": null,
            "border": null,
            "bottom": null,
            "display": null,
            "flex": null,
            "flex_flow": null,
            "grid_area": null,
            "grid_auto_columns": null,
            "grid_auto_flow": null,
            "grid_auto_rows": null,
            "grid_column": null,
            "grid_gap": null,
            "grid_row": null,
            "grid_template_areas": null,
            "grid_template_columns": null,
            "grid_template_rows": null,
            "height": null,
            "justify_content": null,
            "justify_items": null,
            "left": null,
            "margin": null,
            "max_height": null,
            "max_width": null,
            "min_height": null,
            "min_width": null,
            "object_fit": null,
            "object_position": null,
            "order": null,
            "overflow": null,
            "overflow_x": null,
            "overflow_y": null,
            "padding": null,
            "right": null,
            "top": null,
            "visibility": null,
            "width": null
          }
        },
        "07de9aad9af344c4a5a859f338e9176d": {
          "model_module": "@jupyter-widgets/controls",
          "model_name": "ProgressStyleModel",
          "model_module_version": "1.5.0",
          "state": {
            "_model_module": "@jupyter-widgets/controls",
            "_model_module_version": "1.5.0",
            "_model_name": "ProgressStyleModel",
            "_view_count": null,
            "_view_module": "@jupyter-widgets/base",
            "_view_module_version": "1.2.0",
            "_view_name": "StyleView",
            "bar_color": null,
            "description_width": ""
          }
        },
        "95dc45c3511d4259a0fe53f37c0dfba8": {
          "model_module": "@jupyter-widgets/base",
          "model_name": "LayoutModel",
          "model_module_version": "1.2.0",
          "state": {
            "_model_module": "@jupyter-widgets/base",
            "_model_module_version": "1.2.0",
            "_model_name": "LayoutModel",
            "_view_count": null,
            "_view_module": "@jupyter-widgets/base",
            "_view_module_version": "1.2.0",
            "_view_name": "LayoutView",
            "align_content": null,
            "align_items": null,
            "align_self": null,
            "border": null,
            "bottom": null,
            "display": null,
            "flex": null,
            "flex_flow": null,
            "grid_area": null,
            "grid_auto_columns": null,
            "grid_auto_flow": null,
            "grid_auto_rows": null,
            "grid_column": null,
            "grid_gap": null,
            "grid_row": null,
            "grid_template_areas": null,
            "grid_template_columns": null,
            "grid_template_rows": null,
            "height": null,
            "justify_content": null,
            "justify_items": null,
            "left": null,
            "margin": null,
            "max_height": null,
            "max_width": null,
            "min_height": null,
            "min_width": null,
            "object_fit": null,
            "object_position": null,
            "order": null,
            "overflow": null,
            "overflow_x": null,
            "overflow_y": null,
            "padding": null,
            "right": null,
            "top": null,
            "visibility": null,
            "width": null
          }
        },
        "c128f93416ef47fa995eef52f80438f4": {
          "model_module": "@jupyter-widgets/controls",
          "model_name": "DescriptionStyleModel",
          "model_module_version": "1.5.0",
          "state": {
            "_model_module": "@jupyter-widgets/controls",
            "_model_module_version": "1.5.0",
            "_model_name": "DescriptionStyleModel",
            "_view_count": null,
            "_view_module": "@jupyter-widgets/base",
            "_view_module_version": "1.2.0",
            "_view_name": "StyleView",
            "description_width": ""
          }
        },
        "ae47e8d523b544be941d72574ea0a1f9": {
          "model_module": "@jupyter-widgets/controls",
          "model_name": "HBoxModel",
          "model_module_version": "1.5.0",
          "state": {
            "_dom_classes": [],
            "_model_module": "@jupyter-widgets/controls",
            "_model_module_version": "1.5.0",
            "_model_name": "HBoxModel",
            "_view_count": null,
            "_view_module": "@jupyter-widgets/controls",
            "_view_module_version": "1.5.0",
            "_view_name": "HBoxView",
            "box_style": "",
            "children": [
              "IPY_MODEL_3f5ba0124aff4d4ba95c2d93056a201c",
              "IPY_MODEL_42b7b149aa074baabd2a334c3ef68ea8",
              "IPY_MODEL_62f4477cdf154ce79f48eafadcbcfa11"
            ],
            "layout": "IPY_MODEL_f724aeb9c30849b490b07d3b15ecd393"
          }
        },
        "3f5ba0124aff4d4ba95c2d93056a201c": {
          "model_module": "@jupyter-widgets/controls",
          "model_name": "HTMLModel",
          "model_module_version": "1.5.0",
          "state": {
            "_dom_classes": [],
            "_model_module": "@jupyter-widgets/controls",
            "_model_module_version": "1.5.0",
            "_model_name": "HTMLModel",
            "_view_count": null,
            "_view_module": "@jupyter-widgets/controls",
            "_view_module_version": "1.5.0",
            "_view_name": "HTMLView",
            "description": "",
            "description_tooltip": null,
            "layout": "IPY_MODEL_a20613439bb94c0e82e24dd116291e80",
            "placeholder": "​",
            "style": "IPY_MODEL_71a473bda9484b38b8600e321a625f3f",
            "value": "tokenizer.json: 100%"
          }
        },
        "42b7b149aa074baabd2a334c3ef68ea8": {
          "model_module": "@jupyter-widgets/controls",
          "model_name": "FloatProgressModel",
          "model_module_version": "1.5.0",
          "state": {
            "_dom_classes": [],
            "_model_module": "@jupyter-widgets/controls",
            "_model_module_version": "1.5.0",
            "_model_name": "FloatProgressModel",
            "_view_count": null,
            "_view_module": "@jupyter-widgets/controls",
            "_view_module_version": "1.5.0",
            "_view_name": "ProgressView",
            "bar_style": "success",
            "description": "",
            "description_tooltip": null,
            "layout": "IPY_MODEL_3a8a0980c9054acba5d3fa0b228d8efb",
            "max": 2424064,
            "min": 0,
            "orientation": "horizontal",
            "style": "IPY_MODEL_89dbaa68574b415792307e38d5b80e33",
            "value": 2424064
          }
        },
        "62f4477cdf154ce79f48eafadcbcfa11": {
          "model_module": "@jupyter-widgets/controls",
          "model_name": "HTMLModel",
          "model_module_version": "1.5.0",
          "state": {
            "_dom_classes": [],
            "_model_module": "@jupyter-widgets/controls",
            "_model_module_version": "1.5.0",
            "_model_name": "HTMLModel",
            "_view_count": null,
            "_view_module": "@jupyter-widgets/controls",
            "_view_module_version": "1.5.0",
            "_view_name": "HTMLView",
            "description": "",
            "description_tooltip": null,
            "layout": "IPY_MODEL_a5b0e5fbadd04899924e2b6c058fe4c8",
            "placeholder": "​",
            "style": "IPY_MODEL_346c65e20b3547999af8a34f612e003e",
            "value": " 2.42M/2.42M [00:00&lt;00:00, 5.50MB/s]"
          }
        },
        "f724aeb9c30849b490b07d3b15ecd393": {
          "model_module": "@jupyter-widgets/base",
          "model_name": "LayoutModel",
          "model_module_version": "1.2.0",
          "state": {
            "_model_module": "@jupyter-widgets/base",
            "_model_module_version": "1.2.0",
            "_model_name": "LayoutModel",
            "_view_count": null,
            "_view_module": "@jupyter-widgets/base",
            "_view_module_version": "1.2.0",
            "_view_name": "LayoutView",
            "align_content": null,
            "align_items": null,
            "align_self": null,
            "border": null,
            "bottom": null,
            "display": null,
            "flex": null,
            "flex_flow": null,
            "grid_area": null,
            "grid_auto_columns": null,
            "grid_auto_flow": null,
            "grid_auto_rows": null,
            "grid_column": null,
            "grid_gap": null,
            "grid_row": null,
            "grid_template_areas": null,
            "grid_template_columns": null,
            "grid_template_rows": null,
            "height": null,
            "justify_content": null,
            "justify_items": null,
            "left": null,
            "margin": null,
            "max_height": null,
            "max_width": null,
            "min_height": null,
            "min_width": null,
            "object_fit": null,
            "object_position": null,
            "order": null,
            "overflow": null,
            "overflow_x": null,
            "overflow_y": null,
            "padding": null,
            "right": null,
            "top": null,
            "visibility": null,
            "width": null
          }
        },
        "a20613439bb94c0e82e24dd116291e80": {
          "model_module": "@jupyter-widgets/base",
          "model_name": "LayoutModel",
          "model_module_version": "1.2.0",
          "state": {
            "_model_module": "@jupyter-widgets/base",
            "_model_module_version": "1.2.0",
            "_model_name": "LayoutModel",
            "_view_count": null,
            "_view_module": "@jupyter-widgets/base",
            "_view_module_version": "1.2.0",
            "_view_name": "LayoutView",
            "align_content": null,
            "align_items": null,
            "align_self": null,
            "border": null,
            "bottom": null,
            "display": null,
            "flex": null,
            "flex_flow": null,
            "grid_area": null,
            "grid_auto_columns": null,
            "grid_auto_flow": null,
            "grid_auto_rows": null,
            "grid_column": null,
            "grid_gap": null,
            "grid_row": null,
            "grid_template_areas": null,
            "grid_template_columns": null,
            "grid_template_rows": null,
            "height": null,
            "justify_content": null,
            "justify_items": null,
            "left": null,
            "margin": null,
            "max_height": null,
            "max_width": null,
            "min_height": null,
            "min_width": null,
            "object_fit": null,
            "object_position": null,
            "order": null,
            "overflow": null,
            "overflow_x": null,
            "overflow_y": null,
            "padding": null,
            "right": null,
            "top": null,
            "visibility": null,
            "width": null
          }
        },
        "71a473bda9484b38b8600e321a625f3f": {
          "model_module": "@jupyter-widgets/controls",
          "model_name": "DescriptionStyleModel",
          "model_module_version": "1.5.0",
          "state": {
            "_model_module": "@jupyter-widgets/controls",
            "_model_module_version": "1.5.0",
            "_model_name": "DescriptionStyleModel",
            "_view_count": null,
            "_view_module": "@jupyter-widgets/base",
            "_view_module_version": "1.2.0",
            "_view_name": "StyleView",
            "description_width": ""
          }
        },
        "3a8a0980c9054acba5d3fa0b228d8efb": {
          "model_module": "@jupyter-widgets/base",
          "model_name": "LayoutModel",
          "model_module_version": "1.2.0",
          "state": {
            "_model_module": "@jupyter-widgets/base",
            "_model_module_version": "1.2.0",
            "_model_name": "LayoutModel",
            "_view_count": null,
            "_view_module": "@jupyter-widgets/base",
            "_view_module_version": "1.2.0",
            "_view_name": "LayoutView",
            "align_content": null,
            "align_items": null,
            "align_self": null,
            "border": null,
            "bottom": null,
            "display": null,
            "flex": null,
            "flex_flow": null,
            "grid_area": null,
            "grid_auto_columns": null,
            "grid_auto_flow": null,
            "grid_auto_rows": null,
            "grid_column": null,
            "grid_gap": null,
            "grid_row": null,
            "grid_template_areas": null,
            "grid_template_columns": null,
            "grid_template_rows": null,
            "height": null,
            "justify_content": null,
            "justify_items": null,
            "left": null,
            "margin": null,
            "max_height": null,
            "max_width": null,
            "min_height": null,
            "min_width": null,
            "object_fit": null,
            "object_position": null,
            "order": null,
            "overflow": null,
            "overflow_x": null,
            "overflow_y": null,
            "padding": null,
            "right": null,
            "top": null,
            "visibility": null,
            "width": null
          }
        },
        "89dbaa68574b415792307e38d5b80e33": {
          "model_module": "@jupyter-widgets/controls",
          "model_name": "ProgressStyleModel",
          "model_module_version": "1.5.0",
          "state": {
            "_model_module": "@jupyter-widgets/controls",
            "_model_module_version": "1.5.0",
            "_model_name": "ProgressStyleModel",
            "_view_count": null,
            "_view_module": "@jupyter-widgets/base",
            "_view_module_version": "1.2.0",
            "_view_name": "StyleView",
            "bar_color": null,
            "description_width": ""
          }
        },
        "a5b0e5fbadd04899924e2b6c058fe4c8": {
          "model_module": "@jupyter-widgets/base",
          "model_name": "LayoutModel",
          "model_module_version": "1.2.0",
          "state": {
            "_model_module": "@jupyter-widgets/base",
            "_model_module_version": "1.2.0",
            "_model_name": "LayoutModel",
            "_view_count": null,
            "_view_module": "@jupyter-widgets/base",
            "_view_module_version": "1.2.0",
            "_view_name": "LayoutView",
            "align_content": null,
            "align_items": null,
            "align_self": null,
            "border": null,
            "bottom": null,
            "display": null,
            "flex": null,
            "flex_flow": null,
            "grid_area": null,
            "grid_auto_columns": null,
            "grid_auto_flow": null,
            "grid_auto_rows": null,
            "grid_column": null,
            "grid_gap": null,
            "grid_row": null,
            "grid_template_areas": null,
            "grid_template_columns": null,
            "grid_template_rows": null,
            "height": null,
            "justify_content": null,
            "justify_items": null,
            "left": null,
            "margin": null,
            "max_height": null,
            "max_width": null,
            "min_height": null,
            "min_width": null,
            "object_fit": null,
            "object_position": null,
            "order": null,
            "overflow": null,
            "overflow_x": null,
            "overflow_y": null,
            "padding": null,
            "right": null,
            "top": null,
            "visibility": null,
            "width": null
          }
        },
        "346c65e20b3547999af8a34f612e003e": {
          "model_module": "@jupyter-widgets/controls",
          "model_name": "DescriptionStyleModel",
          "model_module_version": "1.5.0",
          "state": {
            "_model_module": "@jupyter-widgets/controls",
            "_model_module_version": "1.5.0",
            "_model_name": "DescriptionStyleModel",
            "_view_count": null,
            "_view_module": "@jupyter-widgets/base",
            "_view_module_version": "1.2.0",
            "_view_name": "StyleView",
            "description_width": ""
          }
        },
        "ba75bb2d3852469f819a77cc5c9d7947": {
          "model_module": "@jupyter-widgets/controls",
          "model_name": "HBoxModel",
          "model_module_version": "1.5.0",
          "state": {
            "_dom_classes": [],
            "_model_module": "@jupyter-widgets/controls",
            "_model_module_version": "1.5.0",
            "_model_name": "HBoxModel",
            "_view_count": null,
            "_view_module": "@jupyter-widgets/controls",
            "_view_module_version": "1.5.0",
            "_view_name": "HBoxView",
            "box_style": "",
            "children": [
              "IPY_MODEL_5872abbc36284c988f44fa68dd3acd26",
              "IPY_MODEL_564048359894414c9fc0c1f5c6e4abc2",
              "IPY_MODEL_985b4039a18f4875985139063e0be529"
            ],
            "layout": "IPY_MODEL_2abafacbf2f040bab802f32d93fd36ae"
          }
        },
        "5872abbc36284c988f44fa68dd3acd26": {
          "model_module": "@jupyter-widgets/controls",
          "model_name": "HTMLModel",
          "model_module_version": "1.5.0",
          "state": {
            "_dom_classes": [],
            "_model_module": "@jupyter-widgets/controls",
            "_model_module_version": "1.5.0",
            "_model_name": "HTMLModel",
            "_view_count": null,
            "_view_module": "@jupyter-widgets/controls",
            "_view_module_version": "1.5.0",
            "_view_name": "HTMLView",
            "description": "",
            "description_tooltip": null,
            "layout": "IPY_MODEL_4b5dab871123422aac27ff692142752e",
            "placeholder": "​",
            "style": "IPY_MODEL_c4a7cc33a0354a7684919357ccfc024a",
            "value": "special_tokens_map.json: 100%"
          }
        },
        "564048359894414c9fc0c1f5c6e4abc2": {
          "model_module": "@jupyter-widgets/controls",
          "model_name": "FloatProgressModel",
          "model_module_version": "1.5.0",
          "state": {
            "_dom_classes": [],
            "_model_module": "@jupyter-widgets/controls",
            "_model_module_version": "1.5.0",
            "_model_name": "FloatProgressModel",
            "_view_count": null,
            "_view_module": "@jupyter-widgets/controls",
            "_view_module_version": "1.5.0",
            "_view_name": "ProgressView",
            "bar_style": "success",
            "description": "",
            "description_tooltip": null,
            "layout": "IPY_MODEL_ad1f8c407aac4e229f36a661bd089043",
            "max": 2201,
            "min": 0,
            "orientation": "horizontal",
            "style": "IPY_MODEL_9cc82f4c9a49404c9db8c10575ba69e3",
            "value": 2201
          }
        },
        "985b4039a18f4875985139063e0be529": {
          "model_module": "@jupyter-widgets/controls",
          "model_name": "HTMLModel",
          "model_module_version": "1.5.0",
          "state": {
            "_dom_classes": [],
            "_model_module": "@jupyter-widgets/controls",
            "_model_module_version": "1.5.0",
            "_model_name": "HTMLModel",
            "_view_count": null,
            "_view_module": "@jupyter-widgets/controls",
            "_view_module_version": "1.5.0",
            "_view_name": "HTMLView",
            "description": "",
            "description_tooltip": null,
            "layout": "IPY_MODEL_e394669a5fa0473d84717c6d279e15bb",
            "placeholder": "​",
            "style": "IPY_MODEL_ec3af84e8cb7470b863e7fb54b4e0ed4",
            "value": " 2.20k/2.20k [00:00&lt;00:00, 288kB/s]"
          }
        },
        "2abafacbf2f040bab802f32d93fd36ae": {
          "model_module": "@jupyter-widgets/base",
          "model_name": "LayoutModel",
          "model_module_version": "1.2.0",
          "state": {
            "_model_module": "@jupyter-widgets/base",
            "_model_module_version": "1.2.0",
            "_model_name": "LayoutModel",
            "_view_count": null,
            "_view_module": "@jupyter-widgets/base",
            "_view_module_version": "1.2.0",
            "_view_name": "LayoutView",
            "align_content": null,
            "align_items": null,
            "align_self": null,
            "border": null,
            "bottom": null,
            "display": null,
            "flex": null,
            "flex_flow": null,
            "grid_area": null,
            "grid_auto_columns": null,
            "grid_auto_flow": null,
            "grid_auto_rows": null,
            "grid_column": null,
            "grid_gap": null,
            "grid_row": null,
            "grid_template_areas": null,
            "grid_template_columns": null,
            "grid_template_rows": null,
            "height": null,
            "justify_content": null,
            "justify_items": null,
            "left": null,
            "margin": null,
            "max_height": null,
            "max_width": null,
            "min_height": null,
            "min_width": null,
            "object_fit": null,
            "object_position": null,
            "order": null,
            "overflow": null,
            "overflow_x": null,
            "overflow_y": null,
            "padding": null,
            "right": null,
            "top": null,
            "visibility": null,
            "width": null
          }
        },
        "4b5dab871123422aac27ff692142752e": {
          "model_module": "@jupyter-widgets/base",
          "model_name": "LayoutModel",
          "model_module_version": "1.2.0",
          "state": {
            "_model_module": "@jupyter-widgets/base",
            "_model_module_version": "1.2.0",
            "_model_name": "LayoutModel",
            "_view_count": null,
            "_view_module": "@jupyter-widgets/base",
            "_view_module_version": "1.2.0",
            "_view_name": "LayoutView",
            "align_content": null,
            "align_items": null,
            "align_self": null,
            "border": null,
            "bottom": null,
            "display": null,
            "flex": null,
            "flex_flow": null,
            "grid_area": null,
            "grid_auto_columns": null,
            "grid_auto_flow": null,
            "grid_auto_rows": null,
            "grid_column": null,
            "grid_gap": null,
            "grid_row": null,
            "grid_template_areas": null,
            "grid_template_columns": null,
            "grid_template_rows": null,
            "height": null,
            "justify_content": null,
            "justify_items": null,
            "left": null,
            "margin": null,
            "max_height": null,
            "max_width": null,
            "min_height": null,
            "min_width": null,
            "object_fit": null,
            "object_position": null,
            "order": null,
            "overflow": null,
            "overflow_x": null,
            "overflow_y": null,
            "padding": null,
            "right": null,
            "top": null,
            "visibility": null,
            "width": null
          }
        },
        "c4a7cc33a0354a7684919357ccfc024a": {
          "model_module": "@jupyter-widgets/controls",
          "model_name": "DescriptionStyleModel",
          "model_module_version": "1.5.0",
          "state": {
            "_model_module": "@jupyter-widgets/controls",
            "_model_module_version": "1.5.0",
            "_model_name": "DescriptionStyleModel",
            "_view_count": null,
            "_view_module": "@jupyter-widgets/base",
            "_view_module_version": "1.2.0",
            "_view_name": "StyleView",
            "description_width": ""
          }
        },
        "ad1f8c407aac4e229f36a661bd089043": {
          "model_module": "@jupyter-widgets/base",
          "model_name": "LayoutModel",
          "model_module_version": "1.2.0",
          "state": {
            "_model_module": "@jupyter-widgets/base",
            "_model_module_version": "1.2.0",
            "_model_name": "LayoutModel",
            "_view_count": null,
            "_view_module": "@jupyter-widgets/base",
            "_view_module_version": "1.2.0",
            "_view_name": "LayoutView",
            "align_content": null,
            "align_items": null,
            "align_self": null,
            "border": null,
            "bottom": null,
            "display": null,
            "flex": null,
            "flex_flow": null,
            "grid_area": null,
            "grid_auto_columns": null,
            "grid_auto_flow": null,
            "grid_auto_rows": null,
            "grid_column": null,
            "grid_gap": null,
            "grid_row": null,
            "grid_template_areas": null,
            "grid_template_columns": null,
            "grid_template_rows": null,
            "height": null,
            "justify_content": null,
            "justify_items": null,
            "left": null,
            "margin": null,
            "max_height": null,
            "max_width": null,
            "min_height": null,
            "min_width": null,
            "object_fit": null,
            "object_position": null,
            "order": null,
            "overflow": null,
            "overflow_x": null,
            "overflow_y": null,
            "padding": null,
            "right": null,
            "top": null,
            "visibility": null,
            "width": null
          }
        },
        "9cc82f4c9a49404c9db8c10575ba69e3": {
          "model_module": "@jupyter-widgets/controls",
          "model_name": "ProgressStyleModel",
          "model_module_version": "1.5.0",
          "state": {
            "_model_module": "@jupyter-widgets/controls",
            "_model_module_version": "1.5.0",
            "_model_name": "ProgressStyleModel",
            "_view_count": null,
            "_view_module": "@jupyter-widgets/base",
            "_view_module_version": "1.2.0",
            "_view_name": "StyleView",
            "bar_color": null,
            "description_width": ""
          }
        },
        "e394669a5fa0473d84717c6d279e15bb": {
          "model_module": "@jupyter-widgets/base",
          "model_name": "LayoutModel",
          "model_module_version": "1.2.0",
          "state": {
            "_model_module": "@jupyter-widgets/base",
            "_model_module_version": "1.2.0",
            "_model_name": "LayoutModel",
            "_view_count": null,
            "_view_module": "@jupyter-widgets/base",
            "_view_module_version": "1.2.0",
            "_view_name": "LayoutView",
            "align_content": null,
            "align_items": null,
            "align_self": null,
            "border": null,
            "bottom": null,
            "display": null,
            "flex": null,
            "flex_flow": null,
            "grid_area": null,
            "grid_auto_columns": null,
            "grid_auto_flow": null,
            "grid_auto_rows": null,
            "grid_column": null,
            "grid_gap": null,
            "grid_row": null,
            "grid_template_areas": null,
            "grid_template_columns": null,
            "grid_template_rows": null,
            "height": null,
            "justify_content": null,
            "justify_items": null,
            "left": null,
            "margin": null,
            "max_height": null,
            "max_width": null,
            "min_height": null,
            "min_width": null,
            "object_fit": null,
            "object_position": null,
            "order": null,
            "overflow": null,
            "overflow_x": null,
            "overflow_y": null,
            "padding": null,
            "right": null,
            "top": null,
            "visibility": null,
            "width": null
          }
        },
        "ec3af84e8cb7470b863e7fb54b4e0ed4": {
          "model_module": "@jupyter-widgets/controls",
          "model_name": "DescriptionStyleModel",
          "model_module_version": "1.5.0",
          "state": {
            "_model_module": "@jupyter-widgets/controls",
            "_model_module_version": "1.5.0",
            "_model_name": "DescriptionStyleModel",
            "_view_count": null,
            "_view_module": "@jupyter-widgets/base",
            "_view_module_version": "1.2.0",
            "_view_name": "StyleView",
            "description_width": ""
          }
        },
        "b2bb6ce5bfbf4582ba351bee01e3ab1a": {
          "model_module": "@jupyter-widgets/controls",
          "model_name": "HBoxModel",
          "model_module_version": "1.5.0",
          "state": {
            "_dom_classes": [],
            "_model_module": "@jupyter-widgets/controls",
            "_model_module_version": "1.5.0",
            "_model_name": "HBoxModel",
            "_view_count": null,
            "_view_module": "@jupyter-widgets/controls",
            "_view_module_version": "1.5.0",
            "_view_name": "HBoxView",
            "box_style": "",
            "children": [
              "IPY_MODEL_5b19c07a5c2a495fbf5161c67abd3bca",
              "IPY_MODEL_ae2301a0874f4508b4a7fc38e2cc2a21",
              "IPY_MODEL_a9cc68c3676e420f849ff31e51374a4e"
            ],
            "layout": "IPY_MODEL_1981b7b0f82148568f4b6c93ef39cd9c"
          }
        },
        "5b19c07a5c2a495fbf5161c67abd3bca": {
          "model_module": "@jupyter-widgets/controls",
          "model_name": "HTMLModel",
          "model_module_version": "1.5.0",
          "state": {
            "_dom_classes": [],
            "_model_module": "@jupyter-widgets/controls",
            "_model_module_version": "1.5.0",
            "_model_name": "HTMLModel",
            "_view_count": null,
            "_view_module": "@jupyter-widgets/controls",
            "_view_module_version": "1.5.0",
            "_view_name": "HTMLView",
            "description": "",
            "description_tooltip": null,
            "layout": "IPY_MODEL_5da9b84ebfb94ce6b642eadfea332e75",
            "placeholder": "​",
            "style": "IPY_MODEL_98a20c5bc496412cbcd17def3dd8b868",
            "value": "config.json: 100%"
          }
        },
        "ae2301a0874f4508b4a7fc38e2cc2a21": {
          "model_module": "@jupyter-widgets/controls",
          "model_name": "FloatProgressModel",
          "model_module_version": "1.5.0",
          "state": {
            "_dom_classes": [],
            "_model_module": "@jupyter-widgets/controls",
            "_model_module_version": "1.5.0",
            "_model_name": "FloatProgressModel",
            "_view_count": null,
            "_view_module": "@jupyter-widgets/controls",
            "_view_module_version": "1.5.0",
            "_view_name": "ProgressView",
            "bar_style": "success",
            "description": "",
            "description_tooltip": null,
            "layout": "IPY_MODEL_e0bf472ae3ef4068afe280ea7329fd1e",
            "max": 662,
            "min": 0,
            "orientation": "horizontal",
            "style": "IPY_MODEL_24c9ec6375f84c5f850b3d393c3be792",
            "value": 662
          }
        },
        "a9cc68c3676e420f849ff31e51374a4e": {
          "model_module": "@jupyter-widgets/controls",
          "model_name": "HTMLModel",
          "model_module_version": "1.5.0",
          "state": {
            "_dom_classes": [],
            "_model_module": "@jupyter-widgets/controls",
            "_model_module_version": "1.5.0",
            "_model_name": "HTMLModel",
            "_view_count": null,
            "_view_module": "@jupyter-widgets/controls",
            "_view_module_version": "1.5.0",
            "_view_name": "HTMLView",
            "description": "",
            "description_tooltip": null,
            "layout": "IPY_MODEL_7cf9f850a9444ba0b2ae1bb912def514",
            "placeholder": "​",
            "style": "IPY_MODEL_2475c78bc004410f96b1d9422f32faa5",
            "value": " 662/662 [00:00&lt;00:00, 87.7kB/s]"
          }
        },
        "1981b7b0f82148568f4b6c93ef39cd9c": {
          "model_module": "@jupyter-widgets/base",
          "model_name": "LayoutModel",
          "model_module_version": "1.2.0",
          "state": {
            "_model_module": "@jupyter-widgets/base",
            "_model_module_version": "1.2.0",
            "_model_name": "LayoutModel",
            "_view_count": null,
            "_view_module": "@jupyter-widgets/base",
            "_view_module_version": "1.2.0",
            "_view_name": "LayoutView",
            "align_content": null,
            "align_items": null,
            "align_self": null,
            "border": null,
            "bottom": null,
            "display": null,
            "flex": null,
            "flex_flow": null,
            "grid_area": null,
            "grid_auto_columns": null,
            "grid_auto_flow": null,
            "grid_auto_rows": null,
            "grid_column": null,
            "grid_gap": null,
            "grid_row": null,
            "grid_template_areas": null,
            "grid_template_columns": null,
            "grid_template_rows": null,
            "height": null,
            "justify_content": null,
            "justify_items": null,
            "left": null,
            "margin": null,
            "max_height": null,
            "max_width": null,
            "min_height": null,
            "min_width": null,
            "object_fit": null,
            "object_position": null,
            "order": null,
            "overflow": null,
            "overflow_x": null,
            "overflow_y": null,
            "padding": null,
            "right": null,
            "top": null,
            "visibility": null,
            "width": null
          }
        },
        "5da9b84ebfb94ce6b642eadfea332e75": {
          "model_module": "@jupyter-widgets/base",
          "model_name": "LayoutModel",
          "model_module_version": "1.2.0",
          "state": {
            "_model_module": "@jupyter-widgets/base",
            "_model_module_version": "1.2.0",
            "_model_name": "LayoutModel",
            "_view_count": null,
            "_view_module": "@jupyter-widgets/base",
            "_view_module_version": "1.2.0",
            "_view_name": "LayoutView",
            "align_content": null,
            "align_items": null,
            "align_self": null,
            "border": null,
            "bottom": null,
            "display": null,
            "flex": null,
            "flex_flow": null,
            "grid_area": null,
            "grid_auto_columns": null,
            "grid_auto_flow": null,
            "grid_auto_rows": null,
            "grid_column": null,
            "grid_gap": null,
            "grid_row": null,
            "grid_template_areas": null,
            "grid_template_columns": null,
            "grid_template_rows": null,
            "height": null,
            "justify_content": null,
            "justify_items": null,
            "left": null,
            "margin": null,
            "max_height": null,
            "max_width": null,
            "min_height": null,
            "min_width": null,
            "object_fit": null,
            "object_position": null,
            "order": null,
            "overflow": null,
            "overflow_x": null,
            "overflow_y": null,
            "padding": null,
            "right": null,
            "top": null,
            "visibility": null,
            "width": null
          }
        },
        "98a20c5bc496412cbcd17def3dd8b868": {
          "model_module": "@jupyter-widgets/controls",
          "model_name": "DescriptionStyleModel",
          "model_module_version": "1.5.0",
          "state": {
            "_model_module": "@jupyter-widgets/controls",
            "_model_module_version": "1.5.0",
            "_model_name": "DescriptionStyleModel",
            "_view_count": null,
            "_view_module": "@jupyter-widgets/base",
            "_view_module_version": "1.2.0",
            "_view_name": "StyleView",
            "description_width": ""
          }
        },
        "e0bf472ae3ef4068afe280ea7329fd1e": {
          "model_module": "@jupyter-widgets/base",
          "model_name": "LayoutModel",
          "model_module_version": "1.2.0",
          "state": {
            "_model_module": "@jupyter-widgets/base",
            "_model_module_version": "1.2.0",
            "_model_name": "LayoutModel",
            "_view_count": null,
            "_view_module": "@jupyter-widgets/base",
            "_view_module_version": "1.2.0",
            "_view_name": "LayoutView",
            "align_content": null,
            "align_items": null,
            "align_self": null,
            "border": null,
            "bottom": null,
            "display": null,
            "flex": null,
            "flex_flow": null,
            "grid_area": null,
            "grid_auto_columns": null,
            "grid_auto_flow": null,
            "grid_auto_rows": null,
            "grid_column": null,
            "grid_gap": null,
            "grid_row": null,
            "grid_template_areas": null,
            "grid_template_columns": null,
            "grid_template_rows": null,
            "height": null,
            "justify_content": null,
            "justify_items": null,
            "left": null,
            "margin": null,
            "max_height": null,
            "max_width": null,
            "min_height": null,
            "min_width": null,
            "object_fit": null,
            "object_position": null,
            "order": null,
            "overflow": null,
            "overflow_x": null,
            "overflow_y": null,
            "padding": null,
            "right": null,
            "top": null,
            "visibility": null,
            "width": null
          }
        },
        "24c9ec6375f84c5f850b3d393c3be792": {
          "model_module": "@jupyter-widgets/controls",
          "model_name": "ProgressStyleModel",
          "model_module_version": "1.5.0",
          "state": {
            "_model_module": "@jupyter-widgets/controls",
            "_model_module_version": "1.5.0",
            "_model_name": "ProgressStyleModel",
            "_view_count": null,
            "_view_module": "@jupyter-widgets/base",
            "_view_module_version": "1.2.0",
            "_view_name": "StyleView",
            "bar_color": null,
            "description_width": ""
          }
        },
        "7cf9f850a9444ba0b2ae1bb912def514": {
          "model_module": "@jupyter-widgets/base",
          "model_name": "LayoutModel",
          "model_module_version": "1.2.0",
          "state": {
            "_model_module": "@jupyter-widgets/base",
            "_model_module_version": "1.2.0",
            "_model_name": "LayoutModel",
            "_view_count": null,
            "_view_module": "@jupyter-widgets/base",
            "_view_module_version": "1.2.0",
            "_view_name": "LayoutView",
            "align_content": null,
            "align_items": null,
            "align_self": null,
            "border": null,
            "bottom": null,
            "display": null,
            "flex": null,
            "flex_flow": null,
            "grid_area": null,
            "grid_auto_columns": null,
            "grid_auto_flow": null,
            "grid_auto_rows": null,
            "grid_column": null,
            "grid_gap": null,
            "grid_row": null,
            "grid_template_areas": null,
            "grid_template_columns": null,
            "grid_template_rows": null,
            "height": null,
            "justify_content": null,
            "justify_items": null,
            "left": null,
            "margin": null,
            "max_height": null,
            "max_width": null,
            "min_height": null,
            "min_width": null,
            "object_fit": null,
            "object_position": null,
            "order": null,
            "overflow": null,
            "overflow_x": null,
            "overflow_y": null,
            "padding": null,
            "right": null,
            "top": null,
            "visibility": null,
            "width": null
          }
        },
        "2475c78bc004410f96b1d9422f32faa5": {
          "model_module": "@jupyter-widgets/controls",
          "model_name": "DescriptionStyleModel",
          "model_module_version": "1.5.0",
          "state": {
            "_model_module": "@jupyter-widgets/controls",
            "_model_module_version": "1.5.0",
            "_model_name": "DescriptionStyleModel",
            "_view_count": null,
            "_view_module": "@jupyter-widgets/base",
            "_view_module_version": "1.2.0",
            "_view_name": "StyleView",
            "description_width": ""
          }
        },
        "f244dbf61b70473bb880242a04f049ec": {
          "model_module": "@jupyter-widgets/controls",
          "model_name": "HBoxModel",
          "model_module_version": "1.5.0",
          "state": {
            "_dom_classes": [],
            "_model_module": "@jupyter-widgets/controls",
            "_model_module_version": "1.5.0",
            "_model_name": "HBoxModel",
            "_view_count": null,
            "_view_module": "@jupyter-widgets/controls",
            "_view_module_version": "1.5.0",
            "_view_name": "HBoxView",
            "box_style": "",
            "children": [
              "IPY_MODEL_6a0dc68c118d4490a556d4139aa91d26",
              "IPY_MODEL_5e69dc0f291445a09535a6cd7c0fd4ad",
              "IPY_MODEL_06a7fcb704934ed2a88a2d40b7b6cf8c"
            ],
            "layout": "IPY_MODEL_4add790490db455fb7c681d56e256f81"
          }
        },
        "6a0dc68c118d4490a556d4139aa91d26": {
          "model_module": "@jupyter-widgets/controls",
          "model_name": "HTMLModel",
          "model_module_version": "1.5.0",
          "state": {
            "_dom_classes": [],
            "_model_module": "@jupyter-widgets/controls",
            "_model_module_version": "1.5.0",
            "_model_name": "HTMLModel",
            "_view_count": null,
            "_view_module": "@jupyter-widgets/controls",
            "_view_module_version": "1.5.0",
            "_view_name": "HTMLView",
            "description": "",
            "description_tooltip": null,
            "layout": "IPY_MODEL_8a29c557ecbb4afeb2ba0f2ebe3c2795",
            "placeholder": "​",
            "style": "IPY_MODEL_f7c915632cb64a68b56a9a94f5211195",
            "value": "model.safetensors: 100%"
          }
        },
        "5e69dc0f291445a09535a6cd7c0fd4ad": {
          "model_module": "@jupyter-widgets/controls",
          "model_name": "FloatProgressModel",
          "model_module_version": "1.5.0",
          "state": {
            "_dom_classes": [],
            "_model_module": "@jupyter-widgets/controls",
            "_model_module_version": "1.5.0",
            "_model_name": "FloatProgressModel",
            "_view_count": null,
            "_view_module": "@jupyter-widgets/controls",
            "_view_module_version": "1.5.0",
            "_view_name": "ProgressView",
            "bar_style": "success",
            "description": "",
            "description_tooltip": null,
            "layout": "IPY_MODEL_23a3942e5b734ef780bd92c92c412d32",
            "max": 3132668804,
            "min": 0,
            "orientation": "horizontal",
            "style": "IPY_MODEL_d867451ca0b046a0ab1c9155b23ced23",
            "value": 3132668804
          }
        },
        "06a7fcb704934ed2a88a2d40b7b6cf8c": {
          "model_module": "@jupyter-widgets/controls",
          "model_name": "HTMLModel",
          "model_module_version": "1.5.0",
          "state": {
            "_dom_classes": [],
            "_model_module": "@jupyter-widgets/controls",
            "_model_module_version": "1.5.0",
            "_model_name": "HTMLModel",
            "_view_count": null,
            "_view_module": "@jupyter-widgets/controls",
            "_view_module_version": "1.5.0",
            "_view_name": "HTMLView",
            "description": "",
            "description_tooltip": null,
            "layout": "IPY_MODEL_bfbe0aa62a0141a3b728774941a206a3",
            "placeholder": "​",
            "style": "IPY_MODEL_df89257e40a045c5af43fd5785fba409",
            "value": " 3.13G/3.13G [00:07&lt;00:00, 435MB/s]"
          }
        },
        "4add790490db455fb7c681d56e256f81": {
          "model_module": "@jupyter-widgets/base",
          "model_name": "LayoutModel",
          "model_module_version": "1.2.0",
          "state": {
            "_model_module": "@jupyter-widgets/base",
            "_model_module_version": "1.2.0",
            "_model_name": "LayoutModel",
            "_view_count": null,
            "_view_module": "@jupyter-widgets/base",
            "_view_module_version": "1.2.0",
            "_view_name": "LayoutView",
            "align_content": null,
            "align_items": null,
            "align_self": null,
            "border": null,
            "bottom": null,
            "display": null,
            "flex": null,
            "flex_flow": null,
            "grid_area": null,
            "grid_auto_columns": null,
            "grid_auto_flow": null,
            "grid_auto_rows": null,
            "grid_column": null,
            "grid_gap": null,
            "grid_row": null,
            "grid_template_areas": null,
            "grid_template_columns": null,
            "grid_template_rows": null,
            "height": null,
            "justify_content": null,
            "justify_items": null,
            "left": null,
            "margin": null,
            "max_height": null,
            "max_width": null,
            "min_height": null,
            "min_width": null,
            "object_fit": null,
            "object_position": null,
            "order": null,
            "overflow": null,
            "overflow_x": null,
            "overflow_y": null,
            "padding": null,
            "right": null,
            "top": null,
            "visibility": null,
            "width": null
          }
        },
        "8a29c557ecbb4afeb2ba0f2ebe3c2795": {
          "model_module": "@jupyter-widgets/base",
          "model_name": "LayoutModel",
          "model_module_version": "1.2.0",
          "state": {
            "_model_module": "@jupyter-widgets/base",
            "_model_module_version": "1.2.0",
            "_model_name": "LayoutModel",
            "_view_count": null,
            "_view_module": "@jupyter-widgets/base",
            "_view_module_version": "1.2.0",
            "_view_name": "LayoutView",
            "align_content": null,
            "align_items": null,
            "align_self": null,
            "border": null,
            "bottom": null,
            "display": null,
            "flex": null,
            "flex_flow": null,
            "grid_area": null,
            "grid_auto_columns": null,
            "grid_auto_flow": null,
            "grid_auto_rows": null,
            "grid_column": null,
            "grid_gap": null,
            "grid_row": null,
            "grid_template_areas": null,
            "grid_template_columns": null,
            "grid_template_rows": null,
            "height": null,
            "justify_content": null,
            "justify_items": null,
            "left": null,
            "margin": null,
            "max_height": null,
            "max_width": null,
            "min_height": null,
            "min_width": null,
            "object_fit": null,
            "object_position": null,
            "order": null,
            "overflow": null,
            "overflow_x": null,
            "overflow_y": null,
            "padding": null,
            "right": null,
            "top": null,
            "visibility": null,
            "width": null
          }
        },
        "f7c915632cb64a68b56a9a94f5211195": {
          "model_module": "@jupyter-widgets/controls",
          "model_name": "DescriptionStyleModel",
          "model_module_version": "1.5.0",
          "state": {
            "_model_module": "@jupyter-widgets/controls",
            "_model_module_version": "1.5.0",
            "_model_name": "DescriptionStyleModel",
            "_view_count": null,
            "_view_module": "@jupyter-widgets/base",
            "_view_module_version": "1.2.0",
            "_view_name": "StyleView",
            "description_width": ""
          }
        },
        "23a3942e5b734ef780bd92c92c412d32": {
          "model_module": "@jupyter-widgets/base",
          "model_name": "LayoutModel",
          "model_module_version": "1.2.0",
          "state": {
            "_model_module": "@jupyter-widgets/base",
            "_model_module_version": "1.2.0",
            "_model_name": "LayoutModel",
            "_view_count": null,
            "_view_module": "@jupyter-widgets/base",
            "_view_module_version": "1.2.0",
            "_view_name": "LayoutView",
            "align_content": null,
            "align_items": null,
            "align_self": null,
            "border": null,
            "bottom": null,
            "display": null,
            "flex": null,
            "flex_flow": null,
            "grid_area": null,
            "grid_auto_columns": null,
            "grid_auto_flow": null,
            "grid_auto_rows": null,
            "grid_column": null,
            "grid_gap": null,
            "grid_row": null,
            "grid_template_areas": null,
            "grid_template_columns": null,
            "grid_template_rows": null,
            "height": null,
            "justify_content": null,
            "justify_items": null,
            "left": null,
            "margin": null,
            "max_height": null,
            "max_width": null,
            "min_height": null,
            "min_width": null,
            "object_fit": null,
            "object_position": null,
            "order": null,
            "overflow": null,
            "overflow_x": null,
            "overflow_y": null,
            "padding": null,
            "right": null,
            "top": null,
            "visibility": null,
            "width": null
          }
        },
        "d867451ca0b046a0ab1c9155b23ced23": {
          "model_module": "@jupyter-widgets/controls",
          "model_name": "ProgressStyleModel",
          "model_module_version": "1.5.0",
          "state": {
            "_model_module": "@jupyter-widgets/controls",
            "_model_module_version": "1.5.0",
            "_model_name": "ProgressStyleModel",
            "_view_count": null,
            "_view_module": "@jupyter-widgets/base",
            "_view_module_version": "1.2.0",
            "_view_name": "StyleView",
            "bar_color": null,
            "description_width": ""
          }
        },
        "bfbe0aa62a0141a3b728774941a206a3": {
          "model_module": "@jupyter-widgets/base",
          "model_name": "LayoutModel",
          "model_module_version": "1.2.0",
          "state": {
            "_model_module": "@jupyter-widgets/base",
            "_model_module_version": "1.2.0",
            "_model_name": "LayoutModel",
            "_view_count": null,
            "_view_module": "@jupyter-widgets/base",
            "_view_module_version": "1.2.0",
            "_view_name": "LayoutView",
            "align_content": null,
            "align_items": null,
            "align_self": null,
            "border": null,
            "bottom": null,
            "display": null,
            "flex": null,
            "flex_flow": null,
            "grid_area": null,
            "grid_auto_columns": null,
            "grid_auto_flow": null,
            "grid_auto_rows": null,
            "grid_column": null,
            "grid_gap": null,
            "grid_row": null,
            "grid_template_areas": null,
            "grid_template_columns": null,
            "grid_template_rows": null,
            "height": null,
            "justify_content": null,
            "justify_items": null,
            "left": null,
            "margin": null,
            "max_height": null,
            "max_width": null,
            "min_height": null,
            "min_width": null,
            "object_fit": null,
            "object_position": null,
            "order": null,
            "overflow": null,
            "overflow_x": null,
            "overflow_y": null,
            "padding": null,
            "right": null,
            "top": null,
            "visibility": null,
            "width": null
          }
        },
        "df89257e40a045c5af43fd5785fba409": {
          "model_module": "@jupyter-widgets/controls",
          "model_name": "DescriptionStyleModel",
          "model_module_version": "1.5.0",
          "state": {
            "_model_module": "@jupyter-widgets/controls",
            "_model_module_version": "1.5.0",
            "_model_name": "DescriptionStyleModel",
            "_view_count": null,
            "_view_module": "@jupyter-widgets/base",
            "_view_module_version": "1.2.0",
            "_view_name": "StyleView",
            "description_width": ""
          }
        },
        "e7634e846c374302946b9a8ff6326662": {
          "model_module": "@jupyter-widgets/controls",
          "model_name": "HBoxModel",
          "model_module_version": "1.5.0",
          "state": {
            "_dom_classes": [],
            "_model_module": "@jupyter-widgets/controls",
            "_model_module_version": "1.5.0",
            "_model_name": "HBoxModel",
            "_view_count": null,
            "_view_module": "@jupyter-widgets/controls",
            "_view_module_version": "1.5.0",
            "_view_name": "HBoxView",
            "box_style": "",
            "children": [
              "IPY_MODEL_11d19cc9e2d44dea8c593be226ff6876",
              "IPY_MODEL_84a3609120a645d88d8bc3f74bb20e38",
              "IPY_MODEL_2cadb27cab2b471d91512f01881f8f25"
            ],
            "layout": "IPY_MODEL_34fcefee8fe74fdeb243cce7f0c28258"
          }
        },
        "11d19cc9e2d44dea8c593be226ff6876": {
          "model_module": "@jupyter-widgets/controls",
          "model_name": "HTMLModel",
          "model_module_version": "1.5.0",
          "state": {
            "_dom_classes": [],
            "_model_module": "@jupyter-widgets/controls",
            "_model_module_version": "1.5.0",
            "_model_name": "HTMLModel",
            "_view_count": null,
            "_view_module": "@jupyter-widgets/controls",
            "_view_module_version": "1.5.0",
            "_view_name": "HTMLView",
            "description": "",
            "description_tooltip": null,
            "layout": "IPY_MODEL_94bdd114a77046ed85c98446946a6404",
            "placeholder": "​",
            "style": "IPY_MODEL_eaf9a79807e74d9cb899b83f0b15a77e",
            "value": "generation_config.json: 100%"
          }
        },
        "84a3609120a645d88d8bc3f74bb20e38": {
          "model_module": "@jupyter-widgets/controls",
          "model_name": "FloatProgressModel",
          "model_module_version": "1.5.0",
          "state": {
            "_dom_classes": [],
            "_model_module": "@jupyter-widgets/controls",
            "_model_module_version": "1.5.0",
            "_model_name": "FloatProgressModel",
            "_view_count": null,
            "_view_module": "@jupyter-widgets/controls",
            "_view_module_version": "1.5.0",
            "_view_name": "ProgressView",
            "bar_style": "success",
            "description": "",
            "description_tooltip": null,
            "layout": "IPY_MODEL_5ed4c64606a146a4b9742729a6d20f3d",
            "max": 147,
            "min": 0,
            "orientation": "horizontal",
            "style": "IPY_MODEL_5b2e3506656f4867a0c442b2b2e2772a",
            "value": 147
          }
        },
        "2cadb27cab2b471d91512f01881f8f25": {
          "model_module": "@jupyter-widgets/controls",
          "model_name": "HTMLModel",
          "model_module_version": "1.5.0",
          "state": {
            "_dom_classes": [],
            "_model_module": "@jupyter-widgets/controls",
            "_model_module_version": "1.5.0",
            "_model_name": "HTMLModel",
            "_view_count": null,
            "_view_module": "@jupyter-widgets/controls",
            "_view_module_version": "1.5.0",
            "_view_name": "HTMLView",
            "description": "",
            "description_tooltip": null,
            "layout": "IPY_MODEL_a69931215a0f4826a2e59fe7c87ce677",
            "placeholder": "​",
            "style": "IPY_MODEL_9aa8fce89e9341d0bd97006af09a30d3",
            "value": " 147/147 [00:00&lt;00:00, 17.5kB/s]"
          }
        },
        "34fcefee8fe74fdeb243cce7f0c28258": {
          "model_module": "@jupyter-widgets/base",
          "model_name": "LayoutModel",
          "model_module_version": "1.2.0",
          "state": {
            "_model_module": "@jupyter-widgets/base",
            "_model_module_version": "1.2.0",
            "_model_name": "LayoutModel",
            "_view_count": null,
            "_view_module": "@jupyter-widgets/base",
            "_view_module_version": "1.2.0",
            "_view_name": "LayoutView",
            "align_content": null,
            "align_items": null,
            "align_self": null,
            "border": null,
            "bottom": null,
            "display": null,
            "flex": null,
            "flex_flow": null,
            "grid_area": null,
            "grid_auto_columns": null,
            "grid_auto_flow": null,
            "grid_auto_rows": null,
            "grid_column": null,
            "grid_gap": null,
            "grid_row": null,
            "grid_template_areas": null,
            "grid_template_columns": null,
            "grid_template_rows": null,
            "height": null,
            "justify_content": null,
            "justify_items": null,
            "left": null,
            "margin": null,
            "max_height": null,
            "max_width": null,
            "min_height": null,
            "min_width": null,
            "object_fit": null,
            "object_position": null,
            "order": null,
            "overflow": null,
            "overflow_x": null,
            "overflow_y": null,
            "padding": null,
            "right": null,
            "top": null,
            "visibility": null,
            "width": null
          }
        },
        "94bdd114a77046ed85c98446946a6404": {
          "model_module": "@jupyter-widgets/base",
          "model_name": "LayoutModel",
          "model_module_version": "1.2.0",
          "state": {
            "_model_module": "@jupyter-widgets/base",
            "_model_module_version": "1.2.0",
            "_model_name": "LayoutModel",
            "_view_count": null,
            "_view_module": "@jupyter-widgets/base",
            "_view_module_version": "1.2.0",
            "_view_name": "LayoutView",
            "align_content": null,
            "align_items": null,
            "align_self": null,
            "border": null,
            "bottom": null,
            "display": null,
            "flex": null,
            "flex_flow": null,
            "grid_area": null,
            "grid_auto_columns": null,
            "grid_auto_flow": null,
            "grid_auto_rows": null,
            "grid_column": null,
            "grid_gap": null,
            "grid_row": null,
            "grid_template_areas": null,
            "grid_template_columns": null,
            "grid_template_rows": null,
            "height": null,
            "justify_content": null,
            "justify_items": null,
            "left": null,
            "margin": null,
            "max_height": null,
            "max_width": null,
            "min_height": null,
            "min_width": null,
            "object_fit": null,
            "object_position": null,
            "order": null,
            "overflow": null,
            "overflow_x": null,
            "overflow_y": null,
            "padding": null,
            "right": null,
            "top": null,
            "visibility": null,
            "width": null
          }
        },
        "eaf9a79807e74d9cb899b83f0b15a77e": {
          "model_module": "@jupyter-widgets/controls",
          "model_name": "DescriptionStyleModel",
          "model_module_version": "1.5.0",
          "state": {
            "_model_module": "@jupyter-widgets/controls",
            "_model_module_version": "1.5.0",
            "_model_name": "DescriptionStyleModel",
            "_view_count": null,
            "_view_module": "@jupyter-widgets/base",
            "_view_module_version": "1.2.0",
            "_view_name": "StyleView",
            "description_width": ""
          }
        },
        "5ed4c64606a146a4b9742729a6d20f3d": {
          "model_module": "@jupyter-widgets/base",
          "model_name": "LayoutModel",
          "model_module_version": "1.2.0",
          "state": {
            "_model_module": "@jupyter-widgets/base",
            "_model_module_version": "1.2.0",
            "_model_name": "LayoutModel",
            "_view_count": null,
            "_view_module": "@jupyter-widgets/base",
            "_view_module_version": "1.2.0",
            "_view_name": "LayoutView",
            "align_content": null,
            "align_items": null,
            "align_self": null,
            "border": null,
            "bottom": null,
            "display": null,
            "flex": null,
            "flex_flow": null,
            "grid_area": null,
            "grid_auto_columns": null,
            "grid_auto_flow": null,
            "grid_auto_rows": null,
            "grid_column": null,
            "grid_gap": null,
            "grid_row": null,
            "grid_template_areas": null,
            "grid_template_columns": null,
            "grid_template_rows": null,
            "height": null,
            "justify_content": null,
            "justify_items": null,
            "left": null,
            "margin": null,
            "max_height": null,
            "max_width": null,
            "min_height": null,
            "min_width": null,
            "object_fit": null,
            "object_position": null,
            "order": null,
            "overflow": null,
            "overflow_x": null,
            "overflow_y": null,
            "padding": null,
            "right": null,
            "top": null,
            "visibility": null,
            "width": null
          }
        },
        "5b2e3506656f4867a0c442b2b2e2772a": {
          "model_module": "@jupyter-widgets/controls",
          "model_name": "ProgressStyleModel",
          "model_module_version": "1.5.0",
          "state": {
            "_model_module": "@jupyter-widgets/controls",
            "_model_module_version": "1.5.0",
            "_model_name": "ProgressStyleModel",
            "_view_count": null,
            "_view_module": "@jupyter-widgets/base",
            "_view_module_version": "1.2.0",
            "_view_name": "StyleView",
            "bar_color": null,
            "description_width": ""
          }
        },
        "a69931215a0f4826a2e59fe7c87ce677": {
          "model_module": "@jupyter-widgets/base",
          "model_name": "LayoutModel",
          "model_module_version": "1.2.0",
          "state": {
            "_model_module": "@jupyter-widgets/base",
            "_model_module_version": "1.2.0",
            "_model_name": "LayoutModel",
            "_view_count": null,
            "_view_module": "@jupyter-widgets/base",
            "_view_module_version": "1.2.0",
            "_view_name": "LayoutView",
            "align_content": null,
            "align_items": null,
            "align_self": null,
            "border": null,
            "bottom": null,
            "display": null,
            "flex": null,
            "flex_flow": null,
            "grid_area": null,
            "grid_auto_columns": null,
            "grid_auto_flow": null,
            "grid_auto_rows": null,
            "grid_column": null,
            "grid_gap": null,
            "grid_row": null,
            "grid_template_areas": null,
            "grid_template_columns": null,
            "grid_template_rows": null,
            "height": null,
            "justify_content": null,
            "justify_items": null,
            "left": null,
            "margin": null,
            "max_height": null,
            "max_width": null,
            "min_height": null,
            "min_width": null,
            "object_fit": null,
            "object_position": null,
            "order": null,
            "overflow": null,
            "overflow_x": null,
            "overflow_y": null,
            "padding": null,
            "right": null,
            "top": null,
            "visibility": null,
            "width": null
          }
        },
        "9aa8fce89e9341d0bd97006af09a30d3": {
          "model_module": "@jupyter-widgets/controls",
          "model_name": "DescriptionStyleModel",
          "model_module_version": "1.5.0",
          "state": {
            "_model_module": "@jupyter-widgets/controls",
            "_model_module_version": "1.5.0",
            "_model_name": "DescriptionStyleModel",
            "_view_count": null,
            "_view_module": "@jupyter-widgets/base",
            "_view_module_version": "1.2.0",
            "_view_name": "StyleView",
            "description_width": ""
          }
        }
      }
    }
  },
  "nbformat": 4,
  "nbformat_minor": 0
}