{
  "cells": [
    {
      "cell_type": "markdown",
      "metadata": {
        "id": "view-in-github",
        "colab_type": "text"
      },
      "source": [
        "<a href=\"https://colab.research.google.com/github/sheldonkemper/bank_of_england/blob/main/notebooks/modelling/ob_flan_t5_sentiment_jpm.ipynb\" target=\"_parent\"><img src=\"https://colab.research.google.com/assets/colab-badge.svg\" alt=\"Open In Colab\"/></a>"
      ]
    },
    {
      "cell_type": "code",
      "execution_count": 1,
      "metadata": {
        "id": "ym8RIzXNhpX5",
        "colab": {
          "base_uri": "https://localhost:8080/",
          "height": 69
        },
        "outputId": "03e702a2-61c9-482d-fea6-5c441e91a113"
      },
      "outputs": [
        {
          "output_type": "execute_result",
          "data": {
            "text/plain": [
              "'\\n===================================================\\nAuthor: Oscar Bowden\\nRole: Research Lead, Bank of England Employer Project (Quant Collective)\\nLinkedIn: https://uk.linkedin.com/in/oscar-bowden-4b14711b7\\nDate: 2025-03-05\\nVersion: 2.4\\n\\nDescription:\\n    This notebook contains an inference pipeline for a Flan-T5 (base)\\n    model that has been fine-tuned for polar sentiment analysis\\n    of financial sentences (using Financial Phrasebank:\\n    https://huggingface.co/datasets/takala/financial_phrasebank).\\n===================================================\\n'"
            ],
            "application/vnd.google.colaboratory.intrinsic+json": {
              "type": "string"
            }
          },
          "metadata": {},
          "execution_count": 1
        }
      ],
      "source": [
        "\"\"\"\n",
        "===================================================\n",
        "Author: Oscar Bowden\n",
        "Role: Research Lead, Bank of England Employer Project (Quant Collective)\n",
        "LinkedIn: https://uk.linkedin.com/in/oscar-bowden-4b14711b7\n",
        "Date: 2025-03-05\n",
        "Version: 2.4\n",
        "\n",
        "Description:\n",
        "    This notebook contains an inference pipeline for a Flan-T5 (base)\n",
        "    model that has been fine-tuned for polar sentiment analysis\n",
        "    of financial sentences (using Financial Phrasebank:\n",
        "    https://huggingface.co/datasets/takala/financial_phrasebank).\n",
        "===================================================\n",
        "\"\"\""
      ]
    },
    {
      "cell_type": "markdown",
      "metadata": {
        "id": "WhLPtVR3bVl9"
      },
      "source": [
        "# Imports"
      ]
    },
    {
      "cell_type": "code",
      "execution_count": 2,
      "metadata": {
        "collapsed": true,
        "id": "mcN0DMpkEcn0"
      },
      "outputs": [],
      "source": [
        "!pip install -q transformers torch datasets scikit-learn > /dev/null 2>&1"
      ]
    },
    {
      "cell_type": "code",
      "execution_count": 3,
      "metadata": {
        "id": "j7SH5v9iViB1"
      },
      "outputs": [],
      "source": [
        "#Imports\n",
        "\n",
        "# Mount Google Drive\n",
        "from google.colab import drive\n",
        "import os\n",
        "\n",
        "# Data handling\n",
        "import re\n",
        "import pandas as pd\n",
        "import torch\n",
        "from transformers import T5Tokenizer, T5ForConditionalGeneration"
      ]
    },
    {
      "cell_type": "markdown",
      "source": [
        "# Fine-Tuning approach"
      ],
      "metadata": {
        "id": "T7_OExdRVhv-"
      }
    },
    {
      "cell_type": "code",
      "source": [
        "print(f\"\\nThe Financial Phrasebank (https://huggingface.co/datasets/takala/financial_phrasebank) subset with full annotator agreement (sentences_allagree) was used to fine-tune Flan-T5.\")"
      ],
      "metadata": {
        "colab": {
          "base_uri": "https://localhost:8080/"
        },
        "id": "D6mX1U_yVpDy",
        "outputId": "b63996ce-bd05-4988-8764-90803d72a56d"
      },
      "execution_count": 4,
      "outputs": [
        {
          "output_type": "stream",
          "name": "stdout",
          "text": [
            "The Financial Phrasebank (https://huggingface.co/datasets/takala/financial_phrasebank) subset with full annotator agreement (sentences_allagree) was used to fine-tune Flan-T5.\n"
          ]
        }
      ]
    },
    {
      "cell_type": "code",
      "source": [
        "print(f\"\\nFull model training and validation code is not included as to limit compute wastage, but is available here: https://colab.research.google.com/drive/12UEZSQF1YWwJ_Knv1x8vBiadC5xCRDRF?usp=sharing\")"
      ],
      "metadata": {
        "colab": {
          "base_uri": "https://localhost:8080/"
        },
        "id": "tKFlvpRiV8UU",
        "outputId": "c257ed3d-392b-4ddf-c6ce-b358ea23dacc"
      },
      "execution_count": 6,
      "outputs": [
        {
          "output_type": "stream",
          "name": "stdout",
          "text": [
            "Full model training and validation code is not included as to limit compute wastage, but is available here: https://colab.research.google.com/drive/12UEZSQF1YWwJ_Knv1x8vBiadC5xCRDRF?usp=sharing\n"
          ]
        }
      ]
    },
    {
      "cell_type": "code",
      "source": [
        "print(f\"\\nThe resultant best model is used below to infer for our pipeline.\")"
      ],
      "metadata": {
        "colab": {
          "base_uri": "https://localhost:8080/"
        },
        "id": "AtCWYS9YWhc8",
        "outputId": "28812ca7-36ed-4cf1-b78e-9d7feccf7e12"
      },
      "execution_count": 7,
      "outputs": [
        {
          "output_type": "stream",
          "name": "stdout",
          "text": [
            "\n",
            "The resultant best model is used below to infer for our pipeline.\n"
          ]
        }
      ]
    },
    {
      "cell_type": "markdown",
      "metadata": {
        "id": "bI665hStbfV8"
      },
      "source": [
        "# Data loading and pre-processing"
      ]
    },
    {
      "cell_type": "code",
      "execution_count": 9,
      "metadata": {
        "colab": {
          "base_uri": "https://localhost:8080/"
        },
        "collapsed": true,
        "id": "uDBFS9QLw1Sr",
        "outputId": "a9482d4e-8720-4da4-d1f0-d72d5c446686"
      },
      "outputs": [
        {
          "output_type": "stream",
          "name": "stdout",
          "text": [
            "Mounted at /content/drive\n"
          ]
        }
      ],
      "source": [
        "# Load topic modelled data (questions and answers for JPM and UBS)\n",
        "\n",
        "drive.mount('/content/drive', force_remount=True)"
      ]
    },
    {
      "cell_type": "code",
      "source": [
        "path1 = \"/content/drive/MyDrive/BOE/bank_of_england/data/model_outputs/Topic_Modelling_am/tqc_JPMorgan_answer_topic.csv\"\n",
        "path2 = \"/content/drive/MyDrive/BOE/bank_of_england/data/model_outputs/Topic_Modelling_am/tqc_UBS_answer_topic.csv\"\n",
        "path3 = \"/content/drive/MyDrive/BOE/bank_of_england/data/model_outputs/Topic_Modelling_am/tqc_JPMorgan_question_topic.csv\"\n",
        "path4 = \"/content/drive/MyDrive/BOE/bank_of_england/data/model_outputs/Topic_Modelling_am/tqc_UBS_question_topic.csv\"\n",
        "\n",
        "\n",
        "df_a_jpm = pd.read_csv(path1)\n",
        "df_a_ubs = pd.read_csv(path2)\n",
        "df_q_jpm = pd.read_csv(path3)\n",
        "df_q_ubs = pd.read_csv(path4)"
      ],
      "metadata": {
        "id": "EcpEY7LnJQ7y"
      },
      "execution_count": 10,
      "outputs": []
    },
    {
      "cell_type": "code",
      "source": [
        "#Cleaning - remove quotes\n",
        "\n",
        "df_a_jpm['Snippet'] = df_a_jpm['Snippet'].str.replace('\"', '', regex=False)\n",
        "df_a_ubs['Snippet'] = df_a_ubs['Snippet'].str.replace('\"', '', regex=False)\n",
        "\n",
        "df_q_jpm['Snippet'] = df_q_jpm['Snippet'].str.replace('\"', '', regex=False)\n",
        "df_q_ubs['Snippet'] = df_q_ubs['Snippet'].str.replace('\"', '', regex=False)"
      ],
      "metadata": {
        "id": "w-fPjxVO5tzl"
      },
      "execution_count": 11,
      "outputs": []
    },
    {
      "cell_type": "code",
      "source": [
        "#Prepare topics for input into fine-tuned flan-t5\n",
        "\n",
        "def prepare_text_for_inference(text):\n",
        "    text = str(text).strip()\n",
        "    return f\"Classify sentiment: {text}\"\n",
        "\n",
        "df_a_jpm[\"snippet_infer\"] = df_a_jpm[\"Snippet\"].apply(prepare_text_for_inference)\n",
        "df_a_ubs[\"snippet_infer\"] = df_a_ubs[\"Snippet\"].apply(prepare_text_for_inference)\n",
        "\n",
        "df_q_jpm[\"snippet_infer\"] = df_q_jpm[\"Snippet\"].apply(prepare_text_for_inference)\n",
        "df_q_ubs[\"snippet_infer\"] = df_q_ubs[\"Snippet\"].apply(prepare_text_for_inference)"
      ],
      "metadata": {
        "id": "EdRvZDsZ8Izi"
      },
      "execution_count": 12,
      "outputs": []
    },
    {
      "cell_type": "markdown",
      "metadata": {
        "id": "1P0GD-CgpZ46"
      },
      "source": [
        "# Inference on topic snippets using fine-tuned Flan-T5"
      ]
    },
    {
      "cell_type": "code",
      "execution_count": 13,
      "metadata": {
        "id": "YxWQPZoKs9yZ"
      },
      "outputs": [],
      "source": [
        "# Load fine-tuned model and tokeniser from the best checkpoint\n",
        "\n",
        "best_checkpoint = \"/content/drive/MyDrive/BOE/bank_of_england/data/model_outputs/flan_t5_sent\"\n",
        "\n",
        "model = T5ForConditionalGeneration.from_pretrained(best_checkpoint)\n",
        "tokenizer = T5Tokenizer.from_pretrained(best_checkpoint)\n",
        "\n",
        "# Define the prediction function using your fine-tuned model\n",
        "def predict_sentiment(prepared_text):\n",
        "    \"\"\"\n",
        "    Predicts sentiment using the fine-tuned Flan-T5 model.\n",
        "    Assumes the input text is already preprocessed (i.e., prompt prepended).\n",
        "    \"\"\"\n",
        "    inputs = tokenizer(prepared_text, return_tensors=\"pt\", truncation=True, padding=True)\n",
        "    with torch.no_grad():\n",
        "        output = model.generate(**inputs, max_new_tokens=2)\n",
        "    return tokenizer.decode(output[0], skip_special_tokens=True).strip()\n",
        "\n",
        "# Apply inference on your prepared quarterly data\n",
        "df_a_jpm[\"snippet_sent\"] = df_a_jpm[\"snippet_infer\"].apply(predict_sentiment)\n",
        "df_a_ubs[\"snippet_sent\"] = df_a_ubs[\"snippet_infer\"].apply(predict_sentiment)\n",
        "\n",
        "df_q_jpm[\"snippet_sent\"] = df_q_jpm[\"snippet_infer\"].apply(predict_sentiment)\n",
        "df_q_ubs[\"snippet_sent\"] = df_q_ubs[\"snippet_infer\"].apply(predict_sentiment)"
      ]
    },
    {
      "cell_type": "code",
      "source": [
        "df_a_jpm[\"snippet_sent\"] = df_a_jpm[\"snippet_sent\"].map({\"0\": \"Negative\", \"1\": \"Neutral\", \"2\": \"Positive\"})\n",
        "df_a_ubs[\"snippet_sent\"] = df_a_ubs[\"snippet_sent\"].map({\"0\": \"Negative\", \"1\": \"Neutral\", \"2\": \"Positive\"})\n",
        "\n",
        "df_a_jpm.drop(columns=['snippet_infer'], inplace=True)\n",
        "df_a_ubs.drop(columns=['snippet_infer'], inplace=True)\n",
        "\n",
        "df_q_jpm[\"snippet_sent\"] = df_q_jpm[\"snippet_sent\"].map({\"0\": \"Negative\", \"1\": \"Neutral\", \"2\": \"Positive\"})\n",
        "df_q_ubs[\"snippet_sent\"] = df_q_ubs[\"snippet_sent\"].map({\"0\": \"Negative\", \"1\": \"Neutral\", \"2\": \"Positive\"})\n",
        "\n",
        "df_q_jpm.drop(columns=['snippet_infer'], inplace=True)\n",
        "df_q_ubs.drop(columns=['snippet_infer'], inplace=True)"
      ],
      "metadata": {
        "id": "hb59khjaNVd7"
      },
      "execution_count": 14,
      "outputs": []
    },
    {
      "cell_type": "code",
      "source": [
        "print(f\"\\nResulting polar sentiment counts for JPM and UBS topic snippets across 'question' and 'answer' transcript segments are shown below.\")"
      ],
      "metadata": {
        "id": "qFyMsxi1ZiJE"
      },
      "execution_count": null,
      "outputs": []
    },
    {
      "cell_type": "code",
      "source": [
        "print(f\"JPM Answer Snippet Sentiment:\\n {df_a_jpm['snippet_sent'].value_counts()}\")\n",
        "print(f\"\\nUBS Answer Snippet Sentiment:\\n {df_a_ubs['snippet_sent'].value_counts()}\")\n",
        "\n",
        "print(f\"\\nJPM Question Snippet Sentiment:\\n {df_q_jpm['snippet_sent'].value_counts()}\")\n",
        "print(f\"\\nUBS Question Snippet Sentiment:\\n {df_q_ubs['snippet_sent'].value_counts()}\")"
      ],
      "metadata": {
        "colab": {
          "base_uri": "https://localhost:8080/"
        },
        "id": "Q2QYhtPfNqVx",
        "outputId": "5c9a2d38-4599-4347-c87b-1c5621ecc568"
      },
      "execution_count": 15,
      "outputs": [
        {
          "output_type": "stream",
          "name": "stdout",
          "text": [
            "JPM Answer Snippet Sentiment:\n",
            " snippet_sent\n",
            "Neutral     335\n",
            "Positive     81\n",
            "Negative     18\n",
            "Name: count, dtype: int64\n",
            "\n",
            "UBS Answer Snippet Sentiment:\n",
            " snippet_sent\n",
            "Neutral     268\n",
            "Positive     69\n",
            "Negative     20\n",
            "Name: count, dtype: int64\n",
            "\n",
            "JPM Question Snippet Sentiment:\n",
            " snippet_sent\n",
            "Neutral     311\n",
            "Positive     64\n",
            "Negative     12\n",
            "Name: count, dtype: int64\n",
            "\n",
            "UBS Question Snippet Sentiment:\n",
            " snippet_sent\n",
            "Neutral     370\n",
            "Positive     93\n",
            "Negative     13\n",
            "Name: count, dtype: int64\n"
          ]
        }
      ]
    },
    {
      "cell_type": "code",
      "source": [
        "#Save CSVs\n",
        "\n",
        "file_path_1 = \"/content/drive/MyDrive/BOE/bank_of_england/data/model_outputs/sent_output/JPM_answers_sent_output_050325_v1.csv\"\n",
        "file_path_2 = \"/content/drive/MyDrive/BOE/bank_of_england/data/model_outputs/sent_output/UBS_answers_sent_output_050325_v1.csv\"\n",
        "file_path_3 = \"/content/drive/MyDrive/BOE/bank_of_england/data/model_outputs/sent_output/JPM_questions_sent_output_050325_v1.csv\"\n",
        "file_path_4 = \"/content/drive/MyDrive/BOE/bank_of_england/data/model_outputs/sent_output/UBS_questions_sent_output_050325_v1.csv\"\n",
        "\n",
        "df_a_jpm.to_csv(file_path_1, index=False)\n",
        "\n",
        "df_a_ubs.to_csv(file_path_2, index=False)\n",
        "\n",
        "df_q_jpm.to_csv(file_path_3, index=False)\n",
        "\n",
        "df_q_ubs.to_csv(file_path_4, index=False)"
      ],
      "metadata": {
        "id": "SvS3Ie5VRgYu"
      },
      "execution_count": 16,
      "outputs": []
    },
    {
      "cell_type": "code",
      "source": [
        "print(f\"\\nBar plot to show sentiment proportions:\\n\")"
      ],
      "metadata": {
        "colab": {
          "base_uri": "https://localhost:8080/"
        },
        "id": "EBQxauCtQ2SK",
        "outputId": "d5f02a35-f5cf-40e5-a969-b1347e6153ea"
      },
      "execution_count": 17,
      "outputs": [
        {
          "output_type": "stream",
          "name": "stdout",
          "text": [
            "Bar plot to show sentiment proportions across JPM and UBS analyst questions, and executive answers topic snippets\n",
            "\n"
          ]
        }
      ]
    },
    {
      "cell_type": "code",
      "source": [
        "import matplotlib.pyplot as plt\n",
        "import pandas as pd\n",
        "\n",
        "# Define the datasets and corresponding labels\n",
        "dataframes = {\n",
        "    \"Q-JPM\": df_q_jpm,\n",
        "    \"A-JPM\": df_a_jpm,\n",
        "    \"Q-UBS\": df_q_ubs,\n",
        "    \"A-UBS\": df_a_ubs\n",
        "}\n",
        "\n",
        "# Define sentiment categories\n",
        "sentiments = [\"Neutral\", \"Positive\", \"Negative\"]\n",
        "\n",
        "# Compute sentiment distributions for each dataset\n",
        "sentiment_counts = {}\n",
        "\n",
        "for name, df in dataframes.items():\n",
        "    counts = df[\"snippet_sent\"].value_counts(normalize=True) * 100  # Convert to percentage\n",
        "    sentiment_counts[name] = [counts.get(sent, 0) for sent in sentiments]\n",
        "\n",
        "# Convert to DataFrame for plotting\n",
        "sentiment_df = pd.DataFrame(sentiment_counts, index=sentiments)\n",
        "\n",
        "# Plot bar chart\n",
        "ax = sentiment_df.T.plot(kind=\"bar\", figsize=(10,6), width=0.8)\n",
        "\n",
        "plt.xlabel(\"Dataset (Section)\")\n",
        "plt.ylabel(\"Percentage\")\n",
        "plt.title(\"Sentiment Distribution by Section (Questions & Answers)\")\n",
        "plt.legend(title=\"Sentiment\")\n",
        "plt.xticks(rotation=0)\n",
        "plt.tight_layout()\n",
        "plt.show()"
      ],
      "metadata": {
        "colab": {
          "base_uri": "https://localhost:8080/",
          "height": 607
        },
        "id": "oJ2jE-SdQs5a",
        "outputId": "7f46ab13-22cd-4c49-ad4c-0fb002d23efb"
      },
      "execution_count": 18,
      "outputs": [
        {
          "output_type": "display_data",
          "data": {
            "text/plain": [
              "<Figure size 1000x600 with 1 Axes>"
            ],
            "image/png": "[encoded data removed]"
          },
          "metadata": {}
        }
      ]
    },
    {
      "cell_type": "code",
      "source": [
        "print(f\"Line plot to show average sentiment score (calculated according to: Negative: 0, Neutral: 1, Positive: 2):\\n\")"
      ],
      "metadata": {
        "colab": {
          "base_uri": "https://localhost:8080/"
        },
        "id": "YVK8_7iHRT4m",
        "outputId": "d860b706-5e8c-4e25-9c93-1914d2f9998a"
      },
      "execution_count": 19,
      "outputs": [
        {
          "output_type": "stream",
          "name": "stdout",
          "text": [
            "Line plot to show average sentiment score (calculated according to: Negative: 0, Neutral: 1, Positive: 2) across JPM and UBS analyst questions, and executive answers topic snippets\n",
            "\n"
          ]
        }
      ]
    },
    {
      "cell_type": "code",
      "source": [
        "import matplotlib.pyplot as plt\n",
        "import re\n",
        "\n",
        "# Function to extract and sort Quarter-Year correctly\n",
        "def extract_year_quarter(q):\n",
        "    m = re.match(r\"(\\d)Q(\\d+)\", q)\n",
        "    if m:\n",
        "        quarter = int(m.group(1))\n",
        "        year = int(m.group(2))\n",
        "        return (year, quarter)\n",
        "    else:\n",
        "        return (9999, 99)  # Fallback if format doesn't match\n",
        "\n",
        "# Define sentiment mapping (Numerical Scores)\n",
        "sentiment_map = {\"Negative\": 0, \"Neutral\": 1, \"Positive\": 2}\n",
        "\n",
        "# List of dataframes and their names\n",
        "dataframes = {\n",
        "    \"Q-JPM\": df_q_jpm,\n",
        "    \"A-JPM\": df_a_jpm,\n",
        "    \"A-UBS\": df_a_ubs,\n",
        "    \"Q-UBS\": df_q_ubs\n",
        "}\n",
        "\n",
        "# Initialize dictionary to store average sentiment scores over time\n",
        "avg_sentiment_scores = {}\n",
        "\n",
        "# Process each dataframe\n",
        "for name, df in dataframes.items():\n",
        "    # Convert sentiment labels to numerical scores\n",
        "    df[\"sentiment_score\"] = df[\"snippet_sent\"].map(sentiment_map)\n",
        "\n",
        "    # Compute average sentiment per quarter\n",
        "    avg_scores = df.groupby(\"Quarter\")[\"sentiment_score\"].mean()\n",
        "\n",
        "    # Sort by quarter using extract_year_quarter function\n",
        "    sorted_quarters = sorted(avg_scores.index, key=extract_year_quarter)\n",
        "    avg_sentiment_scores[name] = avg_scores.reindex(sorted_quarters)\n",
        "\n",
        "# Plot average sentiment trends for all datasets\n",
        "plt.figure(figsize=(12, 6))\n",
        "\n",
        "# Define colors for better distinction\n",
        "colors = {\n",
        "    \"Q-JPM\": \"blue\",\n",
        "    \"A-JPM\": \"green\",\n",
        "    \"A-UBS\": \"purple\",\n",
        "    \"Q-UBS\": \"red\"\n",
        "}\n",
        "\n",
        "# Plot average sentiment score for each dataset\n",
        "for name, scores in avg_sentiment_scores.items():\n",
        "    quarters = scores.index\n",
        "    plt.plot(quarters, scores, marker='o', label=name, color=colors[name])\n",
        "\n",
        "plt.xlabel(\"Quarter\")\n",
        "plt.ylabel(\"Average Sentiment Score\")\n",
        "plt.title(\"Average Sentiment Score Over Time (All Datasets)\")\n",
        "plt.xticks(rotation=45)\n",
        "plt.ylim(0.9, 1.3)  # Since scores range from 0 (Negative) to 2 (Positive)\n",
        "plt.legend()\n",
        "plt.tight_layout()\n",
        "plt.show()"
      ],
      "metadata": {
        "colab": {
          "base_uri": "https://localhost:8080/",
          "height": 607
        },
        "id": "cm5XTGRURPIK",
        "outputId": "d81bc74b-dcec-4ced-a438-99d8b3cf316e"
      },
      "execution_count": 20,
      "outputs": [
        {
          "output_type": "display_data",
          "data": {
            "text/plain": [
              "<Figure size 1200x600 with 1 Axes>"
            ],
            "image/png": "[encoded data removed]"
          },
          "metadata": {}
        }
      ]
    },
    {
      "cell_type": "markdown",
      "source": [
        "# Fine-tuned Flan-T5 and FinBERT comparison: ground-truth labelled JPM answer topic snippet data"
      ],
      "metadata": {
        "id": "cSWVoibRSQ3A"
      }
    },
    {
      "cell_type": "code",
      "source": [
        "print(\"Topic snippets from 3Q24 and 4Q24 were manually ground-labelled with polar sentiment. The sentiment extraction performance of fine-tuned Flan-T5 and FinBERT using this data as a benchmark is shown below.\")"
      ],
      "metadata": {
        "colab": {
          "base_uri": "https://localhost:8080/"
        },
        "id": "ut6B6NYmURnd",
        "outputId": "96bac61a-f407-4a9d-e042-410b1eccd2aa"
      },
      "execution_count": 21,
      "outputs": [
        {
          "output_type": "stream",
          "name": "stdout",
          "text": [
            "Topic snippets from 3Q24 and 4Q24 were manually ground-labelled with polar sentiment. The sentiment extraction performance of fine-tuned Flan-T5 and FinBERT using this data as a benchmark is shown below.\n"
          ]
        }
      ]
    },
    {
      "cell_type": "code",
      "source": [
        "from transformers import AutoTokenizer, AutoModelForSequenceClassification\n",
        "\n",
        "# Load FinBERT model & tokenizer\n",
        "finbert_model = AutoModelForSequenceClassification.from_pretrained(\"ProsusAI/finbert\")\n",
        "finbert_tokenizer = AutoTokenizer.from_pretrained(\"ProsusAI/finbert\")\n",
        "\n",
        "# Function to predict sentiment using FinBERT\n",
        "def predict_finbert_sentiment(text):\n",
        "    inputs = finbert_tokenizer(text, return_tensors=\"pt\", truncation=True, padding=True)\n",
        "    with torch.no_grad():\n",
        "        outputs = finbert_model(**inputs)\n",
        "    scores = torch.nn.functional.softmax(outputs.logits, dim=-1)\n",
        "    sentiment_labels = [\"Negative\", \"Neutral\", \"Positive\"]\n",
        "    return sentiment_labels[scores.argmax().item()]\n",
        "\n",
        "# List of datasets\n",
        "dataframes = {\n",
        "    \"df_a_jpm\": df_a_jpm,\n",
        "}\n",
        "\n",
        "# Run FinBERT on all datasets\n",
        "for name, df in dataframes.items():\n",
        "    df[\"finbert_sentiment\"] = df[\"Snippet\"].apply(predict_finbert_sentiment)"
      ],
      "metadata": {
        "colab": {
          "base_uri": "https://localhost:8080/",
          "height": 209,
          "referenced_widgets": [
            "4f102cd81ce64c358eaa5b0bfc777d03",
            "667b7cd1f5dd452e85202717a16e81a8",
            "9043bf7c80b64c91ab564b5635b868ca",
            "bfc7638d6d94445b9ca02ee52cedc2da",
            "826ef99c7520464dacb5e610fdc55177",
            "9dd979bee11a4d098e07747fd7516b04",
            "b1e74a7b003d4f62b6212d5d4673cf5c",
            "399eb03942cd46448e922fc3466e9eca",
            "348dab39b0a04db3b45f18efcd9943f7",
            "bb90fdabcbd742a19600fd6516334347",
            "fbf2e7f9364e4bd9b72191ce3605b947",
            "77c1f1b1f3a4441db19699dd223e118d",
            "0a090ceb7eb547e4b64afdc6bc09d09f",
            "ab90ab43f5f2455dba3f0261c5bce98d",
            "94b4f531b491485cb79b91b5cfc491a9",
            "88f3f9ab70144529aceb80d85def0ec3",
            "907d29acfb14422884499897928696f6",
            "486fa611489a4d93a65998f3f7dabcd3",
            "229bb768555341049d15099471df8b22",
            "ddbea0f107cc4fed9fce26c0d292783d",
            "941c66184f7247bc87bdadad0a289389",
            "6ae09e5ea6594c33a269ff9b2e165051",
            "0e72ad6b59634826af9594e57312393f",
            "ddf8e9ce9dbc4fbbba5f53b170ff6568",
            "837f0458ede34131b303b771c0f279ea",
            "d5fd40c76da54153acdd6adf50e8c44a",
            "63cbc5207aac42d48fcdb1ec44655e33",
            "b4f529d7903644d5bfef79205987349b",
            "dbb83a67c65f4770996f3c75390a83d0",
            "7f37a1d8db194b1586bb056a4ec01506",
            "2de9a992700747849a0cd3d660c646db",
            "8cf660182329474a9b27d66382a5d149",
            "7e69991a89d940b6b38bfde260b9b1ca",
            "1ee47ac2dc2143829f05f0e47cfb14d5",
            "a2359dab676c4e3d9defcb14d8932d29",
            "0e7dbf3cdfb44ca7a996a23a11ba041e",
            "67872069f10b4647b14064ece8c238de",
            "c1de3c482e8345528eaab3de1e5c9536",
            "d99ecbaf425f443a997108faf026d163",
            "c76d027bac7f49fe9768c27d14262a56",
            "276e0e76e5f042a6871e1b6979527f4c",
            "84a93168aa0843419437132d2141c3e7",
            "c225585a2250442bb913d79eceb4ac19",
            "cec0dee924864956936fec294d2a8c19",
            "7f330f18b1014e2d89cfaa9c2df44590",
            "e4bb62004b6048429d7f64742050efc3",
            "d8e8f9f5a26849c09e99076fd115541a",
            "355a287a84c3467a9b209b72e3882a08",
            "957af282086341acbf96513a2dc1efcd",
            "87a3cea216de4739918d8257e729e1b3",
            "81df776eabb94776a65be62e8cc1abdb",
            "5ad7e79adb3f46cfb63d56049c29323b",
            "91fdbcd963594b2d809a9f557ea5f056",
            "35264aa51f774ec8bd2992a9386c6a69",
            "a5e8ce7837dc414e8c768b7d7e6c462d",
            "882896aaec794beb87a090a20d742cd8",
            "24c1407929944a08b7326e29d08da0c9",
            "83639a60619f47bc8edccca611715584",
            "adc211038a904d019a0cc6b59df4ee65",
            "1c251f051a9c4ba685509575d525e881",
            "99c42f468d70481bb10fe10743e0bffc",
            "02e77dfb24c14a8a9df2f09742c0559e",
            "14d72f9728b7437eb6579a3d9860a205",
            "4179bad21f9a45d6a1e1118df5d3bc5d",
            "7199041c48364ed8ae1ddb15d7f1e724",
            "8baa085071e64c2db94d0df41dc3ee43"
          ]
        },
        "id": "c4msniYbSWIp",
        "outputId": "95a3c0f3-5fb2-4d9d-9c37-336b88f8c8ed"
      },
      "execution_count": 22,
      "outputs": [
        {
          "output_type": "display_data",
          "data": {
            "text/plain": [
              "config.json:   0%|          | 0.00/758 [00:00<?, ?B/s]"
            ],
            "application/vnd.jupyter.widget-view+json": {
              "version_major": 2,
              "version_minor": 0,
              "model_id": "4f102cd81ce64c358eaa5b0bfc777d03"
            }
          },
          "metadata": {}
        },
        {
          "output_type": "display_data",
          "data": {
            "text/plain": [
              "pytorch_model.bin:   0%|          | 0.00/438M [00:00<?, ?B/s]"
            ],
            "application/vnd.jupyter.widget-view+json": {
              "version_major": 2,
              "version_minor": 0,
              "model_id": "77c1f1b1f3a4441db19699dd223e118d"
            }
          },
          "metadata": {}
        },
        {
          "output_type": "display_data",
          "data": {
            "text/plain": [
              "tokenizer_config.json:   0%|          | 0.00/252 [00:00<?, ?B/s]"
            ],
            "application/vnd.jupyter.widget-view+json": {
              "version_major": 2,
              "version_minor": 0,
              "model_id": "0e72ad6b59634826af9594e57312393f"
            }
          },
          "metadata": {}
        },
        {
          "output_type": "display_data",
          "data": {
            "text/plain": [
              "vocab.txt:   0%|          | 0.00/232k [00:00<?, ?B/s]"
            ],
            "application/vnd.jupyter.widget-view+json": {
              "version_major": 2,
              "version_minor": 0,
              "model_id": "1ee47ac2dc2143829f05f0e47cfb14d5"
            }
          },
          "metadata": {}
        },
        {
          "output_type": "display_data",
          "data": {
            "text/plain": [
              "model.safetensors:   0%|          | 0.00/438M [00:00<?, ?B/s]"
            ],
            "application/vnd.jupyter.widget-view+json": {
              "version_major": 2,
              "version_minor": 0,
              "model_id": "7f330f18b1014e2d89cfaa9c2df44590"
            }
          },
          "metadata": {}
        },
        {
          "output_type": "display_data",
          "data": {
            "text/plain": [
              "special_tokens_map.json:   0%|          | 0.00/112 [00:00<?, ?B/s]"
            ],
            "application/vnd.jupyter.widget-view+json": {
              "version_major": 2,
              "version_minor": 0,
              "model_id": "882896aaec794beb87a090a20d742cd8"
            }
          },
          "metadata": {}
        }
      ]
    },
    {
      "cell_type": "code",
      "source": [
        "print(f\"Fine-tuned Flan-T5 JPM Answer Snippet Sentiment:\\n {df_a_jpm['snippet_sent'].value_counts()}\")\n",
        "print(f\"\\nFinBERT JPM Answer Snippet Sentiment:\\n {df_a_jpm['finbert_sentiment'].value_counts()}\")"
      ],
      "metadata": {
        "colab": {
          "base_uri": "https://localhost:8080/"
        },
        "id": "vi3NyO42SsJu",
        "outputId": "129c7e6c-61b0-4b0f-c72f-2c303baec13a"
      },
      "execution_count": 23,
      "outputs": [
        {
          "output_type": "stream",
          "name": "stdout",
          "text": [
            "Fine-tuned Flan-T5 JPM Answer Snippet Sentiment:\n",
            " snippet_sent\n",
            "Neutral     335\n",
            "Positive     81\n",
            "Negative     18\n",
            "Name: count, dtype: int64\n",
            "\n",
            "FinBERT JPM Answer Snippet Sentiment:\n",
            " finbert_sentiment\n",
            "Positive    283\n",
            "Negative     96\n",
            "Neutral      56\n",
            "Name: count, dtype: int64\n"
          ]
        }
      ]
    },
    {
      "cell_type": "code",
      "source": [
        "file_path = \"/content/drive/MyDrive/BOE/bank_of_england/data/model_outputs/sent_output/ground_labeled_3q_4q_24_JPM_answer_snippets.csv\"\n",
        "ground_labelled = pd.read_csv(file_path)\n",
        "\n",
        "ground_labelled = pd.DataFrame(ground_labelled)"
      ],
      "metadata": {
        "id": "RvKLEhrNSzqi"
      },
      "execution_count": 25,
      "outputs": []
    },
    {
      "cell_type": "code",
      "source": [
        "print(f\"\\nBar plot to show sentiment proportions. Ground-truth vs Fine-Tuned Flan-T5 vs FinBERT\")"
      ],
      "metadata": {
        "id": "7IQLe2L2bT8o"
      },
      "execution_count": null,
      "outputs": []
    },
    {
      "cell_type": "code",
      "source": [
        "import matplotlib.pyplot as plt\n",
        "import pandas as pd\n",
        "import numpy as np\n",
        "\n",
        "# Define sentiment categories\n",
        "sentiments = [\"Negative\", \"Neutral\", \"Positive\"]\n",
        "\n",
        "# Compute sentiment proportions for each method\n",
        "datasets = {\n",
        "    \"Manually labelled data\": ground_labelled[\"manual_label\"],\n",
        "    \"Fine-tuned Flan-T5\": ground_labelled[\"snippet_sent\"],\n",
        "    \"FinBERT\": ground_labelled[\"finbert_sentiment\"]\n",
        "}\n",
        "\n",
        "# Create a DataFrame to store proportions\n",
        "sentiment_proportions = {}\n",
        "\n",
        "for name, labels in datasets.items():\n",
        "    counts = labels.value_counts(normalize=True) * 100  # Convert to percentage\n",
        "    sentiment_proportions[name] = [counts.get(sent, 0) for sent in sentiments]\n",
        "\n",
        "# Convert to DataFrame for plotting\n",
        "sentiment_df = pd.DataFrame(sentiment_proportions, index=sentiments)\n",
        "\n",
        "# Plot grouped bar chart (3 bars per model)\n",
        "fig, ax = plt.subplots(figsize=(10,6))\n",
        "bar_width = 0.2  # Width of individual bars\n",
        "x = np.arange(len(datasets))  # X-axis positions for each group\n",
        "\n",
        "# Plot bars for each sentiment\n",
        "for i, sentiment in enumerate(sentiments):\n",
        "    ax.bar(x + i * bar_width, sentiment_df.loc[sentiment], width=bar_width, label=sentiment)\n",
        "\n",
        "# Formatting\n",
        "ax.set_xlabel(\"Model\")\n",
        "ax.set_ylabel(\"Percentage\")\n",
        "ax.set_title(\"Topic Snippet Sentiment Distribution Across 2 quarters: Manual labels vs. Fine-tuned Flan-T5 vs. FinBERT\")\n",
        "ax.set_xticks(x + bar_width)\n",
        "ax.set_xticklabels(datasets.keys())  # Labels for each dataset (model)\n",
        "ax.legend(title=\"Sentiment\")\n",
        "plt.tight_layout()\n",
        "plt.show()"
      ],
      "metadata": {
        "colab": {
          "base_uri": "https://localhost:8080/",
          "height": 607
        },
        "id": "EnyDfmAzUD1L",
        "outputId": "bf71a4d7-5f7a-4550-d698-ebd06a8f77ab"
      },
      "execution_count": 26,
      "outputs": [
        {
          "output_type": "display_data",
          "data": {
            "text/plain": [
              "<Figure size 1000x600 with 1 Axes>"
            ],
            "image/png": "[encoded data removed]"
          },
          "metadata": {}
        }
      ]
    },
    {
      "cell_type": "code",
      "source": [
        "print(f\"\\nMetrics for the Flan-T5 and FinBERT comparison:\")"
      ],
      "metadata": {
        "id": "au7unLe4aURS"
      },
      "execution_count": null,
      "outputs": []
    },
    {
      "cell_type": "code",
      "source": [
        "from sklearn.metrics import accuracy_score, f1_score, classification_report\n",
        "\n",
        "# Define the target names in the expected order\n",
        "target_names = [\"Negative\", \"Neutral\", \"Positive\"]\n",
        "\n",
        "# Ensure all labels are string types to avoid classification errors\n",
        "ground_labelled[\"manual_label\"] = ground_labelled[\"manual_label\"].astype(str)\n",
        "ground_labelled[\"snippet_sent\"] = ground_labelled[\"snippet_sent\"].astype(str)\n",
        "ground_labelled[\"finbert_sentiment\"] = ground_labelled[\"finbert_sentiment\"].astype(str)\n",
        "\n",
        "# ----------------------------\n",
        "# Metrics for Fine-Tuned Flan-T5 Model\n",
        "# ----------------------------\n",
        "accuracy_t5 = accuracy_score(ground_labelled[\"manual_label\"], ground_labelled[\"snippet_sent\"])\n",
        "f1_t5 = f1_score(ground_labelled[\"manual_label\"], ground_labelled[\"snippet_sent\"], average=\"weighted\")\n",
        "report_t5 = classification_report(ground_labelled[\"manual_label\"], ground_labelled[\"snippet_sent\"], target_names=target_names)\n",
        "\n",
        "print(\"\\n Fine-Tuned Flan-T5 Model Metrics:\")\n",
        "print(\"Accuracy:\", round(accuracy_t5, 4))\n",
        "print(\"Weighted F1:\", round(f1_t5, 4))\n",
        "print(\"Classification Report:\\n\", report_t5)\n",
        "\n",
        "# ----------------------------\n",
        "# Metrics for FinBERT Model\n",
        "# ----------------------------\n",
        "accuracy_finbert = accuracy_score(ground_labelled[\"manual_label\"], ground_labelled[\"finbert_sentiment\"])\n",
        "f1_finbert = f1_score(ground_labelled[\"manual_label\"], ground_labelled[\"finbert_sentiment\"], average=\"weighted\")\n",
        "report_finbert = classification_report(ground_labelled[\"manual_label\"], ground_labelled[\"finbert_sentiment\"], target_names=target_names)\n",
        "\n",
        "print(\"\\n FinBERT Model Metrics:\")\n",
        "print(\"Accuracy:\", round(accuracy_finbert, 4))\n",
        "print(\"Weighted F1:\", round(f1_finbert, 4))\n",
        "print(\"Classification Report:\\n\", report_finbert)"
      ],
      "metadata": {
        "colab": {
          "base_uri": "https://localhost:8080/"
        },
        "id": "Ctw4d5IhUM6N",
        "outputId": "ae0f3ee5-ac07-48bc-859c-00c0362c29a7"
      },
      "execution_count": 27,
      "outputs": [
        {
          "output_type": "stream",
          "name": "stdout",
          "text": [
            "\n",
            " Fine-Tuned Flan-T5 Model Metrics:\n",
            "Accuracy: 0.7778\n",
            "Weighted F1: 0.7557\n",
            "Classification Report:\n",
            "               precision    recall  f1-score   support\n",
            "\n",
            "    Negative       1.00      0.36      0.53        14\n",
            "     Neutral       0.71      1.00      0.83        45\n",
            "    Positive       1.00      0.59      0.74        22\n",
            "\n",
            "    accuracy                           0.78        81\n",
            "   macro avg       0.90      0.65      0.70        81\n",
            "weighted avg       0.84      0.78      0.76        81\n",
            "\n",
            "\n",
            " FinBERT Model Metrics:\n",
            "Accuracy: 0.1728\n",
            "Weighted F1: 0.1102\n",
            "Classification Report:\n",
            "               precision    recall  f1-score   support\n",
            "\n",
            "    Negative       0.19      0.21      0.20        14\n",
            "     Neutral       0.00      0.00      0.00        45\n",
            "    Positive       0.19      0.50      0.28        22\n",
            "\n",
            "    accuracy                           0.17        81\n",
            "   macro avg       0.13      0.24      0.16        81\n",
            "weighted avg       0.08      0.17      0.11        81\n",
            "\n"
          ]
        }
      ]
    }
  ],
  "metadata": {
    "accelerator": "GPU",
    "colab": {
      "gpuType": "L4",
      "machine_shape": "hm",
      "provenance": [],
      "include_colab_link": true
    },
    "kernelspec": {
      "display_name": "Python 3",
      "name": "python3"
    },
    "language_info": {
      "name": "python"
    },
    "widgets": {
      "application/vnd.jupyter.widget-state+json": {
        "4f102cd81ce64c358eaa5b0bfc777d03": {
          "model_module": "@jupyter-widgets/controls",
          "model_name": "HBoxModel",
          "model_module_version": "1.5.0",
          "state": {
            "_dom_classes": [],
            "_model_module": "@jupyter-widgets/controls",
            "_model_module_version": "1.5.0",
            "_model_name": "HBoxModel",
            "_view_count": null,
            "_view_module": "@jupyter-widgets/controls",
            "_view_module_version": "1.5.0",
            "_view_name": "HBoxView",
            "box_style": "",
            "children": [
              "IPY_MODEL_667b7cd1f5dd452e85202717a16e81a8",
              "IPY_MODEL_9043bf7c80b64c91ab564b5635b868ca",
              "IPY_MODEL_bfc7638d6d94445b9ca02ee52cedc2da"
            ],
            "layout": "IPY_MODEL_826ef99c7520464dacb5e610fdc55177"
          }
        },
        "667b7cd1f5dd452e85202717a16e81a8": {
          "model_module": "@jupyter-widgets/controls",
          "model_name": "HTMLModel",
          "model_module_version": "1.5.0",
          "state": {
            "_dom_classes": [],
            "_model_module": "@jupyter-widgets/controls",
            "_model_module_version": "1.5.0",
            "_model_name": "HTMLModel",
            "_view_count": null,
            "_view_module": "@jupyter-widgets/controls",
            "_view_module_version": "1.5.0",
            "_view_name": "HTMLView",
            "description": "",
            "description_tooltip": null,
            "layout": "IPY_MODEL_9dd979bee11a4d098e07747fd7516b04",
            "placeholder": "​",
            "style": "IPY_MODEL_b1e74a7b003d4f62b6212d5d4673cf5c",
            "value": "config.json: 100%"
          }
        },
        "9043bf7c80b64c91ab564b5635b868ca": {
          "model_module": "@jupyter-widgets/controls",
          "model_name": "FloatProgressModel",
          "model_module_version": "1.5.0",
          "state": {
            "_dom_classes": [],
            "_model_module": "@jupyter-widgets/controls",
            "_model_module_version": "1.5.0",
            "_model_name": "FloatProgressModel",
            "_view_count": null,
            "_view_module": "@jupyter-widgets/controls",
            "_view_module_version": "1.5.0",
            "_view_name": "ProgressView",
            "bar_style": "success",
            "description": "",
            "description_tooltip": null,
            "layout": "IPY_MODEL_399eb03942cd46448e922fc3466e9eca",
            "max": 758,
            "min": 0,
            "orientation": "horizontal",
            "style": "IPY_MODEL_348dab39b0a04db3b45f18efcd9943f7",
            "value": 758
          }
        },
        "bfc7638d6d94445b9ca02ee52cedc2da": {
          "model_module": "@jupyter-widgets/controls",
          "model_name": "HTMLModel",
          "model_module_version": "1.5.0",
          "state": {
            "_dom_classes": [],
            "_model_module": "@jupyter-widgets/controls",
            "_model_module_version": "1.5.0",
            "_model_name": "HTMLModel",
            "_view_count": null,
            "_view_module": "@jupyter-widgets/controls",
            "_view_module_version": "1.5.0",
            "_view_name": "HTMLView",
            "description": "",
            "description_tooltip": null,
            "layout": "IPY_MODEL_bb90fdabcbd742a19600fd6516334347",
            "placeholder": "​",
            "style": "IPY_MODEL_fbf2e7f9364e4bd9b72191ce3605b947",
            "value": " 758/758 [00:00&lt;00:00, 93.5kB/s]"
          }
        },
        "826ef99c7520464dacb5e610fdc55177": {
          "model_module": "@jupyter-widgets/base",
          "model_name": "LayoutModel",
          "model_module_version": "1.2.0",
          "state": {
            "_model_module": "@jupyter-widgets/base",
            "_model_module_version": "1.2.0",
            "_model_name": "LayoutModel",
            "_view_count": null,
            "_view_module": "@jupyter-widgets/base",
            "_view_module_version": "1.2.0",
            "_view_name": "LayoutView",
            "align_content": null,
            "align_items": null,
            "align_self": null,
            "border": null,
            "bottom": null,
            "display": null,
            "flex": null,
            "flex_flow": null,
            "grid_area": null,
            "grid_auto_columns": null,
            "grid_auto_flow": null,
            "grid_auto_rows": null,
            "grid_column": null,
            "grid_gap": null,
            "grid_row": null,
            "grid_template_areas": null,
            "grid_template_columns": null,
            "grid_template_rows": null,
            "height": null,
            "justify_content": null,
            "justify_items": null,
            "left": null,
            "margin": null,
            "max_height": null,
            "max_width": null,
            "min_height": null,
            "min_width": null,
            "object_fit": null,
            "object_position": null,
            "order": null,
            "overflow": null,
            "overflow_x": null,
            "overflow_y": null,
            "padding": null,
            "right": null,
            "top": null,
            "visibility": null,
            "width": null
          }
        },
        "9dd979bee11a4d098e07747fd7516b04": {
          "model_module": "@jupyter-widgets/base",
          "model_name": "LayoutModel",
          "model_module_version": "1.2.0",
          "state": {
            "_model_module": "@jupyter-widgets/base",
            "_model_module_version": "1.2.0",
            "_model_name": "LayoutModel",
            "_view_count": null,
            "_view_module": "@jupyter-widgets/base",
            "_view_module_version": "1.2.0",
            "_view_name": "LayoutView",
            "align_content": null,
            "align_items": null,
            "align_self": null,
            "border": null,
            "bottom": null,
            "display": null,
            "flex": null,
            "flex_flow": null,
            "grid_area": null,
            "grid_auto_columns": null,
            "grid_auto_flow": null,
            "grid_auto_rows": null,
            "grid_column": null,
            "grid_gap": null,
            "grid_row": null,
            "grid_template_areas": null,
            "grid_template_columns": null,
            "grid_template_rows": null,
            "height": null,
            "justify_content": null,
            "justify_items": null,
            "left": null,
            "margin": null,
            "max_height": null,
            "max_width": null,
            "min_height": null,
            "min_width": null,
            "object_fit": null,
            "object_position": null,
            "order": null,
            "overflow": null,
            "overflow_x": null,
            "overflow_y": null,
            "padding": null,
            "right": null,
            "top": null,
            "visibility": null,
            "width": null
          }
        },
        "b1e74a7b003d4f62b6212d5d4673cf5c": {
          "model_module": "@jupyter-widgets/controls",
          "model_name": "DescriptionStyleModel",
          "model_module_version": "1.5.0",
          "state": {
            "_model_module": "@jupyter-widgets/controls",
            "_model_module_version": "1.5.0",
            "_model_name": "DescriptionStyleModel",
            "_view_count": null,
            "_view_module": "@jupyter-widgets/base",
            "_view_module_version": "1.2.0",
            "_view_name": "StyleView",
            "description_width": ""
          }
        },
        "399eb03942cd46448e922fc3466e9eca": {
          "model_module": "@jupyter-widgets/base",
          "model_name": "LayoutModel",
          "model_module_version": "1.2.0",
          "state": {
            "_model_module": "@jupyter-widgets/base",
            "_model_module_version": "1.2.0",
            "_model_name": "LayoutModel",
            "_view_count": null,
            "_view_module": "@jupyter-widgets/base",
            "_view_module_version": "1.2.0",
            "_view_name": "LayoutView",
            "align_content": null,
            "align_items": null,
            "align_self": null,
            "border": null,
            "bottom": null,
            "display": null,
            "flex": null,
            "flex_flow": null,
            "grid_area": null,
            "grid_auto_columns": null,
            "grid_auto_flow": null,
            "grid_auto_rows": null,
            "grid_column": null,
            "grid_gap": null,
            "grid_row": null,
            "grid_template_areas": null,
            "grid_template_columns": null,
            "grid_template_rows": null,
            "height": null,
            "justify_content": null,
            "justify_items": null,
            "left": null,
            "margin": null,
            "max_height": null,
            "max_width": null,
            "min_height": null,
            "min_width": null,
            "object_fit": null,
            "object_position": null,
            "order": null,
            "overflow": null,
            "overflow_x": null,
            "overflow_y": null,
            "padding": null,
            "right": null,
            "top": null,
            "visibility": null,
            "width": null
          }
        },
        "348dab39b0a04db3b45f18efcd9943f7": {
          "model_module": "@jupyter-widgets/controls",
          "model_name": "ProgressStyleModel",
          "model_module_version": "1.5.0",
          "state": {
            "_model_module": "@jupyter-widgets/controls",
            "_model_module_version": "1.5.0",
            "_model_name": "ProgressStyleModel",
            "_view_count": null,
            "_view_module": "@jupyter-widgets/base",
            "_view_module_version": "1.2.0",
            "_view_name": "StyleView",
            "bar_color": null,
            "description_width": ""
          }
        },
        "bb90fdabcbd742a19600fd6516334347": {
          "model_module": "@jupyter-widgets/base",
          "model_name": "LayoutModel",
          "model_module_version": "1.2.0",
          "state": {
            "_model_module": "@jupyter-widgets/base",
            "_model_module_version": "1.2.0",
            "_model_name": "LayoutModel",
            "_view_count": null,
            "_view_module": "@jupyter-widgets/base",
            "_view_module_version": "1.2.0",
            "_view_name": "LayoutView",
            "align_content": null,
            "align_items": null,
            "align_self": null,
            "border": null,
            "bottom": null,
            "display": null,
            "flex": null,
            "flex_flow": null,
            "grid_area": null,
            "grid_auto_columns": null,
            "grid_auto_flow": null,
            "grid_auto_rows": null,
            "grid_column": null,
            "grid_gap": null,
            "grid_row": null,
            "grid_template_areas": null,
            "grid_template_columns": null,
            "grid_template_rows": null,
            "height": null,
            "justify_content": null,
            "justify_items": null,
            "left": null,
            "margin": null,
            "max_height": null,
            "max_width": null,
            "min_height": null,
            "min_width": null,
            "object_fit": null,
            "object_position": null,
            "order": null,
            "overflow": null,
            "overflow_x": null,
            "overflow_y": null,
            "padding": null,
            "right": null,
            "top": null,
            "visibility": null,
            "width": null
          }
        },
        "fbf2e7f9364e4bd9b72191ce3605b947": {
          "model_module": "@jupyter-widgets/controls",
          "model_name": "DescriptionStyleModel",
          "model_module_version": "1.5.0",
          "state": {
            "_model_module": "@jupyter-widgets/controls",
            "_model_module_version": "1.5.0",
            "_model_name": "DescriptionStyleModel",
            "_view_count": null,
            "_view_module": "@jupyter-widgets/base",
            "_view_module_version": "1.2.0",
            "_view_name": "StyleView",
            "description_width": ""
          }
        },
        "77c1f1b1f3a4441db19699dd223e118d": {
          "model_module": "@jupyter-widgets/controls",
          "model_name": "HBoxModel",
          "model_module_version": "1.5.0",
          "state": {
            "_dom_classes": [],
            "_model_module": "@jupyter-widgets/controls",
            "_model_module_version": "1.5.0",
            "_model_name": "HBoxModel",
            "_view_count": null,
            "_view_module": "@jupyter-widgets/controls",
            "_view_module_version": "1.5.0",
            "_view_name": "HBoxView",
            "box_style": "",
            "children": [
              "IPY_MODEL_0a090ceb7eb547e4b64afdc6bc09d09f",
              "IPY_MODEL_ab90ab43f5f2455dba3f0261c5bce98d",
              "IPY_MODEL_94b4f531b491485cb79b91b5cfc491a9"
            ],
            "layout": "IPY_MODEL_88f3f9ab70144529aceb80d85def0ec3"
          }
        },
        "0a090ceb7eb547e4b64afdc6bc09d09f": {
          "model_module": "@jupyter-widgets/controls",
          "model_name": "HTMLModel",
          "model_module_version": "1.5.0",
          "state": {
            "_dom_classes": [],
            "_model_module": "@jupyter-widgets/controls",
            "_model_module_version": "1.5.0",
            "_model_name": "HTMLModel",
            "_view_count": null,
            "_view_module": "@jupyter-widgets/controls",
            "_view_module_version": "1.5.0",
            "_view_name": "HTMLView",
            "description": "",
            "description_tooltip": null,
            "layout": "IPY_MODEL_907d29acfb14422884499897928696f6",
            "placeholder": "​",
            "style": "IPY_MODEL_486fa611489a4d93a65998f3f7dabcd3",
            "value": "pytorch_model.bin: 100%"
          }
        },
        "ab90ab43f5f2455dba3f0261c5bce98d": {
          "model_module": "@jupyter-widgets/controls",
          "model_name": "FloatProgressModel",
          "model_module_version": "1.5.0",
          "state": {
            "_dom_classes": [],
            "_model_module": "@jupyter-widgets/controls",
            "_model_module_version": "1.5.0",
            "_model_name": "FloatProgressModel",
            "_view_count": null,
            "_view_module": "@jupyter-widgets/controls",
            "_view_module_version": "1.5.0",
            "_view_name": "ProgressView",
            "bar_style": "success",
            "description": "",
            "description_tooltip": null,
            "layout": "IPY_MODEL_229bb768555341049d15099471df8b22",
            "max": 437992753,
            "min": 0,
            "orientation": "horizontal",
            "style": "IPY_MODEL_ddbea0f107cc4fed9fce26c0d292783d",
            "value": 437992753
          }
        },
        "94b4f531b491485cb79b91b5cfc491a9": {
          "model_module": "@jupyter-widgets/controls",
          "model_name": "HTMLModel",
          "model_module_version": "1.5.0",
          "state": {
            "_dom_classes": [],
            "_model_module": "@jupyter-widgets/controls",
            "_model_module_version": "1.5.0",
            "_model_name": "HTMLModel",
            "_view_count": null,
            "_view_module": "@jupyter-widgets/controls",
            "_view_module_version": "1.5.0",
            "_view_name": "HTMLView",
            "description": "",
            "description_tooltip": null,
            "layout": "IPY_MODEL_941c66184f7247bc87bdadad0a289389",
            "placeholder": "​",
            "style": "IPY_MODEL_6ae09e5ea6594c33a269ff9b2e165051",
            "value": " 438M/438M [00:01&lt;00:00, 358MB/s]"
          }
        },
        "88f3f9ab70144529aceb80d85def0ec3": {
          "model_module": "@jupyter-widgets/base",
          "model_name": "LayoutModel",
          "model_module_version": "1.2.0",
          "state": {
            "_model_module": "@jupyter-widgets/base",
            "_model_module_version": "1.2.0",
            "_model_name": "LayoutModel",
            "_view_count": null,
            "_view_module": "@jupyter-widgets/base",
            "_view_module_version": "1.2.0",
            "_view_name": "LayoutView",
            "align_content": null,
            "align_items": null,
            "align_self": null,
            "border": null,
            "bottom": null,
            "display": null,
            "flex": null,
            "flex_flow": null,
            "grid_area": null,
            "grid_auto_columns": null,
            "grid_auto_flow": null,
            "grid_auto_rows": null,
            "grid_column": null,
            "grid_gap": null,
            "grid_row": null,
            "grid_template_areas": null,
            "grid_template_columns": null,
            "grid_template_rows": null,
            "height": null,
            "justify_content": null,
            "justify_items": null,
            "left": null,
            "margin": null,
            "max_height": null,
            "max_width": null,
            "min_height": null,
            "min_width": null,
            "object_fit": null,
            "object_position": null,
            "order": null,
            "overflow": null,
            "overflow_x": null,
            "overflow_y": null,
            "padding": null,
            "right": null,
            "top": null,
            "visibility": null,
            "width": null
          }
        },
        "907d29acfb14422884499897928696f6": {
          "model_module": "@jupyter-widgets/base",
          "model_name": "LayoutModel",
          "model_module_version": "1.2.0",
          "state": {
            "_model_module": "@jupyter-widgets/base",
            "_model_module_version": "1.2.0",
            "_model_name": "LayoutModel",
            "_view_count": null,
            "_view_module": "@jupyter-widgets/base",
            "_view_module_version": "1.2.0",
            "_view_name": "LayoutView",
            "align_content": null,
            "align_items": null,
            "align_self": null,
            "border": null,
            "bottom": null,
            "display": null,
            "flex": null,
            "flex_flow": null,
            "grid_area": null,
            "grid_auto_columns": null,
            "grid_auto_flow": null,
            "grid_auto_rows": null,
            "grid_column": null,
            "grid_gap": null,
            "grid_row": null,
            "grid_template_areas": null,
            "grid_template_columns": null,
            "grid_template_rows": null,
            "height": null,
            "justify_content": null,
            "justify_items": null,
            "left": null,
            "margin": null,
            "max_height": null,
            "max_width": null,
            "min_height": null,
            "min_width": null,
            "object_fit": null,
            "object_position": null,
            "order": null,
            "overflow": null,
            "overflow_x": null,
            "overflow_y": null,
            "padding": null,
            "right": null,
            "top": null,
            "visibility": null,
            "width": null
          }
        },
        "486fa611489a4d93a65998f3f7dabcd3": {
          "model_module": "@jupyter-widgets/controls",
          "model_name": "DescriptionStyleModel",
          "model_module_version": "1.5.0",
          "state": {
            "_model_module": "@jupyter-widgets/controls",
            "_model_module_version": "1.5.0",
            "_model_name": "DescriptionStyleModel",
            "_view_count": null,
            "_view_module": "@jupyter-widgets/base",
            "_view_module_version": "1.2.0",
            "_view_name": "StyleView",
            "description_width": ""
          }
        },
        "229bb768555341049d15099471df8b22": {
          "model_module": "@jupyter-widgets/base",
          "model_name": "LayoutModel",
          "model_module_version": "1.2.0",
          "state": {
            "_model_module": "@jupyter-widgets/base",
            "_model_module_version": "1.2.0",
            "_model_name": "LayoutModel",
            "_view_count": null,
            "_view_module": "@jupyter-widgets/base",
            "_view_module_version": "1.2.0",
            "_view_name": "LayoutView",
            "align_content": null,
            "align_items": null,
            "align_self": null,
            "border": null,
            "bottom": null,
            "display": null,
            "flex": null,
            "flex_flow": null,
            "grid_area": null,
            "grid_auto_columns": null,
            "grid_auto_flow": null,
            "grid_auto_rows": null,
            "grid_column": null,
            "grid_gap": null,
            "grid_row": null,
            "grid_template_areas": null,
            "grid_template_columns": null,
            "grid_template_rows": null,
            "height": null,
            "justify_content": null,
            "justify_items": null,
            "left": null,
            "margin": null,
            "max_height": null,
            "max_width": null,
            "min_height": null,
            "min_width": null,
            "object_fit": null,
            "object_position": null,
            "order": null,
            "overflow": null,
            "overflow_x": null,
            "overflow_y": null,
            "padding": null,
            "right": null,
            "top": null,
            "visibility": null,
            "width": null
          }
        },
        "ddbea0f107cc4fed9fce26c0d292783d": {
          "model_module": "@jupyter-widgets/controls",
          "model_name": "ProgressStyleModel",
          "model_module_version": "1.5.0",
          "state": {
            "_model_module": "@jupyter-widgets/controls",
            "_model_module_version": "1.5.0",
            "_model_name": "ProgressStyleModel",
            "_view_count": null,
            "_view_module": "@jupyter-widgets/base",
            "_view_module_version": "1.2.0",
            "_view_name": "StyleView",
            "bar_color": null,
            "description_width": ""
          }
        },
        "941c66184f7247bc87bdadad0a289389": {
          "model_module": "@jupyter-widgets/base",
          "model_name": "LayoutModel",
          "model_module_version": "1.2.0",
          "state": {
            "_model_module": "@jupyter-widgets/base",
            "_model_module_version": "1.2.0",
            "_model_name": "LayoutModel",
            "_view_count": null,
            "_view_module": "@jupyter-widgets/base",
            "_view_module_version": "1.2.0",
            "_view_name": "LayoutView",
            "align_content": null,
            "align_items": null,
            "align_self": null,
            "border": null,
            "bottom": null,
            "display": null,
            "flex": null,
            "flex_flow": null,
            "grid_area": null,
            "grid_auto_columns": null,
            "grid_auto_flow": null,
            "grid_auto_rows": null,
            "grid_column": null,
            "grid_gap": null,
            "grid_row": null,
            "grid_template_areas": null,
            "grid_template_columns": null,
            "grid_template_rows": null,
            "height": null,
            "justify_content": null,
            "justify_items": null,
            "left": null,
            "margin": null,
            "max_height": null,
            "max_width": null,
            "min_height": null,
            "min_width": null,
            "object_fit": null,
            "object_position": null,
            "order": null,
            "overflow": null,
            "overflow_x": null,
            "overflow_y": null,
            "padding": null,
            "right": null,
            "top": null,
            "visibility": null,
            "width": null
          }
        },
        "6ae09e5ea6594c33a269ff9b2e165051": {
          "model_module": "@jupyter-widgets/controls",
          "model_name": "DescriptionStyleModel",
          "model_module_version": "1.5.0",
          "state": {
            "_model_module": "@jupyter-widgets/controls",
            "_model_module_version": "1.5.0",
            "_model_name": "DescriptionStyleModel",
            "_view_count": null,
            "_view_module": "@jupyter-widgets/base",
            "_view_module_version": "1.2.0",
            "_view_name": "StyleView",
            "description_width": ""
          }
        },
        "0e72ad6b59634826af9594e57312393f": {
          "model_module": "@jupyter-widgets/controls",
          "model_name": "HBoxModel",
          "model_module_version": "1.5.0",
          "state": {
            "_dom_classes": [],
            "_model_module": "@jupyter-widgets/controls",
            "_model_module_version": "1.5.0",
            "_model_name": "HBoxModel",
            "_view_count": null,
            "_view_module": "@jupyter-widgets/controls",
            "_view_module_version": "1.5.0",
            "_view_name": "HBoxView",
            "box_style": "",
            "children": [
              "IPY_MODEL_ddf8e9ce9dbc4fbbba5f53b170ff6568",
              "IPY_MODEL_837f0458ede34131b303b771c0f279ea",
              "IPY_MODEL_d5fd40c76da54153acdd6adf50e8c44a"
            ],
            "layout": "IPY_MODEL_63cbc5207aac42d48fcdb1ec44655e33"
          }
        },
        "ddf8e9ce9dbc4fbbba5f53b170ff6568": {
          "model_module": "@jupyter-widgets/controls",
          "model_name": "HTMLModel",
          "model_module_version": "1.5.0",
          "state": {
            "_dom_classes": [],
            "_model_module": "@jupyter-widgets/controls",
            "_model_module_version": "1.5.0",
            "_model_name": "HTMLModel",
            "_view_count": null,
            "_view_module": "@jupyter-widgets/controls",
            "_view_module_version": "1.5.0",
            "_view_name": "HTMLView",
            "description": "",
            "description_tooltip": null,
            "layout": "IPY_MODEL_b4f529d7903644d5bfef79205987349b",
            "placeholder": "​",
            "style": "IPY_MODEL_dbb83a67c65f4770996f3c75390a83d0",
            "value": "tokenizer_config.json: 100%"
          }
        },
        "837f0458ede34131b303b771c0f279ea": {
          "model_module": "@jupyter-widgets/controls",
          "model_name": "FloatProgressModel",
          "model_module_version": "1.5.0",
          "state": {
            "_dom_classes": [],
            "_model_module": "@jupyter-widgets/controls",
            "_model_module_version": "1.5.0",
            "_model_name": "FloatProgressModel",
            "_view_count": null,
            "_view_module": "@jupyter-widgets/controls",
            "_view_module_version": "1.5.0",
            "_view_name": "ProgressView",
            "bar_style": "success",
            "description": "",
            "description_tooltip": null,
            "layout": "IPY_MODEL_7f37a1d8db194b1586bb056a4ec01506",
            "max": 252,
            "min": 0,
            "orientation": "horizontal",
            "style": "IPY_MODEL_2de9a992700747849a0cd3d660c646db",
            "value": 252
          }
        },
        "d5fd40c76da54153acdd6adf50e8c44a": {
          "model_module": "@jupyter-widgets/controls",
          "model_name": "HTMLModel",
          "model_module_version": "1.5.0",
          "state": {
            "_dom_classes": [],
            "_model_module": "@jupyter-widgets/controls",
            "_model_module_version": "1.5.0",
            "_model_name": "HTMLModel",
            "_view_count": null,
            "_view_module": "@jupyter-widgets/controls",
            "_view_module_version": "1.5.0",
            "_view_name": "HTMLView",
            "description": "",
            "description_tooltip": null,
            "layout": "IPY_MODEL_8cf660182329474a9b27d66382a5d149",
            "placeholder": "​",
            "style": "IPY_MODEL_7e69991a89d940b6b38bfde260b9b1ca",
            "value": " 252/252 [00:00&lt;00:00, 31.4kB/s]"
          }
        },
        "63cbc5207aac42d48fcdb1ec44655e33": {
          "model_module": "@jupyter-widgets/base",
          "model_name": "LayoutModel",
          "model_module_version": "1.2.0",
          "state": {
            "_model_module": "@jupyter-widgets/base",
            "_model_module_version": "1.2.0",
            "_model_name": "LayoutModel",
            "_view_count": null,
            "_view_module": "@jupyter-widgets/base",
            "_view_module_version": "1.2.0",
            "_view_name": "LayoutView",
            "align_content": null,
            "align_items": null,
            "align_self": null,
            "border": null,
            "bottom": null,
            "display": null,
            "flex": null,
            "flex_flow": null,
            "grid_area": null,
            "grid_auto_columns": null,
            "grid_auto_flow": null,
            "grid_auto_rows": null,
            "grid_column": null,
            "grid_gap": null,
            "grid_row": null,
            "grid_template_areas": null,
            "grid_template_columns": null,
            "grid_template_rows": null,
            "height": null,
            "justify_content": null,
            "justify_items": null,
            "left": null,
            "margin": null,
            "max_height": null,
            "max_width": null,
            "min_height": null,
            "min_width": null,
            "object_fit": null,
            "object_position": null,
            "order": null,
            "overflow": null,
            "overflow_x": null,
            "overflow_y": null,
            "padding": null,
            "right": null,
            "top": null,
            "visibility": null,
            "width": null
          }
        },
        "b4f529d7903644d5bfef79205987349b": {
          "model_module": "@jupyter-widgets/base",
          "model_name": "LayoutModel",
          "model_module_version": "1.2.0",
          "state": {
            "_model_module": "@jupyter-widgets/base",
            "_model_module_version": "1.2.0",
            "_model_name": "LayoutModel",
            "_view_count": null,
            "_view_module": "@jupyter-widgets/base",
            "_view_module_version": "1.2.0",
            "_view_name": "LayoutView",
            "align_content": null,
            "align_items": null,
            "align_self": null,
            "border": null,
            "bottom": null,
            "display": null,
            "flex": null,
            "flex_flow": null,
            "grid_area": null,
            "grid_auto_columns": null,
            "grid_auto_flow": null,
            "grid_auto_rows": null,
            "grid_column": null,
            "grid_gap": null,
            "grid_row": null,
            "grid_template_areas": null,
            "grid_template_columns": null,
            "grid_template_rows": null,
            "height": null,
            "justify_content": null,
            "justify_items": null,
            "left": null,
            "margin": null,
            "max_height": null,
            "max_width": null,
            "min_height": null,
            "min_width": null,
            "object_fit": null,
            "object_position": null,
            "order": null,
            "overflow": null,
            "overflow_x": null,
            "overflow_y": null,
            "padding": null,
            "right": null,
            "top": null,
            "visibility": null,
            "width": null
          }
        },
        "dbb83a67c65f4770996f3c75390a83d0": {
          "model_module": "@jupyter-widgets/controls",
          "model_name": "DescriptionStyleModel",
          "model_module_version": "1.5.0",
          "state": {
            "_model_module": "@jupyter-widgets/controls",
            "_model_module_version": "1.5.0",
            "_model_name": "DescriptionStyleModel",
            "_view_count": null,
            "_view_module": "@jupyter-widgets/base",
            "_view_module_version": "1.2.0",
            "_view_name": "StyleView",
            "description_width": ""
          }
        },
        "7f37a1d8db194b1586bb056a4ec01506": {
          "model_module": "@jupyter-widgets/base",
          "model_name": "LayoutModel",
          "model_module_version": "1.2.0",
          "state": {
            "_model_module": "@jupyter-widgets/base",
            "_model_module_version": "1.2.0",
            "_model_name": "LayoutModel",
            "_view_count": null,
            "_view_module": "@jupyter-widgets/base",
            "_view_module_version": "1.2.0",
            "_view_name": "LayoutView",
            "align_content": null,
            "align_items": null,
            "align_self": null,
            "border": null,
            "bottom": null,
            "display": null,
            "flex": null,
            "flex_flow": null,
            "grid_area": null,
            "grid_auto_columns": null,
            "grid_auto_flow": null,
            "grid_auto_rows": null,
            "grid_column": null,
            "grid_gap": null,
            "grid_row": null,
            "grid_template_areas": null,
            "grid_template_columns": null,
            "grid_template_rows": null,
            "height": null,
            "justify_content": null,
            "justify_items": null,
            "left": null,
            "margin": null,
            "max_height": null,
            "max_width": null,
            "min_height": null,
            "min_width": null,
            "object_fit": null,
            "object_position": null,
            "order": null,
            "overflow": null,
            "overflow_x": null,
            "overflow_y": null,
            "padding": null,
            "right": null,
            "top": null,
            "visibility": null,
            "width": null
          }
        },
        "2de9a992700747849a0cd3d660c646db": {
          "model_module": "@jupyter-widgets/controls",
          "model_name": "ProgressStyleModel",
          "model_module_version": "1.5.0",
          "state": {
            "_model_module": "@jupyter-widgets/controls",
            "_model_module_version": "1.5.0",
            "_model_name": "ProgressStyleModel",
            "_view_count": null,
            "_view_module": "@jupyter-widgets/base",
            "_view_module_version": "1.2.0",
            "_view_name": "StyleView",
            "bar_color": null,
            "description_width": ""
          }
        },
        "8cf660182329474a9b27d66382a5d149": {
          "model_module": "@jupyter-widgets/base",
          "model_name": "LayoutModel",
          "model_module_version": "1.2.0",
          "state": {
            "_model_module": "@jupyter-widgets/base",
            "_model_module_version": "1.2.0",
            "_model_name": "LayoutModel",
            "_view_count": null,
            "_view_module": "@jupyter-widgets/base",
            "_view_module_version": "1.2.0",
            "_view_name": "LayoutView",
            "align_content": null,
            "align_items": null,
            "align_self": null,
            "border": null,
            "bottom": null,
            "display": null,
            "flex": null,
            "flex_flow": null,
            "grid_area": null,
            "grid_auto_columns": null,
            "grid_auto_flow": null,
            "grid_auto_rows": null,
            "grid_column": null,
            "grid_gap": null,
            "grid_row": null,
            "grid_template_areas": null,
            "grid_template_columns": null,
            "grid_template_rows": null,
            "height": null,
            "justify_content": null,
            "justify_items": null,
            "left": null,
            "margin": null,
            "max_height": null,
            "max_width": null,
            "min_height": null,
            "min_width": null,
            "object_fit": null,
            "object_position": null,
            "order": null,
            "overflow": null,
            "overflow_x": null,
            "overflow_y": null,
            "padding": null,
            "right": null,
            "top": null,
            "visibility": null,
            "width": null
          }
        },
        "7e69991a89d940b6b38bfde260b9b1ca": {
          "model_module": "@jupyter-widgets/controls",
          "model_name": "DescriptionStyleModel",
          "model_module_version": "1.5.0",
          "state": {
            "_model_module": "@jupyter-widgets/controls",
            "_model_module_version": "1.5.0",
            "_model_name": "DescriptionStyleModel",
            "_view_count": null,
            "_view_module": "@jupyter-widgets/base",
            "_view_module_version": "1.2.0",
            "_view_name": "StyleView",
            "description_width": ""
          }
        },
        "1ee47ac2dc2143829f05f0e47cfb14d5": {
          "model_module": "@jupyter-widgets/controls",
          "model_name": "HBoxModel",
          "model_module_version": "1.5.0",
          "state": {
            "_dom_classes": [],
            "_model_module": "@jupyter-widgets/controls",
            "_model_module_version": "1.5.0",
            "_model_name": "HBoxModel",
            "_view_count": null,
            "_view_module": "@jupyter-widgets/controls",
            "_view_module_version": "1.5.0",
            "_view_name": "HBoxView",
            "box_style": "",
            "children": [
              "IPY_MODEL_a2359dab676c4e3d9defcb14d8932d29",
              "IPY_MODEL_0e7dbf3cdfb44ca7a996a23a11ba041e",
              "IPY_MODEL_67872069f10b4647b14064ece8c238de"
            ],
            "layout": "IPY_MODEL_c1de3c482e8345528eaab3de1e5c9536"
          }
        },
        "a2359dab676c4e3d9defcb14d8932d29": {
          "model_module": "@jupyter-widgets/controls",
          "model_name": "HTMLModel",
          "model_module_version": "1.5.0",
          "state": {
            "_dom_classes": [],
            "_model_module": "@jupyter-widgets/controls",
            "_model_module_version": "1.5.0",
            "_model_name": "HTMLModel",
            "_view_count": null,
            "_view_module": "@jupyter-widgets/controls",
            "_view_module_version": "1.5.0",
            "_view_name": "HTMLView",
            "description": "",
            "description_tooltip": null,
            "layout": "IPY_MODEL_d99ecbaf425f443a997108faf026d163",
            "placeholder": "​",
            "style": "IPY_MODEL_c76d027bac7f49fe9768c27d14262a56",
            "value": "vocab.txt: 100%"
          }
        },
        "0e7dbf3cdfb44ca7a996a23a11ba041e": {
          "model_module": "@jupyter-widgets/controls",
          "model_name": "FloatProgressModel",
          "model_module_version": "1.5.0",
          "state": {
            "_dom_classes": [],
            "_model_module": "@jupyter-widgets/controls",
            "_model_module_version": "1.5.0",
            "_model_name": "FloatProgressModel",
            "_view_count": null,
            "_view_module": "@jupyter-widgets/controls",
            "_view_module_version": "1.5.0",
            "_view_name": "ProgressView",
            "bar_style": "success",
            "description": "",
            "description_tooltip": null,
            "layout": "IPY_MODEL_276e0e76e5f042a6871e1b6979527f4c",
            "max": 231508,
            "min": 0,
            "orientation": "horizontal",
            "style": "IPY_MODEL_84a93168aa0843419437132d2141c3e7",
            "value": 231508
          }
        },
        "67872069f10b4647b14064ece8c238de": {
          "model_module": "@jupyter-widgets/controls",
          "model_name": "HTMLModel",
          "model_module_version": "1.5.0",
          "state": {
            "_dom_classes": [],
            "_model_module": "@jupyter-widgets/controls",
            "_model_module_version": "1.5.0",
            "_model_name": "HTMLModel",
            "_view_count": null,
            "_view_module": "@jupyter-widgets/controls",
            "_view_module_version": "1.5.0",
            "_view_name": "HTMLView",
            "description": "",
            "description_tooltip": null,
            "layout": "IPY_MODEL_c225585a2250442bb913d79eceb4ac19",
            "placeholder": "​",
            "style": "IPY_MODEL_cec0dee924864956936fec294d2a8c19",
            "value": " 232k/232k [00:00&lt;00:00, 14.0MB/s]"
          }
        },
        "c1de3c482e8345528eaab3de1e5c9536": {
          "model_module": "@jupyter-widgets/base",
          "model_name": "LayoutModel",
          "model_module_version": "1.2.0",
          "state": {
            "_model_module": "@jupyter-widgets/base",
            "_model_module_version": "1.2.0",
            "_model_name": "LayoutModel",
            "_view_count": null,
            "_view_module": "@jupyter-widgets/base",
            "_view_module_version": "1.2.0",
            "_view_name": "LayoutView",
            "align_content": null,
            "align_items": null,
            "align_self": null,
            "border": null,
            "bottom": null,
            "display": null,
            "flex": null,
            "flex_flow": null,
            "grid_area": null,
            "grid_auto_columns": null,
            "grid_auto_flow": null,
            "grid_auto_rows": null,
            "grid_column": null,
            "grid_gap": null,
            "grid_row": null,
            "grid_template_areas": null,
            "grid_template_columns": null,
            "grid_template_rows": null,
            "height": null,
            "justify_content": null,
            "justify_items": null,
            "left": null,
            "margin": null,
            "max_height": null,
            "max_width": null,
            "min_height": null,
            "min_width": null,
            "object_fit": null,
            "object_position": null,
            "order": null,
            "overflow": null,
            "overflow_x": null,
            "overflow_y": null,
            "padding": null,
            "right": null,
            "top": null,
            "visibility": null,
            "width": null
          }
        },
        "d99ecbaf425f443a997108faf026d163": {
          "model_module": "@jupyter-widgets/base",
          "model_name": "LayoutModel",
          "model_module_version": "1.2.0",
          "state": {
            "_model_module": "@jupyter-widgets/base",
            "_model_module_version": "1.2.0",
            "_model_name": "LayoutModel",
            "_view_count": null,
            "_view_module": "@jupyter-widgets/base",
            "_view_module_version": "1.2.0",
            "_view_name": "LayoutView",
            "align_content": null,
            "align_items": null,
            "align_self": null,
            "border": null,
            "bottom": null,
            "display": null,
            "flex": null,
            "flex_flow": null,
            "grid_area": null,
            "grid_auto_columns": null,
            "grid_auto_flow": null,
            "grid_auto_rows": null,
            "grid_column": null,
            "grid_gap": null,
            "grid_row": null,
            "grid_template_areas": null,
            "grid_template_columns": null,
            "grid_template_rows": null,
            "height": null,
            "justify_content": null,
            "justify_items": null,
            "left": null,
            "margin": null,
            "max_height": null,
            "max_width": null,
            "min_height": null,
            "min_width": null,
            "object_fit": null,
            "object_position": null,
            "order": null,
            "overflow": null,
            "overflow_x": null,
            "overflow_y": null,
            "padding": null,
            "right": null,
            "top": null,
            "visibility": null,
            "width": null
          }
        },
        "c76d027bac7f49fe9768c27d14262a56": {
          "model_module": "@jupyter-widgets/controls",
          "model_name": "DescriptionStyleModel",
          "model_module_version": "1.5.0",
          "state": {
            "_model_module": "@jupyter-widgets/controls",
            "_model_module_version": "1.5.0",
            "_model_name": "DescriptionStyleModel",
            "_view_count": null,
            "_view_module": "@jupyter-widgets/base",
            "_view_module_version": "1.2.0",
            "_view_name": "StyleView",
            "description_width": ""
          }
        },
        "276e0e76e5f042a6871e1b6979527f4c": {
          "model_module": "@jupyter-widgets/base",
          "model_name": "LayoutModel",
          "model_module_version": "1.2.0",
          "state": {
            "_model_module": "@jupyter-widgets/base",
            "_model_module_version": "1.2.0",
            "_model_name": "LayoutModel",
            "_view_count": null,
            "_view_module": "@jupyter-widgets/base",
            "_view_module_version": "1.2.0",
            "_view_name": "LayoutView",
            "align_content": null,
            "align_items": null,
            "align_self": null,
            "border": null,
            "bottom": null,
            "display": null,
            "flex": null,
            "flex_flow": null,
            "grid_area": null,
            "grid_auto_columns": null,
            "grid_auto_flow": null,
            "grid_auto_rows": null,
            "grid_column": null,
            "grid_gap": null,
            "grid_row": null,
            "grid_template_areas": null,
            "grid_template_columns": null,
            "grid_template_rows": null,
            "height": null,
            "justify_content": null,
            "justify_items": null,
            "left": null,
            "margin": null,
            "max_height": null,
            "max_width": null,
            "min_height": null,
            "min_width": null,
            "object_fit": null,
            "object_position": null,
            "order": null,
            "overflow": null,
            "overflow_x": null,
            "overflow_y": null,
            "padding": null,
            "right": null,
            "top": null,
            "visibility": null,
            "width": null
          }
        },
        "84a93168aa0843419437132d2141c3e7": {
          "model_module": "@jupyter-widgets/controls",
          "model_name": "ProgressStyleModel",
          "model_module_version": "1.5.0",
          "state": {
            "_model_module": "@jupyter-widgets/controls",
            "_model_module_version": "1.5.0",
            "_model_name": "ProgressStyleModel",
            "_view_count": null,
            "_view_module": "@jupyter-widgets/base",
            "_view_module_version": "1.2.0",
            "_view_name": "StyleView",
            "bar_color": null,
            "description_width": ""
          }
        },
        "c225585a2250442bb913d79eceb4ac19": {
          "model_module": "@jupyter-widgets/base",
          "model_name": "LayoutModel",
          "model_module_version": "1.2.0",
          "state": {
            "_model_module": "@jupyter-widgets/base",
            "_model_module_version": "1.2.0",
            "_model_name": "LayoutModel",
            "_view_count": null,
            "_view_module": "@jupyter-widgets/base",
            "_view_module_version": "1.2.0",
            "_view_name": "LayoutView",
            "align_content": null,
            "align_items": null,
            "align_self": null,
            "border": null,
            "bottom": null,
            "display": null,
            "flex": null,
            "flex_flow": null,
            "grid_area": null,
            "grid_auto_columns": null,
            "grid_auto_flow": null,
            "grid_auto_rows": null,
            "grid_column": null,
            "grid_gap": null,
            "grid_row": null,
            "grid_template_areas": null,
            "grid_template_columns": null,
            "grid_template_rows": null,
            "height": null,
            "justify_content": null,
            "justify_items": null,
            "left": null,
            "margin": null,
            "max_height": null,
            "max_width": null,
            "min_height": null,
            "min_width": null,
            "object_fit": null,
            "object_position": null,
            "order": null,
            "overflow": null,
            "overflow_x": null,
            "overflow_y": null,
            "padding": null,
            "right": null,
            "top": null,
            "visibility": null,
            "width": null
          }
        },
        "cec0dee924864956936fec294d2a8c19": {
          "model_module": "@jupyter-widgets/controls",
          "model_name": "DescriptionStyleModel",
          "model_module_version": "1.5.0",
          "state": {
            "_model_module": "@jupyter-widgets/controls",
            "_model_module_version": "1.5.0",
            "_model_name": "DescriptionStyleModel",
            "_view_count": null,
            "_view_module": "@jupyter-widgets/base",
            "_view_module_version": "1.2.0",
            "_view_name": "StyleView",
            "description_width": ""
          }
        },
        "7f330f18b1014e2d89cfaa9c2df44590": {
          "model_module": "@jupyter-widgets/controls",
          "model_name": "HBoxModel",
          "model_module_version": "1.5.0",
          "state": {
            "_dom_classes": [],
            "_model_module": "@jupyter-widgets/controls",
            "_model_module_version": "1.5.0",
            "_model_name": "HBoxModel",
            "_view_count": null,
            "_view_module": "@jupyter-widgets/controls",
            "_view_module_version": "1.5.0",
            "_view_name": "HBoxView",
            "box_style": "",
            "children": [
              "IPY_MODEL_e4bb62004b6048429d7f64742050efc3",
              "IPY_MODEL_d8e8f9f5a26849c09e99076fd115541a",
              "IPY_MODEL_355a287a84c3467a9b209b72e3882a08"
            ],
            "layout": "IPY_MODEL_957af282086341acbf96513a2dc1efcd"
          }
        },
        "e4bb62004b6048429d7f64742050efc3": {
          "model_module": "@jupyter-widgets/controls",
          "model_name": "HTMLModel",
          "model_module_version": "1.5.0",
          "state": {
            "_dom_classes": [],
            "_model_module": "@jupyter-widgets/controls",
            "_model_module_version": "1.5.0",
            "_model_name": "HTMLModel",
            "_view_count": null,
            "_view_module": "@jupyter-widgets/controls",
            "_view_module_version": "1.5.0",
            "_view_name": "HTMLView",
            "description": "",
            "description_tooltip": null,
            "layout": "IPY_MODEL_87a3cea216de4739918d8257e729e1b3",
            "placeholder": "​",
            "style": "IPY_MODEL_81df776eabb94776a65be62e8cc1abdb",
            "value": "model.safetensors: 100%"
          }
        },
        "d8e8f9f5a26849c09e99076fd115541a": {
          "model_module": "@jupyter-widgets/controls",
          "model_name": "FloatProgressModel",
          "model_module_version": "1.5.0",
          "state": {
            "_dom_classes": [],
            "_model_module": "@jupyter-widgets/controls",
            "_model_module_version": "1.5.0",
            "_model_name": "FloatProgressModel",
            "_view_count": null,
            "_view_module": "@jupyter-widgets/controls",
            "_view_module_version": "1.5.0",
            "_view_name": "ProgressView",
            "bar_style": "success",
            "description": "",
            "description_tooltip": null,
            "layout": "IPY_MODEL_5ad7e79adb3f46cfb63d56049c29323b",
            "max": 437965908,
            "min": 0,
            "orientation": "horizontal",
            "style": "IPY_MODEL_91fdbcd963594b2d809a9f557ea5f056",
            "value": 437965908
          }
        },
        "355a287a84c3467a9b209b72e3882a08": {
          "model_module": "@jupyter-widgets/controls",
          "model_name": "HTMLModel",
          "model_module_version": "1.5.0",
          "state": {
            "_dom_classes": [],
            "_model_module": "@jupyter-widgets/controls",
            "_model_module_version": "1.5.0",
            "_model_name": "HTMLModel",
            "_view_count": null,
            "_view_module": "@jupyter-widgets/controls",
            "_view_module_version": "1.5.0",
            "_view_name": "HTMLView",
            "description": "",
            "description_tooltip": null,
            "layout": "IPY_MODEL_35264aa51f774ec8bd2992a9386c6a69",
            "placeholder": "​",
            "style": "IPY_MODEL_a5e8ce7837dc414e8c768b7d7e6c462d",
            "value": " 438M/438M [00:01&lt;00:00, 235MB/s]"
          }
        },
        "957af282086341acbf96513a2dc1efcd": {
          "model_module": "@jupyter-widgets/base",
          "model_name": "LayoutModel",
          "model_module_version": "1.2.0",
          "state": {
            "_model_module": "@jupyter-widgets/base",
            "_model_module_version": "1.2.0",
            "_model_name": "LayoutModel",
            "_view_count": null,
            "_view_module": "@jupyter-widgets/base",
            "_view_module_version": "1.2.0",
            "_view_name": "LayoutView",
            "align_content": null,
            "align_items": null,
            "align_self": null,
            "border": null,
            "bottom": null,
            "display": null,
            "flex": null,
            "flex_flow": null,
            "grid_area": null,
            "grid_auto_columns": null,
            "grid_auto_flow": null,
            "grid_auto_rows": null,
            "grid_column": null,
            "grid_gap": null,
            "grid_row": null,
            "grid_template_areas": null,
            "grid_template_columns": null,
            "grid_template_rows": null,
            "height": null,
            "justify_content": null,
            "justify_items": null,
            "left": null,
            "margin": null,
            "max_height": null,
            "max_width": null,
            "min_height": null,
            "min_width": null,
            "object_fit": null,
            "object_position": null,
            "order": null,
            "overflow": null,
            "overflow_x": null,
            "overflow_y": null,
            "padding": null,
            "right": null,
            "top": null,
            "visibility": null,
            "width": null
          }
        },
        "87a3cea216de4739918d8257e729e1b3": {
          "model_module": "@jupyter-widgets/base",
          "model_name": "LayoutModel",
          "model_module_version": "1.2.0",
          "state": {
            "_model_module": "@jupyter-widgets/base",
            "_model_module_version": "1.2.0",
            "_model_name": "LayoutModel",
            "_view_count": null,
            "_view_module": "@jupyter-widgets/base",
            "_view_module_version": "1.2.0",
            "_view_name": "LayoutView",
            "align_content": null,
            "align_items": null,
            "align_self": null,
            "border": null,
            "bottom": null,
            "display": null,
            "flex": null,
            "flex_flow": null,
            "grid_area": null,
            "grid_auto_columns": null,
            "grid_auto_flow": null,
            "grid_auto_rows": null,
            "grid_column": null,
            "grid_gap": null,
            "grid_row": null,
            "grid_template_areas": null,
            "grid_template_columns": null,
            "grid_template_rows": null,
            "height": null,
            "justify_content": null,
            "justify_items": null,
            "left": null,
            "margin": null,
            "max_height": null,
            "max_width": null,
            "min_height": null,
            "min_width": null,
            "object_fit": null,
            "object_position": null,
            "order": null,
            "overflow": null,
            "overflow_x": null,
            "overflow_y": null,
            "padding": null,
            "right": null,
            "top": null,
            "visibility": null,
            "width": null
          }
        },
        "81df776eabb94776a65be62e8cc1abdb": {
          "model_module": "@jupyter-widgets/controls",
          "model_name": "DescriptionStyleModel",
          "model_module_version": "1.5.0",
          "state": {
            "_model_module": "@jupyter-widgets/controls",
            "_model_module_version": "1.5.0",
            "_model_name": "DescriptionStyleModel",
            "_view_count": null,
            "_view_module": "@jupyter-widgets/base",
            "_view_module_version": "1.2.0",
            "_view_name": "StyleView",
            "description_width": ""
          }
        },
        "5ad7e79adb3f46cfb63d56049c29323b": {
          "model_module": "@jupyter-widgets/base",
          "model_name": "LayoutModel",
          "model_module_version": "1.2.0",
          "state": {
            "_model_module": "@jupyter-widgets/base",
            "_model_module_version": "1.2.0",
            "_model_name": "LayoutModel",
            "_view_count": null,
            "_view_module": "@jupyter-widgets/base",
            "_view_module_version": "1.2.0",
            "_view_name": "LayoutView",
            "align_content": null,
            "align_items": null,
            "align_self": null,
            "border": null,
            "bottom": null,
            "display": null,
            "flex": null,
            "flex_flow": null,
            "grid_area": null,
            "grid_auto_columns": null,
            "grid_auto_flow": null,
            "grid_auto_rows": null,
            "grid_column": null,
            "grid_gap": null,
            "grid_row": null,
            "grid_template_areas": null,
            "grid_template_columns": null,
            "grid_template_rows": null,
            "height": null,
            "justify_content": null,
            "justify_items": null,
            "left": null,
            "margin": null,
            "max_height": null,
            "max_width": null,
            "min_height": null,
            "min_width": null,
            "object_fit": null,
            "object_position": null,
            "order": null,
            "overflow": null,
            "overflow_x": null,
            "overflow_y": null,
            "padding": null,
            "right": null,
            "top": null,
            "visibility": null,
            "width": null
          }
        },
        "91fdbcd963594b2d809a9f557ea5f056": {
          "model_module": "@jupyter-widgets/controls",
          "model_name": "ProgressStyleModel",
          "model_module_version": "1.5.0",
          "state": {
            "_model_module": "@jupyter-widgets/controls",
            "_model_module_version": "1.5.0",
            "_model_name": "ProgressStyleModel",
            "_view_count": null,
            "_view_module": "@jupyter-widgets/base",
            "_view_module_version": "1.2.0",
            "_view_name": "StyleView",
            "bar_color": null,
            "description_width": ""
          }
        },
        "35264aa51f774ec8bd2992a9386c6a69": {
          "model_module": "@jupyter-widgets/base",
          "model_name": "LayoutModel",
          "model_module_version": "1.2.0",
          "state": {
            "_model_module": "@jupyter-widgets/base",
            "_model_module_version": "1.2.0",
            "_model_name": "LayoutModel",
            "_view_count": null,
            "_view_module": "@jupyter-widgets/base",
            "_view_module_version": "1.2.0",
            "_view_name": "LayoutView",
            "align_content": null,
            "align_items": null,
            "align_self": null,
            "border": null,
            "bottom": null,
            "display": null,
            "flex": null,
            "flex_flow": null,
            "grid_area": null,
            "grid_auto_columns": null,
            "grid_auto_flow": null,
            "grid_auto_rows": null,
            "grid_column": null,
            "grid_gap": null,
            "grid_row": null,
            "grid_template_areas": null,
            "grid_template_columns": null,
            "grid_template_rows": null,
            "height": null,
            "justify_content": null,
            "justify_items": null,
            "left": null,
            "margin": null,
            "max_height": null,
            "max_width": null,
            "min_height": null,
            "min_width": null,
            "object_fit": null,
            "object_position": null,
            "order": null,
            "overflow": null,
            "overflow_x": null,
            "overflow_y": null,
            "padding": null,
            "right": null,
            "top": null,
            "visibility": null,
            "width": null
          }
        },
        "a5e8ce7837dc414e8c768b7d7e6c462d": {
          "model_module": "@jupyter-widgets/controls",
          "model_name": "DescriptionStyleModel",
          "model_module_version": "1.5.0",
          "state": {
            "_model_module": "@jupyter-widgets/controls",
            "_model_module_version": "1.5.0",
            "_model_name": "DescriptionStyleModel",
            "_view_count": null,
            "_view_module": "@jupyter-widgets/base",
            "_view_module_version": "1.2.0",
            "_view_name": "StyleView",
            "description_width": ""
          }
        },
        "882896aaec794beb87a090a20d742cd8": {
          "model_module": "@jupyter-widgets/controls",
          "model_name": "HBoxModel",
          "model_module_version": "1.5.0",
          "state": {
            "_dom_classes": [],
            "_model_module": "@jupyter-widgets/controls",
            "_model_module_version": "1.5.0",
            "_model_name": "HBoxModel",
            "_view_count": null,
            "_view_module": "@jupyter-widgets/controls",
            "_view_module_version": "1.5.0",
            "_view_name": "HBoxView",
            "box_style": "",
            "children": [
              "IPY_MODEL_24c1407929944a08b7326e29d08da0c9",
              "IPY_MODEL_83639a60619f47bc8edccca611715584",
              "IPY_MODEL_adc211038a904d019a0cc6b59df4ee65"
            ],
            "layout": "IPY_MODEL_1c251f051a9c4ba685509575d525e881"
          }
        },
        "24c1407929944a08b7326e29d08da0c9": {
          "model_module": "@jupyter-widgets/controls",
          "model_name": "HTMLModel",
          "model_module_version": "1.5.0",
          "state": {
            "_dom_classes": [],
            "_model_module": "@jupyter-widgets/controls",
            "_model_module_version": "1.5.0",
            "_model_name": "HTMLModel",
            "_view_count": null,
            "_view_module": "@jupyter-widgets/controls",
            "_view_module_version": "1.5.0",
            "_view_name": "HTMLView",
            "description": "",
            "description_tooltip": null,
            "layout": "IPY_MODEL_99c42f468d70481bb10fe10743e0bffc",
            "placeholder": "​",
            "style": "IPY_MODEL_02e77dfb24c14a8a9df2f09742c0559e",
            "value": "special_tokens_map.json: 100%"
          }
        },
        "83639a60619f47bc8edccca611715584": {
          "model_module": "@jupyter-widgets/controls",
          "model_name": "FloatProgressModel",
          "model_module_version": "1.5.0",
          "state": {
            "_dom_classes": [],
            "_model_module": "@jupyter-widgets/controls",
            "_model_module_version": "1.5.0",
            "_model_name": "FloatProgressModel",
            "_view_count": null,
            "_view_module": "@jupyter-widgets/controls",
            "_view_module_version": "1.5.0",
            "_view_name": "ProgressView",
            "bar_style": "success",
            "description": "",
            "description_tooltip": null,
            "layout": "IPY_MODEL_14d72f9728b7437eb6579a3d9860a205",
            "max": 112,
            "min": 0,
            "orientation": "horizontal",
            "style": "IPY_MODEL_4179bad21f9a45d6a1e1118df5d3bc5d",
            "value": 112
          }
        },
        "adc211038a904d019a0cc6b59df4ee65": {
          "model_module": "@jupyter-widgets/controls",
          "model_name": "HTMLModel",
          "model_module_version": "1.5.0",
          "state": {
            "_dom_classes": [],
            "_model_module": "@jupyter-widgets/controls",
            "_model_module_version": "1.5.0",
            "_model_name": "HTMLModel",
            "_view_count": null,
            "_view_module": "@jupyter-widgets/controls",
            "_view_module_version": "1.5.0",
            "_view_name": "HTMLView",
            "description": "",
            "description_tooltip": null,
            "layout": "IPY_MODEL_7199041c48364ed8ae1ddb15d7f1e724",
            "placeholder": "​",
            "style": "IPY_MODEL_8baa085071e64c2db94d0df41dc3ee43",
            "value": " 112/112 [00:00&lt;00:00, 14.5kB/s]"
          }
        },
        "1c251f051a9c4ba685509575d525e881": {
          "model_module": "@jupyter-widgets/base",
          "model_name": "LayoutModel",
          "model_module_version": "1.2.0",
          "state": {
            "_model_module": "@jupyter-widgets/base",
            "_model_module_version": "1.2.0",
            "_model_name": "LayoutModel",
            "_view_count": null,
            "_view_module": "@jupyter-widgets/base",
            "_view_module_version": "1.2.0",
            "_view_name": "LayoutView",
            "align_content": null,
            "align_items": null,
            "align_self": null,
            "border": null,
            "bottom": null,
            "display": null,
            "flex": null,
            "flex_flow": null,
            "grid_area": null,
            "grid_auto_columns": null,
            "grid_auto_flow": null,
            "grid_auto_rows": null,
            "grid_column": null,
            "grid_gap": null,
            "grid_row": null,
            "grid_template_areas": null,
            "grid_template_columns": null,
            "grid_template_rows": null,
            "height": null,
            "justify_content": null,
            "justify_items": null,
            "left": null,
            "margin": null,
            "max_height": null,
            "max_width": null,
            "min_height": null,
            "min_width": null,
            "object_fit": null,
            "object_position": null,
            "order": null,
            "overflow": null,
            "overflow_x": null,
            "overflow_y": null,
            "padding": null,
            "right": null,
            "top": null,
            "visibility": null,
            "width": null
          }
        },
        "99c42f468d70481bb10fe10743e0bffc": {
          "model_module": "@jupyter-widgets/base",
          "model_name": "LayoutModel",
          "model_module_version": "1.2.0",
          "state": {
            "_model_module": "@jupyter-widgets/base",
            "_model_module_version": "1.2.0",
            "_model_name": "LayoutModel",
            "_view_count": null,
            "_view_module": "@jupyter-widgets/base",
            "_view_module_version": "1.2.0",
            "_view_name": "LayoutView",
            "align_content": null,
            "align_items": null,
            "align_self": null,
            "border": null,
            "bottom": null,
            "display": null,
            "flex": null,
            "flex_flow": null,
            "grid_area": null,
            "grid_auto_columns": null,
            "grid_auto_flow": null,
            "grid_auto_rows": null,
            "grid_column": null,
            "grid_gap": null,
            "grid_row": null,
            "grid_template_areas": null,
            "grid_template_columns": null,
            "grid_template_rows": null,
            "height": null,
            "justify_content": null,
            "justify_items": null,
            "left": null,
            "margin": null,
            "max_height": null,
            "max_width": null,
            "min_height": null,
            "min_width": null,
            "object_fit": null,
            "object_position": null,
            "order": null,
            "overflow": null,
            "overflow_x": null,
            "overflow_y": null,
            "padding": null,
            "right": null,
            "top": null,
            "visibility": null,
            "width": null
          }
        },
        "02e77dfb24c14a8a9df2f09742c0559e": {
          "model_module": "@jupyter-widgets/controls",
          "model_name": "DescriptionStyleModel",
          "model_module_version": "1.5.0",
          "state": {
            "_model_module": "@jupyter-widgets/controls",
            "_model_module_version": "1.5.0",
            "_model_name": "DescriptionStyleModel",
            "_view_count": null,
            "_view_module": "@jupyter-widgets/base",
            "_view_module_version": "1.2.0",
            "_view_name": "StyleView",
            "description_width": ""
          }
        },
        "14d72f9728b7437eb6579a3d9860a205": {
          "model_module": "@jupyter-widgets/base",
          "model_name": "LayoutModel",
          "model_module_version": "1.2.0",
          "state": {
            "_model_module": "@jupyter-widgets/base",
            "_model_module_version": "1.2.0",
            "_model_name": "LayoutModel",
            "_view_count": null,
            "_view_module": "@jupyter-widgets/base",
            "_view_module_version": "1.2.0",
            "_view_name": "LayoutView",
            "align_content": null,
            "align_items": null,
            "align_self": null,
            "border": null,
            "bottom": null,
            "display": null,
            "flex": null,
            "flex_flow": null,
            "grid_area": null,
            "grid_auto_columns": null,
            "grid_auto_flow": null,
            "grid_auto_rows": null,
            "grid_column": null,
            "grid_gap": null,
            "grid_row": null,
            "grid_template_areas": null,
            "grid_template_columns": null,
            "grid_template_rows": null,
            "height": null,
            "justify_content": null,
            "justify_items": null,
            "left": null,
            "margin": null,
            "max_height": null,
            "max_width": null,
            "min_height": null,
            "min_width": null,
            "object_fit": null,
            "object_position": null,
            "order": null,
            "overflow": null,
            "overflow_x": null,
            "overflow_y": null,
            "padding": null,
            "right": null,
            "top": null,
            "visibility": null,
            "width": null
          }
        },
        "4179bad21f9a45d6a1e1118df5d3bc5d": {
          "model_module": "@jupyter-widgets/controls",
          "model_name": "ProgressStyleModel",
          "model_module_version": "1.5.0",
          "state": {
            "_model_module": "@jupyter-widgets/controls",
            "_model_module_version": "1.5.0",
            "_model_name": "ProgressStyleModel",
            "_view_count": null,
            "_view_module": "@jupyter-widgets/base",
            "_view_module_version": "1.2.0",
            "_view_name": "StyleView",
            "bar_color": null,
            "description_width": ""
          }
        },
        "7199041c48364ed8ae1ddb15d7f1e724": {
          "model_module": "@jupyter-widgets/base",
          "model_name": "LayoutModel",
          "model_module_version": "1.2.0",
          "state": {
            "_model_module": "@jupyter-widgets/base",
            "_model_module_version": "1.2.0",
            "_model_name": "LayoutModel",
            "_view_count": null,
            "_view_module": "@jupyter-widgets/base",
            "_view_module_version": "1.2.0",
            "_view_name": "LayoutView",
            "align_content": null,
            "align_items": null,
            "align_self": null,
            "border": null,
            "bottom": null,
            "display": null,
            "flex": null,
            "flex_flow": null,
            "grid_area": null,
            "grid_auto_columns": null,
            "grid_auto_flow": null,
            "grid_auto_rows": null,
            "grid_column": null,
            "grid_gap": null,
            "grid_row": null,
            "grid_template_areas": null,
            "grid_template_columns": null,
            "grid_template_rows": null,
            "height": null,
            "justify_content": null,
            "justify_items": null,
            "left": null,
            "margin": null,
            "max_height": null,
            "max_width": null,
            "min_height": null,
            "min_width": null,
            "object_fit": null,
            "object_position": null,
            "order": null,
            "overflow": null,
            "overflow_x": null,
            "overflow_y": null,
            "padding": null,
            "right": null,
            "top": null,
            "visibility": null,
            "width": null
          }
        },
        "8baa085071e64c2db94d0df41dc3ee43": {
          "model_module": "@jupyter-widgets/controls",
          "model_name": "DescriptionStyleModel",
          "model_module_version": "1.5.0",
          "state": {
            "_model_module": "@jupyter-widgets/controls",
            "_model_module_version": "1.5.0",
            "_model_name": "DescriptionStyleModel",
            "_view_count": null,
            "_view_module": "@jupyter-widgets/base",
            "_view_module_version": "1.2.0",
            "_view_name": "StyleView",
            "description_width": ""
          }
        }
      }
    }
  },
  "nbformat": 4,
  "nbformat_minor": 0
}