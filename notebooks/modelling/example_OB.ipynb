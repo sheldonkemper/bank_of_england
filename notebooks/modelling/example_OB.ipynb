{
  "cells": [
    {
      "cell_type": "markdown",
      "metadata": {
        "id": "view-in-github",
        "colab_type": "text"
      },
      "source": [
        "<a href=\"https://colab.research.google.com/github/sheldonkemper/bank_of_england/blob/main/notebooks/modelling/example_OB.ipynb\" target=\"_parent\"><img src=\"https://colab.research.google.com/assets/colab-badge.svg\" alt=\"Open In Colab\"/></a>"
      ]
    },
    {
      "cell_type": "markdown",
      "metadata": {
        "id": "TjcWzjxiUs3i"
      },
      "source": [
        "Modules"
      ]
    },
    {
      "cell_type": "code",
      "execution_count": null,
      "metadata": {
        "id": "IyrdK8-KUs3l"
      },
      "outputs": [],
      "source": [
        "import os\n",
        "import sys\n",
        "from google.colab import drive"
      ]
    },
    {
      "cell_type": "code",
      "execution_count": null,
      "metadata": {
        "id": "6VD8ipZFGbLk"
      },
      "outputs": [],
      "source": [
        "\n",
        "\n",
        "# Mount Google Drive to the root location with force_remount\n",
        "drive.mount('/content/drive', force_remount=True)\n",
        "\n",
        "# Assuming 'BOE' folder is in 'MyDrive' and already shared\n",
        "BOE_path = '/content/drive/MyDrive/BOE/bank_of_england/data'\n",
        "\n",
        "# Now you (and others with access) can work with files in this directory\n",
        "# For example, you can list the contents:\n",
        "print(os.listdir(BOE_path))"
      ]
    },
    {
      "cell_type": "code",
      "execution_count": null,
      "metadata": {
        "id": "0usTM5PhUs3o"
      },
      "outputs": [],
      "source": [
        "\n",
        "sys.path.append('/content/drive/My Drive/bank_of_england/src')\n",
        "\n",
        "from preprocessing import preprocess_pipeline\n",
        "\n",
        "# Example usage\n",
        "sample_text = \"JP Morgan's earnings increased by 20% in Q4 2024.\"\n",
        "processed_text = preprocess_pipeline(sample_text)\n",
        "print(processed_text)  # Output: \"jpmorgan earning increase q4\"\n"
      ]
    },
    {
      "cell_type": "code",
      "source": [
        "#test edit"
      ],
      "metadata": {
        "id": "UBcACVp-6CjH"
      },
      "execution_count": null,
      "outputs": []
    }
  ],
  "metadata": {
    "colab": {
      "provenance": [],
      "include_colab_link": true
    },
    "kernelspec": {
      "display_name": "Python 3",
      "name": "python3"
    },
    "language_info": {
      "name": "python"
    }
  },
  "nbformat": 4,
  "nbformat_minor": 0
}