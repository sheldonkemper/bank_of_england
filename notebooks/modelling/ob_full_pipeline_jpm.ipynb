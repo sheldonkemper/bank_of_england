{
  "nbformat": 4,
  "nbformat_minor": 0,
  "metadata": {
    "colab": {
      "provenance": [],
      "authorship_tag": "ABX9TyOc3oxAYxOaWz9vYWKUde+I",
      "include_colab_link": true
    },
    "kernelspec": {
      "name": "python3",
      "display_name": "Python 3"
    },
    "language_info": {
      "name": "python"
    }
  },
  "cells": [
    {
      "cell_type": "markdown",
      "metadata": {
        "id": "view-in-github",
        "colab_type": "text"
      },
      "source": [
        "<a href=\"https://colab.research.google.com/github/sheldonkemper/bank_of_england/blob/main/notebooks/modelling/ob_full_pipeline_jpm.ipynb\" target=\"_parent\"><img src=\"https://colab.research.google.com/assets/colab-badge.svg\" alt=\"Open In Colab\"/></a>"
      ]
    },
    {
      "cell_type": "code",
      "execution_count": null,
      "metadata": {
        "id": "ym8RIzXNhpX5"
      },
      "outputs": [],
      "source": [
        "\"\"\"\n",
        "===================================================\n",
        "Author: Oscar Bowden\n",
        "Role: Research Lead, Bank of England Employer Project (Quant Collective)\n",
        "LinkedIn: https://uk.linkedin.com/in/oscar-bowden-4b14711b7\n",
        "Date: 2025-02-17\n",
        "Version: 1.0\n",
        "\n",
        "Description:\n",
        "    This notebook is a rough version of a modelling pipeline for pre-processed financial meeting transcript\n",
        "    data (JPMorganChase). It employs BERTopic, finBERT and Flan-T5 to extract insights into the speakers\n",
        "    from the Q&A sections of the transcripts.\n",
        "===================================================\n",
        "\"\"\""
      ]
    },
    {
      "cell_type": "code",
      "source": [],
      "metadata": {
        "id": "A-1OZv10ipJt"
      },
      "execution_count": null,
      "outputs": []
    }
  ]
}