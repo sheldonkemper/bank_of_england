{
  "cells": [
    {
      "cell_type": "code",
      "execution_count": null,
      "metadata": {
        "id": "2C9SSNHREALD"
      },
      "outputs": [],
      "source": [
        "\"\"\"\n",
        "===================================================\n",
        "Author: Sheldon Kemper\n",
        "Role: Data Engineering Lead, Bank of England Employer Project (Quant Collective)\n",
        "LinkedIn: https://www.linkedin.com/in/sheldon-kemper\n",
        "Date: 2025-02-04\n",
        "Version: 1.0\n",
        "\n",
        "Description:\n",
        "    This notebook is dedicated to the data engineering functions for the Bank of England Employer Project.\n",
        "    It includes code for mounting Google Drive, reading raw PDF files (e.g., earnings call transcripts),\n",
        "    and performing text extraction and cleaning using pdfplumber and regular expressions.\n",
        "\n",
        "Dependencies:\n",
        "    - pdfplumber\n",
        "    - re\n",
        "    - google.colab (for mounting Google Drive)\n",
        "    - os\n",
        "\n",
        "===================================================\n",
        "\"\"\""
      ]
    },
    {
      "cell_type": "code",
      "execution_count": null,
      "metadata": {},
      "outputs": [],
      "source": [
        "import os\n",
        "import requests\n",
        "import pdfplumber\n",
        "import re\n",
        "import pandas as pd"
      ]
    },
    {
      "cell_type": "code",
      "execution_count": null,
      "metadata": {
        "colab": {
          "base_uri": "https://localhost:8080/"
        },
        "id": "6VD8ipZFGbLk",
        "outputId": "6d230d15-4bc7-4186-df69-793db730a818"
      },
      "outputs": [
        {
          "name": "stdout",
          "output_type": "stream",
          "text": [
            "Mounted at /content/drive\n",
            "['cleansed', 'raw', 'model']\n"
          ]
        }
      ],
      "source": [
        "# Mount Google Drive to the root location with force_remount\n",
        "drive.mount('/content/drive', force_remount=True)\n",
        "\n",
        "# Assuming 'BOE' folder is in 'MyDrive' and already shared\n",
        "BOE_path = '/content/drive/MyDrive/BOE/bank_of_england/data'\n",
        "\n",
        "# Now you (and others with access) can work with files in this directory\n",
        "# For example, you can list the contents:\n",
        "print(os.listdir(BOE_path))"
      ]
    },
    {
      "cell_type": "code",
      "execution_count": null,
      "metadata": {},
      "outputs": [],
      "source": [
        "# Notebook 1: Import Transcripts and Append Data\n",
        "\n",
        "# -------------------------------\n",
        "# 1. Define base URLs and local paths\n",
        "# -------------------------------\n",
        "base_url = \"https://www.jpmorganchase.com/content/dam/jpmc/jpmorgan-chase-and-co/investor-relations/documents/quarterly-earnings\"\n",
        "raw_dir = \"/content/drive/My Drive/BOE/bank_of_england/data/raw/\"\n",
        "processed_dir = \"/content/drive/My Drive/BOE/bank_of_england/data/processed/\"\n",
        "\n",
        "os.makedirs(raw_dir, exist_ok=True)\n",
        "os.makedirs(processed_dir, exist_ok=True)\n",
        "\n",
        "# -------------------------------\n",
        "# 2. Download PDFs for the last two years for each quarter\n",
        "# -------------------------------\n",
        "# Define the years and quarter mapping\n",
        "years = [2022, 2023]  # adjust as needed\n",
        "quarters = {\n",
        "    1: {\"dir\": \"1st-quarter\", \"prefix\": \"1q\"},\n",
        "    2: {\"dir\": \"2nd-quarter\", \"prefix\": \"2q\"},\n",
        "    3: {\"dir\": \"3rd-quarter\", \"prefix\": \"3q\"},\n",
        "    4: {\"dir\": \"4th-quarter\", \"prefix\": \"4q\"}\n",
        "}\n",
        "\n",
        "for year in years:\n",
        "    year_str = str(year)\n",
        "    year_suffix = year_str[-2:]  # e.g., \"23\" for 2023\n",
        "    for q in range(1, 5):\n",
        "        quarter_dir = quarters[q][\"dir\"]\n",
        "        file_prefix = quarters[q][\"prefix\"]\n",
        "        file_name = f\"{file_prefix}{year_suffix}-earnings-transcript.pdf\"\n",
        "        url = f\"{base_url}/{year}/{quarter_dir}/{file_name}\"\n",
        "        print(\"Downloading:\", url)\n",
        "        r = requests.get(url)\n",
        "        if r.status_code == 200:\n",
        "            file_path = os.path.join(raw_dir, file_name)\n",
        "            with open(file_path, \"wb\") as f:\n",
        "                f.write(r.content)\n",
        "            print(\"Saved to:\", file_path)\n",
        "        else:\n",
        "            print(f\"Failed to download {url} (status code: {r.status_code})\")"
      ]
    }
  ],
  "metadata": {
    "colab": {
      "provenance": []
    },
    "kernelspec": {
      "display_name": "Python 3",
      "name": "python3"
    },
    "language_info": {
      "codemirror_mode": {
        "name": "ipython",
        "version": 3
      },
      "file_extension": ".py",
      "mimetype": "text/x-python",
      "name": "python",
      "nbconvert_exporter": "python",
      "pygments_lexer": "ipython3",
      "version": "3.9.6"
    }
  },
  "nbformat": 4,
  "nbformat_minor": 0
}
