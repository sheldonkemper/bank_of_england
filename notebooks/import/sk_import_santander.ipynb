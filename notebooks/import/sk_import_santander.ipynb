{
  "cells": [
    {
      "cell_type": "markdown",
      "metadata": {
        "id": "view-in-github",
        "colab_type": "text"
      },
      "source": [
        "<a href=\"https://colab.research.google.com/github/sheldonkemper/bank_of_england/blob/main/notebooks/import%20/sk_import_santander.ipynb\" target=\"_parent\"><img src=\"https://colab.research.google.com/assets/colab-badge.svg\" alt=\"Open In Colab\"/></a>"
      ]
    },
    {
      "cell_type": "markdown",
      "metadata": {
        "id": "TjcWzjxiUs3i"
      },
      "source": [
        "Modules"
      ]
    },
    {
      "cell_type": "code",
      "source": [
        "\"\"\"\n",
        "===================================================\n",
        "Author: Sheldon Kemper\n",
        "Role: Data Engineering Lead, Bank of England Employer Project (Quant Collective)\n",
        "LinkedIn: https://www.linkedin.com/in/sheldon-kemper\n",
        "Date: 2025-02-04\n",
        "Version: 1.1\n",
        "\n",
        "Description:\n",
        "    This notebook implements a system for downloading video files from specified URLs for the Bank of England project.\n",
        "    The workflow scrapes designated web pages to extract direct MP4 streaming URLs (which include temporary AWS tokens)\n",
        "    and utilizes ffmpeg to download these videos into a designated raw data directory on Google Drive.\n",
        "    The downloaded video files are saved with filenames that embed metadata (e.g., year and quarter) to support later processing.\n",
        "    This pipeline forms the first part of our data ingestion process, ensuring that source media is securely archived\n",
        "    for subsequent transcription and analysis.\n",
        "\n",
        "===================================================\n",
        "\"\"\""
      ],
      "metadata": {
        "id": "zX53Cu1FY6kH"
      },
      "execution_count": null,
      "outputs": []
    },
    {
      "cell_type": "code",
      "source": [
        "# Install whisper (if not already installed)\n",
        "# !pip install git+https://github.com/openai/whisper.git"
      ],
      "metadata": {
        "id": "pyCigYPknYBS"
      },
      "execution_count": null,
      "outputs": []
    },
    {
      "cell_type": "code",
      "execution_count": null,
      "metadata": {
        "id": "IyrdK8-KUs3l"
      },
      "outputs": [],
      "source": [
        "import os\n",
        "import glob\n",
        "import subprocess\n",
        "import requests\n",
        "from bs4 import BeautifulSoup\n",
        "import whisper\n",
        "import re\n",
        "import csv\n",
        "import whisper"
      ]
    },
    {
      "cell_type": "code",
      "execution_count": null,
      "metadata": {
        "id": "6VD8ipZFGbLk",
        "colab": {
          "base_uri": "https://localhost:8080/"
        },
        "outputId": "8eb4342d-3279-44ad-d8e4-0865d53e6f15"
      },
      "outputs": [
        {
          "output_type": "stream",
          "name": "stdout",
          "text": [
            "Mounted at /content/drive\n",
            "BOE Directory Contents: ['model', 'processed', 'raw']\n",
            "Raw Data Directory Contents: ['text']\n"
          ]
        }
      ],
      "source": [
        "import os\n",
        "from google.colab import drive\n",
        "\n",
        "# Mount Google Drive to the root location with force_remount\n",
        "drive.mount('/content/drive', force_remount=True)\n",
        "\n",
        "# Assuming 'BOE' folder is in 'MyDrive' and already shared\n",
        "BOE_path = '/content/drive/MyDrive/BOE/bank_of_england/data'\n",
        "\n",
        "# List the contents of the BOE directory\n",
        "print(\"BOE Directory Contents:\", os.listdir(BOE_path))\n",
        "\n",
        "# Define the raw data path (assuming your audio files are under raw/santander)\n",
        "raw_data_path = os.path.join(BOE_path, 'raw', 'santander')\n",
        "print(\"Raw Data Directory Contents:\", os.listdir(raw_data_path))\n"
      ]
    },
    {
      "cell_type": "markdown",
      "metadata": {
        "id": "jLXYjweZnRKH"
      },
      "source": [
        "## Download Videos\n"
      ]
    },
    {
      "cell_type": "code",
      "source": [
        "def extract_video_url(page_url):\n",
        "    \"\"\"\n",
        "    Given a webpage URL, this function scrapes the HTML to find the <video> tag,\n",
        "    then extracts the src attribute from the <source type=\"video/mp4\"> tag.\n",
        "    If the URL is protocol-relative (starting with \"//\"), it prepends \"https:\".\n",
        "    Returns the extracted video URL or None if not found.\n",
        "    \"\"\"\n",
        "    try:\n",
        "        response = requests.get(page_url)\n",
        "        response.raise_for_status()  # raise exception if the request failed\n",
        "    except Exception as e:\n",
        "        print(f\"Error requesting page {page_url}: {e}\")\n",
        "        return None\n",
        "\n",
        "    soup = BeautifulSoup(response.text, 'html.parser')\n",
        "    video_tag = soup.find('video')\n",
        "    if not video_tag:\n",
        "        print(f\"No video tag found on {page_url}\")\n",
        "        return None\n",
        "\n",
        "    source_tag = video_tag.find('source', {'type': 'video/mp4'})\n",
        "    if not source_tag:\n",
        "        print(f\"MP4 source not found on {page_url}\")\n",
        "        return None\n",
        "\n",
        "    video_url = source_tag.get('src')\n",
        "    if video_url.startswith('//'):\n",
        "        video_url = 'https:' + video_url\n",
        "    return video_url\n",
        "\n",
        "def download_video(video_url, output_filename):\n",
        "    \"\"\"\n",
        "    Given a direct video URL (including any token/signature parameters),\n",
        "    this function uses ffmpeg to download the video without re-encoding.\n",
        "    \"\"\"\n",
        "    if not video_url:\n",
        "        print(\"No video URL provided for download.\")\n",
        "        return\n",
        "\n",
        "    # Build the ffmpeg command\n",
        "    command = [\n",
        "        \"ffmpeg\",\n",
        "        \"-i\", video_url,\n",
        "        \"-c\", \"copy\",\n",
        "        output_filename\n",
        "    ]\n",
        "\n",
        "    print(f\"Running command: {' '.join(command)}\")\n",
        "    try:\n",
        "        subprocess.run(command, check=True)\n",
        "        print(f\"Download complete: {output_filename}\")\n",
        "    except subprocess.CalledProcessError as e:\n",
        "        print(f\"Error during download: {e}\")\n",
        "\n",
        "def process_video_page(page_url, output_filename):\n",
        "    \"\"\"\n",
        "    Combines the steps:\n",
        "      1. Scrapes the provided page URL to extract the video URL.\n",
        "      2. Downloads the video using ffmpeg.\n",
        "    \"\"\"\n",
        "    print(f\"Processing page: {page_url}\")\n",
        "    video_url = extract_video_url(page_url)\n",
        "    if video_url:\n",
        "        print(f\"Extracted video URL: {video_url}\")\n",
        "        download_video(video_url, output_filename)\n",
        "    else:\n",
        "        print(f\"Could not extract video URL from {page_url}\")\n",
        "\n",
        "# Define a list of video pages along with their associated year and quarter.\n",
        "video_pages = [\n",
        "    {\"url\": \"https://wavedw01.santandergroup.net/content/5SRc1sBhrbQShIGv\", \"year\": \"2024\", \"quarter\": \"Q1\"},\n",
        "    {\"url\": \"https://wavedw01.santandergroup.net/content/mWmPFSlzp8bbFaY6\", \"year\": \"2024\", \"quarter\": \"Q2\"},\n",
        "    {\"url\": \"https://wavedw01.santandergroup.net/content/FDze0qyNaPlaLMGd\", \"year\": \"2024\", \"quarter\": \"Q3\"},\n",
        "    {\"url\": \"https://wavedw01.santandergroup.net/content/CZXmizS4fhXXBe1Y\", \"year\": \"2024\", \"quarter\": \"Q4\"},\n",
        "    {\"url\": \"https://wavedw01.santandergroup.net/content/yVQDX2NYLvKCfejI\", \"year\": \"2023\", \"quarter\": \"Q1\"},\n",
        "    {\"url\": \"https://wavedw01.santandergroup.net/content/GSHpNVJBNGIlmjoC\", \"year\": \"2023\", \"quarter\": \"Q2\"},\n",
        "    {\"url\": \"https://wavedw01.santandergroup.net/content/fmjK8h3yPneBlW6H\", \"year\": \"2023\", \"quarter\": \"Q3\"},\n",
        "    {\"url\": \"https://wavedw01.santandergroup.net/content/aon6bYIQV5etHkKj\", \"year\": \"2023\", \"quarter\": \"Q4\"},\n",
        "\n",
        "]\n",
        "\n",
        "\n",
        "# Set the output directory to your raw/santander directory on Google Drive.\n",
        "output_dir = '/content/drive/MyDrive/BOE/bank_of_england/data/raw/santander'\n",
        "os.makedirs(output_dir, exist_ok=True)\n",
        "\n",
        "# Process each video page and include year and quarter in the output filename.\n",
        "for idx, video_info in enumerate(video_pages, start=1):\n",
        "    page_url = video_info[\"url\"]\n",
        "    year = video_info[\"year\"]\n",
        "    quarter = video_info[\"quarter\"]\n",
        "    # Construct the output filename using the metadata.\n",
        "    output_file = os.path.join(output_dir, f\"video_{year}_{quarter}_{idx}.mp4\")\n",
        "    process_video_page(page_url, output_file)\n",
        "\n",
        "\n"
      ],
      "metadata": {
        "colab": {
          "base_uri": "https://localhost:8080/"
        },
        "id": "1FYVCy6UtbwN",
        "outputId": "14247d26-ed2c-42c7-f97d-79e8a06f8735"
      },
      "execution_count": null,
      "outputs": [
        {
          "output_type": "stream",
          "name": "stdout",
          "text": [
            "Processing page: https://wavedw01.santandergroup.net/content/5SRc1sBhrbQShIGv\n",
            "Extracted video URL: https://waves3.santandergroup.net/waves3/EXTERNOS/sWEB/media/5SRc1sBhrbQShIGv/st3_270_EN01_900p.mp4?AWSAccessKeyId=Z3NuZXR3YXZl&Expires=1739196850&Signature=%2F12zEH3XYyHzhdFuALcSNABYuH4%3D\n",
            "Running command: ffmpeg -i https://waves3.santandergroup.net/waves3/EXTERNOS/sWEB/media/5SRc1sBhrbQShIGv/st3_270_EN01_900p.mp4?AWSAccessKeyId=Z3NuZXR3YXZl&Expires=1739196850&Signature=%2F12zEH3XYyHzhdFuALcSNABYuH4%3D -c copy /content/drive/MyDrive/BOE/bank_of_england/data/raw/santander/video_2024_Q1_1.mp4\n",
            "Download complete: /content/drive/MyDrive/BOE/bank_of_england/data/raw/santander/video_2024_Q1_1.mp4\n",
            "Processing page: https://wavedw01.santandergroup.net/content/mWmPFSlzp8bbFaY6\n",
            "Extracted video URL: https://waves3.santandergroup.net/waves3/EXTERNOS/5oVU/media/mWmPFSlzp8bbFaY6/st3_306_900p.mp4?AWSAccessKeyId=Z3NuZXR3YXZl&Expires=1739197181&Signature=6JaJEVd2h7x5Hf1FsMqDtdQ9Qhc%3D\n",
            "Running command: ffmpeg -i https://waves3.santandergroup.net/waves3/EXTERNOS/5oVU/media/mWmPFSlzp8bbFaY6/st3_306_900p.mp4?AWSAccessKeyId=Z3NuZXR3YXZl&Expires=1739197181&Signature=6JaJEVd2h7x5Hf1FsMqDtdQ9Qhc%3D -c copy /content/drive/MyDrive/BOE/bank_of_england/data/raw/santander/video_2024_Q2_2.mp4\n",
            "Download complete: /content/drive/MyDrive/BOE/bank_of_england/data/raw/santander/video_2024_Q2_2.mp4\n",
            "Processing page: https://wavedw01.santandergroup.net/content/FDze0qyNaPlaLMGd\n",
            "Extracted video URL: https://waves3.santandergroup.net/waves3/EXTERNOS/5oVU/media/FDze0qyNaPlaLMGd/st2b_10_900p.mp4?AWSAccessKeyId=Z3NuZXR3YXZl&Expires=1739197559&Signature=g2uuKAMR5%2Fri7fEhO61i8rzMNXs%3D\n",
            "Running command: ffmpeg -i https://waves3.santandergroup.net/waves3/EXTERNOS/5oVU/media/FDze0qyNaPlaLMGd/st2b_10_900p.mp4?AWSAccessKeyId=Z3NuZXR3YXZl&Expires=1739197559&Signature=g2uuKAMR5%2Fri7fEhO61i8rzMNXs%3D -c copy /content/drive/MyDrive/BOE/bank_of_england/data/raw/santander/video_2024_Q3_3.mp4\n",
            "Download complete: /content/drive/MyDrive/BOE/bank_of_england/data/raw/santander/video_2024_Q3_3.mp4\n",
            "Processing page: https://wavedw01.santandergroup.net/content/CZXmizS4fhXXBe1Y\n",
            "Extracted video URL: https://waves3.santandergroup.net/waves3/EXTERNOS/5oVU/media/CZXmizS4fhXXBe1Y/4bs1_7_EN_900p.mp4?AWSAccessKeyId=Z3NuZXR3YXZl&Expires=1739197962&Signature=eFC0shICMRNmvHCb3TZoWyfWnL4%3D\n",
            "Running command: ffmpeg -i https://waves3.santandergroup.net/waves3/EXTERNOS/5oVU/media/CZXmizS4fhXXBe1Y/4bs1_7_EN_900p.mp4?AWSAccessKeyId=Z3NuZXR3YXZl&Expires=1739197962&Signature=eFC0shICMRNmvHCb3TZoWyfWnL4%3D -c copy /content/drive/MyDrive/BOE/bank_of_england/data/raw/santander/video_2024_Q4_4.mp4\n",
            "Download complete: /content/drive/MyDrive/BOE/bank_of_england/data/raw/santander/video_2024_Q4_4.mp4\n",
            "Processing page: https://wavedw01.santandergroup.net/content/yVQDX2NYLvKCfejI\n",
            "Extracted video URL: https://waves3.santandergroup.net/waves3/EXTERNOS/sWEB/media/yVQDX2NYLvKCfejI/st3_191_900p.mp4?AWSAccessKeyId=Z3NuZXR3YXZl&Expires=1739198334&Signature=nXPSbMeADqfVi0Sex%2Bs5zF78sJA%3D\n",
            "Running command: ffmpeg -i https://waves3.santandergroup.net/waves3/EXTERNOS/sWEB/media/yVQDX2NYLvKCfejI/st3_191_900p.mp4?AWSAccessKeyId=Z3NuZXR3YXZl&Expires=1739198334&Signature=nXPSbMeADqfVi0Sex%2Bs5zF78sJA%3D -c copy /content/drive/MyDrive/BOE/bank_of_england/data/raw/santander/video_2023_Q1_5.mp4\n",
            "Download complete: /content/drive/MyDrive/BOE/bank_of_england/data/raw/santander/video_2023_Q1_5.mp4\n",
            "Processing page: https://wavedw01.santandergroup.net/content/GSHpNVJBNGIlmjoC\n",
            "Extracted video URL: https://waves3.santandergroup.net/waves3/EXTERNOS/sWEB/media/GSHpNVJBNGIlmjoC/st3_701_900p.mp4?AWSAccessKeyId=Z3NuZXR3YXZl&Expires=1739198995&Signature=%2BB4zQEnzOLEjzpQ4Qv96EFn3%2FVI%3D\n",
            "Running command: ffmpeg -i https://waves3.santandergroup.net/waves3/EXTERNOS/sWEB/media/GSHpNVJBNGIlmjoC/st3_701_900p.mp4?AWSAccessKeyId=Z3NuZXR3YXZl&Expires=1739198995&Signature=%2BB4zQEnzOLEjzpQ4Qv96EFn3%2FVI%3D -c copy /content/drive/MyDrive/BOE/bank_of_england/data/raw/santander/video_2023_Q2_6.mp4\n",
            "Download complete: /content/drive/MyDrive/BOE/bank_of_england/data/raw/santander/video_2023_Q2_6.mp4\n",
            "Processing page: https://wavedw01.santandergroup.net/content/fmjK8h3yPneBlW6H\n",
            "Extracted video URL: https://waves3.santandergroup.net/waves3/EXTERNOS/sWEB/media/fmjK8h3yPneBlW6H/st3_61_900p.mp4?AWSAccessKeyId=Z3NuZXR3YXZl&Expires=1739199758&Signature=W%2Fu%2BWCprtsZ%2BQru8ypkhPQDicPE%3D\n",
            "Running command: ffmpeg -i https://waves3.santandergroup.net/waves3/EXTERNOS/sWEB/media/fmjK8h3yPneBlW6H/st3_61_900p.mp4?AWSAccessKeyId=Z3NuZXR3YXZl&Expires=1739199758&Signature=W%2Fu%2BWCprtsZ%2BQru8ypkhPQDicPE%3D -c copy /content/drive/MyDrive/BOE/bank_of_england/data/raw/santander/video_2023_Q3_7.mp4\n",
            "Download complete: /content/drive/MyDrive/BOE/bank_of_england/data/raw/santander/video_2023_Q3_7.mp4\n",
            "Processing page: https://wavedw01.santandergroup.net/content/aon6bYIQV5etHkKj\n",
            "Extracted video URL: https://waves3.santandergroup.net/waves3/EXTERNOS/sWEB/media/aon6bYIQV5etHkKj/st3b_2001_EN_900p.mp4?AWSAccessKeyId=Z3NuZXR3YXZl&Expires=1739200819&Signature=MQeCmmFQSh5ySPI8eGGX1T3%2Fgxo%3D\n",
            "Running command: ffmpeg -i https://waves3.santandergroup.net/waves3/EXTERNOS/sWEB/media/aon6bYIQV5etHkKj/st3b_2001_EN_900p.mp4?AWSAccessKeyId=Z3NuZXR3YXZl&Expires=1739200819&Signature=MQeCmmFQSh5ySPI8eGGX1T3%2Fgxo%3D -c copy /content/drive/MyDrive/BOE/bank_of_england/data/raw/santander/video_2023_Q4_8.mp4\n",
            "Download complete: /content/drive/MyDrive/BOE/bank_of_england/data/raw/santander/video_2023_Q4_8.mp4\n"
          ]
        }
      ]
    }
  ],
  "metadata": {
    "colab": {
      "provenance": [],
      "gpuType": "T4",
      "include_colab_link": true
    },
    "kernelspec": {
      "display_name": "Python 3",
      "name": "python3"
    },
    "language_info": {
      "name": "python"
    },
    "accelerator": "GPU"
  },
  "nbformat": 4,
  "nbformat_minor": 0
}