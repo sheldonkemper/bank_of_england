{
  "nbformat": 4,
  "nbformat_minor": 0,
  "metadata": {
    "colab": {
      "provenance": [],
      "authorship_tag": "ABX9TyOCEN7bidjOYzchBwJkvDnJ",
      "include_colab_link": true
    },
    "kernelspec": {
      "name": "python3",
      "display_name": "Python 3"
    },
    "language_info": {
      "name": "python"
    }
  },
  "cells": [
    {
      "cell_type": "markdown",
      "metadata": {
        "id": "view-in-github",
        "colab_type": "text"
      },
      "source": [
        "<a href=\"https://colab.research.google.com/github/sheldonkemper/bank_of_england/blob/main/notebooks/processed/ct_preprocessing_ubs.ipynb\" target=\"_parent\"><img src=\"https://colab.research.google.com/assets/colab-badge.svg\" alt=\"Open In Colab\"/></a>"
      ]
    },
    {
      "cell_type": "code",
      "source": [
        "\"\"\"\n",
        "===================================================\n",
        "Author: Chiaki Tachikawa\n",
        "Role: Data Science Lead, Bank of England Employer Project (Quant Collective)\n",
        "LinkedIn: https://www.linkedin.com/in/chiaki-tachikawa\n",
        "Date: 2025-03-03\n",
        "Version: 1.1\n",
        "\n",
        "Description:\n",
        "    This notebook implements a system for cleaning and exporting transcript data for the Bank of England project. The workflow includes:\n",
        "    - Defining and applying a `preprocessor` function to clean and tokenize text data.\n",
        "    - Reading and preprocessing various CSV files containing transcript data.\n",
        "    - Segmenting text by bank name\n",
        "    - Pairing question and answer by traditional data engineering techniques.\n",
        "    - Cleaning Texts\n",
        "    - Reorganising Data Frame\n",
        "    - Exporting the preprocessed data to new CSV files for further analysis.\n",
        "\n",
        "===================================================\n",
        "\"\"\""
      ],
      "metadata": {
        "id": "a0mvZu8vposg",
        "outputId": "f6edd84e-d1ff-4c50-92a0-70c0c6309dee",
        "colab": {
          "base_uri": "https://localhost:8080/",
          "height": 88
        }
      },
      "execution_count": null,
      "outputs": [
        {
          "output_type": "execute_result",
          "data": {
            "text/plain": [
              "'\\n===================================================\\nAuthor: Chiaki Tachikawa\\nRole: Data Science Lead, Bank of England Employer Project (Quant Collective)\\nLinkedIn: https://www.linkedin.com/in/chiaki-tachikawa\\nDate: 2025-03-03\\nVersion: 1.1\\n\\nDescription:\\n    This notebook implements a system for cleaning and exporting transcript data for the Bank of England project. The workflow includes:\\n    - Defining and applying a `preprocessor` function to clean and tokenize text data.\\n    - Reading and preprocessing various CSV files containing transcript data.\\n    - Segmenting text by bank name\\n    - Pairing question and answer by traditional data engineering techniques.\\n    - Cleaning Texts\\n    - Reorganising Data Frame\\n    - Exporting the preprocessed data to new CSV files for further analysis.\\n\\n===================================================\\n'"
            ],
            "application/vnd.google.colaboratory.intrinsic+json": {
              "type": "string"
            }
          },
          "metadata": {},
          "execution_count": 39
        }
      ]
    },
    {
      "cell_type": "markdown",
      "source": [
        "# **Library**"
      ],
      "metadata": {
        "id": "-IEHW36t7eQt"
      }
    },
    {
      "cell_type": "code",
      "source": [
        "import pandas as pd\n",
        "import numpy as np\n",
        "import nltk\n",
        "from nltk.corpus import stopwords\n",
        "from nltk.stem import WordNetLemmatizer\n",
        "nltk.download(\"stopwords\")\n",
        "nltk.download(\"punkt\")\n",
        "nltk.download(\"punkt_tab\")\n",
        "nltk.download('wordnet')\n",
        "from nltk.tokenize import word_tokenize, sent_tokenize\n",
        "from collections import Counter\n",
        "import regex as re\n",
        "from sklearn.feature_extraction.text import TfidfVectorizer\n",
        "from sklearn.pipeline import Pipeline\n",
        "from google.colab import drive\n",
        "import openai\n",
        "import json\n",
        "import os\n",
        "from google.colab import userdata\n",
        "import time\n",
        "import warnings\n",
        "warnings.simplefilter(action='ignore', category=FutureWarning)"
      ],
      "metadata": {
        "id": "xQcJK0Z0cjWz",
        "outputId": "1a28b817-a2de-4e87-b36e-75969fd4f9e3",
        "colab": {
          "base_uri": "https://localhost:8080/"
        }
      },
      "execution_count": null,
      "outputs": [
        {
          "output_type": "stream",
          "name": "stderr",
          "text": [
            "[nltk_data] Downloading package stopwords to /root/nltk_data...\n",
            "[nltk_data]   Package stopwords is already up-to-date!\n",
            "[nltk_data] Downloading package punkt to /root/nltk_data...\n",
            "[nltk_data]   Package punkt is already up-to-date!\n",
            "[nltk_data] Downloading package punkt_tab to /root/nltk_data...\n",
            "[nltk_data]   Package punkt_tab is already up-to-date!\n",
            "[nltk_data] Downloading package wordnet to /root/nltk_data...\n",
            "[nltk_data]   Package wordnet is already up-to-date!\n"
          ]
        }
      ]
    },
    {
      "cell_type": "markdown",
      "source": [
        "# **Function**"
      ],
      "metadata": {
        "id": "hgTWwaKXcc2u"
      }
    },
    {
      "cell_type": "markdown",
      "source": [
        "**preprocessor function** : The function modifies the DataFrame data in place, adding two new columns (col1 and col2) with preprocessed text.\n",
        "\n",
        "\n",
        "Input:\n",
        "  - name of dataframe\n",
        "  - name of column which contains the text to clean\n",
        "  - name of column which is tokenized\n",
        "  - name of column which is cleaned"
      ],
      "metadata": {
        "id": "V-ahCZonpyuY"
      }
    },
    {
      "cell_type": "code",
      "source": [
        "#create function to preprocess data\n",
        "def preprocessor (data, col, col1,col2):\n",
        "  #Copy col1umn\n",
        "  data[col1]=data[col]\n",
        "  data[col2]=data[col]\n",
        "\n",
        "\n",
        "  #Adding column1\n",
        "  #Lower the lettercase\n",
        "  data[col1] = data[col1].str.lower()\n",
        "\n",
        "  #Remove stop words\n",
        "  stop_words = set(stopwords.words(\"english\"))\n",
        "  data[col1] = data[col1].apply(lambda x: \" \".join([word for word in str(x).split() if word not in (stop_words)]))\n",
        "\n",
        "  #Tokenize the word\n",
        "  data[col1] = data[col1].apply(nltk.word_tokenize)\n",
        "\n",
        "  #Remove numbers\n",
        "  data[col1] = data[col1].apply(lambda x: [word for word in x if not word.isdigit()])\n",
        "\n",
        "  #remove symbol from comments\n",
        "  data[col1] = data[col1].apply(lambda x: [word for word in x if x!=\"\"])\n",
        "\n",
        "  #remove short word\n",
        "  data[col1] = data[col1].apply(lambda x: [word for word in x if len(word)>2])\n",
        "\n",
        "  #remove symbols\n",
        "  data[col1] = data[col1].apply (lambda x: [re.sub(r\"[^a-z]\", \"\", word) for word in x])\n",
        "\n",
        "  #lemmatization\n",
        "  lemmatizer = WordNetLemmatizer()\n",
        "  data[col1] = data[col1].apply(lambda x: [lemmatizer.lemmatize(word) for word in x])\n",
        "\n",
        "\n",
        "\n",
        "  #Adding column2\n",
        "  #Lower the lettercase\n",
        "  data[col2] = data[col2].str.lower()\n",
        "\n",
        "  #Remove stop words\n",
        "  stop_words = set(stopwords.words(\"english\"))\n",
        "  data[col2] = data[col2].apply(lambda x: \" \".join([word for word in str(x).split() if word not in (stop_words)]))\n",
        "\n",
        "  #remove symbols\n",
        "  data[col2] = data[col2].apply (lambda x: [re.sub(r\"[.,'?]\", \"\", x)])\n",
        "\n",
        "  return\n"
      ],
      "metadata": {
        "id": "WQ8V0kRFcjl8"
      },
      "execution_count": null,
      "outputs": []
    },
    {
      "cell_type": "code",
      "source": [
        "# Function to extract names\n",
        "def extract_name(full_string):\n",
        "    return full_string.split(',')[0]"
      ],
      "metadata": {
        "id": "c_YH3A7X1d4p"
      },
      "execution_count": null,
      "outputs": []
    },
    {
      "cell_type": "markdown",
      "source": [
        "## **Structuring Data Frame**\n",
        "Ensuring that each row has utterance from one analyst and exective and categorised by bank name to pair question and answer later."
      ],
      "metadata": {
        "id": "M-mVne19lMkn"
      }
    },
    {
      "cell_type": "code",
      "source": [
        "drive.mount('/content/drive')\n"
      ],
      "metadata": {
        "id": "QTDf9v7Eo31v",
        "outputId": "1d2f066e-f19a-4b2c-ea0d-b24655a5aba0",
        "colab": {
          "base_uri": "https://localhost:8080/"
        },
        "collapsed": true
      },
      "execution_count": null,
      "outputs": [
        {
          "output_type": "stream",
          "name": "stdout",
          "text": [
            "Drive already mounted at /content/drive; to attempt to forcibly remount, call drive.mount(\"/content/drive\", force_remount=True).\n"
          ]
        }
      ]
    },
    {
      "cell_type": "code",
      "source": [
        "#Defining qa_data\n",
        "ubs_qa_data = pd.read_csv(\"/content/drive/MyDrive/BOE/bank_of_england/data/cleansed/ubs_qna_section.csv\")\n",
        "#Check the imported data\n",
        "#ubs_qa_data.head()\n",
        "print(ubs_qa_data)"
      ],
      "metadata": {
        "colab": {
          "base_uri": "https://localhost:8080/"
        },
        "id": "9WD6Z5Tjfykz",
        "outputId": "a9088a9c-8a93-4c68-f887-f094e5f75a04"
      },
      "execution_count": null,
      "outputs": [
        {
          "output_type": "stream",
          "name": "stdout",
          "text": [
            "               speaker      job_title  \\\n",
            "0              Unknown            NaN   \n",
            "1    Sergio P. Ermotti            NaN   \n",
            "2         Chris Hallam  Goldman Sachs   \n",
            "3    Sergio P. Ermotti            NaN   \n",
            "4      Sarah Youngwood            NaN   \n",
            "..                 ...            ...   \n",
            "304  Sergio P. Ermotti            NaN   \n",
            "305       Todd Tuckner            NaN   \n",
            "306       Todd Tuckner            NaN   \n",
            "307  Sergio P. Ermotti            NaN   \n",
            "308  Sergio P. Ermotti            NaN   \n",
            "\n",
            "                                             utterance        call_date  \\\n",
            "0    Chis Hallam, Goldman Sachs Yes. Good morning, ...    25 April 2023   \n",
            "1    Okay. Thank you. On capital requirements, you ...    25 April 2023   \n",
            "2    Very clear. Thanks. Kian Abouhossein, JPMorgan...    25 April 2023   \n",
            "3    So, Sarah, take the first question. I'll take ...    25 April 2023   \n",
            "4    So, when we give you the 74%, we focused inten...    25 April 2023   \n",
            "..                                                 ...              ...   \n",
            "304  What we mentioned, it's not our pipeline. What...  4 February 2025   \n",
            "305  So yeah, it came in – the final number came in...  4 February 2025   \n",
            "306                                           Exactly.  4 February 2025   \n",
            "307  So that's industry and not UBS. Just to be cle...  4 February 2025   \n",
            "308  Okay. So there are no more questions. There ar...  4 February 2025   \n",
            "\n",
            "    financial_quarter                     source_file  \n",
            "0                1Q23  1q23-earnings-call-remarks.pdf  \n",
            "1                1Q23  1q23-earnings-call-remarks.pdf  \n",
            "2                1Q23  1q23-earnings-call-remarks.pdf  \n",
            "3                1Q23  1q23-earnings-call-remarks.pdf  \n",
            "4                1Q23  1q23-earnings-call-remarks.pdf  \n",
            "..                ...                             ...  \n",
            "304              4Q24  4q24-earnings-call-remarks.pdf  \n",
            "305              4Q24  4q24-earnings-call-remarks.pdf  \n",
            "306              4Q24  4q24-earnings-call-remarks.pdf  \n",
            "307              4Q24  4q24-earnings-call-remarks.pdf  \n",
            "308              4Q24  4q24-earnings-call-remarks.pdf  \n",
            "\n",
            "[309 rows x 6 columns]\n"
          ]
        }
      ]
    },
    {
      "cell_type": "code",
      "source": [
        "\"\"\"\n",
        "This code searches for Analyst / Exective name and their bank name in the 'utterance' column of a DataFrame and stores any matches in a new 'dummy' column. If no matches are found, the 'dummy' column remains None for that row.\n",
        "\n",
        "\"\"\"\n",
        "#Defining Analyst name and Bank Name with regex\n",
        "pattern = r'\\b[A-Z][a-z]+ [A-Z][a-z]+, [A-Z][A-Za-z]+'\n",
        "\n",
        "#Looking for Analyst name and bank name from utterance to store it in dummy column\n",
        "ubs_qa_data[\"dummy\"]=None\n",
        "for i in range(len(ubs_qa_data)):\n",
        "  matches = re.findall(pattern, str(ubs_qa_data['utterance'][i]))\n",
        "  if matches:\n",
        "    ubs_qa_data.at[i, 'dummy'] = matches\n",
        "  else:\n",
        "    continue\n",
        "\n",
        "#Defining lists of Exective names from UBS\n",
        "exective_name = [\"Sergio P. Ermotti\",\"Sarah Youngwood\t\"]\n",
        "exect_name = r'\\b(Sergio P\\. Ermotti|Sarah Youngwood)\\b'\n",
        "\n",
        "#Looking for Exective name from utterance to store it in ex_dummy column\n",
        "ubs_qa_data[\"ex_dummy\"]=None\n",
        "for i in range(len(ubs_qa_data)):\n",
        "  matches1 = re.findall(exect_name, str(ubs_qa_data[\"utterance\"][i]))\n",
        "  if matches1:\n",
        "    ubs_qa_data.at[i,\"ex_dummy\"]=matches1\n",
        "    ubs_qa_data.loc[i,\"ex_dummy\"].append(\"UBS\")\n",
        "  else:\n",
        "    continue\n"
      ],
      "metadata": {
        "id": "lyjD-S5_UFKX"
      },
      "execution_count": null,
      "outputs": []
    },
    {
      "cell_type": "code",
      "source": [
        "#Check if matched analyst name and exective name are populated in dummy and ex_dummy columns\n",
        "#ubs_qa_data.head()"
      ],
      "metadata": {
        "collapsed": true,
        "id": "JPNRF_TJgnWY"
      },
      "execution_count": null,
      "outputs": []
    },
    {
      "cell_type": "code",
      "source": [
        "\"\"\"\n",
        "This code searches for Analyst/Exective name and their bank name in the 'utterance' column of a DataFrame, updates the 'speaker' column for the first row with matches, and splits the 'utterance' and inserts a new row for subsequent matches. If no matches are found, the loop continues to the next row.\n",
        "Here are the steps in the code:\n",
        "1, Defining matches with Bank name and Exective name in each utterance.\n",
        "2, Create 3 conditions as follows.\n",
        "  a, if it is the first row\n",
        "    > Added Analyst and Bank name in speaker column and job_title column\n",
        "  b, if there is bank name in the utterance\n",
        "    I, when there is one match in the utterance\n",
        "    > Created new row between the current and next index to split the utterance by each analyst\n",
        "    II, when there are two matches in the utterance\n",
        "    > Create new multiple rows between the current and next index to split the utterance by each analyst\n",
        "  c, if there is Exective name in the utterance\n",
        "    > Create a new row between the current and next index to split the utterance by each exective\n",
        "\"\"\"\n",
        "\n",
        "\n",
        "for  i in ubs_qa_data.index:\n",
        "  matches = re.findall(pattern, str(ubs_qa_data['utterance'][i]))\n",
        "  matches1 = re.findall(exect_name, str(ubs_qa_data['utterance'][i]))\n",
        "  if matches and i==0:\n",
        "    ubs_qa_data.at[i, 'speaker'] = matches\n",
        "    ubs_qa_data.at[i,\"job_title\"]= matches\n",
        "  elif matches:\n",
        "    if len(ubs_qa_data[\"dummy\"][i]) <2:\n",
        "      new_index=i+0.5\n",
        "      parts1 = [part.strip() for part in ubs_qa_data['utterance'][i].split(matches[0])]\n",
        "      ubs_qa_data.at[i, 'utterance'] = parts1[0]\n",
        "      ubs_qa_data.loc[new_index] = {\"speaker\":matches,\"job_title\":matches,\"utterance\":parts1[1], \"call_date\":ubs_qa_data[\"call_date\"][i], \"financial_quarter\":ubs_qa_data[\"financial_quarter\"][i],\"source_file\":ubs_qa_data[\"source_file\"][i], \"dummy\":None}\n",
        "    else:\n",
        "      parts1 = [part.strip() for part in ubs_qa_data['utterance'][i].split(matches[0])]\n",
        "      parts2 = [part.strip() for part in ubs_qa_data['utterance'][i].split(matches[1])]\n",
        "      parts3 = [part.strip() for part in parts1[1].split(matches[1])]\n",
        "      ubs_qa_data.at[i, 'utterance'] = parts1[0]\n",
        "      ubs_qa_data.loc[i+0.2] = {\"speaker\":matches[0],\"job_title\":matches[0],\"utterance\":parts3[0], \"call_date\":ubs_qa_data[\"call_date\"][i], \"financial_quarter\":ubs_qa_data[\"financial_quarter\"][i],\"source_file\":ubs_qa_data[\"source_file\"][i], \"dummy\":None}\n",
        "      ubs_qa_data.loc[i+0.4] = {\"speaker\":matches[1],\"job_title\":matches[1],\"utterance\":parts2[1], \"call_date\":ubs_qa_data[\"call_date\"][i], \"financial_quarter\":ubs_qa_data[\"financial_quarter\"][i],\"source_file\":ubs_qa_data[\"source_file\"][i], \"dummy\":None}\n",
        "  elif matches1:\n",
        "    new_index=i+0.5\n",
        "    parts2 = [part.strip() for part in ubs_qa_data['utterance'][i].split(matches1[0])]\n",
        "    ubs_qa_data.at[i, 'utterance'] = parts2[0]\n",
        "    ubs_qa_data.loc[new_index] = {\"speaker\":ubs_qa_data[\"ex_dummy\"][i],\"job_title\":\"UBS\",\"utterance\":parts2[1], \"call_date\":ubs_qa_data[\"call_date\"][i], \"financial_quarter\":ubs_qa_data[\"financial_quarter\"][i],\"source_file\":ubs_qa_data[\"source_file\"][i], \"dummy\":None}\n",
        "  else:\n",
        "    continue\n"
      ],
      "metadata": {
        "collapsed": true,
        "id": "-q8_deZgbz3b"
      },
      "execution_count": null,
      "outputs": []
    },
    {
      "cell_type": "code",
      "source": [
        "\"\"\"\n",
        "Reset index due to new rows\n",
        "\"\"\"\n",
        "ubs_qa_data=ubs_qa_data.sort_index().reset_index(drop=True)"
      ],
      "metadata": {
        "collapsed": true,
        "id": "tz1nPGhxbnft"
      },
      "execution_count": null,
      "outputs": []
    },
    {
      "cell_type": "code",
      "source": [
        "\"\"\"\n",
        "This code checks if the 'speaker' column contains a list, splits the first element of the list at the comma, and updates the 'speaker' and 'job_title' columns accordingly. If the 'speaker' is not a list, the loop continues to the next row.\n",
        "\n",
        "\"\"\"\n",
        "for i in range(len(ubs_qa_data)):\n",
        "  if isinstance(ubs_qa_data['job_title'][i], list):\n",
        "    parts = [part.strip() for part in ubs_qa_data['speaker'][i][0].split(',')]\n",
        "    ubs_qa_data.at[i, 'speaker'] = parts[0]\n",
        "    ubs_qa_data.at[i, 'job_title'] = parts[1]\n",
        "\n",
        "  else:\n",
        "    continue\n",
        "\n"
      ],
      "metadata": {
        "id": "2nqcS5XbX5si",
        "collapsed": true
      },
      "execution_count": null,
      "outputs": []
    },
    {
      "cell_type": "code",
      "source": [
        "#Check if utterance was split correctly, and new rows were created when there is matched analyst name in utterance.\n",
        "#ubs_qa_data.head()"
      ],
      "metadata": {
        "id": "gWJlijPtW3cO"
      },
      "execution_count": null,
      "outputs": []
    },
    {
      "cell_type": "code",
      "source": [
        "\"\"\"\n",
        "Row 56: The text was not populated in the utterance due to irregular simbol in the original text, therefore, this needs to be concanated with the text in the next row.\n",
        "\"\"\"\n",
        "text = str(ubs_qa_data[\"speaker\"][57]) +str(ubs_qa_data[\"job_title\"][57]) +str(ubs_qa_data[\"utterance\"][57])\n",
        "ubs_qa_data.at[56,\"utterance\"]=text\n",
        "ubs_qa_data=ubs_qa_data.drop(index=57)\n",
        "ubs_qa_data.reset_index(drop=True, inplace=True)\n",
        "\n",
        "\"\"\"\n",
        "Row 72: Some words were detected as \"Analyst and Bank name\" in the text, therefore, this needs to be concanated with the text in the next row.\n",
        "\"\"\"\n",
        "text1 = str(ubs_qa_data[\"speaker\"][73]) +str(ubs_qa_data[\"job_title\"][73]) +str(ubs_qa_data[\"utterance\"][73])\n",
        "ubs_qa_data.at[72,\"utterance\"]= ubs_qa_data[\"utterance\"][72]+text1\n",
        "ubs_qa_data=ubs_qa_data.drop(index=73)\n",
        "ubs_qa_data.reset_index(drop=True, inplace=True)\n",
        "\n",
        "\"\"\"\n",
        "Row 2: Oringinal text shows Goldman Sachs, therefore, this needs to be concanated with the text in the next row.\n",
        "\"\"\"\n",
        "ubs_qa_data.at[2,\"job_title\"]=\"Goldman\"\n",
        "\n",
        "#Remove last row\n",
        "ubs_qa_data=ubs_qa_data.drop(index=len(ubs_qa_data)-1)\n",
        "ubs_qa_data.reset_index(drop=True, inplace=True)\n",
        "\n",
        "#set speaker in row 30 and 31\n",
        "ubs_qa_data.at[30,\"job_title\"]= \"RBC\"\n",
        "ubs_qa_data.at[31,\"job_title\"]=\"Barclays\""
      ],
      "metadata": {
        "id": "oKJGkO3tGjJd"
      },
      "execution_count": null,
      "outputs": []
    },
    {
      "cell_type": "code",
      "source": [
        "#Check if all bugs are fixed\n",
        "#ubs_qa_data[50:80]"
      ],
      "metadata": {
        "collapsed": true,
        "id": "yCjlZMTQHbWY"
      },
      "execution_count": null,
      "outputs": []
    },
    {
      "cell_type": "code",
      "source": [
        "\"\"\"\n",
        "This code snippet categorizes rows in a DataFrame ubs_qa_data based on the job_title column.\n",
        "This effectively groups consecutive rows with the same bank name together to help segmenting question and answer by bank later.\n",
        "\"\"\"\n",
        "ubs_qa_data[\"category\"]=None\n",
        "current_bank=ubs_qa_data[\"job_title\"][0]\n",
        "for i in range(len(ubs_qa_data)):\n",
        "  if current_bank == ubs_qa_data[\"job_title\"][i]:\n",
        "    ubs_qa_data.at[i,\"category\"]=current_bank\n",
        "  elif current_bank!=ubs_qa_data[\"job_title\"][i] and ubs_qa_data[\"job_title\"][i] is np.NaN:\n",
        "    ubs_qa_data.at[i,\"category\"]=current_bank\n",
        "  else:\n",
        "    current_bank=ubs_qa_data[\"job_title\"][i]\n",
        "    ubs_qa_data.at[i,\"category\"]=current_bank\n"
      ],
      "metadata": {
        "id": "1-BqgLLOSxHW"
      },
      "execution_count": null,
      "outputs": []
    },
    {
      "cell_type": "code",
      "source": [
        "\"\"\"\n",
        "add ubs in nan in job title\n",
        "\"\"\"\n",
        "for i in range(len(ubs_qa_data)):\n",
        "  if ubs_qa_data[\"job_title\"][i] is np.NaN:\n",
        "    ubs_qa_data.at[i,\"job_title\"]=\"UBS\""
      ],
      "metadata": {
        "id": "SfxB7454dCkJ"
      },
      "execution_count": null,
      "outputs": []
    },
    {
      "cell_type": "code",
      "source": [
        "\"\"\"\n",
        "Remove Caustionary statements at the end of transcript in each quarter.\n",
        "\n",
        "\"\"\"\n",
        "statement = r'\\b(Cautionary Statement Regarding|Cautionary statement regarding)\\b'\n",
        "for i in range(len(ubs_qa_data)):\n",
        "  matches = re.findall(statement, str(ubs_qa_data[\"utterance\"][i]))\n",
        "  if matches:\n",
        "    parts = [part.strip() for part in ubs_qa_data['utterance'][i].split(matches[0])]\n",
        "    ubs_qa_data.at[i, 'utterance'] = parts[0]\n",
        "  else:\n",
        "    continue"
      ],
      "metadata": {
        "id": "TS8j-ud93rBM"
      },
      "execution_count": null,
      "outputs": []
    },
    {
      "cell_type": "code",
      "source": [
        "print(f'Here is the number of null value in the dataframe.: \\n{ubs_qa_data.isnull().sum()}')"
      ],
      "metadata": {
        "id": "FdjUrGYq5KBd",
        "outputId": "c18b23b8-ac20-4516-cf85-b5e29565f49b",
        "colab": {
          "base_uri": "https://localhost:8080/"
        }
      },
      "execution_count": null,
      "outputs": [
        {
          "output_type": "stream",
          "name": "stdout",
          "text": [
            "Here is the number of null value in the dataframe.: \n",
            "speaker                0\n",
            "job_title              0\n",
            "utterance              0\n",
            "call_date              0\n",
            "financial_quarter      0\n",
            "source_file            0\n",
            "dummy                309\n",
            "ex_dummy             364\n",
            "category               0\n",
            "dtype: int64\n"
          ]
        }
      ]
    },
    {
      "cell_type": "code",
      "source": [
        "#Check if the data was segmented by bank\n",
        "#ubs_qa_data[130:150]"
      ],
      "metadata": {
        "id": "-PNrGNDfXFyG"
      },
      "execution_count": null,
      "outputs": []
    },
    {
      "cell_type": "markdown",
      "source": [
        "# **Pairing Question and Answer:**\n"
      ],
      "metadata": {
        "id": "hdkk169RGsgW"
      }
    },
    {
      "cell_type": "code",
      "source": [
        "\"\"\"\n",
        "Given that the ex_dummy column is no longer needed, next row's financial_quarter column is copied to the ex_dummy column.\n",
        "\"\"\"\n",
        "for i in range(len(ubs_qa_data)-1):\n",
        "  ubs_qa_data.at[i,\"ex_dummy\"]=ubs_qa_data.at[i+1,\"financial_quarter\"]"
      ],
      "metadata": {
        "id": "Q8sbIY7Md0rx"
      },
      "execution_count": null,
      "outputs": []
    },
    {
      "cell_type": "code",
      "source": [
        "#ubs_qa_data.head()"
      ],
      "metadata": {
        "id": "9OrO0WjqyMtP",
        "collapsed": true
      },
      "execution_count": null,
      "outputs": []
    },
    {
      "cell_type": "code",
      "source": [
        "\"\"\"\n",
        "This code groups rows by bank name, and splits question and answer into separate columns.\n",
        "Here are the steps;\n",
        "1, Creating new columns to pair question and answer, and defining current bank name\n",
        "2, Looping through each row in the DataFrame\n",
        "3, Populating values in question and answer columns based on the following conditions:\n",
        "  a, if the current row's financial quarter is same as the next row's.\n",
        "  b, if the current row is the last row in the category.\n",
        "  Otherwise, each row utterance concatenates the current answer or question\n",
        "\"\"\"\n",
        "\n",
        "ubs_qa_data[\"question\"] = None\n",
        "ubs_qa_data[\"answer\"] = None\n",
        "ubs_qa_data[\"analyst\"] = None\n",
        "ubs_qa_data[\"exective\"] = None\n",
        "current_bank=ubs_qa_data[\"category\"][0]\n",
        "analyst=[]\n",
        "exective=[]\n",
        "question=\"\"\n",
        "answer=\"\"\n",
        "\n",
        "for i in range(len(ubs_qa_data)):\n",
        "  if ubs_qa_data[\"ex_dummy\"][i]!=ubs_qa_data[\"financial_quarter\"][i] and ubs_qa_data[\"job_title\"][i]==\"UBS\":\n",
        "      exective.append(str(ubs_qa_data[\"speaker\"][i]))\n",
        "      answer += str(ubs_qa_data[\"utterance\"][i])\n",
        "      ubs_qa_data.at[i,\"question\"]=question\n",
        "      ubs_qa_data.at[i,\"answer\"]=answer\n",
        "      ubs_qa_data.at[i,\"analyst\"]=analyst\n",
        "      ubs_qa_data.at[i,\"exective\"]=exective\n",
        "      exective=[]\n",
        "      analyst=[]\n",
        "      answer = \"\"\n",
        "      question = \"\"\n",
        "      ubs_qa_data.at[i,\"category\"]=current_bank\n",
        "      if i<len(ubs_qa_data)-1:\n",
        "        current_bank = ubs_qa_data[\"job_title\"][i+1]\n",
        "  else:\n",
        "    if ubs_qa_data[\"job_title\"][i]!=\"UBS\" and current_bank==ubs_qa_data[\"category\"][i]:\n",
        "      question += str(ubs_qa_data[\"utterance\"][i])\n",
        "      analyst.append(str(ubs_qa_data[\"speaker\"][i]))\n",
        "    elif ubs_qa_data[\"job_title\"][i]==\"UBS\" and current_bank==ubs_qa_data[\"category\"][i]:\n",
        "      answer += str(ubs_qa_data[\"utterance\"][i])\n",
        "      exective.append(str(ubs_qa_data[\"speaker\"][i]))\n",
        "    elif ubs_qa_data[\"job_title\"][i]!=\"UBS\" and current_bank!=ubs_qa_data[\"category\"][i]:\n",
        "      current_bank=ubs_qa_data[\"job_title\"][i]\n",
        "      analyst.append(str(ubs_qa_data[\"speaker\"][i]))\n",
        "      ubs_qa_data.at[i-1,\"question\"]=question\n",
        "      ubs_qa_data.at[i-1,\"answer\"]=answer\n",
        "      ubs_qa_data.at[i-1, \"analyst\"]=analyst\n",
        "      ubs_qa_data.at[i-1,\"exective\"]=exective\n",
        "      question = str(ubs_qa_data[\"utterance\"][i])\n",
        "      answer = \"\"\n",
        "      analyst = []\n",
        "      exective = []\n",
        "    else:\n",
        "      continue\n"
      ],
      "metadata": {
        "id": "j05tg8D3pK1t"
      },
      "execution_count": null,
      "outputs": []
    },
    {
      "cell_type": "code",
      "source": [
        "#Check if the last of each segmented bank contains question and answer\n",
        "#ubs_qa_data[10:60]\n",
        "#print(ubs_qa_data)"
      ],
      "metadata": {
        "id": "wS94-LSoBeSS",
        "outputId": "1a70f952-7d34-4ae1-c095-f949afdd315d",
        "colab": {
          "base_uri": "https://localhost:8080/"
        }
      },
      "execution_count": null,
      "outputs": [
        {
          "output_type": "stream",
          "name": "stdout",
          "text": [
            "               speaker job_title  \\\n",
            "0          Chis Hallam   Goldman   \n",
            "1    Sergio P. Ermotti       UBS   \n",
            "2         Chris Hallam   Goldman   \n",
            "3     Kian Abouhossein  JPMorgan   \n",
            "4    Sergio P. Ermotti       UBS   \n",
            "..                 ...       ...   \n",
            "360        Piers Brown      HSBC   \n",
            "361       Todd Tuckner       UBS   \n",
            "362  Sergio P. Ermotti       UBS   \n",
            "363        Piers Brown      HSBC   \n",
            "364  Sergio P. Ermotti       UBS   \n",
            "\n",
            "                                             utterance        call_date  \\\n",
            "0    Chis Hallam, Goldman Sachs Yes. Good morning, ...    25 April 2023   \n",
            "1    Okay. Thank you. On capital requirements, you ...    25 April 2023   \n",
            "2                                  Very clear. Thanks.    25 April 2023   \n",
            "3    Yeah. Thanks. Just two questions. The first on...    25 April 2023   \n",
            "4    So, Sarah, take the first question. I'll take ...    25 April 2023   \n",
            "..                                                 ...              ...   \n",
            "360  21, okay. So in any case, to handle in front s...  4 February 2025   \n",
            "361                                           Exactly.  4 February 2025   \n",
            "362  So that's industry and not UBS. Just to be clear.  4 February 2025   \n",
            "363                               Ok, Thanks very much  4 February 2025   \n",
            "364  Okay. So there are no more questions. There ar...  4 February 2025   \n",
            "\n",
            "    financial_quarter                     source_file  \\\n",
            "0                1Q23  1q23-earnings-call-remarks.pdf   \n",
            "1                1Q23  1q23-earnings-call-remarks.pdf   \n",
            "2                1Q23  1q23-earnings-call-remarks.pdf   \n",
            "3                1Q23  1q23-earnings-call-remarks.pdf   \n",
            "4                1Q23  1q23-earnings-call-remarks.pdf   \n",
            "..                ...                             ...   \n",
            "360              4Q24  4q24-earnings-call-remarks.pdf   \n",
            "361              4Q24  4q24-earnings-call-remarks.pdf   \n",
            "362              4Q24  4q24-earnings-call-remarks.pdf   \n",
            "363              4Q24  4q24-earnings-call-remarks.pdf   \n",
            "364              4Q24  4q24-earnings-call-remarks.pdf   \n",
            "\n",
            "                            dummy ex_dummy  category  \\\n",
            "0          [Chis Hallam, Goldman]     1Q23   Goldman   \n",
            "1                            None     1Q23   Goldman   \n",
            "2    [Kian Abouhossein, JPMorgan]     1Q23   Goldman   \n",
            "3                            None     1Q23  JPMorgan   \n",
            "4                            None     1Q23  JPMorgan   \n",
            "..                            ...      ...       ...   \n",
            "360                          None     4Q24      HSBC   \n",
            "361                          None     4Q24      HSBC   \n",
            "362           [Piers Brown, HSBC]     4Q24      HSBC   \n",
            "363                          None     4Q24      HSBC   \n",
            "364  [Credit Suisse, Switzerland]     None      HSBC   \n",
            "\n",
            "                                              question  \\\n",
            "0                                                 None   \n",
            "1                                                 None   \n",
            "2    Chis Hallam, Goldman Sachs Yes. Good morning, ...   \n",
            "3                                                 None   \n",
            "4                                                 None   \n",
            "..                                                 ...   \n",
            "360                                               None   \n",
            "361                                               None   \n",
            "362                                               None   \n",
            "363                                               None   \n",
            "364  Yes, good morning, everybody. I just got two f...   \n",
            "\n",
            "                                                answer  \\\n",
            "0                                                 None   \n",
            "1                                                 None   \n",
            "2    Okay. Thank you. On capital requirements, you ...   \n",
            "3                                                 None   \n",
            "4                                                 None   \n",
            "..                                                 ...   \n",
            "360                                               None   \n",
            "361                                               None   \n",
            "362                                               None   \n",
            "363                                               None   \n",
            "364  Hi Piers, so on – I'll just take your second q...   \n",
            "\n",
            "                                           analyst  \\\n",
            "0                                             None   \n",
            "1                                             None   \n",
            "2    [Chis Hallam, Chris Hallam, Kian Abouhossein]   \n",
            "3                                             None   \n",
            "4                                             None   \n",
            "..                                             ...   \n",
            "360                                           None   \n",
            "361                                           None   \n",
            "362                                           None   \n",
            "363                                           None   \n",
            "364        [Piers Brown, Piers Brown, Piers Brown]   \n",
            "\n",
            "                                              exective  \n",
            "0                                                 None  \n",
            "1                                                 None  \n",
            "2                                  [Sergio P. Ermotti]  \n",
            "3                                                 None  \n",
            "4                                                 None  \n",
            "..                                                 ...  \n",
            "360                                               None  \n",
            "361                                               None  \n",
            "362                                               None  \n",
            "363                                               None  \n",
            "364  [Todd Tuckner, Sergio P. Ermotti, Todd Tuckner...  \n",
            "\n",
            "[365 rows x 13 columns]\n"
          ]
        }
      ]
    },
    {
      "cell_type": "code",
      "source": [
        "\"\"\"\n",
        "Adding multiple Analyst name and Exective name if more than 2 people are participating in the conversation\n",
        "\"\"\"\n",
        "for i in range(len(ubs_qa_data)):\n",
        "  if isinstance(ubs_qa_data[\"exective\"][i], list):\n",
        "    ubs_qa_data[\"exective\"][i]=list(set(ubs_qa_data[\"exective\"][i]))\n",
        "  else:\n",
        "    continue\n"
      ],
      "metadata": {
        "id": "9UQQQjVw216c",
        "collapsed": true
      },
      "execution_count": null,
      "outputs": []
    },
    {
      "cell_type": "code",
      "source": [
        "\"\"\"\n",
        "Dropping Nill in question columns to remove duplicated rows\n",
        "\"\"\"\n",
        "ubs_qa_data= ubs_qa_data.dropna(subset=[\"question\"])\n",
        "ubs_qa_data.reset_index(drop=True, inplace=True)"
      ],
      "metadata": {
        "id": "YTUa4QTWGCY3"
      },
      "execution_count": null,
      "outputs": []
    },
    {
      "cell_type": "code",
      "source": [
        "#ubs_qa_data.head()"
      ],
      "metadata": {
        "id": "RYFxyVKaDZub"
      },
      "execution_count": null,
      "outputs": []
    },
    {
      "cell_type": "markdown",
      "source": [
        "# **Cleaning Text and rearrangeing data frame:**\n",
        "Cleaning each question and answer by removing stop words and symbols and lowering lettercase\n"
      ],
      "metadata": {
        "id": "qPBYucS_GmSP"
      }
    },
    {
      "cell_type": "code",
      "source": [
        "#preprocessing data\n",
        "preprocessor(ubs_qa_data, \"answer\", \"question_tokenised_data\", \"question_cleaned\")\n",
        "preprocessor(ubs_qa_data,\"question\",\"answer_tokenised_data\",\"answer_cleaned\")"
      ],
      "metadata": {
        "id": "FG3pmAvhs0Lk",
        "outputId": "5014c41f-91a5-4f00-e307-666319faee2c",
        "colab": {
          "base_uri": "https://localhost:8080/"
        }
      },
      "execution_count": null,
      "outputs": [
        {
          "output_type": "stream",
          "name": "stderr",
          "text": [
            "<ipython-input-3-cd3cee0e7408>:4: SettingWithCopyWarning: \n",
            "A value is trying to be set on a copy of a slice from a DataFrame.\n",
            "Try using .loc[row_indexer,col_indexer] = value instead\n",
            "\n",
            "See the caveats in the documentation: https://pandas.pydata.org/pandas-docs/stable/user_guide/indexing.html#returning-a-view-versus-a-copy\n",
            "  data[col1]=data[col]\n",
            "<ipython-input-3-cd3cee0e7408>:5: SettingWithCopyWarning: \n",
            "A value is trying to be set on a copy of a slice from a DataFrame.\n",
            "Try using .loc[row_indexer,col_indexer] = value instead\n",
            "\n",
            "See the caveats in the documentation: https://pandas.pydata.org/pandas-docs/stable/user_guide/indexing.html#returning-a-view-versus-a-copy\n",
            "  data[col2]=data[col]\n",
            "<ipython-input-3-cd3cee0e7408>:10: SettingWithCopyWarning: \n",
            "A value is trying to be set on a copy of a slice from a DataFrame.\n",
            "Try using .loc[row_indexer,col_indexer] = value instead\n",
            "\n",
            "See the caveats in the documentation: https://pandas.pydata.org/pandas-docs/stable/user_guide/indexing.html#returning-a-view-versus-a-copy\n",
            "  data[col1] = data[col1].str.lower()\n",
            "<ipython-input-3-cd3cee0e7408>:14: SettingWithCopyWarning: \n",
            "A value is trying to be set on a copy of a slice from a DataFrame.\n",
            "Try using .loc[row_indexer,col_indexer] = value instead\n",
            "\n",
            "See the caveats in the documentation: https://pandas.pydata.org/pandas-docs/stable/user_guide/indexing.html#returning-a-view-versus-a-copy\n",
            "  data[col1] = data[col1].apply(lambda x: \" \".join([word for word in str(x).split() if word not in (stop_words)]))\n"
          ]
        }
      ]
    },
    {
      "cell_type": "code",
      "source": [
        "#rename column\n",
        "ubs_qa_data.rename(columns={\"financial_quarter\":\"Quarter\",\"question\":\"Question\", \"category\":\"Analyst_Bank\", \"answer\": \"Response\", \"exective\":\"Executive\", \"question_cleaned\": \"Question_cleaned\", \"answer_cleaned\": \"Response_cleaned\", \"source_file\":\"filename\"},inplace=True)"
      ],
      "metadata": {
        "id": "Kj23E_3dDHga"
      },
      "execution_count": null,
      "outputs": []
    },
    {
      "cell_type": "code",
      "source": [
        "#reorganise column\n",
        "ubs_qa_data=ubs_qa_data[[\"filename\",\"Quarter\",\"Question\",\"Question_cleaned\",\"Analyst_Bank\",\"Response\",\"Response_cleaned\", \"Executive\"]]"
      ],
      "metadata": {
        "id": "zFM4DQ5geodS"
      },
      "execution_count": null,
      "outputs": []
    },
    {
      "cell_type": "code",
      "source": [
        "#Check the last dataframe\n",
        "#ubs_qa_data.head()\n",
        "print(ubs_qa_data)"
      ],
      "metadata": {
        "id": "ohcC9z0yHK1w",
        "outputId": "d374aa2c-0362-458d-98bc-0fe97f09cb7c",
        "colab": {
          "base_uri": "https://localhost:8080/"
        }
      },
      "execution_count": null,
      "outputs": [
        {
          "output_type": "stream",
          "name": "stdout",
          "text": [
            "               speaker job_title  \\\n",
            "0          Chis Hallam   Goldman   \n",
            "1    Sergio P. Ermotti       UBS   \n",
            "2         Chris Hallam   Goldman   \n",
            "3     Kian Abouhossein  JPMorgan   \n",
            "4    Sergio P. Ermotti       UBS   \n",
            "..                 ...       ...   \n",
            "360        Piers Brown      HSBC   \n",
            "361       Todd Tuckner       UBS   \n",
            "362  Sergio P. Ermotti       UBS   \n",
            "363        Piers Brown      HSBC   \n",
            "364  Sergio P. Ermotti       UBS   \n",
            "\n",
            "                                             utterance        call_date  \\\n",
            "0    Chis Hallam, Goldman Sachs Yes. Good morning, ...    25 April 2023   \n",
            "1    Okay. Thank you. On capital requirements, you ...    25 April 2023   \n",
            "2                                  Very clear. Thanks.    25 April 2023   \n",
            "3    Yeah. Thanks. Just two questions. The first on...    25 April 2023   \n",
            "4    So, Sarah, take the first question. I'll take ...    25 April 2023   \n",
            "..                                                 ...              ...   \n",
            "360  21, okay. So in any case, to handle in front s...  4 February 2025   \n",
            "361                                           Exactly.  4 February 2025   \n",
            "362  So that's industry and not UBS. Just to be clear.  4 February 2025   \n",
            "363                               Ok, Thanks very much  4 February 2025   \n",
            "364  Okay. So there are no more questions. There ar...  4 February 2025   \n",
            "\n",
            "    financial_quarter                     source_file  \\\n",
            "0                1Q23  1q23-earnings-call-remarks.pdf   \n",
            "1                1Q23  1q23-earnings-call-remarks.pdf   \n",
            "2                1Q23  1q23-earnings-call-remarks.pdf   \n",
            "3                1Q23  1q23-earnings-call-remarks.pdf   \n",
            "4                1Q23  1q23-earnings-call-remarks.pdf   \n",
            "..                ...                             ...   \n",
            "360              4Q24  4q24-earnings-call-remarks.pdf   \n",
            "361              4Q24  4q24-earnings-call-remarks.pdf   \n",
            "362              4Q24  4q24-earnings-call-remarks.pdf   \n",
            "363              4Q24  4q24-earnings-call-remarks.pdf   \n",
            "364              4Q24  4q24-earnings-call-remarks.pdf   \n",
            "\n",
            "                            dummy ex_dummy  category  \\\n",
            "0          [Chis Hallam, Goldman]     1Q23   Goldman   \n",
            "1                            None     1Q23   Goldman   \n",
            "2    [Kian Abouhossein, JPMorgan]     1Q23   Goldman   \n",
            "3                            None     1Q23  JPMorgan   \n",
            "4                            None     1Q23  JPMorgan   \n",
            "..                            ...      ...       ...   \n",
            "360                          None     4Q24      HSBC   \n",
            "361                          None     4Q24      HSBC   \n",
            "362           [Piers Brown, HSBC]     4Q24      HSBC   \n",
            "363                          None     4Q24      HSBC   \n",
            "364  [Credit Suisse, Switzerland]     None      HSBC   \n",
            "\n",
            "                                              question  \\\n",
            "0                                                 None   \n",
            "1                                                 None   \n",
            "2    Chis Hallam, Goldman Sachs Yes. Good morning, ...   \n",
            "3                                                 None   \n",
            "4                                                 None   \n",
            "..                                                 ...   \n",
            "360                                               None   \n",
            "361                                               None   \n",
            "362                                               None   \n",
            "363                                               None   \n",
            "364  Yes, good morning, everybody. I just got two f...   \n",
            "\n",
            "                                                answer  \\\n",
            "0                                                 None   \n",
            "1                                                 None   \n",
            "2    Okay. Thank you. On capital requirements, you ...   \n",
            "3                                                 None   \n",
            "4                                                 None   \n",
            "..                                                 ...   \n",
            "360                                               None   \n",
            "361                                               None   \n",
            "362                                               None   \n",
            "363                                               None   \n",
            "364  Hi Piers, so on – I'll just take your second q...   \n",
            "\n",
            "                                           analyst  \\\n",
            "0                                             None   \n",
            "1                                             None   \n",
            "2    [Chis Hallam, Chris Hallam, Kian Abouhossein]   \n",
            "3                                             None   \n",
            "4                                             None   \n",
            "..                                             ...   \n",
            "360                                           None   \n",
            "361                                           None   \n",
            "362                                           None   \n",
            "363                                           None   \n",
            "364        [Piers Brown, Piers Brown, Piers Brown]   \n",
            "\n",
            "                                              exective  \n",
            "0                                                 None  \n",
            "1                                                 None  \n",
            "2                                  [Sergio P. Ermotti]  \n",
            "3                                                 None  \n",
            "4                                                 None  \n",
            "..                                                 ...  \n",
            "360                                               None  \n",
            "361                                               None  \n",
            "362                                               None  \n",
            "363                                               None  \n",
            "364  [Todd Tuckner, Sergio P. Ermotti, Todd Tuckner...  \n",
            "\n",
            "[365 rows x 13 columns]\n"
          ]
        }
      ]
    },
    {
      "cell_type": "markdown",
      "source": [
        "UBS Management Discussion"
      ],
      "metadata": {
        "id": "-_aHcEBwFO6P"
      }
    },
    {
      "cell_type": "code",
      "source": [
        "ubs_manag_data = pd.read_csv(\"/content/drive/MyDrive/BOE/bank_of_england/data/cleansed/ubs_management_discussion.csv\")\n",
        "ubs_manag_data.head()"
      ],
      "metadata": {
        "id": "ysC6qVXqFNrr",
        "outputId": "48efe06a-0aab-4fd9-adfc-84a69b9379a7",
        "colab": {
          "base_uri": "https://localhost:8080/",
          "height": 206
        }
      },
      "execution_count": null,
      "outputs": [
        {
          "output_type": "execute_result",
          "data": {
            "text/plain": [
              "                         speaker  \\\n",
              "0                        Unknown   \n",
              "1              Sergio P. Ermotti   \n",
              "2                 Latin America.   \n",
              "3                Sarah Youngwood   \n",
              "4  Group Chief Financial Officer   \n",
              "\n",
              "                                           utterance      call_date  \\\n",
              "0  Youngwood, Group Chief Financial Officer Inclu...  25 April 2023   \n",
              "1  Thank you, Sarah, good morning, everyone. I am...  25 April 2023   \n",
              "2  In Asset Management, the combination will impr...  25 April 2023   \n",
              "3  Thank you, Sergio. Good morning, everyone. rel...  25 April 2023   \n",
              "4                      Including analyst Q&A session     7 May 2024   \n",
              "\n",
              "  financial_quarter                     source_file  \n",
              "0              1Q23  1q23-earnings-call-remarks.pdf  \n",
              "1              1Q23  1q23-earnings-call-remarks.pdf  \n",
              "2              1Q23  1q23-earnings-call-remarks.pdf  \n",
              "3              1Q23  1q23-earnings-call-remarks.pdf  \n",
              "4              1Q24  1q24-earnings-call-remarks.pdf  "
            ],
            "text/html": [
              "\n",
              "  <div id=\"df-2cd43efb-65fd-4e12-80d0-61524fad2efe\" class=\"colab-df-container\">\n",
              "    <div>\n",
              "<style scoped>\n",
              "    .dataframe tbody tr th:only-of-type {\n",
              "        vertical-align: middle;\n",
              "    }\n",
              "\n",
              "    .dataframe tbody tr th {\n",
              "        vertical-align: top;\n",
              "    }\n",
              "\n",
              "    .dataframe thead th {\n",
              "        text-align: right;\n",
              "    }\n",
              "</style>\n",
              "<table border=\"1\" class=\"dataframe\">\n",
              "  <thead>\n",
              "    <tr style=\"text-align: right;\">\n",
              "      <th></th>\n",
              "      <th>speaker</th>\n",
              "      <th>utterance</th>\n",
              "      <th>call_date</th>\n",
              "      <th>financial_quarter</th>\n",
              "      <th>source_file</th>\n",
              "    </tr>\n",
              "  </thead>\n",
              "  <tbody>\n",
              "    <tr>\n",
              "      <th>0</th>\n",
              "      <td>Unknown</td>\n",
              "      <td>Youngwood, Group Chief Financial Officer Inclu...</td>\n",
              "      <td>25 April 2023</td>\n",
              "      <td>1Q23</td>\n",
              "      <td>1q23-earnings-call-remarks.pdf</td>\n",
              "    </tr>\n",
              "    <tr>\n",
              "      <th>1</th>\n",
              "      <td>Sergio P. Ermotti</td>\n",
              "      <td>Thank you, Sarah, good morning, everyone. I am...</td>\n",
              "      <td>25 April 2023</td>\n",
              "      <td>1Q23</td>\n",
              "      <td>1q23-earnings-call-remarks.pdf</td>\n",
              "    </tr>\n",
              "    <tr>\n",
              "      <th>2</th>\n",
              "      <td>Latin America.</td>\n",
              "      <td>In Asset Management, the combination will impr...</td>\n",
              "      <td>25 April 2023</td>\n",
              "      <td>1Q23</td>\n",
              "      <td>1q23-earnings-call-remarks.pdf</td>\n",
              "    </tr>\n",
              "    <tr>\n",
              "      <th>3</th>\n",
              "      <td>Sarah Youngwood</td>\n",
              "      <td>Thank you, Sergio. Good morning, everyone. rel...</td>\n",
              "      <td>25 April 2023</td>\n",
              "      <td>1Q23</td>\n",
              "      <td>1q23-earnings-call-remarks.pdf</td>\n",
              "    </tr>\n",
              "    <tr>\n",
              "      <th>4</th>\n",
              "      <td>Group Chief Financial Officer</td>\n",
              "      <td>Including analyst Q&amp;A session</td>\n",
              "      <td>7 May 2024</td>\n",
              "      <td>1Q24</td>\n",
              "      <td>1q24-earnings-call-remarks.pdf</td>\n",
              "    </tr>\n",
              "  </tbody>\n",
              "</table>\n",
              "</div>\n",
              "    <div class=\"colab-df-buttons\">\n",
              "\n",
              "  <div class=\"colab-df-container\">\n",
              "    <button class=\"colab-df-convert\" onclick=\"convertToInteractive('df-2cd43efb-65fd-4e12-80d0-61524fad2efe')\"\n",
              "            title=\"Convert this dataframe to an interactive table.\"\n",
              "            style=\"display:none;\">\n",
              "\n",
              "  <svg xmlns=\"http://www.w3.org/2000/svg\" height=\"24px\" viewBox=\"0 -960 960 960\">\n",
              "    <path d=\"M120-120v-720h720v720H120Zm60-500h600v-160H180v160Zm220 220h160v-160H400v160Zm0 220h160v-160H400v160ZM180-400h160v-160H180v160Zm440 0h160v-160H620v160ZM180-180h160v-160H180v160Zm440 0h160v-160H620v160Z\"/>\n",
              "  </svg>\n",
              "    </button>\n",
              "\n",
              "  <style>\n",
              "    .colab-df-container {\n",
              "      display:flex;\n",
              "      gap: 12px;\n",
              "    }\n",
              "\n",
              "    .colab-df-convert {\n",
              "      background-color: #E8F0FE;\n",
              "      border: none;\n",
              "      border-radius: 50%;\n",
              "      cursor: pointer;\n",
              "      display: none;\n",
              "      fill: #1967D2;\n",
              "      height: 32px;\n",
              "      padding: 0 0 0 0;\n",
              "      width: 32px;\n",
              "    }\n",
              "\n",
              "    .colab-df-convert:hover {\n",
              "      background-color: #E2EBFA;\n",
              "      box-shadow: 0px 1px 2px rgba(60, 64, 67, 0.3), 0px 1px 3px 1px rgba(60, 64, 67, 0.15);\n",
              "      fill: #174EA6;\n",
              "    }\n",
              "\n",
              "    .colab-df-buttons div {\n",
              "      margin-bottom: 4px;\n",
              "    }\n",
              "\n",
              "    [theme=dark] .colab-df-convert {\n",
              "      background-color: #3B4455;\n",
              "      fill: #D2E3FC;\n",
              "    }\n",
              "\n",
              "    [theme=dark] .colab-df-convert:hover {\n",
              "      background-color: #434B5C;\n",
              "      box-shadow: 0px 1px 3px 1px rgba(0, 0, 0, 0.15);\n",
              "      filter: drop-shadow(0px 1px 2px rgba(0, 0, 0, 0.3));\n",
              "      fill: #FFFFFF;\n",
              "    }\n",
              "  </style>\n",
              "\n",
              "    <script>\n",
              "      const buttonEl =\n",
              "        document.querySelector('#df-2cd43efb-65fd-4e12-80d0-61524fad2efe button.colab-df-convert');\n",
              "      buttonEl.style.display =\n",
              "        google.colab.kernel.accessAllowed ? 'block' : 'none';\n",
              "\n",
              "      async function convertToInteractive(key) {\n",
              "        const element = document.querySelector('#df-2cd43efb-65fd-4e12-80d0-61524fad2efe');\n",
              "        const dataTable =\n",
              "          await google.colab.kernel.invokeFunction('convertToInteractive',\n",
              "                                                    [key], {});\n",
              "        if (!dataTable) return;\n",
              "\n",
              "        const docLinkHtml = 'Like what you see? Visit the ' +\n",
              "          '<a target=\"_blank\" href=https://colab.research.google.com/notebooks/data_table.ipynb>data table notebook</a>'\n",
              "          + ' to learn more about interactive tables.';\n",
              "        element.innerHTML = '';\n",
              "        dataTable['output_type'] = 'display_data';\n",
              "        await google.colab.output.renderOutput(dataTable, element);\n",
              "        const docLink = document.createElement('div');\n",
              "        docLink.innerHTML = docLinkHtml;\n",
              "        element.appendChild(docLink);\n",
              "      }\n",
              "    </script>\n",
              "  </div>\n",
              "\n",
              "\n",
              "<div id=\"df-eab0d181-26ed-4856-b301-ec0606949d05\">\n",
              "  <button class=\"colab-df-quickchart\" onclick=\"quickchart('df-eab0d181-26ed-4856-b301-ec0606949d05')\"\n",
              "            title=\"Suggest charts\"\n",
              "            style=\"display:none;\">\n",
              "\n",
              "<svg xmlns=\"http://www.w3.org/2000/svg\" height=\"24px\"viewBox=\"0 0 24 24\"\n",
              "     width=\"24px\">\n",
              "    <g>\n",
              "        <path d=\"M19 3H5c-1.1 0-2 .9-2 2v14c0 1.1.9 2 2 2h14c1.1 0 2-.9 2-2V5c0-1.1-.9-2-2-2zM9 17H7v-7h2v7zm4 0h-2V7h2v10zm4 0h-2v-4h2v4z\"/>\n",
              "    </g>\n",
              "</svg>\n",
              "  </button>\n",
              "\n",
              "<style>\n",
              "  .colab-df-quickchart {\n",
              "      --bg-color: #E8F0FE;\n",
              "      --fill-color: #1967D2;\n",
              "      --hover-bg-color: #E2EBFA;\n",
              "      --hover-fill-color: #174EA6;\n",
              "      --disabled-fill-color: #AAA;\n",
              "      --disabled-bg-color: #DDD;\n",
              "  }\n",
              "\n",
              "  [theme=dark] .colab-df-quickchart {\n",
              "      --bg-color: #3B4455;\n",
              "      --fill-color: #D2E3FC;\n",
              "      --hover-bg-color: #434B5C;\n",
              "      --hover-fill-color: #FFFFFF;\n",
              "      --disabled-bg-color: #3B4455;\n",
              "      --disabled-fill-color: #666;\n",
              "  }\n",
              "\n",
              "  .colab-df-quickchart {\n",
              "    background-color: var(--bg-color);\n",
              "    border: none;\n",
              "    border-radius: 50%;\n",
              "    cursor: pointer;\n",
              "    display: none;\n",
              "    fill: var(--fill-color);\n",
              "    height: 32px;\n",
              "    padding: 0;\n",
              "    width: 32px;\n",
              "  }\n",
              "\n",
              "  .colab-df-quickchart:hover {\n",
              "    background-color: var(--hover-bg-color);\n",
              "    box-shadow: 0 1px 2px rgba(60, 64, 67, 0.3), 0 1px 3px 1px rgba(60, 64, 67, 0.15);\n",
              "    fill: var(--button-hover-fill-color);\n",
              "  }\n",
              "\n",
              "  .colab-df-quickchart-complete:disabled,\n",
              "  .colab-df-quickchart-complete:disabled:hover {\n",
              "    background-color: var(--disabled-bg-color);\n",
              "    fill: var(--disabled-fill-color);\n",
              "    box-shadow: none;\n",
              "  }\n",
              "\n",
              "  .colab-df-spinner {\n",
              "    border: 2px solid var(--fill-color);\n",
              "    border-color: transparent;\n",
              "    border-bottom-color: var(--fill-color);\n",
              "    animation:\n",
              "      spin 1s steps(1) infinite;\n",
              "  }\n",
              "\n",
              "  @keyframes spin {\n",
              "    0% {\n",
              "      border-color: transparent;\n",
              "      border-bottom-color: var(--fill-color);\n",
              "      border-left-color: var(--fill-color);\n",
              "    }\n",
              "    20% {\n",
              "      border-color: transparent;\n",
              "      border-left-color: var(--fill-color);\n",
              "      border-top-color: var(--fill-color);\n",
              "    }\n",
              "    30% {\n",
              "      border-color: transparent;\n",
              "      border-left-color: var(--fill-color);\n",
              "      border-top-color: var(--fill-color);\n",
              "      border-right-color: var(--fill-color);\n",
              "    }\n",
              "    40% {\n",
              "      border-color: transparent;\n",
              "      border-right-color: var(--fill-color);\n",
              "      border-top-color: var(--fill-color);\n",
              "    }\n",
              "    60% {\n",
              "      border-color: transparent;\n",
              "      border-right-color: var(--fill-color);\n",
              "    }\n",
              "    80% {\n",
              "      border-color: transparent;\n",
              "      border-right-color: var(--fill-color);\n",
              "      border-bottom-color: var(--fill-color);\n",
              "    }\n",
              "    90% {\n",
              "      border-color: transparent;\n",
              "      border-bottom-color: var(--fill-color);\n",
              "    }\n",
              "  }\n",
              "</style>\n",
              "\n",
              "  <script>\n",
              "    async function quickchart(key) {\n",
              "      const quickchartButtonEl =\n",
              "        document.querySelector('#' + key + ' button');\n",
              "      quickchartButtonEl.disabled = true;  // To prevent multiple clicks.\n",
              "      quickchartButtonEl.classList.add('colab-df-spinner');\n",
              "      try {\n",
              "        const charts = await google.colab.kernel.invokeFunction(\n",
              "            'suggestCharts', [key], {});\n",
              "      } catch (error) {\n",
              "        console.error('Error during call to suggestCharts:', error);\n",
              "      }\n",
              "      quickchartButtonEl.classList.remove('colab-df-spinner');\n",
              "      quickchartButtonEl.classList.add('colab-df-quickchart-complete');\n",
              "    }\n",
              "    (() => {\n",
              "      let quickchartButtonEl =\n",
              "        document.querySelector('#df-eab0d181-26ed-4856-b301-ec0606949d05 button');\n",
              "      quickchartButtonEl.style.display =\n",
              "        google.colab.kernel.accessAllowed ? 'block' : 'none';\n",
              "    })();\n",
              "  </script>\n",
              "</div>\n",
              "\n",
              "    </div>\n",
              "  </div>\n"
            ],
            "application/vnd.google.colaboratory.intrinsic+json": {
              "type": "dataframe",
              "variable_name": "ubs_manag_data",
              "summary": "{\n  \"name\": \"ubs_manag_data\",\n  \"rows\": 34,\n  \"fields\": [\n    {\n      \"column\": \"speaker\",\n      \"properties\": {\n        \"dtype\": \"category\",\n        \"num_unique_values\": 9,\n        \"samples\": [\n          \"Markets.\",\n          \"Sergio P. Ermotti\",\n          \"Todd Tuckner\"\n        ],\n        \"semantic_type\": \"\",\n        \"description\": \"\"\n      }\n    },\n    {\n      \"column\": \"utterance\",\n      \"properties\": {\n        \"dtype\": \"string\",\n        \"num_unique_values\": 28,\n        \"samples\": [\n          \"Sequentially, revenues declined by 38%, driven by Credit Suisse\\u2019s Investment Bank, down 78%, where the sharp drop in revenues was due to little-to-no new activity in the context of expected exits following the acquisition. Second quarter revenues also reflected elevated funding costs, primarily from the Swiss National Bank facilities. Going forward, we\\u2019ll focus on two key priorities in relation to Credit Suisse\\u2019s Investment Bank and Capital Release Unit. First, rebuild activity and profitability levels of the businesses we decided to retain as part of our core Investment Bank. And second, actively manage the wind-down of businesses and positions that are not aligned to our strategy. These include those already in the Credit Suisse Capital Release Unit and Investment Bank not retained as core, and will be managed and reported within our Non-Core and Legacy segment beginning in the third quarter. Moreover, as the wind down is executed, we\\u2019ll decisively take out all costs in relation to resources, technology and real estate that are not needed to support either what is retained in our core Investment Bank or what is strictly required to efficiently wind-down businesses and positions managed by our Non-core and Legacy team. In contrast to Credit Suisse\\u2019s Investment Bank and Capital Release Unit, we saw relative stability across Credit Suisse\\u2019s Wealth Management, Swiss Bank and Asset Management segments. In Credit Suisse Wealth Management, we\\u2019ve seen a stabilization of net new assets, trending from substantial outflows in April to net inflows in June, with 14 billion dollars of net new deposits in the quarter. We remain focused on introducing Credit Suisse\\u2019s clients to the unrivaled value proposition of the combined firm to counterbalance any headwinds to our flows from lag effects stemming from past or future attrition of Credit Suisse relationship managers. In addition to clear and decisive actions to retain client assets, we also implemented client advisor incentive programs with the clear objective to \\u201cwin back\\u201d and sustainably retain client assets. Quarter to date, these actions have helped us to attract net new deposits of 10 billion dollars and positive net new assets in the Credit Suisse wealth management franchise. Credit Suisse\\u2019s adjusted operating expenses were down 10% sequentially, reflecting actions initiated before and after the merger announcement, as well as voluntary attrition of employees. As of the end of the second quarter, headcount was down by over 8,000 compared to the end of 2022, split roughly equally between internal and external staff. 2.0 billion, and the Credit Suisse sub-group pre-tax loss of 2.2 billion, after translation to US dollars, equals a combined pro forma Group operating loss of around negative 0.3 billion. You can consider this indicative level as a useful starting point to contextualize the trajectory of our underlying profitability going forward, and assess the steps we are taking to achieve our ambitions. First and foremost, we\\u2019re executing on our cost reduction plans at pace and we expect positive combined underlying profits in the second half of 2023. We expect to deliver underlying exit rate cost savings of over 3 integration-related expenses in 2H23. While neutral to our underlying performance, I would note that such integration-related expenses will be partly offset by pull-to-par effects of over 1 and a half billion. Second, asset and deposit retention and win-back initiatives will continue to support the positive momentum across our wealth management businesses. In particular we expect to see positive underlying contribution from the Credit Suisse wealth management franchise by the first half of 2024. We will apply this same systematic approach to client and asset retention and win-back across all of our core franchises, especially following today\\u2019s announcement in connection with the Swiss businesses. National Bank facilities that Credit Suisse reported in its Corporate Center. The repayment of these facilities will lead to materially lower funding costs in the third quarter and further benefits in the fourth quarter for the combined Group. Continuing on the NII topic, sequentially for 3Q23, we expect a low single-digit percentage decline in our combined wealth management businesses, with positive contribution from the Credit Suisse franchise, and a mid-single-digit percentage decline in our Swiss businesses. This excludes the pull to par effects I mentioned earlier. These elements, in combination with disciplined resource management and a focused execution mindset across the leadership team, give us confidence in our ability to deliver a successful integration, starting with approaching break-even in the third quarter and returning to positive underlying profitability before the end of the year. With that I\\u2019ll hand back to Sergio for his closing remarks. Sergio P. Ermotti \\u2013 closing remarks Thank you, Todd. As we speak, the geopolitical and macroeconomic outlook remains volatile and difficult to predict. Of course, major developments on this front will impact our business in the short term. As always, our first priority is to stay close to clients and help them manage the challenges and opportunities presented by this uncertain environment. For us, this is business as usual and we remain focused on this priority. At the same time, we will also execute on our integration plans with determination and pace. That will unlock significant economies of scale allowing us to fund future investments as we continue to pursue growth opportunities. We are well aware of the additional trust and responsibility that accompany this transaction. We will not betray that trust, remaining faithful to our strong culture and conservative risk management. I am excited about the opportunities that lie ahead of us. I strongly believe UBS will emerge as a stronger global financial institution, one of even greater value to its clients, while remaining safe and delivering superior returns. With that let\\u2019s get started with questions.\",\n          \"Thank you, Todd. For over a decade, UBS has been a source of strength and stability for all of our stakeholders thanks to the consistent execution of our capital-generative strategy and a commitment to maintaining a balance sheet for all seasons. Our global capabilities empower strong collaboration across our businesses to deliver the best of UBS to our clients, and our disciplined focus on risk and efficiency is at the forefront of our culture. This is why our clients continue to extend their trust and confidence in UBS, and our employees are proud to work here. It is how we generate significant value for our shareholders while remaining a consistent and reliable economic partner in the communities where we operate. And it has also allowed us to be a source of financial stability for Switzerland and the wider financial system in March of 2023. The same principles guide us as we build an even stronger, safer and more efficient firm, and position UBS for sustainably higher returns and long-term growth. Our unique business model, with our asset gathering businesses generating around 60% of our revenues, provides us with an attractive risk and return profile that continues to stand out among our global peers. We are the largest truly global wealth manager, and the leading universal bank in Switzerland. These two key pillars of our strategy are enhanced by a portfolio of best-in-class capabilities across Asset Management and our competitive, but capital-light Investment Bank. With leading franchises in the world\\u2019s largest and fastest-growing markets, our regional diversification is a strategic advantage and also provides us unique value for both our clients and investors. Turning to the integration. As I highlighted earlier, we are on track with our plans thanks to the successful delivery of our key objectives in 2024, having completed over 4,000 milestones during the year. Following the merger of our Parent Banks, we have now migrated over 90% of client accounts outside of Switzerland onto UBS platforms. In addition, the integration of the Investment Bank is now complete, and in Asset Management, we made good progress migrating portfolios onto our infrastructure and rationalizing our fund shelf. We also continue to follow our technology decommissioning roadmap. To date, we have removed over 40% of Non-core and Legacy\\u2019s applications, worked through 16 petabytes of data and reduced the number of legacy servers by over 40%. Thanks to our restructuring efforts and the active wind-down of NCL, we have captured almost 60% of our targeted 13 billion gross cost savings. We will look to maintain this momentum in 2025 as our focus shifts to migrating the majority of client accounts in Switzerland, and decommissioning over twelve hundred Credit Suisse models and applications. We have always said that our progress on the integration of Credit Suisse will not be a straight line. Our performance in 2025 will continue to reflect significant restructuring work necessary to integrate our businesses and right-size our cost base. Having said that, our progress to date supports an incremental improvement in our returns this year compared to our previous guidance. We remain confident in our ability to substantially complete the integration and deliver on our targets and ambitions by the end of 2026. At the same time, we will continue to invest to drive sustainable growth and long-term value beyond the integration. Investing in technology to benefit our clients and empower our colleagues is one of the key ways we are preparing for the future. We continue to invest in our best-in-class Cloud infrastructure with over 70% in the public and private Cloud. This is a key facilitator of our integration progress, allowing us to reduce complexity and costs as we remove legacy applications, while maintaining our compliance and security standards. It is also an important catalyst for innovation as we continue to invest in tools to enhance our client offering and increase efficiency and effectiveness. A good example is our roll-out of 50,000 Microsoft Copilot licenses to our employees in the largest deployment within the global financial services industry to date. We are also seeing strong benefits from our proprietary generative A.I. solutions. One example is in the U.S. where our advanced analytics platform supported our financial advisors with over 13 million automated insights and actionable opportunities. Solutions like this improve productivity and our ability to deliver tailored solutions to our clients. We are on track to deliver on our 2026 exit rate ambitions across our core businesses. While we are encouraged In GWM, we remain focused on leveraging our enhanced capabilities and solutions to maintain client momentum. At the same time, we aim to capture the benefits of integration-related synergies and improve advisor productivity. With the client account migrations achieved in APAC, we are even better placed to leverage our number-one position in the region to drive market-leading growth. In the Americas, we are making targeted investments to deepen relationships with our ultra-high net worth clients, accelerate growth in the high net worth and core affluent segments and expand our loan and deposit offering. These growth initiatives will be supported by actions we have already taken to enhance our technology offering, simplify our organizational structure and improve execution. I am confident in our ability to deliver mid-teen PBT margins as we exit 2026. Then, the business will be better positioned to further expand profit margins and capture long-term growth. Todd will take you through our plans in more detail. In P&C, as we have said previously, declining Swiss franc rates are expected to continue to affect revenues. We are still de-facto operating two separate banks, including branches, staff, and technology, but we are well positioned to start delivering cost synergies later this year and into 2026 as we unite those platforms. Unfortunately, as we reported previously, this will lead to certain role reductions in Switzerland. We plan to mitigate the impact of these as much as possible through natural attrition, early retirement and other measures. For those impacted we will provide proactive support in helping to find a new job, and a comprehensive social plan that combines the strongest components of the prior UBS and Credit Suisse plans. I am also especially proud of efforts to prioritize the hiring of internal candidates: over two-thirds of open positions in Switzerland were filled this way in 2024. In Asset Management, we remain focused on continuing to capture opportunities where we have a differentiated and scalable offering. This includes our newly launched Unified Global Alternatives unit, which makes us the fifth-largest Limited Partner in Alternatives with promising growth prospects. At the same time, we will remain focused on realizing cost synergies and structural efficiencies to create capacity for investments and improve profitability. In the Investment Bank, I am encouraged by the progress our fully integrated teams are making to deliver for clients as we seize market share gains in our areas of strategic importance. As we continue to deploy our products and services across our broader institutional client base and increase connectivity to GWM and P&C to deliver on our return ambitions, we will maintain our well-established risk and capital discipline. Turning to capital. We continue to target a CET1 capital ratio of around 14%. At this level, we will be able to go through the integration period and beyond with a strong capital buffer relative to minimum requirements. This will allow us to remain a source of stability while we self-fund growth and deliver attractive capital returns to our shareholders. For the 2025 financial year, we plan to accrue for an increase in our dividend of around 10 percent. We also plan to repurchase another 1 billion dollars of shares in the first half of this year, and up to an additional 2 billion in the second half. As in the past, our share repurchases will be consistent with delivering on our financial plans and maintaining our CET1 capital ratio target of around 14%, and assuming no material, immediate changes to the current capital regime. Our ambition for capital returns to exceed pre-acquisition levels in 2026 remains unchanged. Now, following the publication of the Parliamentary Investigation Commission\\u2019s report in December, we expect further developments in the ongoing review of the capital regime in Switzerland. Based on the latest public communication from the State Secretariat for International Finance, the public consultation on the proposal is expected to begin in May. Therefore, at this time, we are not in a position to offer any new information. As we have said in the past, we support the vast majority of proposals from the Swiss Federal Council on how to enhance the regulatory framework in Switzerland. In our discussions with Swiss authorities, we continue to maintain our view that the Swiss capital regime is one of the strongest when consistently and coherently applied. While it is also crystal clear that the overall quality of our capital is of a much higher standard than Credit Suisse\\u2019s, we accept that some adjustments and clarifications to the current regime may be necessary. However, a disproportionate outcome in terms of requirements at the Parent Bank level would drive our capital at the Group level to overshoot the current requirements. Therefore, we believe that any significant change is unjustified. Offsetting the consequences of higher requirements would make us uncompetitive domestically and abroad, hamper our ability to help clients grow and, importantly, make banking services more expensive for Swiss families and enterprises in the long run. It will also damage the nation\\u2019s standing as an attractive global financial center and ultimately hurt our position as the third-largest private employer in Switzerland. Of course, this would have an impact on our returns on capital. But even more importantly it would impede our ability to compete for capital in the global marketplace, particularly in a moment of financial stress. As a reminder, our current ambitions are based on a 14% CET1 capital ratio. I\\u2019ve been reading some recent reports. So, let me be very clear. There are no easy fixes in terms of repatriation of capital from foreign subsidiaries or balance sheet optimization that are not already included in our plans. Therefore, while I am extremely confident in our capital generation capacity under any outcome, our shareholder returns and returns on capital would be affected. Todd will provide more detail later. We want to continue to be a source of strength for our clients, employees, shareholders and Switzerland. For that reason, it is very important that a comprehensive cost/benefit analysis on the consequences of any material changes of capital requirements is carried out. We remain hopeful that any potential changes will be proportionate, targeted, internationally aligned and coherent with the strategic objectives set out by the Swiss\",\n          \"Thank you, Sergio. Good morning everyone \\u2013 it is a privilege to be with you today as Group CFO, especially at this watershed moment for UBS. Since my appointment, my focus has been on the financial consolidation of the two firms, progressing the work done on transaction adjustments, optimizing our liquidity and funding position, firming up our cost savings and enhancing financial reporting controls for the expanded group. Regardless of whether staff come from Credit Suisse or UBS, I\\u2019ve been extremely impressed with the dedication of the finance team. I\\u2019m proud of what we as a unit have already been able to accomplish, and we, like the entire firm, continue to execute at pace. We recognize that this is a complex deal, but our aim is to be clear and forthcoming in explaining the financial implications of our actions during this critical period and beyond. Today, I\\u2019ll cover our second quarter operating performance, the impact of the merger on our balance sheet and capital as of day 1 and, finally, our integration plan and outlook. include one month of Credit Suisse\\u2019s operating performance, presented under IFRS and in US dollars. largely driven by the net impact from items related to the acquisition, principally negative goodwill of 28.9 billion and integration-related expenses and acquisition costs. Excluding these items, the Group pre-tax profit was 1.1 billion, of which 2.0 billion from the UBS sub-group, and negative 0.8 billion from the Credit Suisse sub-group. consideration UBS paid and the fair value of the acquired net assets after taking into account the various PPA adjustments of negative 25 billion. The roughly 6 billion difference between the negative goodwill reported today and the amount included in the Form F4 registration statement just prior to closing is principally explained by two factors. First, Credit Suisse generated operating losses over the first 5 months of 2023 that were not captured in the F4, which was prepared as if the transaction occurred on December 31, 2022. Second, we applied additional net negative PPA adjustments to Credit Suisse\\u2019s financial assets and liabilities, reflecting a more detailed fair value assessment post-closing. The total net PPA adjustments of negative 25 billion consist primarily of marks of negative 14.7 billion in connection with financial assets and liabilities. This includes negative 12.4 billion on mainly fixed-rate accrual assets and liabilities, of which around 8 and half billion relates to our core businesses and around 4 billion to Non-core and Legacy. In addition, we made negative 2.3 billion of further necessary adjustments to fair value positions, mostly related to Non-core and Legacy. The negative 8 and a half billion of marks on core-business accrual financial instruments include, for example, PPA adjustments on the Swiss mortgage book, which were almost entirely interest rate driven. The majority of the accrual-basis positions are expected to mature within the next 3 to 4 years and, if held to maturity, will pull to par. Of the total marks on accrual positions, 6 billion pre-tax, or 5 billion net of tax, are CET1 capital-neutral as FINMA has granted us transitional relief, which mainly applies to Swiss mortgages. The transitional treatment is subject to linear amortization concluding by June 30, 2027. The negative marks of 2.3 billion on fair value assets and liabilities that I mentioned earlier reflect UBS\\u2019s assessment of the complexity, liquidity and model risk uncertainties in the book, as well as the relevant markets for potential strategic exits. We also made PPA adjustments of negative 4.5 billion to capture UBS\\u2019s determination of Credit Suisse\\u2019s provisions and contingent liabilities related to litigation, regulatory and similar matters. This includes 1.5 billion of incremental provisions Credit Suisse took in the second quarter. Other net PPA adjustments, totaling to negative 5 and a half billion, largely relate to GAAP differences associated with pension accounting, but also goodwill and intangibles, and fair value marks on non-financial assets and liabilities, including software and real estate. Of the total negative 25 billion of PPA adjustments, negative 17 billion is CET1 capital-relevant, with the balance relating to the 5 billion regulatory waiver I mentioned earlier, and other items that are filtered out of CET1 capital, such as pension accounting differences, goodwill and intangibles. Overall, we believe the negative goodwill, including the PPA adjustments therein \\u2013 in addition to underpinning almost 240 billion of acquired RWA - provides us with sufficient capacity to absorb the costs to achieve our two key saving objectives: first, an efficient wind-down of the non-core businesses and associated overhead we acquired, and second, positive operating leverage and synergies in our core franchises. All while remaining capital-generative over the integration timeline. We are highly confident that we can successfully integrate Credit Suisse, enhancing our business model and operating metrics, while continuing to ensure we maintain world class capital ratios and a balance sheet for all seasons. we illustrate how the transaction strengthens key financial measures from day 1, offering us a highly attractive starting point as we commence this journey. Since the acquisition, our capital position is even stronger with almost 200 billion total loss absorbing capacity, and a CET1 capital ratio of 14.4%. Additionally, our tangible book value per share is up 49% quarter on quarter and, today, we manage over 5 and a half trillion dollars of invested assets with a unique and meaningful presence in all the major markets across the globe. reason why we were able to restore financial stability and client trust in such a short amount of time. As of the end of June, as just mentioned, our CET1 capital ratio was 14.4% and our CET1 leverage ratio was 4.8%. Included in our capital ratio this quarter are the impacts from the closing of the Credit Suisse acquisition, including a 10 billion operational risk RWA reduction from diversification benefits and a combined lower forward-looking risk profile. Looking through to the end of the year, we expect our CET1 capital ratio to remain around 14%, as the benefit of RWA reductions, improvements in our underlying profitability, mainly from cost saves, and CET1 capital-relevant pull-to-par effects from the PPA adjustments are expected to largely, but not fully, offset integration-related expenses. We also expect to maintain a CET1 capital ratio of around 14% and a CET1 leverage ratio or more than 4% over the medium-term. You have often heard us referring to our balance sheet for all seasons and our capital-generative operating model that allows us to service clients and invest in the business through the cycle. It\\u2019s how we\\u2019ve operated over the last decade, and it\\u2019s how we intend to continue to operate going forward. So rest assured, maintaining a balance sheet for all seasons will remain among our very top priorities. well above our prior quarter level, and a net stable funding ratio of 118%. The liquidity coverage ratio increase largely reflects the elevated HQLA levels at Credit Suisse, including the effect of the usage of the Swiss National Bank facilities. As Sergio highlighted, positive net new deposits in the past few months enabled us to repay ELA+ and terminate the Public Liquidity Backstop facility, as announced earlier this month. We expect to continue attracting net new deposits, and as of this week we\\u2019ve already seen, in the third quarter, 13 billion of positive net new deposit flows in our combined wealth management and Swiss franchises. While this will help us narrow the inherited funding gap and continue to manage our liquidity coverage ratio at prudent levels, we expect to resume execution of our funding plans shortly. In addition to maintaining significant liquidity and funding buffers on a consolidated basis, we\\u2019re actively managing the allocation of financial resources among our significant legal entities, which also have standalone funding requirements and will continue to operate while we progress towards our target legal entity structure. We\\u2019re working towards merging Credit Suisse AG into UBS AG in 2024, as this is a critical step to removing resource allocation bottlenecks and enabling the realization of business and operational efficiencies. earlier, and a gain on sale of 848 million in Asset Management last year, UBS\\u2019s pre-tax profit in the quarter was 2.0 billion, up 12% year-over-year. Before turning to the UBS sub-group business divisions starting on page 23, let me first point out that for the second quarter, the negative goodwill as well as a substantial portion of integration-related expenses have been retained and reported in Group Functions. Starting with the third quarter, we intend to consolidate the reporting of our business divisions across the UBS and Credit Suisse sub-groups, and we\\u2019ll report integration- related expenses in the respective combined segments. All references to figures are in US dollars and comparisons are year-over-year, unless stated otherwise. In Global Wealth Management, we delivered net new money of 16 billion, the strongest second quarter in over a decade, with inflows across Switzerland, EMEA and APAC, and despite 5 billion in seasonal tax payments in the US. We also delivered net new fee generating assets of 13 billion, or an annualized growth rate of 4% with positive flows across all regions, as well as net new deposits of 5 billion. These strong inflows across net new money, fee-generating assets and deposits demonstrate our continuous focus on active client engagement and the trust our clients place in us. This was especially important during a quarter where the macro backdrop and developments with Credit Suisse placed a premium on our investment advice and the stability of our GWM franchise. Profit before tax was 1.1 billion, down 4% despite strong growth in EMEA and Switzerland of 15% and 9%, respectively. Positive top-line contributions from all regions outside of Americas supported a 1% revenue increase, which was more than offset by higher expenses. In the Americas, revenues were down 4% mainly as net interest income reflected continued rotation into higher yielding deposits and investments from transactional and sweep deposit accounts. Although we expect NII in the Americas to continue to tick-down sequentially from ongoing cash sorting and deleveraging in the current rates environment, we nevertheless continue to see the US market as a strategic priority for us, and hence we continue to invest in the business for future growth. As a result, we expect our pre-tax margin in the Americas to be low double-digit to mid-teens over the near-term. Onto total GWM revenues. Net interest income was up 14% year-over-year, and down 3% sequentially, the latter reflecting mix shifts and lower deposit and loan balances, partly offset by higher deposit margins. Recurring net fee income decreased 3% due to negative market performance while positive inflows were offset by clients\\u2019 continued repositioning into lower margin solutions. As a reminder, we bill based on daily balances in the Americas and on month-end balances everywhere else. As such, second quarter revenues did not fully reflect June\\u2019s market rally, which we\\u2019re seeing benefit the third quarter. Transaction-based income decreased 6%, impacted by investor uncertainty, particularly in Americas and APAC. However, towards the end of the second quarter and into the third, we\\u2019re seeing a pick-up in both client sentiment and transactional momentum especially in APAC. Operating expenses ex-litigation, integration-related expenses and FX were up 3% driven by increases in technology and personnel expenses. one-off gains. Profit before tax was up 54% to 612 million Swiss francs. Revenues increased 24%, with increases across all revenue lines, highlighting continued momentum in the business. Net interest income increased by 45% year on year and 12% quarter-on-quarter. Sequentially, we continued to see loan growth, while the deposit base remained roughly stable. Costs were up 9%, driven by continued tech investments and higher personnel expenses. The cost-to-income ratio was 51%, a 7 percentage-point improvement year-on- year, demonstrating strong positive operating leverage. We saw strong momentum with 10% annualized growth in net new investment products and almost 6 thousand net new clients, reflecting the trust our clients continue to place in us. Excluding last year\\u2019s gain on sale, total revenues decreased 5%, with lower net management fees, driven by market headwinds, asset mix, as well as lower performance fees. These headwinds were partially offset by 1% lower costs. Net new money in the quarter was strong at 17 billion, a 6% annualized growth rate. Net new money excluding money markets and associates was 19.5 billion, with positive momentum in SMAs and alternatives. The operating environment for the Investment Bank\\u2019s trading businesses was defined by significantly lower equity volatility levels compared to the prior-year period. Within Global Markets, this resulted in a meaningful decline in client activity levels across both Equities and FRC, where revenues of 1.5 billion were down 11%, broadly consistent with our peer group. on record. This demonstrates the resilience of our balanced portfolio of risk-efficient businesses, as we continue to invest in capabilities that are critical to our clients. Global Banking revenues of 371 million were down 2% as the second quarter saw the global fee pool hit its lowest quarterly level since 2012. In the second quarter we significantly outperformed the fee pool in EMEA and gained share in global M&A. Operating expenses were up 2%, predominantly on higher tech investments offsetting lower provisions for litigation, regulatory and similar matters. (2.1bn) adjusted loss (CHF, US GAAP) earlier today. Credit Suisse AG\\u2019s reported pre-tax loss for the second quarter was 8.9 billion Swiss francs. This result includes several large items, including 2.2 billion in adjustments to fair value marks, 1.8 billion in software write-downs, 1.3 billion in additional litigation provisions, and 1.0 billion for a goodwill impairment. Stripping out these and other items that are not representative of Credit Suisse AG\\u2019s underlying performance in the quarter, the adjusted operating loss was 2.1 billion Swiss francs. consolidation scope. Including those entities, the Credit Suisse sub-group\\u2019s pro-forma second quarter adjusted operating loss was 2.0 billion Swiss francs. In discussing the Credit Suisse sub-group performance in the second quarter, I\\u2019ll focus on this 2-billion Swiss franc adjusted loss as it better informs the starting point for the group in combination with UBS\\u2019s quarterly underlying performance. Suisse Investment Bank and the Capital Release Unit, as well as elevated funding costs in the Credit Suisse\"\n        ],\n        \"semantic_type\": \"\",\n        \"description\": \"\"\n      }\n    },\n    {\n      \"column\": \"call_date\",\n      \"properties\": {\n        \"dtype\": \"object\",\n        \"num_unique_values\": 8,\n        \"samples\": [\n          \"7 May 2024\",\n          \"30 October 2024\",\n          \"25 April 2023\"\n        ],\n        \"semantic_type\": \"\",\n        \"description\": \"\"\n      }\n    },\n    {\n      \"column\": \"financial_quarter\",\n      \"properties\": {\n        \"dtype\": \"object\",\n        \"num_unique_values\": 8,\n        \"samples\": [\n          \"1Q24\",\n          \"3Q24\",\n          \"1Q23\"\n        ],\n        \"semantic_type\": \"\",\n        \"description\": \"\"\n      }\n    },\n    {\n      \"column\": \"source_file\",\n      \"properties\": {\n        \"dtype\": \"category\",\n        \"num_unique_values\": 8,\n        \"samples\": [\n          \"1q24-earnings-call-remarks.pdf\",\n          \"3q24-earnings-call-remarks.pdf\",\n          \"1q23-earnings-call-remarks.pdf\"\n        ],\n        \"semantic_type\": \"\",\n        \"description\": \"\"\n      }\n    }\n  ]\n}"
            }
          },
          "metadata": {},
          "execution_count": 31
        }
      ]
    },
    {
      "cell_type": "code",
      "source": [
        "preprocessor( ubs_manag_data, \"utterance\", \"question_tokenised_data\", \"Utterance_cleaned\" )"
      ],
      "metadata": {
        "id": "BJtHz_lyFnS5"
      },
      "execution_count": null,
      "outputs": []
    },
    {
      "cell_type": "code",
      "source": [
        "#Rename columns\n",
        "ubs_manag_data.rename(columns={\"financial_quarter\":\"Quarter\",\"speaker\":\"Speaker\",\"utterance\":\"Utterance\"}, inplace=True)\n",
        "#ubs_manag_data.head()"
      ],
      "metadata": {
        "id": "yl3AoZDYF5GM"
      },
      "execution_count": null,
      "outputs": []
    },
    {
      "cell_type": "code",
      "source": [
        "#Reorder the columns\n",
        "ubs_manag_data=ubs_manag_data[[\"Quarter\",\"Speaker\",\"Utterance\",\"Utterance_cleaned\"]]\n",
        "ubs_manag_data.head()"
      ],
      "metadata": {
        "id": "nImjk9tfGVq0",
        "outputId": "b7bd6770-ae3f-4ba0-956a-6fd0c5a00627",
        "colab": {
          "base_uri": "https://localhost:8080/",
          "height": 206
        }
      },
      "execution_count": null,
      "outputs": [
        {
          "output_type": "execute_result",
          "data": {
            "text/plain": [
              "  Quarter                        Speaker  \\\n",
              "0    1Q23                        Unknown   \n",
              "1    1Q23              Sergio P. Ermotti   \n",
              "2    1Q23                 Latin America.   \n",
              "3    1Q23                Sarah Youngwood   \n",
              "4    1Q24  Group Chief Financial Officer   \n",
              "\n",
              "                                           Utterance  \\\n",
              "0  Youngwood, Group Chief Financial Officer Inclu...   \n",
              "1  Thank you, Sarah, good morning, everyone. I am...   \n",
              "2  In Asset Management, the combination will impr...   \n",
              "3  Thank you, Sergio. Good morning, everyone. rel...   \n",
              "4                      Including analyst Q&A session   \n",
              "\n",
              "                                   Utterance_cleaned  \n",
              "0  [youngwood group chief financial officer inclu...  \n",
              "1  [thank you sarah good morning everyone happy b...  \n",
              "2  [asset management combination improve position...  \n",
              "3  [thank you sergio good morning everyone relate...  \n",
              "4                    [including analyst q&a session]  "
            ],
            "text/html": [
              "\n",
              "  <div id=\"df-91867e2a-3ad6-4d83-98f5-c1725842c7ad\" class=\"colab-df-container\">\n",
              "    <div>\n",
              "<style scoped>\n",
              "    .dataframe tbody tr th:only-of-type {\n",
              "        vertical-align: middle;\n",
              "    }\n",
              "\n",
              "    .dataframe tbody tr th {\n",
              "        vertical-align: top;\n",
              "    }\n",
              "\n",
              "    .dataframe thead th {\n",
              "        text-align: right;\n",
              "    }\n",
              "</style>\n",
              "<table border=\"1\" class=\"dataframe\">\n",
              "  <thead>\n",
              "    <tr style=\"text-align: right;\">\n",
              "      <th></th>\n",
              "      <th>Quarter</th>\n",
              "      <th>Speaker</th>\n",
              "      <th>Utterance</th>\n",
              "      <th>Utterance_cleaned</th>\n",
              "    </tr>\n",
              "  </thead>\n",
              "  <tbody>\n",
              "    <tr>\n",
              "      <th>0</th>\n",
              "      <td>1Q23</td>\n",
              "      <td>Unknown</td>\n",
              "      <td>Youngwood, Group Chief Financial Officer Inclu...</td>\n",
              "      <td>[youngwood group chief financial officer inclu...</td>\n",
              "    </tr>\n",
              "    <tr>\n",
              "      <th>1</th>\n",
              "      <td>1Q23</td>\n",
              "      <td>Sergio P. Ermotti</td>\n",
              "      <td>Thank you, Sarah, good morning, everyone. I am...</td>\n",
              "      <td>[thank you sarah good morning everyone happy b...</td>\n",
              "    </tr>\n",
              "    <tr>\n",
              "      <th>2</th>\n",
              "      <td>1Q23</td>\n",
              "      <td>Latin America.</td>\n",
              "      <td>In Asset Management, the combination will impr...</td>\n",
              "      <td>[asset management combination improve position...</td>\n",
              "    </tr>\n",
              "    <tr>\n",
              "      <th>3</th>\n",
              "      <td>1Q23</td>\n",
              "      <td>Sarah Youngwood</td>\n",
              "      <td>Thank you, Sergio. Good morning, everyone. rel...</td>\n",
              "      <td>[thank you sergio good morning everyone relate...</td>\n",
              "    </tr>\n",
              "    <tr>\n",
              "      <th>4</th>\n",
              "      <td>1Q24</td>\n",
              "      <td>Group Chief Financial Officer</td>\n",
              "      <td>Including analyst Q&amp;A session</td>\n",
              "      <td>[including analyst q&amp;a session]</td>\n",
              "    </tr>\n",
              "  </tbody>\n",
              "</table>\n",
              "</div>\n",
              "    <div class=\"colab-df-buttons\">\n",
              "\n",
              "  <div class=\"colab-df-container\">\n",
              "    <button class=\"colab-df-convert\" onclick=\"convertToInteractive('df-91867e2a-3ad6-4d83-98f5-c1725842c7ad')\"\n",
              "            title=\"Convert this dataframe to an interactive table.\"\n",
              "            style=\"display:none;\">\n",
              "\n",
              "  <svg xmlns=\"http://www.w3.org/2000/svg\" height=\"24px\" viewBox=\"0 -960 960 960\">\n",
              "    <path d=\"M120-120v-720h720v720H120Zm60-500h600v-160H180v160Zm220 220h160v-160H400v160Zm0 220h160v-160H400v160ZM180-400h160v-160H180v160Zm440 0h160v-160H620v160ZM180-180h160v-160H180v160Zm440 0h160v-160H620v160Z\"/>\n",
              "  </svg>\n",
              "    </button>\n",
              "\n",
              "  <style>\n",
              "    .colab-df-container {\n",
              "      display:flex;\n",
              "      gap: 12px;\n",
              "    }\n",
              "\n",
              "    .colab-df-convert {\n",
              "      background-color: #E8F0FE;\n",
              "      border: none;\n",
              "      border-radius: 50%;\n",
              "      cursor: pointer;\n",
              "      display: none;\n",
              "      fill: #1967D2;\n",
              "      height: 32px;\n",
              "      padding: 0 0 0 0;\n",
              "      width: 32px;\n",
              "    }\n",
              "\n",
              "    .colab-df-convert:hover {\n",
              "      background-color: #E2EBFA;\n",
              "      box-shadow: 0px 1px 2px rgba(60, 64, 67, 0.3), 0px 1px 3px 1px rgba(60, 64, 67, 0.15);\n",
              "      fill: #174EA6;\n",
              "    }\n",
              "\n",
              "    .colab-df-buttons div {\n",
              "      margin-bottom: 4px;\n",
              "    }\n",
              "\n",
              "    [theme=dark] .colab-df-convert {\n",
              "      background-color: #3B4455;\n",
              "      fill: #D2E3FC;\n",
              "    }\n",
              "\n",
              "    [theme=dark] .colab-df-convert:hover {\n",
              "      background-color: #434B5C;\n",
              "      box-shadow: 0px 1px 3px 1px rgba(0, 0, 0, 0.15);\n",
              "      filter: drop-shadow(0px 1px 2px rgba(0, 0, 0, 0.3));\n",
              "      fill: #FFFFFF;\n",
              "    }\n",
              "  </style>\n",
              "\n",
              "    <script>\n",
              "      const buttonEl =\n",
              "        document.querySelector('#df-91867e2a-3ad6-4d83-98f5-c1725842c7ad button.colab-df-convert');\n",
              "      buttonEl.style.display =\n",
              "        google.colab.kernel.accessAllowed ? 'block' : 'none';\n",
              "\n",
              "      async function convertToInteractive(key) {\n",
              "        const element = document.querySelector('#df-91867e2a-3ad6-4d83-98f5-c1725842c7ad');\n",
              "        const dataTable =\n",
              "          await google.colab.kernel.invokeFunction('convertToInteractive',\n",
              "                                                    [key], {});\n",
              "        if (!dataTable) return;\n",
              "\n",
              "        const docLinkHtml = 'Like what you see? Visit the ' +\n",
              "          '<a target=\"_blank\" href=https://colab.research.google.com/notebooks/data_table.ipynb>data table notebook</a>'\n",
              "          + ' to learn more about interactive tables.';\n",
              "        element.innerHTML = '';\n",
              "        dataTable['output_type'] = 'display_data';\n",
              "        await google.colab.output.renderOutput(dataTable, element);\n",
              "        const docLink = document.createElement('div');\n",
              "        docLink.innerHTML = docLinkHtml;\n",
              "        element.appendChild(docLink);\n",
              "      }\n",
              "    </script>\n",
              "  </div>\n",
              "\n",
              "\n",
              "<div id=\"df-0256a9e3-b3c6-47a8-8bbb-6f6687d0927d\">\n",
              "  <button class=\"colab-df-quickchart\" onclick=\"quickchart('df-0256a9e3-b3c6-47a8-8bbb-6f6687d0927d')\"\n",
              "            title=\"Suggest charts\"\n",
              "            style=\"display:none;\">\n",
              "\n",
              "<svg xmlns=\"http://www.w3.org/2000/svg\" height=\"24px\"viewBox=\"0 0 24 24\"\n",
              "     width=\"24px\">\n",
              "    <g>\n",
              "        <path d=\"M19 3H5c-1.1 0-2 .9-2 2v14c0 1.1.9 2 2 2h14c1.1 0 2-.9 2-2V5c0-1.1-.9-2-2-2zM9 17H7v-7h2v7zm4 0h-2V7h2v10zm4 0h-2v-4h2v4z\"/>\n",
              "    </g>\n",
              "</svg>\n",
              "  </button>\n",
              "\n",
              "<style>\n",
              "  .colab-df-quickchart {\n",
              "      --bg-color: #E8F0FE;\n",
              "      --fill-color: #1967D2;\n",
              "      --hover-bg-color: #E2EBFA;\n",
              "      --hover-fill-color: #174EA6;\n",
              "      --disabled-fill-color: #AAA;\n",
              "      --disabled-bg-color: #DDD;\n",
              "  }\n",
              "\n",
              "  [theme=dark] .colab-df-quickchart {\n",
              "      --bg-color: #3B4455;\n",
              "      --fill-color: #D2E3FC;\n",
              "      --hover-bg-color: #434B5C;\n",
              "      --hover-fill-color: #FFFFFF;\n",
              "      --disabled-bg-color: #3B4455;\n",
              "      --disabled-fill-color: #666;\n",
              "  }\n",
              "\n",
              "  .colab-df-quickchart {\n",
              "    background-color: var(--bg-color);\n",
              "    border: none;\n",
              "    border-radius: 50%;\n",
              "    cursor: pointer;\n",
              "    display: none;\n",
              "    fill: var(--fill-color);\n",
              "    height: 32px;\n",
              "    padding: 0;\n",
              "    width: 32px;\n",
              "  }\n",
              "\n",
              "  .colab-df-quickchart:hover {\n",
              "    background-color: var(--hover-bg-color);\n",
              "    box-shadow: 0 1px 2px rgba(60, 64, 67, 0.3), 0 1px 3px 1px rgba(60, 64, 67, 0.15);\n",
              "    fill: var(--button-hover-fill-color);\n",
              "  }\n",
              "\n",
              "  .colab-df-quickchart-complete:disabled,\n",
              "  .colab-df-quickchart-complete:disabled:hover {\n",
              "    background-color: var(--disabled-bg-color);\n",
              "    fill: var(--disabled-fill-color);\n",
              "    box-shadow: none;\n",
              "  }\n",
              "\n",
              "  .colab-df-spinner {\n",
              "    border: 2px solid var(--fill-color);\n",
              "    border-color: transparent;\n",
              "    border-bottom-color: var(--fill-color);\n",
              "    animation:\n",
              "      spin 1s steps(1) infinite;\n",
              "  }\n",
              "\n",
              "  @keyframes spin {\n",
              "    0% {\n",
              "      border-color: transparent;\n",
              "      border-bottom-color: var(--fill-color);\n",
              "      border-left-color: var(--fill-color);\n",
              "    }\n",
              "    20% {\n",
              "      border-color: transparent;\n",
              "      border-left-color: var(--fill-color);\n",
              "      border-top-color: var(--fill-color);\n",
              "    }\n",
              "    30% {\n",
              "      border-color: transparent;\n",
              "      border-left-color: var(--fill-color);\n",
              "      border-top-color: var(--fill-color);\n",
              "      border-right-color: var(--fill-color);\n",
              "    }\n",
              "    40% {\n",
              "      border-color: transparent;\n",
              "      border-right-color: var(--fill-color);\n",
              "      border-top-color: var(--fill-color);\n",
              "    }\n",
              "    60% {\n",
              "      border-color: transparent;\n",
              "      border-right-color: var(--fill-color);\n",
              "    }\n",
              "    80% {\n",
              "      border-color: transparent;\n",
              "      border-right-color: var(--fill-color);\n",
              "      border-bottom-color: var(--fill-color);\n",
              "    }\n",
              "    90% {\n",
              "      border-color: transparent;\n",
              "      border-bottom-color: var(--fill-color);\n",
              "    }\n",
              "  }\n",
              "</style>\n",
              "\n",
              "  <script>\n",
              "    async function quickchart(key) {\n",
              "      const quickchartButtonEl =\n",
              "        document.querySelector('#' + key + ' button');\n",
              "      quickchartButtonEl.disabled = true;  // To prevent multiple clicks.\n",
              "      quickchartButtonEl.classList.add('colab-df-spinner');\n",
              "      try {\n",
              "        const charts = await google.colab.kernel.invokeFunction(\n",
              "            'suggestCharts', [key], {});\n",
              "      } catch (error) {\n",
              "        console.error('Error during call to suggestCharts:', error);\n",
              "      }\n",
              "      quickchartButtonEl.classList.remove('colab-df-spinner');\n",
              "      quickchartButtonEl.classList.add('colab-df-quickchart-complete');\n",
              "    }\n",
              "    (() => {\n",
              "      let quickchartButtonEl =\n",
              "        document.querySelector('#df-0256a9e3-b3c6-47a8-8bbb-6f6687d0927d button');\n",
              "      quickchartButtonEl.style.display =\n",
              "        google.colab.kernel.accessAllowed ? 'block' : 'none';\n",
              "    })();\n",
              "  </script>\n",
              "</div>\n",
              "\n",
              "    </div>\n",
              "  </div>\n"
            ],
            "application/vnd.google.colaboratory.intrinsic+json": {
              "type": "dataframe",
              "variable_name": "ubs_manag_data",
              "summary": "{\n  \"name\": \"ubs_manag_data\",\n  \"rows\": 34,\n  \"fields\": [\n    {\n      \"column\": \"Quarter\",\n      \"properties\": {\n        \"dtype\": \"object\",\n        \"num_unique_values\": 8,\n        \"samples\": [\n          \"1Q24\",\n          \"3Q24\",\n          \"1Q23\"\n        ],\n        \"semantic_type\": \"\",\n        \"description\": \"\"\n      }\n    },\n    {\n      \"column\": \"Speaker\",\n      \"properties\": {\n        \"dtype\": \"category\",\n        \"num_unique_values\": 9,\n        \"samples\": [\n          \"Markets.\",\n          \"Sergio P. Ermotti\",\n          \"Todd Tuckner\"\n        ],\n        \"semantic_type\": \"\",\n        \"description\": \"\"\n      }\n    },\n    {\n      \"column\": \"Utterance\",\n      \"properties\": {\n        \"dtype\": \"string\",\n        \"num_unique_values\": 28,\n        \"samples\": [\n          \"Sequentially, revenues declined by 38%, driven by Credit Suisse\\u2019s Investment Bank, down 78%, where the sharp drop in revenues was due to little-to-no new activity in the context of expected exits following the acquisition. Second quarter revenues also reflected elevated funding costs, primarily from the Swiss National Bank facilities. Going forward, we\\u2019ll focus on two key priorities in relation to Credit Suisse\\u2019s Investment Bank and Capital Release Unit. First, rebuild activity and profitability levels of the businesses we decided to retain as part of our core Investment Bank. And second, actively manage the wind-down of businesses and positions that are not aligned to our strategy. These include those already in the Credit Suisse Capital Release Unit and Investment Bank not retained as core, and will be managed and reported within our Non-Core and Legacy segment beginning in the third quarter. Moreover, as the wind down is executed, we\\u2019ll decisively take out all costs in relation to resources, technology and real estate that are not needed to support either what is retained in our core Investment Bank or what is strictly required to efficiently wind-down businesses and positions managed by our Non-core and Legacy team. In contrast to Credit Suisse\\u2019s Investment Bank and Capital Release Unit, we saw relative stability across Credit Suisse\\u2019s Wealth Management, Swiss Bank and Asset Management segments. In Credit Suisse Wealth Management, we\\u2019ve seen a stabilization of net new assets, trending from substantial outflows in April to net inflows in June, with 14 billion dollars of net new deposits in the quarter. We remain focused on introducing Credit Suisse\\u2019s clients to the unrivaled value proposition of the combined firm to counterbalance any headwinds to our flows from lag effects stemming from past or future attrition of Credit Suisse relationship managers. In addition to clear and decisive actions to retain client assets, we also implemented client advisor incentive programs with the clear objective to \\u201cwin back\\u201d and sustainably retain client assets. Quarter to date, these actions have helped us to attract net new deposits of 10 billion dollars and positive net new assets in the Credit Suisse wealth management franchise. Credit Suisse\\u2019s adjusted operating expenses were down 10% sequentially, reflecting actions initiated before and after the merger announcement, as well as voluntary attrition of employees. As of the end of the second quarter, headcount was down by over 8,000 compared to the end of 2022, split roughly equally between internal and external staff. 2.0 billion, and the Credit Suisse sub-group pre-tax loss of 2.2 billion, after translation to US dollars, equals a combined pro forma Group operating loss of around negative 0.3 billion. You can consider this indicative level as a useful starting point to contextualize the trajectory of our underlying profitability going forward, and assess the steps we are taking to achieve our ambitions. First and foremost, we\\u2019re executing on our cost reduction plans at pace and we expect positive combined underlying profits in the second half of 2023. We expect to deliver underlying exit rate cost savings of over 3 integration-related expenses in 2H23. While neutral to our underlying performance, I would note that such integration-related expenses will be partly offset by pull-to-par effects of over 1 and a half billion. Second, asset and deposit retention and win-back initiatives will continue to support the positive momentum across our wealth management businesses. In particular we expect to see positive underlying contribution from the Credit Suisse wealth management franchise by the first half of 2024. We will apply this same systematic approach to client and asset retention and win-back across all of our core franchises, especially following today\\u2019s announcement in connection with the Swiss businesses. National Bank facilities that Credit Suisse reported in its Corporate Center. The repayment of these facilities will lead to materially lower funding costs in the third quarter and further benefits in the fourth quarter for the combined Group. Continuing on the NII topic, sequentially for 3Q23, we expect a low single-digit percentage decline in our combined wealth management businesses, with positive contribution from the Credit Suisse franchise, and a mid-single-digit percentage decline in our Swiss businesses. This excludes the pull to par effects I mentioned earlier. These elements, in combination with disciplined resource management and a focused execution mindset across the leadership team, give us confidence in our ability to deliver a successful integration, starting with approaching break-even in the third quarter and returning to positive underlying profitability before the end of the year. With that I\\u2019ll hand back to Sergio for his closing remarks. Sergio P. Ermotti \\u2013 closing remarks Thank you, Todd. As we speak, the geopolitical and macroeconomic outlook remains volatile and difficult to predict. Of course, major developments on this front will impact our business in the short term. As always, our first priority is to stay close to clients and help them manage the challenges and opportunities presented by this uncertain environment. For us, this is business as usual and we remain focused on this priority. At the same time, we will also execute on our integration plans with determination and pace. That will unlock significant economies of scale allowing us to fund future investments as we continue to pursue growth opportunities. We are well aware of the additional trust and responsibility that accompany this transaction. We will not betray that trust, remaining faithful to our strong culture and conservative risk management. I am excited about the opportunities that lie ahead of us. I strongly believe UBS will emerge as a stronger global financial institution, one of even greater value to its clients, while remaining safe and delivering superior returns. With that let\\u2019s get started with questions.\",\n          \"Thank you, Todd. For over a decade, UBS has been a source of strength and stability for all of our stakeholders thanks to the consistent execution of our capital-generative strategy and a commitment to maintaining a balance sheet for all seasons. Our global capabilities empower strong collaboration across our businesses to deliver the best of UBS to our clients, and our disciplined focus on risk and efficiency is at the forefront of our culture. This is why our clients continue to extend their trust and confidence in UBS, and our employees are proud to work here. It is how we generate significant value for our shareholders while remaining a consistent and reliable economic partner in the communities where we operate. And it has also allowed us to be a source of financial stability for Switzerland and the wider financial system in March of 2023. The same principles guide us as we build an even stronger, safer and more efficient firm, and position UBS for sustainably higher returns and long-term growth. Our unique business model, with our asset gathering businesses generating around 60% of our revenues, provides us with an attractive risk and return profile that continues to stand out among our global peers. We are the largest truly global wealth manager, and the leading universal bank in Switzerland. These two key pillars of our strategy are enhanced by a portfolio of best-in-class capabilities across Asset Management and our competitive, but capital-light Investment Bank. With leading franchises in the world\\u2019s largest and fastest-growing markets, our regional diversification is a strategic advantage and also provides us unique value for both our clients and investors. Turning to the integration. As I highlighted earlier, we are on track with our plans thanks to the successful delivery of our key objectives in 2024, having completed over 4,000 milestones during the year. Following the merger of our Parent Banks, we have now migrated over 90% of client accounts outside of Switzerland onto UBS platforms. In addition, the integration of the Investment Bank is now complete, and in Asset Management, we made good progress migrating portfolios onto our infrastructure and rationalizing our fund shelf. We also continue to follow our technology decommissioning roadmap. To date, we have removed over 40% of Non-core and Legacy\\u2019s applications, worked through 16 petabytes of data and reduced the number of legacy servers by over 40%. Thanks to our restructuring efforts and the active wind-down of NCL, we have captured almost 60% of our targeted 13 billion gross cost savings. We will look to maintain this momentum in 2025 as our focus shifts to migrating the majority of client accounts in Switzerland, and decommissioning over twelve hundred Credit Suisse models and applications. We have always said that our progress on the integration of Credit Suisse will not be a straight line. Our performance in 2025 will continue to reflect significant restructuring work necessary to integrate our businesses and right-size our cost base. Having said that, our progress to date supports an incremental improvement in our returns this year compared to our previous guidance. We remain confident in our ability to substantially complete the integration and deliver on our targets and ambitions by the end of 2026. At the same time, we will continue to invest to drive sustainable growth and long-term value beyond the integration. Investing in technology to benefit our clients and empower our colleagues is one of the key ways we are preparing for the future. We continue to invest in our best-in-class Cloud infrastructure with over 70% in the public and private Cloud. This is a key facilitator of our integration progress, allowing us to reduce complexity and costs as we remove legacy applications, while maintaining our compliance and security standards. It is also an important catalyst for innovation as we continue to invest in tools to enhance our client offering and increase efficiency and effectiveness. A good example is our roll-out of 50,000 Microsoft Copilot licenses to our employees in the largest deployment within the global financial services industry to date. We are also seeing strong benefits from our proprietary generative A.I. solutions. One example is in the U.S. where our advanced analytics platform supported our financial advisors with over 13 million automated insights and actionable opportunities. Solutions like this improve productivity and our ability to deliver tailored solutions to our clients. We are on track to deliver on our 2026 exit rate ambitions across our core businesses. While we are encouraged In GWM, we remain focused on leveraging our enhanced capabilities and solutions to maintain client momentum. At the same time, we aim to capture the benefits of integration-related synergies and improve advisor productivity. With the client account migrations achieved in APAC, we are even better placed to leverage our number-one position in the region to drive market-leading growth. In the Americas, we are making targeted investments to deepen relationships with our ultra-high net worth clients, accelerate growth in the high net worth and core affluent segments and expand our loan and deposit offering. These growth initiatives will be supported by actions we have already taken to enhance our technology offering, simplify our organizational structure and improve execution. I am confident in our ability to deliver mid-teen PBT margins as we exit 2026. Then, the business will be better positioned to further expand profit margins and capture long-term growth. Todd will take you through our plans in more detail. In P&C, as we have said previously, declining Swiss franc rates are expected to continue to affect revenues. We are still de-facto operating two separate banks, including branches, staff, and technology, but we are well positioned to start delivering cost synergies later this year and into 2026 as we unite those platforms. Unfortunately, as we reported previously, this will lead to certain role reductions in Switzerland. We plan to mitigate the impact of these as much as possible through natural attrition, early retirement and other measures. For those impacted we will provide proactive support in helping to find a new job, and a comprehensive social plan that combines the strongest components of the prior UBS and Credit Suisse plans. I am also especially proud of efforts to prioritize the hiring of internal candidates: over two-thirds of open positions in Switzerland were filled this way in 2024. In Asset Management, we remain focused on continuing to capture opportunities where we have a differentiated and scalable offering. This includes our newly launched Unified Global Alternatives unit, which makes us the fifth-largest Limited Partner in Alternatives with promising growth prospects. At the same time, we will remain focused on realizing cost synergies and structural efficiencies to create capacity for investments and improve profitability. In the Investment Bank, I am encouraged by the progress our fully integrated teams are making to deliver for clients as we seize market share gains in our areas of strategic importance. As we continue to deploy our products and services across our broader institutional client base and increase connectivity to GWM and P&C to deliver on our return ambitions, we will maintain our well-established risk and capital discipline. Turning to capital. We continue to target a CET1 capital ratio of around 14%. At this level, we will be able to go through the integration period and beyond with a strong capital buffer relative to minimum requirements. This will allow us to remain a source of stability while we self-fund growth and deliver attractive capital returns to our shareholders. For the 2025 financial year, we plan to accrue for an increase in our dividend of around 10 percent. We also plan to repurchase another 1 billion dollars of shares in the first half of this year, and up to an additional 2 billion in the second half. As in the past, our share repurchases will be consistent with delivering on our financial plans and maintaining our CET1 capital ratio target of around 14%, and assuming no material, immediate changes to the current capital regime. Our ambition for capital returns to exceed pre-acquisition levels in 2026 remains unchanged. Now, following the publication of the Parliamentary Investigation Commission\\u2019s report in December, we expect further developments in the ongoing review of the capital regime in Switzerland. Based on the latest public communication from the State Secretariat for International Finance, the public consultation on the proposal is expected to begin in May. Therefore, at this time, we are not in a position to offer any new information. As we have said in the past, we support the vast majority of proposals from the Swiss Federal Council on how to enhance the regulatory framework in Switzerland. In our discussions with Swiss authorities, we continue to maintain our view that the Swiss capital regime is one of the strongest when consistently and coherently applied. While it is also crystal clear that the overall quality of our capital is of a much higher standard than Credit Suisse\\u2019s, we accept that some adjustments and clarifications to the current regime may be necessary. However, a disproportionate outcome in terms of requirements at the Parent Bank level would drive our capital at the Group level to overshoot the current requirements. Therefore, we believe that any significant change is unjustified. Offsetting the consequences of higher requirements would make us uncompetitive domestically and abroad, hamper our ability to help clients grow and, importantly, make banking services more expensive for Swiss families and enterprises in the long run. It will also damage the nation\\u2019s standing as an attractive global financial center and ultimately hurt our position as the third-largest private employer in Switzerland. Of course, this would have an impact on our returns on capital. But even more importantly it would impede our ability to compete for capital in the global marketplace, particularly in a moment of financial stress. As a reminder, our current ambitions are based on a 14% CET1 capital ratio. I\\u2019ve been reading some recent reports. So, let me be very clear. There are no easy fixes in terms of repatriation of capital from foreign subsidiaries or balance sheet optimization that are not already included in our plans. Therefore, while I am extremely confident in our capital generation capacity under any outcome, our shareholder returns and returns on capital would be affected. Todd will provide more detail later. We want to continue to be a source of strength for our clients, employees, shareholders and Switzerland. For that reason, it is very important that a comprehensive cost/benefit analysis on the consequences of any material changes of capital requirements is carried out. We remain hopeful that any potential changes will be proportionate, targeted, internationally aligned and coherent with the strategic objectives set out by the Swiss\",\n          \"Thank you, Sergio. Good morning everyone \\u2013 it is a privilege to be with you today as Group CFO, especially at this watershed moment for UBS. Since my appointment, my focus has been on the financial consolidation of the two firms, progressing the work done on transaction adjustments, optimizing our liquidity and funding position, firming up our cost savings and enhancing financial reporting controls for the expanded group. Regardless of whether staff come from Credit Suisse or UBS, I\\u2019ve been extremely impressed with the dedication of the finance team. I\\u2019m proud of what we as a unit have already been able to accomplish, and we, like the entire firm, continue to execute at pace. We recognize that this is a complex deal, but our aim is to be clear and forthcoming in explaining the financial implications of our actions during this critical period and beyond. Today, I\\u2019ll cover our second quarter operating performance, the impact of the merger on our balance sheet and capital as of day 1 and, finally, our integration plan and outlook. include one month of Credit Suisse\\u2019s operating performance, presented under IFRS and in US dollars. largely driven by the net impact from items related to the acquisition, principally negative goodwill of 28.9 billion and integration-related expenses and acquisition costs. Excluding these items, the Group pre-tax profit was 1.1 billion, of which 2.0 billion from the UBS sub-group, and negative 0.8 billion from the Credit Suisse sub-group. consideration UBS paid and the fair value of the acquired net assets after taking into account the various PPA adjustments of negative 25 billion. The roughly 6 billion difference between the negative goodwill reported today and the amount included in the Form F4 registration statement just prior to closing is principally explained by two factors. First, Credit Suisse generated operating losses over the first 5 months of 2023 that were not captured in the F4, which was prepared as if the transaction occurred on December 31, 2022. Second, we applied additional net negative PPA adjustments to Credit Suisse\\u2019s financial assets and liabilities, reflecting a more detailed fair value assessment post-closing. The total net PPA adjustments of negative 25 billion consist primarily of marks of negative 14.7 billion in connection with financial assets and liabilities. This includes negative 12.4 billion on mainly fixed-rate accrual assets and liabilities, of which around 8 and half billion relates to our core businesses and around 4 billion to Non-core and Legacy. In addition, we made negative 2.3 billion of further necessary adjustments to fair value positions, mostly related to Non-core and Legacy. The negative 8 and a half billion of marks on core-business accrual financial instruments include, for example, PPA adjustments on the Swiss mortgage book, which were almost entirely interest rate driven. The majority of the accrual-basis positions are expected to mature within the next 3 to 4 years and, if held to maturity, will pull to par. Of the total marks on accrual positions, 6 billion pre-tax, or 5 billion net of tax, are CET1 capital-neutral as FINMA has granted us transitional relief, which mainly applies to Swiss mortgages. The transitional treatment is subject to linear amortization concluding by June 30, 2027. The negative marks of 2.3 billion on fair value assets and liabilities that I mentioned earlier reflect UBS\\u2019s assessment of the complexity, liquidity and model risk uncertainties in the book, as well as the relevant markets for potential strategic exits. We also made PPA adjustments of negative 4.5 billion to capture UBS\\u2019s determination of Credit Suisse\\u2019s provisions and contingent liabilities related to litigation, regulatory and similar matters. This includes 1.5 billion of incremental provisions Credit Suisse took in the second quarter. Other net PPA adjustments, totaling to negative 5 and a half billion, largely relate to GAAP differences associated with pension accounting, but also goodwill and intangibles, and fair value marks on non-financial assets and liabilities, including software and real estate. Of the total negative 25 billion of PPA adjustments, negative 17 billion is CET1 capital-relevant, with the balance relating to the 5 billion regulatory waiver I mentioned earlier, and other items that are filtered out of CET1 capital, such as pension accounting differences, goodwill and intangibles. Overall, we believe the negative goodwill, including the PPA adjustments therein \\u2013 in addition to underpinning almost 240 billion of acquired RWA - provides us with sufficient capacity to absorb the costs to achieve our two key saving objectives: first, an efficient wind-down of the non-core businesses and associated overhead we acquired, and second, positive operating leverage and synergies in our core franchises. All while remaining capital-generative over the integration timeline. We are highly confident that we can successfully integrate Credit Suisse, enhancing our business model and operating metrics, while continuing to ensure we maintain world class capital ratios and a balance sheet for all seasons. we illustrate how the transaction strengthens key financial measures from day 1, offering us a highly attractive starting point as we commence this journey. Since the acquisition, our capital position is even stronger with almost 200 billion total loss absorbing capacity, and a CET1 capital ratio of 14.4%. Additionally, our tangible book value per share is up 49% quarter on quarter and, today, we manage over 5 and a half trillion dollars of invested assets with a unique and meaningful presence in all the major markets across the globe. reason why we were able to restore financial stability and client trust in such a short amount of time. As of the end of June, as just mentioned, our CET1 capital ratio was 14.4% and our CET1 leverage ratio was 4.8%. Included in our capital ratio this quarter are the impacts from the closing of the Credit Suisse acquisition, including a 10 billion operational risk RWA reduction from diversification benefits and a combined lower forward-looking risk profile. Looking through to the end of the year, we expect our CET1 capital ratio to remain around 14%, as the benefit of RWA reductions, improvements in our underlying profitability, mainly from cost saves, and CET1 capital-relevant pull-to-par effects from the PPA adjustments are expected to largely, but not fully, offset integration-related expenses. We also expect to maintain a CET1 capital ratio of around 14% and a CET1 leverage ratio or more than 4% over the medium-term. You have often heard us referring to our balance sheet for all seasons and our capital-generative operating model that allows us to service clients and invest in the business through the cycle. It\\u2019s how we\\u2019ve operated over the last decade, and it\\u2019s how we intend to continue to operate going forward. So rest assured, maintaining a balance sheet for all seasons will remain among our very top priorities. well above our prior quarter level, and a net stable funding ratio of 118%. The liquidity coverage ratio increase largely reflects the elevated HQLA levels at Credit Suisse, including the effect of the usage of the Swiss National Bank facilities. As Sergio highlighted, positive net new deposits in the past few months enabled us to repay ELA+ and terminate the Public Liquidity Backstop facility, as announced earlier this month. We expect to continue attracting net new deposits, and as of this week we\\u2019ve already seen, in the third quarter, 13 billion of positive net new deposit flows in our combined wealth management and Swiss franchises. While this will help us narrow the inherited funding gap and continue to manage our liquidity coverage ratio at prudent levels, we expect to resume execution of our funding plans shortly. In addition to maintaining significant liquidity and funding buffers on a consolidated basis, we\\u2019re actively managing the allocation of financial resources among our significant legal entities, which also have standalone funding requirements and will continue to operate while we progress towards our target legal entity structure. We\\u2019re working towards merging Credit Suisse AG into UBS AG in 2024, as this is a critical step to removing resource allocation bottlenecks and enabling the realization of business and operational efficiencies. earlier, and a gain on sale of 848 million in Asset Management last year, UBS\\u2019s pre-tax profit in the quarter was 2.0 billion, up 12% year-over-year. Before turning to the UBS sub-group business divisions starting on page 23, let me first point out that for the second quarter, the negative goodwill as well as a substantial portion of integration-related expenses have been retained and reported in Group Functions. Starting with the third quarter, we intend to consolidate the reporting of our business divisions across the UBS and Credit Suisse sub-groups, and we\\u2019ll report integration- related expenses in the respective combined segments. All references to figures are in US dollars and comparisons are year-over-year, unless stated otherwise. In Global Wealth Management, we delivered net new money of 16 billion, the strongest second quarter in over a decade, with inflows across Switzerland, EMEA and APAC, and despite 5 billion in seasonal tax payments in the US. We also delivered net new fee generating assets of 13 billion, or an annualized growth rate of 4% with positive flows across all regions, as well as net new deposits of 5 billion. These strong inflows across net new money, fee-generating assets and deposits demonstrate our continuous focus on active client engagement and the trust our clients place in us. This was especially important during a quarter where the macro backdrop and developments with Credit Suisse placed a premium on our investment advice and the stability of our GWM franchise. Profit before tax was 1.1 billion, down 4% despite strong growth in EMEA and Switzerland of 15% and 9%, respectively. Positive top-line contributions from all regions outside of Americas supported a 1% revenue increase, which was more than offset by higher expenses. In the Americas, revenues were down 4% mainly as net interest income reflected continued rotation into higher yielding deposits and investments from transactional and sweep deposit accounts. Although we expect NII in the Americas to continue to tick-down sequentially from ongoing cash sorting and deleveraging in the current rates environment, we nevertheless continue to see the US market as a strategic priority for us, and hence we continue to invest in the business for future growth. As a result, we expect our pre-tax margin in the Americas to be low double-digit to mid-teens over the near-term. Onto total GWM revenues. Net interest income was up 14% year-over-year, and down 3% sequentially, the latter reflecting mix shifts and lower deposit and loan balances, partly offset by higher deposit margins. Recurring net fee income decreased 3% due to negative market performance while positive inflows were offset by clients\\u2019 continued repositioning into lower margin solutions. As a reminder, we bill based on daily balances in the Americas and on month-end balances everywhere else. As such, second quarter revenues did not fully reflect June\\u2019s market rally, which we\\u2019re seeing benefit the third quarter. Transaction-based income decreased 6%, impacted by investor uncertainty, particularly in Americas and APAC. However, towards the end of the second quarter and into the third, we\\u2019re seeing a pick-up in both client sentiment and transactional momentum especially in APAC. Operating expenses ex-litigation, integration-related expenses and FX were up 3% driven by increases in technology and personnel expenses. one-off gains. Profit before tax was up 54% to 612 million Swiss francs. Revenues increased 24%, with increases across all revenue lines, highlighting continued momentum in the business. Net interest income increased by 45% year on year and 12% quarter-on-quarter. Sequentially, we continued to see loan growth, while the deposit base remained roughly stable. Costs were up 9%, driven by continued tech investments and higher personnel expenses. The cost-to-income ratio was 51%, a 7 percentage-point improvement year-on- year, demonstrating strong positive operating leverage. We saw strong momentum with 10% annualized growth in net new investment products and almost 6 thousand net new clients, reflecting the trust our clients continue to place in us. Excluding last year\\u2019s gain on sale, total revenues decreased 5%, with lower net management fees, driven by market headwinds, asset mix, as well as lower performance fees. These headwinds were partially offset by 1% lower costs. Net new money in the quarter was strong at 17 billion, a 6% annualized growth rate. Net new money excluding money markets and associates was 19.5 billion, with positive momentum in SMAs and alternatives. The operating environment for the Investment Bank\\u2019s trading businesses was defined by significantly lower equity volatility levels compared to the prior-year period. Within Global Markets, this resulted in a meaningful decline in client activity levels across both Equities and FRC, where revenues of 1.5 billion were down 11%, broadly consistent with our peer group. on record. This demonstrates the resilience of our balanced portfolio of risk-efficient businesses, as we continue to invest in capabilities that are critical to our clients. Global Banking revenues of 371 million were down 2% as the second quarter saw the global fee pool hit its lowest quarterly level since 2012. In the second quarter we significantly outperformed the fee pool in EMEA and gained share in global M&A. Operating expenses were up 2%, predominantly on higher tech investments offsetting lower provisions for litigation, regulatory and similar matters. (2.1bn) adjusted loss (CHF, US GAAP) earlier today. Credit Suisse AG\\u2019s reported pre-tax loss for the second quarter was 8.9 billion Swiss francs. This result includes several large items, including 2.2 billion in adjustments to fair value marks, 1.8 billion in software write-downs, 1.3 billion in additional litigation provisions, and 1.0 billion for a goodwill impairment. Stripping out these and other items that are not representative of Credit Suisse AG\\u2019s underlying performance in the quarter, the adjusted operating loss was 2.1 billion Swiss francs. consolidation scope. Including those entities, the Credit Suisse sub-group\\u2019s pro-forma second quarter adjusted operating loss was 2.0 billion Swiss francs. In discussing the Credit Suisse sub-group performance in the second quarter, I\\u2019ll focus on this 2-billion Swiss franc adjusted loss as it better informs the starting point for the group in combination with UBS\\u2019s quarterly underlying performance. Suisse Investment Bank and the Capital Release Unit, as well as elevated funding costs in the Credit Suisse\"\n        ],\n        \"semantic_type\": \"\",\n        \"description\": \"\"\n      }\n    },\n    {\n      \"column\": \"Utterance_cleaned\",\n      \"properties\": {\n        \"dtype\": \"object\",\n        \"semantic_type\": \"\",\n        \"description\": \"\"\n      }\n    }\n  ]\n}"
            }
          },
          "metadata": {},
          "execution_count": 34
        }
      ]
    },
    {
      "cell_type": "markdown",
      "source": [
        "# **Export the output as a csv file**"
      ],
      "metadata": {
        "id": "189rbzkJzGY0"
      }
    },
    {
      "cell_type": "markdown",
      "source": [
        "UBS QA section"
      ],
      "metadata": {
        "id": "fPAelJOimwRC"
      }
    },
    {
      "cell_type": "code",
      "source": [
        "#export preprocessed data\n",
        "#preprocessed_qa_csv_path3 = \"/content/ubs_qa_df_preprocessed.csv\"\n",
        "#processed_df.to_csv(preprocessed_qa_csv_path3, index=False)"
      ],
      "metadata": {
        "id": "9343-DY8nsKK"
      },
      "execution_count": null,
      "outputs": []
    },
    {
      "cell_type": "markdown",
      "source": [
        "UBS management discussion"
      ],
      "metadata": {
        "id": "pFXhWPUrmyH6"
      }
    },
    {
      "cell_type": "code",
      "source": [
        "#export preprocessed data\n",
        "#preprocessed_qa_csv_path4 = \"/content/sample_data/ubs_management_df_preprocessed.csv\"\n",
        "#manag_data.to_csv(\"ubs_management_discussion.csv\", index=False)"
      ],
      "metadata": {
        "id": "UGEZ8Ioen5T5"
      },
      "execution_count": null,
      "outputs": []
    }
  ]
}