{
  "cells": [
    {
      "cell_type": "markdown",
      "metadata": {
        "id": "view-in-github",
        "colab_type": "text"
      },
      "source": [
        "<a href=\"https://colab.research.google.com/github/sheldonkemper/bank_of_england/blob/main/notebooks/processed/kk_eda.ipynb\" target=\"_parent\"><img src=\"https://colab.research.google.com/assets/colab-badge.svg\" alt=\"Open In Colab\"/></a>"
      ]
    },
    {
      "cell_type": "code",
      "source": [
        "\"\"\"\n",
        "===================================================\n",
        "Author: Kasia Kirby\n",
        "Role: Reporting Lead, Bank of England Employer Project (Quant Collective)\n",
        "LinkedIn: https://www.linkedin.com/in/kasia-kirby\n",
        "Date: 2025-02-13\n",
        "Version: 1.0\n",
        "\n",
        "Description:\n",
        "    This notebook conducts descriptive analysis on the preprocessed earnings calls transcript data\n",
        "    to understand its characteristics (e.g., text length, word frequency)\n",
        "    and generate visualisations (word clouds, histograms) to highlight trends or anomalies.\n",
        "\n",
        "===================================================\n",
        "\"\"\""
      ],
      "metadata": {
        "id": "9nrMOE0XLdw_",
        "outputId": "08b64683-f4fa-46d7-e651-5c3ee2eb1d99",
        "colab": {
          "base_uri": "https://localhost:8080/",
          "height": 105
        }
      },
      "execution_count": 10,
      "outputs": [
        {
          "output_type": "execute_result",
          "data": {
            "text/plain": [
              "'\\n===================================================\\nAuthor: Kasia Kirby\\nRole: Reporting Lead, Bank of England Employer Project (Quant Collective)\\nLinkedIn: https://www.linkedin.com/in/kasia-kirby\\nDate: 2025-02-13\\nVersion: 1.0\\n\\nDescription:\\n    This notebook conducts descriptive analysis on the preprocessed earnings calls transcript data\\n    to understand its characteristics (e.g., text length, word frequency)\\n    and generate visualisations (word clouds, histograms) to highlight trends or anomalies.\\n\\n===================================================\\n'"
            ],
            "application/vnd.google.colaboratory.intrinsic+json": {
              "type": "string"
            }
          },
          "metadata": {},
          "execution_count": 10
        }
      ]
    },
    {
      "cell_type": "code",
      "execution_count": 2,
      "metadata": {
        "id": "IyrdK8-KUs3l"
      },
      "outputs": [],
      "source": [
        "import os\n",
        "import sys\n",
        "from google.colab import drive"
      ]
    },
    {
      "cell_type": "code",
      "execution_count": 11,
      "metadata": {
        "id": "6VD8ipZFGbLk",
        "colab": {
          "base_uri": "https://localhost:8080/"
        },
        "outputId": "1cd4b9f9-8e7c-4831-d233-02b32baf160f"
      },
      "outputs": [
        {
          "output_type": "stream",
          "name": "stdout",
          "text": [
            "Mounted at /content/drive\n",
            "['unfiltered_preprocessed_JP_qa_sec.csv', 'jpmorgan_preprocessed_transcript.csv', 'preprocessed_santander.csv', 'jpmorgan_management_discussion_preprocessed .csv', 'jpmorgan_qa_section_preprocessed.csv', 'santander_management_discussion_preprocessed.csv', 'ubs_management_discussion_preprocessed.csv', 'ubs_qna_df_preprocessed.csv']\n"
          ]
        }
      ],
      "source": [
        "# Mount Google Drive to the root location\n",
        "drive.mount('/content/drive', force_remount=True)\n",
        "BOE_path = '/content/drive/MyDrive/BOE/bank_of_england/data/preprocessed_data'\n",
        "print(os.listdir(BOE_path))"
      ]
    }
  ],
  "metadata": {
    "colab": {
      "provenance": [],
      "include_colab_link": true
    },
    "kernelspec": {
      "display_name": "Python 3",
      "name": "python3"
    },
    "language_info": {
      "name": "python"
    }
  },
  "nbformat": 4,
  "nbformat_minor": 0
}