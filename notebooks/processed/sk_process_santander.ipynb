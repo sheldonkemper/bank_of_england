{
  "cells": [
    {
      "cell_type": "markdown",
      "metadata": {
        "colab_type": "text",
        "id": "view-in-github"
      },
      "source": [
        "<a href=\"https://colab.research.google.com/github/sheldonkemper/bank_of_england/blob/main/notebooks/modelling/example.ipynb\" target=\"_parent\"><img src=\"https://colab.research.google.com/assets/colab-badge.svg\" alt=\"Open In Colab\"/></a>"
      ]
    },
    {
      "cell_type": "markdown",
      "metadata": {
        "id": "TjcWzjxiUs3i"
      },
      "source": [
        "Modules"
      ]
    },
    {
      "cell_type": "code",
      "execution_count": null,
      "metadata": {},
      "outputs": [],
      "source": [
        "\"\"\"\n",
        "===================================================\n",
        "Author: Sheldon Kemper\n",
        "Role: Data Engineering Lead, Bank of England Employer Project (Quant Collective)\n",
        "LinkedIn: https://www.linkedin.com/in/sheldon-kemper\n",
        "Date: 2025-02-04\n",
        "Version: 1.1\n",
        "\n",
        "Description:\n",
        "    This notebook implements a system for transcribing and processing audio transcripts for the Bank of England project.\n",
        "    The workflow downloads an audio file from a specified URL, applies a machine learning-based speech-to-text model\n",
        "    (e.g., OpenAI’s Whisper) to convert the audio into text, and segments the resulting transcript into two sections:\n",
        "    the Manager Presentation and the Question & Answer (Q&A) sections. Each section is subsequently exported into its\n",
        "    own CSV file using Python libraries such as requests, regex, and CSV (or pandas). This pipeline builds on our existing\n",
        "    data engineering infrastructure to facilitate efficient extraction, segmentation, and analysis of key project content.\n",
        "\n",
        "===================================================\n",
        "\"\"\"\n"
      ]
    },
    {
      "cell_type": "code",
      "execution_count": null,
      "metadata": {
        "id": "IyrdK8-KUs3l"
      },
      "outputs": [],
      "source": [
        "import os\n",
        "import sys\n",
        "from google.colab import drive"
      ]
    },
    {
      "cell_type": "code",
      "execution_count": null,
      "metadata": {
        "id": "6VD8ipZFGbLk"
      },
      "outputs": [],
      "source": [
        "\n",
        "\n",
        "# Mount Google Drive to the root location with force_remount\n",
        "drive.mount('/content/drive', force_remount=True)\n",
        "\n",
        "# Assuming 'BOE' folder is in 'MyDrive' and already shared\n",
        "BOE_path = '/content/drive/MyDrive/BOE/bank_of_england/data'\n",
        "\n",
        "# Now you (and others with access) can work with files in this directory\n",
        "# For example, you can list the contents:\n",
        "print(os.listdir(BOE_path))"
      ]
    },
    {
      "cell_type": "markdown",
      "metadata": {},
      "source": [
        "Transcribing the Audio"
      ]
    },
    {
      "cell_type": "code",
      "execution_count": null,
      "metadata": {},
      "outputs": [],
      "source": [
        "# Install whisper (if not already installed)\n",
        "# pip install git+https://github.com/openai/whisper.git\n",
        "\n",
        "import whisper\n",
        "\n",
        "# Load a pre-trained model (choose a model size appropriate for your needs: tiny, base, small, medium, large)\n",
        "model = whisper.load_model(\"base\")\n",
        "\n",
        "# Download or specify the local path of your audio file.\n",
        "audio_file = \"path/to/your_audio_file.mp3\"  # replace with the path after downloading the file from your URL\n",
        "\n",
        "# Transcribe the audio file to text\n",
        "result = model.transcribe(audio_file)\n",
        "transcript_text = result[\"text\"]\n",
        "\n",
        "# Optionally, save the full transcript to a text file for review.\n",
        "with open(\"full_transcript.txt\", \"w\", encoding=\"utf-8\") as f:\n",
        "    f.write(transcript_text)\n"
      ]
    }
  ],
  "metadata": {
    "colab": {
      "include_colab_link": true,
      "provenance": []
    },
    "kernelspec": {
      "display_name": "Python 3",
      "name": "python3"
    },
    "language_info": {
      "name": "python"
    }
  },
  "nbformat": 4,
  "nbformat_minor": 0
}
