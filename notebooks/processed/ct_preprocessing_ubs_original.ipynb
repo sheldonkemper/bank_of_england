{
  "nbformat": 4,
  "nbformat_minor": 0,
  "metadata": {
    "colab": {
      "provenance": [],
      "authorship_tag": "ABX9TyNh2p3mZiCjvjI87AuAX9cK",
      "include_colab_link": true
    },
    "kernelspec": {
      "name": "python3",
      "display_name": "Python 3"
    },
    "language_info": {
      "name": "python"
    }
  },
  "cells": [
    {
      "cell_type": "markdown",
      "metadata": {
        "id": "view-in-github",
        "colab_type": "text"
      },
      "source": [
        "<a href=\"https://colab.research.google.com/github/sheldonkemper/bank_of_england/blob/tidy_up_preprocessing_notebook/notebooks/processed/ct_preprocessing_ubs_original.ipynb\" target=\"_parent\"><img src=\"https://colab.research.google.com/assets/colab-badge.svg\" alt=\"Open In Colab\"/></a>"
      ]
    },
    {
      "cell_type": "code",
      "source": [
        "\"\"\"\n",
        "===================================================\n",
        "Author: Chiaki Tachikawa\n",
        "Role: Data Science Lead, Bank of England Employer Project (Quant Collective)\n",
        "LinkedIn: https://www.linkedin.com/in/chiaki-tachikawa\n",
        "Date: 2025-02-13\n",
        "Version: 1.1\n",
        "\n",
        "Description:\n",
        "    This notebook implements a system for cleaning and exporting transcript data for the Bank of England project. The workflow includes:\n",
        "    - Importing necessary libraries and downloading NLTK data.\n",
        "    - Defining and applying a `preprocessor` function to clean and tokenize text data.\n",
        "    - Reading and preprocessing various CSV files containing transcript data.\n",
        "    - Exporting the preprocessed data to new CSV files for further analysis.\n",
        "\n",
        "===================================================\n",
        "\"\"\""
      ],
      "metadata": {
        "id": "a0mvZu8vposg",
        "outputId": "7b749ad7-c6e9-4e2e-d693-cf8f49fef0df",
        "colab": {
          "base_uri": "https://localhost:8080/",
          "height": 109
        }
      },
      "execution_count": null,
      "outputs": [
        {
          "output_type": "execute_result",
          "data": {
            "text/plain": [
              "'\\n===================================================\\nAuthor: Chiaki Tachikawa\\nRole: Data Science Lead, Bank of England Employer Project (Quant Collective)\\nLinkedIn: https://www.linkedin.com/in/chiaki-tachikawa\\nDate: 2025-02-13\\nVersion: 1.1\\n\\nDescription:\\n    This notebook implements a system for cleaning and exporting transcript data for the Bank of England project. The workflow includes:\\n    - Importing necessary libraries and downloading NLTK data.\\n    - Defining and applying a `preprocessor` function to clean and tokenize text data.\\n    - Reading and preprocessing various CSV files containing transcript data.\\n    - Exporting the preprocessed data to new CSV files for further analysis.\\n\\n===================================================\\n'"
            ],
            "application/vnd.google.colaboratory.intrinsic+json": {
              "type": "string"
            }
          },
          "metadata": {},
          "execution_count": 1
        }
      ]
    },
    {
      "cell_type": "markdown",
      "source": [
        "# **Library**"
      ],
      "metadata": {
        "id": "-IEHW36t7eQt"
      }
    },
    {
      "cell_type": "code",
      "source": [
        "import pandas as pd\n",
        "import numpy as np\n",
        "import nltk\n",
        "from nltk.corpus import stopwords\n",
        "from nltk.stem import WordNetLemmatizer\n",
        "nltk.download(\"stopwords\")\n",
        "nltk.download(\"punkt\")\n",
        "nltk.download(\"punkt_tab\")\n",
        "nltk.download('wordnet')\n",
        "from nltk.tokenize import word_tokenize, sent_tokenize\n",
        "from collections import Counter\n",
        "import regex as re\n",
        "from sklearn.feature_extraction.text import TfidfVectorizer\n",
        "from sklearn.pipeline import Pipeline\n",
        "from google.colab import drive\n"
      ],
      "metadata": {
        "id": "xQcJK0Z0cjWz",
        "outputId": "71926f28-5964-4a82-d118-0ffb2dc720ef",
        "colab": {
          "base_uri": "https://localhost:8080/"
        }
      },
      "execution_count": null,
      "outputs": [
        {
          "output_type": "stream",
          "name": "stderr",
          "text": [
            "[nltk_data] Downloading package stopwords to /root/nltk_data...\n",
            "[nltk_data]   Unzipping corpora/stopwords.zip.\n",
            "[nltk_data] Downloading package punkt to /root/nltk_data...\n",
            "[nltk_data]   Unzipping tokenizers/punkt.zip.\n",
            "[nltk_data] Downloading package punkt_tab to /root/nltk_data...\n",
            "[nltk_data]   Unzipping tokenizers/punkt_tab.zip.\n",
            "[nltk_data] Downloading package wordnet to /root/nltk_data...\n"
          ]
        }
      ]
    },
    {
      "cell_type": "markdown",
      "source": [
        "# **Function**"
      ],
      "metadata": {
        "id": "hgTWwaKXcc2u"
      }
    },
    {
      "cell_type": "markdown",
      "source": [
        "preprocessor function : The function modifies the DataFrame data in place, adding two new columns (col1 and col2) with preprocessed text.\n",
        "\n",
        "\n",
        "Input:\n",
        "  - name of dataframe\n",
        "  - name of column which contains the text to clean\n",
        "  - name of column which is tokenized\n",
        "  - name of column which is cleaned"
      ],
      "metadata": {
        "id": "V-ahCZonpyuY"
      }
    },
    {
      "cell_type": "code",
      "source": [
        "#create function to preprocess data\n",
        "def preprocessor (data, col, col1,col2):\n",
        "  #Copy col1umn\n",
        "  data[col1]=data[col]\n",
        "  data[col2]=data[col]\n",
        "\n",
        "\n",
        "  #Adding column1\n",
        "  #Lower the lettercase\n",
        "  data[col1] = data[col1].str.lower()\n",
        "\n",
        "  #Remove stop words\n",
        "  stop_words = set(stopwords.words(\"english\"))\n",
        "  data[col1] = data[col1].apply(lambda x: \" \".join([word for word in str(x).split() if word not in (stop_words)]))\n",
        "\n",
        "  #Tokenize the word\n",
        "  data[col1] = data[col1].apply(nltk.word_tokenize)\n",
        "\n",
        "  #Remove numbers\n",
        "  data[col1] = data[col1].apply(lambda x: [word for word in x if not word.isdigit()])\n",
        "\n",
        "  #remove symbol from comments\n",
        "  data[col1] = data[col1].apply(lambda x: [word for word in x if x!=\"\"])\n",
        "\n",
        "  #remove short word\n",
        "  data[col1] = data[col1].apply(lambda x: [word for word in x if len(word)>2])\n",
        "\n",
        "  #remove symbols\n",
        "  data[col1] = data[col1].apply (lambda x: [re.sub(r\"[^a-z]\", \"\", word) for word in x])\n",
        "\n",
        "  #lemmatization\n",
        "  lemmatizer = WordNetLemmatizer()\n",
        "  data[col1] = data[col1].apply(lambda x: [lemmatizer.lemmatize(word) for word in x])\n",
        "\n",
        "\n",
        "\n",
        "  #Adding column2\n",
        "  #Lower the lettercase\n",
        "  data[col2] = data[col2].str.lower()\n",
        "\n",
        "  #Remove stop words\n",
        "  stop_words = set(stopwords.words(\"english\"))\n",
        "  data[col2] = data[col2].apply(lambda x: \" \".join([word for word in str(x).split() if word not in (stop_words)]))\n",
        "\n",
        "  #remove symbols\n",
        "  data[col2] = data[col2].apply (lambda x: [re.sub(r\"[.,'?]\", \"\", x)])\n",
        "\n",
        "  return\n"
      ],
      "metadata": {
        "id": "WQ8V0kRFcjl8"
      },
      "execution_count": null,
      "outputs": []
    },
    {
      "cell_type": "markdown",
      "source": [
        "find_row: This function searches upwards from the given current_row_num in the DataFrame df to find the first row where the value in column \"M\" is \"A\". It returns the index of that row. If no such row is found, it returns 0"
      ],
      "metadata": {
        "id": "6NFqjDJjSUWm"
      }
    },
    {
      "cell_type": "code",
      "source": [
        "def find_row (df, col, current_row_num):\n",
        "  #list_name=[]\n",
        "  i = current_row_num-1\n",
        "  while i > 0:\n",
        "    if df[col][i] == \"A\":\n",
        "      break\n",
        "    else:\n",
        "      i-=1\n",
        "  return i"
      ],
      "metadata": {
        "id": "q61uDaHESQbo"
      },
      "execution_count": null,
      "outputs": []
    },
    {
      "cell_type": "markdown",
      "source": [
        "find_row_empty: This function searches upwards from the given current_row_num to find the first row where col1 has the value \"A\" and col2 is not an empty list. It returns the index of that row."
      ],
      "metadata": {
        "id": "emQS-qiM7cjC"
      }
    },
    {
      "cell_type": "code",
      "source": [
        "def find_row_empty (df, col1, col2, current_row_num):\n",
        "  #list_name=[]\n",
        "  i = current_row_num-1\n",
        "  while i > 0:\n",
        "    if df[col1][i] == \"A\" and df[col2][i] != []:\n",
        "      break\n",
        "    else:\n",
        "      i-=1\n",
        "  return i"
      ],
      "metadata": {
        "id": "HOZUOThEW3xv"
      },
      "execution_count": null,
      "outputs": []
    },
    {
      "cell_type": "code",
      "source": [
        "def create_ques_num_column (data, new_col,marker_col):\n",
        "  #Create question number column\n",
        "  data[new_col]=None\n",
        "  #set global var to count question number\n",
        "  num = 0\n",
        "  #if Q was found, num adds 1 otherwise none\n",
        "  for i in data.index:\n",
        "    if data.loc[i,marker_col]==\"Q\":\n",
        "      data.at[i,new_col]=num\n",
        "      num +=1\n",
        "    else:\n",
        "      continue"
      ],
      "metadata": {
        "id": "lyPjmMDI9HJk"
      },
      "execution_count": null,
      "outputs": []
    },
    {
      "cell_type": "code",
      "source": [
        "# Function to extract names\n",
        "def extract_name(full_string):\n",
        "    return full_string.split(',')[0]"
      ],
      "metadata": {
        "id": "c_YH3A7X1d4p"
      },
      "execution_count": null,
      "outputs": []
    },
    {
      "cell_type": "code",
      "source": [
        "#check if there is \"A\" before \"Q\" from the current location\n",
        "def find_last_a (df, col, current_row_num):\n",
        "  #list_name=[]\n",
        "  i = current_row_num-1\n",
        "  while i > 0:\n",
        "    if df[col][i] == \"Q\":\n",
        "      j = i-1\n",
        "      while j > 0:\n",
        "        if df[col][j]==\"A\":\n",
        "          pass\n",
        "        else:\n",
        "          break\n",
        "        j-=1\n",
        "      break\n",
        "    else:\n",
        "      i-=1\n",
        "  return i"
      ],
      "metadata": {
        "id": "TH3y08_L41LW"
      },
      "execution_count": null,
      "outputs": []
    },
    {
      "cell_type": "markdown",
      "source": [
        "## **Data**"
      ],
      "metadata": {
        "id": "M-mVne19lMkn"
      }
    },
    {
      "cell_type": "code",
      "source": [
        "#drive.mount('/content/drive')"
      ],
      "metadata": {
        "id": "5mvXkBRMhR5t"
      },
      "execution_count": null,
      "outputs": []
    },
    {
      "cell_type": "code",
      "source": [
        "#!ls\"/content/bank_of_england/data/preprocessed_data/Archived/jpmorgan_qa_section_preprocessed.csv\""
      ],
      "metadata": {
        "id": "QJqTC4aVXPBj"
      },
      "execution_count": null,
      "outputs": []
    },
    {
      "cell_type": "code",
      "source": [
        "drive.mount('/content/drive')\n"
      ],
      "metadata": {
        "id": "QTDf9v7Eo31v",
        "outputId": "c5447f77-6cda-4de5-e24d-cbe967613969",
        "colab": {
          "base_uri": "https://localhost:8080/"
        }
      },
      "execution_count": null,
      "outputs": [
        {
          "output_type": "stream",
          "name": "stdout",
          "text": [
            "Mounted at /content/drive\n"
          ]
        }
      ]
    },
    {
      "cell_type": "markdown",
      "source": [
        "JP Morgan QA section"
      ],
      "metadata": {
        "id": "tZx8UzN3QQt0"
      }
    },
    {
      "cell_type": "code",
      "source": [
        "\"\"\"\n",
        "#Obtaining management discussion / git bash\n",
        "!git clone https://github.com/sheldonkemper/bank_of_england.git\n",
        "!git switch Preprocessing\n",
        "%cd bank_of_england/data/preprocessed_data/archived\n",
        "%ls\n",
        "\"\"\""
      ],
      "metadata": {
        "colab": {
          "base_uri": "https://localhost:8080/",
          "height": 54
        },
        "id": "GvpuBulabVTD",
        "outputId": "04bfcb23-523f-4580-e8e4-cde033f7f532"
      },
      "execution_count": null,
      "outputs": [
        {
          "output_type": "execute_result",
          "data": {
            "text/plain": [
              "'\\n#Obtaining management discussion / git bash\\n!git clone https://github.com/sheldonkemper/bank_of_england.git\\n!git switch Preprocessing\\n%cd bank_of_england/data/preprocessed_data/archived\\n%ls\\n'"
            ],
            "application/vnd.google.colaboratory.intrinsic+json": {
              "type": "string"
            }
          },
          "metadata": {},
          "execution_count": 12
        }
      ]
    },
    {
      "cell_type": "code",
      "source": [
        "#Defining qa_data\n",
        "qa_data = pd.read_csv(\"/content/drive/MyDrive/bank_of_england/data/cleansed/ubs_qna_section.csv\")\n",
        "qa_data.head()"
      ],
      "metadata": {
        "colab": {
          "base_uri": "https://localhost:8080/",
          "height": 206
        },
        "id": "9WD6Z5Tjfykz",
        "outputId": "79427b0f-eab7-4afa-c55d-414c00465641"
      },
      "execution_count": null,
      "outputs": [
        {
          "output_type": "execute_result",
          "data": {
            "text/plain": [
              "             speaker      job_title  \\\n",
              "0            Unknown            NaN   \n",
              "1  Sergio P. Ermotti            NaN   \n",
              "2       Chris Hallam  Goldman Sachs   \n",
              "3  Sergio P. Ermotti            NaN   \n",
              "4    Sarah Youngwood            NaN   \n",
              "\n",
              "                                           utterance      call_date  \\\n",
              "0  Chis Hallam, Goldman Sachs Yes. Good morning, ...  25 April 2023   \n",
              "1  Okay. Thank you. On capital requirements, you ...  25 April 2023   \n",
              "2  Very clear. Thanks. Kian Abouhossein, JPMorgan...  25 April 2023   \n",
              "3  So, Sarah, take the first question. I'll take ...  25 April 2023   \n",
              "4  So, when we give you the 74%, we focused inten...  25 April 2023   \n",
              "\n",
              "  financial_quarter                     source_file  \n",
              "0              1Q23  1q23-earnings-call-remarks.pdf  \n",
              "1              1Q23  1q23-earnings-call-remarks.pdf  \n",
              "2              1Q23  1q23-earnings-call-remarks.pdf  \n",
              "3              1Q23  1q23-earnings-call-remarks.pdf  \n",
              "4              1Q23  1q23-earnings-call-remarks.pdf  "
            ],
            "text/html": [
              "\n",
              "  <div id=\"df-90a741e3-62f9-4927-84e4-99f854d47407\" class=\"colab-df-container\">\n",
              "    <div>\n",
              "<style scoped>\n",
              "    .dataframe tbody tr th:only-of-type {\n",
              "        vertical-align: middle;\n",
              "    }\n",
              "\n",
              "    .dataframe tbody tr th {\n",
              "        vertical-align: top;\n",
              "    }\n",
              "\n",
              "    .dataframe thead th {\n",
              "        text-align: right;\n",
              "    }\n",
              "</style>\n",
              "<table border=\"1\" class=\"dataframe\">\n",
              "  <thead>\n",
              "    <tr style=\"text-align: right;\">\n",
              "      <th></th>\n",
              "      <th>speaker</th>\n",
              "      <th>job_title</th>\n",
              "      <th>utterance</th>\n",
              "      <th>call_date</th>\n",
              "      <th>financial_quarter</th>\n",
              "      <th>source_file</th>\n",
              "    </tr>\n",
              "  </thead>\n",
              "  <tbody>\n",
              "    <tr>\n",
              "      <th>0</th>\n",
              "      <td>Unknown</td>\n",
              "      <td>NaN</td>\n",
              "      <td>Chis Hallam, Goldman Sachs Yes. Good morning, ...</td>\n",
              "      <td>25 April 2023</td>\n",
              "      <td>1Q23</td>\n",
              "      <td>1q23-earnings-call-remarks.pdf</td>\n",
              "    </tr>\n",
              "    <tr>\n",
              "      <th>1</th>\n",
              "      <td>Sergio P. Ermotti</td>\n",
              "      <td>NaN</td>\n",
              "      <td>Okay. Thank you. On capital requirements, you ...</td>\n",
              "      <td>25 April 2023</td>\n",
              "      <td>1Q23</td>\n",
              "      <td>1q23-earnings-call-remarks.pdf</td>\n",
              "    </tr>\n",
              "    <tr>\n",
              "      <th>2</th>\n",
              "      <td>Chris Hallam</td>\n",
              "      <td>Goldman Sachs</td>\n",
              "      <td>Very clear. Thanks. Kian Abouhossein, JPMorgan...</td>\n",
              "      <td>25 April 2023</td>\n",
              "      <td>1Q23</td>\n",
              "      <td>1q23-earnings-call-remarks.pdf</td>\n",
              "    </tr>\n",
              "    <tr>\n",
              "      <th>3</th>\n",
              "      <td>Sergio P. Ermotti</td>\n",
              "      <td>NaN</td>\n",
              "      <td>So, Sarah, take the first question. I'll take ...</td>\n",
              "      <td>25 April 2023</td>\n",
              "      <td>1Q23</td>\n",
              "      <td>1q23-earnings-call-remarks.pdf</td>\n",
              "    </tr>\n",
              "    <tr>\n",
              "      <th>4</th>\n",
              "      <td>Sarah Youngwood</td>\n",
              "      <td>NaN</td>\n",
              "      <td>So, when we give you the 74%, we focused inten...</td>\n",
              "      <td>25 April 2023</td>\n",
              "      <td>1Q23</td>\n",
              "      <td>1q23-earnings-call-remarks.pdf</td>\n",
              "    </tr>\n",
              "  </tbody>\n",
              "</table>\n",
              "</div>\n",
              "    <div class=\"colab-df-buttons\">\n",
              "\n",
              "  <div class=\"colab-df-container\">\n",
              "    <button class=\"colab-df-convert\" onclick=\"convertToInteractive('df-90a741e3-62f9-4927-84e4-99f854d47407')\"\n",
              "            title=\"Convert this dataframe to an interactive table.\"\n",
              "            style=\"display:none;\">\n",
              "\n",
              "  <svg xmlns=\"http://www.w3.org/2000/svg\" height=\"24px\" viewBox=\"0 -960 960 960\">\n",
              "    <path d=\"M120-120v-720h720v720H120Zm60-500h600v-160H180v160Zm220 220h160v-160H400v160Zm0 220h160v-160H400v160ZM180-400h160v-160H180v160Zm440 0h160v-160H620v160ZM180-180h160v-160H180v160Zm440 0h160v-160H620v160Z\"/>\n",
              "  </svg>\n",
              "    </button>\n",
              "\n",
              "  <style>\n",
              "    .colab-df-container {\n",
              "      display:flex;\n",
              "      gap: 12px;\n",
              "    }\n",
              "\n",
              "    .colab-df-convert {\n",
              "      background-color: #E8F0FE;\n",
              "      border: none;\n",
              "      border-radius: 50%;\n",
              "      cursor: pointer;\n",
              "      display: none;\n",
              "      fill: #1967D2;\n",
              "      height: 32px;\n",
              "      padding: 0 0 0 0;\n",
              "      width: 32px;\n",
              "    }\n",
              "\n",
              "    .colab-df-convert:hover {\n",
              "      background-color: #E2EBFA;\n",
              "      box-shadow: 0px 1px 2px rgba(60, 64, 67, 0.3), 0px 1px 3px 1px rgba(60, 64, 67, 0.15);\n",
              "      fill: #174EA6;\n",
              "    }\n",
              "\n",
              "    .colab-df-buttons div {\n",
              "      margin-bottom: 4px;\n",
              "    }\n",
              "\n",
              "    [theme=dark] .colab-df-convert {\n",
              "      background-color: #3B4455;\n",
              "      fill: #D2E3FC;\n",
              "    }\n",
              "\n",
              "    [theme=dark] .colab-df-convert:hover {\n",
              "      background-color: #434B5C;\n",
              "      box-shadow: 0px 1px 3px 1px rgba(0, 0, 0, 0.15);\n",
              "      filter: drop-shadow(0px 1px 2px rgba(0, 0, 0, 0.3));\n",
              "      fill: #FFFFFF;\n",
              "    }\n",
              "  </style>\n",
              "\n",
              "    <script>\n",
              "      const buttonEl =\n",
              "        document.querySelector('#df-90a741e3-62f9-4927-84e4-99f854d47407 button.colab-df-convert');\n",
              "      buttonEl.style.display =\n",
              "        google.colab.kernel.accessAllowed ? 'block' : 'none';\n",
              "\n",
              "      async function convertToInteractive(key) {\n",
              "        const element = document.querySelector('#df-90a741e3-62f9-4927-84e4-99f854d47407');\n",
              "        const dataTable =\n",
              "          await google.colab.kernel.invokeFunction('convertToInteractive',\n",
              "                                                    [key], {});\n",
              "        if (!dataTable) return;\n",
              "\n",
              "        const docLinkHtml = 'Like what you see? Visit the ' +\n",
              "          '<a target=\"_blank\" href=https://colab.research.google.com/notebooks/data_table.ipynb>data table notebook</a>'\n",
              "          + ' to learn more about interactive tables.';\n",
              "        element.innerHTML = '';\n",
              "        dataTable['output_type'] = 'display_data';\n",
              "        await google.colab.output.renderOutput(dataTable, element);\n",
              "        const docLink = document.createElement('div');\n",
              "        docLink.innerHTML = docLinkHtml;\n",
              "        element.appendChild(docLink);\n",
              "      }\n",
              "    </script>\n",
              "  </div>\n",
              "\n",
              "\n",
              "<div id=\"df-dac6e85f-7ccf-4ba5-adcf-bf35af808e29\">\n",
              "  <button class=\"colab-df-quickchart\" onclick=\"quickchart('df-dac6e85f-7ccf-4ba5-adcf-bf35af808e29')\"\n",
              "            title=\"Suggest charts\"\n",
              "            style=\"display:none;\">\n",
              "\n",
              "<svg xmlns=\"http://www.w3.org/2000/svg\" height=\"24px\"viewBox=\"0 0 24 24\"\n",
              "     width=\"24px\">\n",
              "    <g>\n",
              "        <path d=\"M19 3H5c-1.1 0-2 .9-2 2v14c0 1.1.9 2 2 2h14c1.1 0 2-.9 2-2V5c0-1.1-.9-2-2-2zM9 17H7v-7h2v7zm4 0h-2V7h2v10zm4 0h-2v-4h2v4z\"/>\n",
              "    </g>\n",
              "</svg>\n",
              "  </button>\n",
              "\n",
              "<style>\n",
              "  .colab-df-quickchart {\n",
              "      --bg-color: #E8F0FE;\n",
              "      --fill-color: #1967D2;\n",
              "      --hover-bg-color: #E2EBFA;\n",
              "      --hover-fill-color: #174EA6;\n",
              "      --disabled-fill-color: #AAA;\n",
              "      --disabled-bg-color: #DDD;\n",
              "  }\n",
              "\n",
              "  [theme=dark] .colab-df-quickchart {\n",
              "      --bg-color: #3B4455;\n",
              "      --fill-color: #D2E3FC;\n",
              "      --hover-bg-color: #434B5C;\n",
              "      --hover-fill-color: #FFFFFF;\n",
              "      --disabled-bg-color: #3B4455;\n",
              "      --disabled-fill-color: #666;\n",
              "  }\n",
              "\n",
              "  .colab-df-quickchart {\n",
              "    background-color: var(--bg-color);\n",
              "    border: none;\n",
              "    border-radius: 50%;\n",
              "    cursor: pointer;\n",
              "    display: none;\n",
              "    fill: var(--fill-color);\n",
              "    height: 32px;\n",
              "    padding: 0;\n",
              "    width: 32px;\n",
              "  }\n",
              "\n",
              "  .colab-df-quickchart:hover {\n",
              "    background-color: var(--hover-bg-color);\n",
              "    box-shadow: 0 1px 2px rgba(60, 64, 67, 0.3), 0 1px 3px 1px rgba(60, 64, 67, 0.15);\n",
              "    fill: var(--button-hover-fill-color);\n",
              "  }\n",
              "\n",
              "  .colab-df-quickchart-complete:disabled,\n",
              "  .colab-df-quickchart-complete:disabled:hover {\n",
              "    background-color: var(--disabled-bg-color);\n",
              "    fill: var(--disabled-fill-color);\n",
              "    box-shadow: none;\n",
              "  }\n",
              "\n",
              "  .colab-df-spinner {\n",
              "    border: 2px solid var(--fill-color);\n",
              "    border-color: transparent;\n",
              "    border-bottom-color: var(--fill-color);\n",
              "    animation:\n",
              "      spin 1s steps(1) infinite;\n",
              "  }\n",
              "\n",
              "  @keyframes spin {\n",
              "    0% {\n",
              "      border-color: transparent;\n",
              "      border-bottom-color: var(--fill-color);\n",
              "      border-left-color: var(--fill-color);\n",
              "    }\n",
              "    20% {\n",
              "      border-color: transparent;\n",
              "      border-left-color: var(--fill-color);\n",
              "      border-top-color: var(--fill-color);\n",
              "    }\n",
              "    30% {\n",
              "      border-color: transparent;\n",
              "      border-left-color: var(--fill-color);\n",
              "      border-top-color: var(--fill-color);\n",
              "      border-right-color: var(--fill-color);\n",
              "    }\n",
              "    40% {\n",
              "      border-color: transparent;\n",
              "      border-right-color: var(--fill-color);\n",
              "      border-top-color: var(--fill-color);\n",
              "    }\n",
              "    60% {\n",
              "      border-color: transparent;\n",
              "      border-right-color: var(--fill-color);\n",
              "    }\n",
              "    80% {\n",
              "      border-color: transparent;\n",
              "      border-right-color: var(--fill-color);\n",
              "      border-bottom-color: var(--fill-color);\n",
              "    }\n",
              "    90% {\n",
              "      border-color: transparent;\n",
              "      border-bottom-color: var(--fill-color);\n",
              "    }\n",
              "  }\n",
              "</style>\n",
              "\n",
              "  <script>\n",
              "    async function quickchart(key) {\n",
              "      const quickchartButtonEl =\n",
              "        document.querySelector('#' + key + ' button');\n",
              "      quickchartButtonEl.disabled = true;  // To prevent multiple clicks.\n",
              "      quickchartButtonEl.classList.add('colab-df-spinner');\n",
              "      try {\n",
              "        const charts = await google.colab.kernel.invokeFunction(\n",
              "            'suggestCharts', [key], {});\n",
              "      } catch (error) {\n",
              "        console.error('Error during call to suggestCharts:', error);\n",
              "      }\n",
              "      quickchartButtonEl.classList.remove('colab-df-spinner');\n",
              "      quickchartButtonEl.classList.add('colab-df-quickchart-complete');\n",
              "    }\n",
              "    (() => {\n",
              "      let quickchartButtonEl =\n",
              "        document.querySelector('#df-dac6e85f-7ccf-4ba5-adcf-bf35af808e29 button');\n",
              "      quickchartButtonEl.style.display =\n",
              "        google.colab.kernel.accessAllowed ? 'block' : 'none';\n",
              "    })();\n",
              "  </script>\n",
              "</div>\n",
              "\n",
              "    </div>\n",
              "  </div>\n"
            ],
            "application/vnd.google.colaboratory.intrinsic+json": {
              "type": "dataframe",
              "variable_name": "qa_data",
              "summary": "{\n  \"name\": \"qa_data\",\n  \"rows\": 309,\n  \"fields\": [\n    {\n      \"column\": \"speaker\",\n      \"properties\": {\n        \"dtype\": \"category\",\n        \"num_unique_values\": 25,\n        \"samples\": [\n          \"Jeremy Sigee\",\n          \"Giulia Miotto\",\n          \"Unknown\"\n        ],\n        \"semantic_type\": \"\",\n        \"description\": \"\"\n      }\n    },\n    {\n      \"column\": \"job_title\",\n      \"properties\": {\n        \"dtype\": \"category\",\n        \"num_unique_values\": 21,\n        \"samples\": [\n          \"Goldman Sachs\",\n          \"BNP Paribas\",\n          \"Bank of America Merrill Lynch\"\n        ],\n        \"semantic_type\": \"\",\n        \"description\": \"\"\n      }\n    },\n    {\n      \"column\": \"utterance\",\n      \"properties\": {\n        \"dtype\": \"string\",\n        \"num_unique_values\": 290,\n        \"samples\": [\n          \"Kian, its, you know, we can't really comment right now. We are modeling. We are really going through the details of the plan. We need to really also go through the exercise. I'm sure you appreciate when we put together legal entities, the optimization of all that, it's a fairly complex operation. So, I wouldn't go into a territory of projecting risk-weighted assets going forward because: one, there are two elements \\u2013 well, three elements. The starting point is a good starting point. We know that we can make some adjustments in the next three to four months. Op risk was one of these subjects. But then you need to go through, first of all, what are the efficiencies we take out as we run down assets. Yes. What are the efficiency on optimizing legal entity operations? And then what is the growth? Because remember, we are going to grow, as well. And we have to attach also that prospect into the equation. I wouldn't go into too much of a risk-weighted assets projection until you see what we tell you in Q3 and Q4, for the Q4 results.\",\n          \"Thank you, Kian. I'm sorry, and I really appreciate your enthusiasm. And I'm sorry that you started with an enthusiasm and then you ended up being confused. So in that sense, I can only reiterate that we don't really have some, so much low-hanging fruits here. There is no short fixes. There are technicalities that I think that Todd can explain you now, but that's essentially the situation. So we have been quite coherent and consistent in saying and planning for capital, you know, well ahead of the curve when we started to plan for the 2026 targets. Kian Abouhossein, JPMorgan Sergio, just to add. I'm a bank analyst. I can get excited very quickly so just to put in context.\",\n          \"Right. Thank you. Kian Abouhossein, JP Morgan Yes. Thank you for taking my question. I have a lot of detailed questions, but I wanted to ask two questions actually to Sergio, if I may. The first one is Sergio, your first comment on the call today were, we were asked to do a critical role in Switzerland. And -- the key here is you were asked to buy a distressed asset, a G-SIB asset and when you buy something, which you are asked to buy, you clearly are in control of the process. And I would assume just like you do in an M&A transaction, you know that better than me, you have a MAC clause and in this instance, I would assume after all the financial crisis issues that we had in 2012-2013 with mergers by regulators, there would have been an agreement that there's not over-regulation for UBS post the NewCo transaction. And I wanted to see if there's anything like this. The second question I have is Sergio you also comment that the assessment of capital will be based on what the final outcome is once we better know the outcome of these regulations. And one option is also to look at your legal entities and maybe close some of the legal entities or exit, and clearly a lot of capital is tied up in the US. They make lower returns if I look at US wealth ex-LatAm as well as the US IB, I assume its lower returns. So one option would be a restructuring or exiting of markets to rather than reducing capital return. I wanted to see if that is also an alternative. Thank you.\"\n        ],\n        \"semantic_type\": \"\",\n        \"description\": \"\"\n      }\n    },\n    {\n      \"column\": \"call_date\",\n      \"properties\": {\n        \"dtype\": \"object\",\n        \"num_unique_values\": 8,\n        \"samples\": [\n          \"7 May 2024\",\n          \"30 October 2024\",\n          \"25 April 2023\"\n        ],\n        \"semantic_type\": \"\",\n        \"description\": \"\"\n      }\n    },\n    {\n      \"column\": \"financial_quarter\",\n      \"properties\": {\n        \"dtype\": \"object\",\n        \"num_unique_values\": 8,\n        \"samples\": [\n          \"1Q24\",\n          \"3Q24\",\n          \"1Q23\"\n        ],\n        \"semantic_type\": \"\",\n        \"description\": \"\"\n      }\n    },\n    {\n      \"column\": \"source_file\",\n      \"properties\": {\n        \"dtype\": \"category\",\n        \"num_unique_values\": 8,\n        \"samples\": [\n          \"1q24-earnings-call-remarks.pdf\",\n          \"3q24-earnings-call-remarks.pdf\",\n          \"1q23-earnings-call-remarks.pdf\"\n        ],\n        \"semantic_type\": \"\",\n        \"description\": \"\"\n      }\n    }\n  ]\n}"
            }
          },
          "metadata": {},
          "execution_count": 14
        }
      ]
    },
    {
      "cell_type": "code",
      "source": [
        "#ascend df by financial_quarter\n",
        "quarter_order = [\"1Q23\", \"2Q23\",\"3Q23\",\"4Q23\",\"1Q24\",\"2Q24\",\"3Q24\",\"4Q24\"]\n",
        "qa_data[\"financial_quarter\"] = pd.Categorical(qa_data[\"financial_quarter\"], categories=quarter_order, ordered=True)\n",
        "qa_data = qa_data.sort_values(\"financial_quarter\", kind=\"mergesort\")"
      ],
      "metadata": {
        "id": "T3Dzc0vg18kJ"
      },
      "execution_count": null,
      "outputs": []
    },
    {
      "cell_type": "code",
      "source": [
        "#preprocessing data\n",
        "preprocessor(qa_data, \"utterance\", \"question_tokenised_data\", \"question_cleaned\")\n",
        "preprocessor(qa_data,\"utterance\",\"answer_tokenised_data\",\"answer_cleaned\")"
      ],
      "metadata": {
        "id": "FG3pmAvhs0Lk"
      },
      "execution_count": null,
      "outputs": []
    },
    {
      "cell_type": "code",
      "source": [
        "#remove operater\n",
        "#qa_data = qa_data.loc[qa_data[\"speaker\"]!=\"Operator\"]\n",
        "\n",
        "#remove less than 20 words\n",
        "qa_data[\"count\"] = qa_data[\"question_tokenised_data\"].apply(lambda x: len(x))\n",
        "qa_data = qa_data.loc[qa_data[\"count\"]>20]\n",
        "qa_data.head()"
      ],
      "metadata": {
        "id": "EIUtsCERiXcF"
      },
      "execution_count": null,
      "outputs": []
    },
    {
      "cell_type": "code",
      "source": [
        "#reset index\n",
        "qa_data.reset_index(drop=True, inplace=True)\n",
        "qa_data.head()"
      ],
      "metadata": {
        "id": "YUFfuq6FZVvK"
      },
      "execution_count": null,
      "outputs": []
    },
    {
      "cell_type": "code",
      "source": [
        "#Create question number column\n",
        "create_ques_num_column(qa_data,\"question_number_inline\",\"marker\")"
      ],
      "metadata": {
        "id": "iLxTIOaH88AL"
      },
      "execution_count": null,
      "outputs": []
    },
    {
      "cell_type": "code",
      "source": [
        "qa_data.head()"
      ],
      "metadata": {
        "id": "BDXH_Kxq3lhu"
      },
      "execution_count": null,
      "outputs": []
    },
    {
      "cell_type": "code",
      "source": [
        "#adding new columns\n",
        "qa_data[\"analyst\"]=None\n",
        "qa_data[\"analyst_title\"]=None\n",
        "qa_data[\"metadata_question\"]=None\n",
        "qa_data[\"question_num\"]=None\n",
        "\n",
        "#\n",
        "\n",
        "for i in qa_data.index:\n",
        "    name_list=[]\n",
        "    title_list=[]\n",
        "    question_list=[]\n",
        "    quest_num_list=[]\n",
        "    #If the value in the \"marker\" column at row i is \"Q\", then set the values of \"analyst\", \"analyst_title\", \"metadata_question\", and \"question_num\" columns at row i to \"x\".\n",
        "    if qa_data.loc[i,\"marker\"]==\"Q\":\n",
        "      qa_data.at[i,\"analyst\"]=\"x\"\n",
        "      qa_data.at[i,\"analyst_title\"]=\"x\"\n",
        "      qa_data.at[i,\"metadata_question\"]=\"x\"\n",
        "      qa_data.at[i,\"question_num\"]=\"x\"\n",
        "    elif find_last_a(qa_data,\"marker\",i) >=0 and qa_data.loc[i-1,\"marker\"]==\"Q\":\n",
        "      name_list.append(qa_data[\"speaker\"][i-1])\n",
        "      title_list.append(qa_data[\"job_title\"][i-1])\n",
        "      question_list.append(qa_data[\"utterance\"][i-1])\n",
        "      quest_num_list.append(str(qa_data[\"question_number_inline\"][i-1]))\n",
        "    elif find_last_a(qa_data,\"marker\",i) >=0 and qa_data.loc[i-1,\"marker\"]==\"A\":\n",
        "      qa_data.at[i,\"analyst\"] = qa_data.at[i-1,\"analyst\"]\n",
        "      qa_data.at[i, \"analyst_title\"] = qa_data.at[i-1,\"analyst_title\"]\n",
        "      qa_data.at[i,\"metadata_question\"]=qa_data.at[i-1, \"metadata_question\"]\n",
        "      qa_data.at[i,\"question_num\"] = qa_data.at[i-1, \"question_num\"]\n",
        "\n",
        "    #Initialize lists and populate them with \"speaker\", \"job_title\", \"utterance\", and \"question_number_inline\" values from rows between last_a and i in qa_data.\n",
        "    else:\n",
        "      last_a = find_row(qa_data,\"marker\", i)+ 1\n",
        "      for j in range(last_a, i):\n",
        "        name_list.append(qa_data[\"speaker\"][j])\n",
        "        title_list.append(qa_data[\"job_title\"][j])\n",
        "        question_list.append(qa_data[\"utterance\"][j])\n",
        "        quest_num_list.append(str(qa_data[\"question_number_inline\"][j]))\n",
        " # Assign the lists name_list, title_list, question_list, and quest_num_list to the \"analyst\", \"analyst_title\", \"metadata_question\", and \"question_num\" columns at row i in qa_data, respectively.\n",
        "    qa_data.at[i,\"analyst\"]=name_list\n",
        "    qa_data.at[i,\"analyst_title\"]=title_list\n",
        "    qa_data.at[i,\"metadata_question\"]=question_list\n",
        "    qa_data.at[i,\"question_num\"]=quest_num_list"
      ],
      "metadata": {
        "id": "bDvKv_zXSuZh"
      },
      "execution_count": null,
      "outputs": []
    },
    {
      "cell_type": "code",
      "source": [
        "qa_data.head()"
      ],
      "metadata": {
        "id": "Psxq10OGslBN"
      },
      "execution_count": null,
      "outputs": []
    },
    {
      "cell_type": "code",
      "source": [
        "for i in range(len(qa_data)):\n",
        "  #if the first row is answer, then return all analyst columns as x, if the row is answer and there is not analyst, then popurate questioner analyst name and other data, otherwise pass the function\n",
        "  if i ==0 and qa_data[\"marker\"][i]==\"A\":\n",
        "    qa_data.at[i,\"analyst\"] =\"x\"\n",
        "    qa_data.at[i,\"analyst_title\"] =\"x\"\n",
        "    qa_data.at[i,\"metadata_question\"] =\"x\"\n",
        "    qa_data.at[i,\"question_num\"]=\"x\"\n",
        "  elif qa_data[\"marker\"][i]==\"A\"and qa_data[\"analyst\"][i]==[]:\n",
        "    a = find_row_empty(qa_data,\"marker\",\"analyst\",i)\n",
        "    qa_data.at[i,\"analyst\"] = qa_data.loc[a,\"analyst\"]\n",
        "    qa_data.at[i,\"analyst_title\"] = qa_data.loc[a,\"analyst_title\"]\n",
        "    qa_data.at[i,\"metadata_question\"] = qa_data.loc[a,\"metadata_question\"]\n",
        "    qa_data.at[i,\"question_num\"] =qa_data.loc[a,\"question_num\"]\n",
        "  else:\n",
        "    continue\n"
      ],
      "metadata": {
        "id": "a8eHZSkTU061"
      },
      "execution_count": null,
      "outputs": []
    },
    {
      "cell_type": "code",
      "source": [
        "#rename column\n",
        "qa_data.rename(columns={\"utterance\":\"metadata\"},inplace=True)\n"
      ],
      "metadata": {
        "id": "Kj23E_3dDHga"
      },
      "execution_count": null,
      "outputs": []
    },
    {
      "cell_type": "code",
      "source": [
        "#reorganise column\n",
        "qa_data=qa_data[[\"filename\",\"financial_quarter\",\"call_date\",\"speaker\",\"marker\",\"question_num\",\"job_title\",\"metadata\", \"answer_cleaned\",\"analyst\",\"analyst_title\",\"metadata_question\",\"question_cleaned\"]]"
      ],
      "metadata": {
        "id": "zFM4DQ5geodS"
      },
      "execution_count": null,
      "outputs": []
    },
    {
      "cell_type": "code",
      "source": [
        "# Apply the function to the DataFrame\n",
        "qa_data['speaker'] = qa_data['speaker'].apply(extract_name)"
      ],
      "metadata": {
        "id": "VXGYEh591jSf"
      },
      "execution_count": null,
      "outputs": []
    },
    {
      "cell_type": "code",
      "source": [
        "\"\"\"\n",
        "#ascend df by financial_quarter\n",
        "quarter_order = [\"1Q23\", \"2Q23\",\"3Q23\",\"4Q23\",\"1Q24\",\"2Q24\",\"3Q24\",\"4Q24\"]\n",
        "qa_data[\"financial_quarter\"] = pd.Categorical(qa_data[\"financial_quarter\"], categories=quarter_order, ordered=True)\n",
        "df_sorted = qa_data.sort_values(\"financial_quarter\", kind=\"mergesort\")\n",
        "\"\"\""
      ],
      "metadata": {
        "id": "iwzLNjA1xKKG"
      },
      "execution_count": null,
      "outputs": []
    },
    {
      "cell_type": "code",
      "source": [
        "qa_data.head(20)"
      ],
      "metadata": {
        "id": "hPLMHBuUFWwC"
      },
      "execution_count": null,
      "outputs": []
    },
    {
      "cell_type": "markdown",
      "source": [
        "JP morgan management discussion"
      ],
      "metadata": {
        "id": "LdI0csMaQO0O"
      }
    },
    {
      "cell_type": "code",
      "source": [
        "%ls"
      ],
      "metadata": {
        "id": "Mq_3XC69JRQt"
      },
      "execution_count": null,
      "outputs": []
    },
    {
      "cell_type": "code",
      "source": [
        "#defining santader dataframe\n",
        "jpmorgan_body_df=pd.read_csv(\"jpmorgan_management_discussion.csv\")\n",
        "jpmorgan_body_df.head()"
      ],
      "metadata": {
        "id": "aSnVuAbaONTi"
      },
      "execution_count": null,
      "outputs": []
    },
    {
      "cell_type": "code",
      "source": [
        "#preprocess data\n",
        "preprocessor(jpmorgan_body_df, \"chunk_text\", \"tokenized_data\",\"cleaned_data\")"
      ],
      "metadata": {
        "id": "4-dmPqCeJZ4O"
      },
      "execution_count": null,
      "outputs": []
    },
    {
      "cell_type": "code",
      "source": [
        "jpmorgan_body_df.head()"
      ],
      "metadata": {
        "id": "ALyMIKOHJvmE"
      },
      "execution_count": null,
      "outputs": []
    },
    {
      "cell_type": "markdown",
      "source": [
        "UBS qna section"
      ],
      "metadata": {
        "id": "QxnimG_JMhqB"
      }
    },
    {
      "cell_type": "code",
      "source": [
        "%ls"
      ],
      "metadata": {
        "id": "zsQf1vU8Mo9r"
      },
      "execution_count": null,
      "outputs": []
    },
    {
      "cell_type": "code",
      "source": [
        "#define ubs q&a data\n",
        "ubs_qna_df=pd.read_csv(\"ubs_qna_section.csv\")"
      ],
      "metadata": {
        "id": "gigWeoHoMq0r"
      },
      "execution_count": null,
      "outputs": []
    },
    {
      "cell_type": "code",
      "source": [
        "#preprocessing ubs Q&A data\n",
        "preprocessor(ubs_qna_df, \"utterance\", \"tokenized_data\",\"cleaned_data\")"
      ],
      "metadata": {
        "id": "MCompAF_M5LS"
      },
      "execution_count": null,
      "outputs": []
    },
    {
      "cell_type": "code",
      "source": [
        "ubs_qna_df.head()"
      ],
      "metadata": {
        "id": "SBWaJZNqNElJ"
      },
      "execution_count": null,
      "outputs": []
    },
    {
      "cell_type": "markdown",
      "source": [
        "UBS management discussion"
      ],
      "metadata": {
        "id": "mAwIHbNAO_52"
      }
    },
    {
      "cell_type": "code",
      "source": [
        "%ls"
      ],
      "metadata": {
        "id": "jNDb4LBvPIQb"
      },
      "execution_count": null,
      "outputs": []
    },
    {
      "cell_type": "code",
      "source": [
        "#defining ubs management discussion\n",
        "ubs_manag_df=pd.read_csv(\"ubs_management_discussion.csv\")\n",
        "ubs_manag_df.head()"
      ],
      "metadata": {
        "id": "xII0-oaUPK3T"
      },
      "execution_count": null,
      "outputs": []
    },
    {
      "cell_type": "code",
      "source": [
        "#preprocessing ubs management discussion\n",
        "preprocessor(ubs_manag_df,\"utterance\", \"tokenized_data\",\"cleaned_data\")\n",
        "ubs_manag_df.head()"
      ],
      "metadata": {
        "id": "w78f-rdbPWik"
      },
      "execution_count": null,
      "outputs": []
    },
    {
      "cell_type": "markdown",
      "source": [
        "# **Export the output as a csv file**"
      ],
      "metadata": {
        "id": "189rbzkJzGY0"
      }
    },
    {
      "cell_type": "markdown",
      "source": [
        "JP morgan QA section"
      ],
      "metadata": {
        "id": "tayihcvBmnCO"
      }
    },
    {
      "cell_type": "code",
      "source": [
        "#export preprocessed data\n",
        "preprocessed_qa_csv_path1 = \"/content/drive/MyDrive/bank_of_england/data/preprocessed_data/jpmorgan_qna_df_preprocessed_ver7.csv\"\n",
        "qa_data.to_csv(preprocessed_qa_csv_path1, index=False)"
      ],
      "metadata": {
        "id": "-n4tA2OZzOCc"
      },
      "execution_count": null,
      "outputs": []
    },
    {
      "cell_type": "markdown",
      "source": [
        "JP morgan management discussion"
      ],
      "metadata": {
        "id": "3_E9S1Wlmr5z"
      }
    },
    {
      "cell_type": "code",
      "source": [
        "#export preprocessed data\n",
        "preprocessed_qa_csv_path2 = \"/content/sample_data/jpmorgan_management_df_preprocessed.csv\"\n",
        "jpmorgan_body_df.to_csv(preprocessed_qa_csv_path2, index=False)"
      ],
      "metadata": {
        "id": "lplsq9lynDV6"
      },
      "execution_count": null,
      "outputs": []
    },
    {
      "cell_type": "markdown",
      "source": [
        "UBS QA section"
      ],
      "metadata": {
        "id": "fPAelJOimwRC"
      }
    },
    {
      "cell_type": "code",
      "source": [
        "#export preprocessed data\n",
        "preprocessed_qa_csv_path3 = \"/content/sample_data/ubs_qa_df_preprocessed.csv\"\n",
        "ubs_qna_df.to_csv(preprocessed_qa_csv_path3, index=False)"
      ],
      "metadata": {
        "id": "9343-DY8nsKK"
      },
      "execution_count": null,
      "outputs": []
    },
    {
      "cell_type": "markdown",
      "source": [
        "UBS management discussion"
      ],
      "metadata": {
        "id": "pFXhWPUrmyH6"
      }
    },
    {
      "cell_type": "code",
      "source": [
        "#export preprocessed data\n",
        "preprocessed_qa_csv_path4 = \"/content/sample_data/ubs_management_df_preprocessed.csv\"\n",
        "ubs_manag_df.to_csv(preprocessed_qa_csv_path4, index=False)"
      ],
      "metadata": {
        "id": "UGEZ8Ioen5T5"
      },
      "execution_count": null,
      "outputs": []
    }
  ]
}