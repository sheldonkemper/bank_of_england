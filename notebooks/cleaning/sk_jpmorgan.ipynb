{
  "cells": [
    {
      "cell_type": "markdown",
      "metadata": {
        "colab_type": "text",
        "id": "view-in-github"
      },
      "source": [
        "<a href=\"https://colab.research.google.com/github/sheldonkemper/bank_of_england/blob/main/Untitled0.ipynb\" target=\"_parent\"><img src=\"https://colab.research.google.com/assets/colab-badge.svg\" alt=\"Open In Colab\"/></a>"
      ]
    },
    {
      "cell_type": "markdown",
      "metadata": {},
      "source": [
        "Modules"
      ]
    },
    {
      "cell_type": "code",
      "execution_count": 1,
      "metadata": {},
      "outputs": [
        {
          "ename": "ModuleNotFoundError",
          "evalue": "No module named 'google'",
          "output_type": "error",
          "traceback": [
            "\u001b[0;31m---------------------------------------------------------------------------\u001b[0m",
            "\u001b[0;31mModuleNotFoundError\u001b[0m                       Traceback (most recent call last)",
            "Cell \u001b[0;32mIn[1], line 3\u001b[0m\n\u001b[1;32m      1\u001b[0m \u001b[38;5;28;01mimport\u001b[39;00m \u001b[38;5;21;01mos\u001b[39;00m\n\u001b[1;32m      2\u001b[0m \u001b[38;5;28;01mimport\u001b[39;00m \u001b[38;5;21;01msys\u001b[39;00m\n\u001b[0;32m----> 3\u001b[0m \u001b[38;5;28;01mfrom\u001b[39;00m \u001b[38;5;21;01mgoogle\u001b[39;00m\u001b[38;5;21;01m.\u001b[39;00m\u001b[38;5;21;01mcolab\u001b[39;00m \u001b[38;5;28;01mimport\u001b[39;00m drive\n",
            "\u001b[0;31mModuleNotFoundError\u001b[0m: No module named 'google'"
          ]
        }
      ],
      "source": [
        "import os\n",
        "import sys\n",
        "from google.colab import drive"
      ]
    },
    {
      "cell_type": "code",
      "execution_count": null,
      "metadata": {
        "id": "6VD8ipZFGbLk"
      },
      "outputs": [],
      "source": [
        "\n",
        "\n",
        "# Mount Google Drive to the root location with force_remount\n",
        "drive.mount('/content/drive', force_remount=True)\n",
        "\n",
        "# Assuming 'BOE' folder is in 'MyDrive' and already shared\n",
        "BOE_path = '/content/drive/MyDrive/BOE/bank_of_england/data'\n",
        "\n",
        "# Now you (and others with access) can work with files in this directory\n",
        "# For example, you can list the contents:\n",
        "print(os.listdir(BOE_path))"
      ]
    },
    {
      "cell_type": "code",
      "execution_count": null,
      "metadata": {},
      "outputs": [],
      "source": [
        "\n",
        "sys.path.append('/content/drive/My Drive/bank_of_england/src')\n",
        "\n",
        "from preprocessing import preprocess_pipeline\n",
        "\n",
        "# Example usage\n",
        "sample_text = \"JP Morgan's earnings increased by 20% in Q4 2024.\"\n",
        "processed_text = preprocess_pipeline(sample_text)\n",
        "print(processed_text)  # Output: \"jpmorgan earning increase q4\"\n"
      ]
    },
    {
      "cell_type": "code",
      "execution_count": null,
      "metadata": {},
      "outputs": [],
      "source": [
        "import pdfplumber\n",
        "import pandas as pd\n",
        "import re\n",
        "\n",
        "# Path to the JPMorgan transcript PDF (replace with actual path)\n",
        "pdf_path = \"path_to_your_JPMorgan_PDF.pdf\"\n",
        "\n",
        "# Function to extract and clean text from PDF\n",
        "def extract_clean_text(pdf_path):\n",
        "    with pdfplumber.open(pdf_path) as pdf:\n",
        "        text_data = []\n",
        "        \n",
        "        # Skip first page and process remaining pages\n",
        "        for i, page in enumerate(pdf.pages[1:]):  # Skipping first page\n",
        "            text = page.extract_text()\n",
        "            if text:\n",
        "                # Remove headers and footers\n",
        "                text = re.sub(r\"JPMorgan Chase & Co\\..*\", \"\", text)  # Remove headers\n",
        "                text = re.sub(r\"Page \\d+ of \\d+\", \"\", text)  # Remove footers\n",
        "                text = re.sub(r\"Copyright © \\d{4} JPMorgan Chase & Co\\.\", \"\", text)  # Remove copyright notices\n",
        "                \n",
        "                # Remove excessive spaces and blank lines\n",
        "                text = re.sub(r\"\\n\\s*\\n\", \"\\n\", text).strip()\n",
        "                \n",
        "                text_data.append(text)\n",
        "\n",
        "        # Join extracted text\n",
        "        full_text = \"\\n\".join(text_data)\n",
        "\n",
        "        # Remove disclaimers based on actual text patterns\n",
        "        disclaimer_match = re.search(\n",
        "            r\"(Disclaimer\\s+This document contains forward-looking statements.*?JPMorgan Chase & Co\\. does not undertake to update any forward-looking statements)\",\n",
        "            full_text,\n",
        "            re.IGNORECASE | re.DOTALL\n",
        "        )\n",
        "        if disclaimer_match:\n",
        "            full_text = full_text[:disclaimer_match.start()].strip()  # Remove disclaimer section\n",
        "\n",
        "        return full_text\n",
        "\n",
        "# Extract and clean the text\n",
        "cleaned_text = extract_clean_text(pdf_path)\n",
        "\n",
        "# Save cleaned text to CSV\n",
        "csv_path = \"cleaned_jpmorgan_transcript.csv\"\n",
        "df = pd.DataFrame({\"Text\": cleaned_text.split(\"\\n\")})  # Convert to DataFrame\n",
        "df.to_csv(csv_path, index=False)\n",
        "\n",
        "# Print confirmation\n",
        "print(f\"Cleaned transcript saved to {csv_path}\")\n"
      ]
    }
  ],
  "metadata": {
    "colab": {
      "authorship_tag": "ABX9TyOG0FwzpZ653agZl1bU9SaP",
      "include_colab_link": true,
      "provenance": []
    },
    "kernelspec": {
      "display_name": "Python 3",
      "name": "python3"
    },
    "language_info": {
      "codemirror_mode": {
        "name": "ipython",
        "version": 3
      },
      "file_extension": ".py",
      "mimetype": "text/x-python",
      "name": "python",
      "nbconvert_exporter": "python",
      "pygments_lexer": "ipython3",
      "version": "3.9.6"
    }
  },
  "nbformat": 4,
  "nbformat_minor": 0
}
