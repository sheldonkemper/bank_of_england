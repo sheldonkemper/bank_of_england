{
  "cells": [
    {
      "cell_type": "markdown",
      "metadata": {
        "id": "view-in-github",
        "colab_type": "text"
      },
      "source": [
        "<a href=\"https://colab.research.google.com/github/sheldonkemper/bank_of_england/blob/main/notebooks/cleaning/sk_jpmorgan.ipynb\" target=\"_parent\"><img src=\"https://colab.research.google.com/assets/colab-badge.svg\" alt=\"Open In Colab\"/></a>"
      ]
    },
    {
      "cell_type": "code",
      "source": [
        "\"\"\"\n",
        "===================================================\n",
        "Author: Sheldon Kemper\n",
        "Role: Data Engineering Lead, Bank of England Employer Project (Quant Collective)\n",
        "LinkedIn: https://www.linkedin.com/in/sheldon-kemper\n",
        "Date: 2025-02-04\n",
        "Version: 1.0\n",
        "\n",
        "Description:\n",
        "    This notebook is dedicated to the data engineering functions for the Bank of England Employer Project.\n",
        "    It includes code for mounting Google Drive, reading raw PDF files (e.g., earnings call transcripts),\n",
        "    and performing text extraction and cleaning using pdfplumber and regular expressions.\n",
        "\n",
        "Dependencies:\n",
        "    - pdfplumber\n",
        "    - re\n",
        "    - google.colab (for mounting Google Drive)\n",
        "    - os\n",
        "\n",
        "===================================================\n",
        "\"\"\""
      ],
      "metadata": {
        "id": "2C9SSNHREALD"
      },
      "execution_count": null,
      "outputs": []
    },
    {
      "cell_type": "markdown",
      "metadata": {
        "id": "2XmhbIl8CKIy"
      },
      "source": [
        "Modules"
      ]
    },
    {
      "cell_type": "code",
      "source": [
        "!pip install pdfplumber  # Install pdfplumber library"
      ],
      "metadata": {
        "id": "z3XRr1FJDIX5",
        "outputId": "e0cf894d-0986-42e0-fed7-e8c68ed60065",
        "colab": {
          "base_uri": "https://localhost:8080/"
        }
      },
      "execution_count": 4,
      "outputs": [
        {
          "output_type": "stream",
          "name": "stdout",
          "text": [
            "Collecting pdfplumber\n",
            "  Downloading pdfplumber-0.11.5-py3-none-any.whl.metadata (42 kB)\n",
            "\u001b[?25l     \u001b[90m━━━━━━━━━━━━━━━━━━━━━━━━━━━━━━━━━━━━━━━━\u001b[0m \u001b[32m0.0/42.5 kB\u001b[0m \u001b[31m?\u001b[0m eta \u001b[36m-:--:--\u001b[0m\r\u001b[2K     \u001b[90m━━━━━━━━━━━━━━━━━━━━━━━━━━━━━━━━━━━━━━━━\u001b[0m \u001b[32m42.5/42.5 kB\u001b[0m \u001b[31m2.1 MB/s\u001b[0m eta \u001b[36m0:00:00\u001b[0m\n",
            "\u001b[?25hCollecting pdfminer.six==20231228 (from pdfplumber)\n",
            "  Downloading pdfminer.six-20231228-py3-none-any.whl.metadata (4.2 kB)\n",
            "Requirement already satisfied: Pillow>=9.1 in /usr/local/lib/python3.11/dist-packages (from pdfplumber) (11.1.0)\n",
            "Collecting pypdfium2>=4.18.0 (from pdfplumber)\n",
            "  Downloading pypdfium2-4.30.1-py3-none-manylinux_2_17_x86_64.manylinux2014_x86_64.whl.metadata (48 kB)\n",
            "\u001b[2K     \u001b[90m━━━━━━━━━━━━━━━━━━━━━━━━━━━━━━━━━━━━━━━━\u001b[0m \u001b[32m48.2/48.2 kB\u001b[0m \u001b[31m2.8 MB/s\u001b[0m eta \u001b[36m0:00:00\u001b[0m\n",
            "\u001b[?25hRequirement already satisfied: charset-normalizer>=2.0.0 in /usr/local/lib/python3.11/dist-packages (from pdfminer.six==20231228->pdfplumber) (3.4.1)\n",
            "Requirement already satisfied: cryptography>=36.0.0 in /usr/local/lib/python3.11/dist-packages (from pdfminer.six==20231228->pdfplumber) (43.0.3)\n",
            "Requirement already satisfied: cffi>=1.12 in /usr/local/lib/python3.11/dist-packages (from cryptography>=36.0.0->pdfminer.six==20231228->pdfplumber) (1.17.1)\n",
            "Requirement already satisfied: pycparser in /usr/local/lib/python3.11/dist-packages (from cffi>=1.12->cryptography>=36.0.0->pdfminer.six==20231228->pdfplumber) (2.22)\n",
            "Downloading pdfplumber-0.11.5-py3-none-any.whl (59 kB)\n",
            "\u001b[2K   \u001b[90m━━━━━━━━━━━━━━━━━━━━━━━━━━━━━━━━━━━━━━━━\u001b[0m \u001b[32m59.5/59.5 kB\u001b[0m \u001b[31m3.9 MB/s\u001b[0m eta \u001b[36m0:00:00\u001b[0m\n",
            "\u001b[?25hDownloading pdfminer.six-20231228-py3-none-any.whl (5.6 MB)\n",
            "\u001b[2K   \u001b[90m━━━━━━━━━━━━━━━━━━━━━━━━━━━━━━━━━━━━━━━━\u001b[0m \u001b[32m5.6/5.6 MB\u001b[0m \u001b[31m56.2 MB/s\u001b[0m eta \u001b[36m0:00:00\u001b[0m\n",
            "\u001b[?25hDownloading pypdfium2-4.30.1-py3-none-manylinux_2_17_x86_64.manylinux2014_x86_64.whl (2.9 MB)\n",
            "\u001b[2K   \u001b[90m━━━━━━━━━━━━━━━━━━━━━━━━━━━━━━━━━━━━━━━━\u001b[0m \u001b[32m2.9/2.9 MB\u001b[0m \u001b[31m63.6 MB/s\u001b[0m eta \u001b[36m0:00:00\u001b[0m\n",
            "\u001b[?25hInstalling collected packages: pypdfium2, pdfminer.six, pdfplumber\n",
            "Successfully installed pdfminer.six-20231228 pdfplumber-0.11.5 pypdfium2-4.30.1\n"
          ]
        }
      ]
    },
    {
      "cell_type": "code",
      "execution_count": 5,
      "metadata": {
        "id": "LChGfv3tCKIz"
      },
      "outputs": [],
      "source": [
        "# Step 1: Import required libraries\n",
        "import pdfplumber\n",
        "import re\n",
        "import os\n",
        "from google.colab import drive"
      ]
    },
    {
      "cell_type": "code",
      "execution_count": 6,
      "metadata": {
        "id": "6VD8ipZFGbLk",
        "outputId": "07c7c78c-d5d5-4cc2-d6b9-5a31f4fc38a4",
        "colab": {
          "base_uri": "https://localhost:8080/"
        }
      },
      "outputs": [
        {
          "output_type": "stream",
          "name": "stdout",
          "text": [
            "Mounted at /content/drive\n",
            "['cleansed', 'raw', 'model']\n"
          ]
        }
      ],
      "source": [
        "# Mount Google Drive to the root location with force_remount\n",
        "drive.mount('/content/drive', force_remount=True)\n",
        "\n",
        "# Assuming 'BOE' folder is in 'MyDrive' and already shared\n",
        "BOE_path = '/content/drive/MyDrive/BOE/bank_of_england/data'\n",
        "\n",
        "# Now you (and others with access) can work with files in this directory\n",
        "# For example, you can list the contents:\n",
        "print(os.listdir(BOE_path))"
      ]
    },
    {
      "cell_type": "code",
      "source": [
        "# Step 3: Define the path to your PDF file\n",
        "pdf_file_path = '/content/drive/My Drive/BOE/bank_of_england/data/raw/4q24-earnings-transcript.pdf'\n",
        "\n",
        "# Step 4: Read and extract text from the PDF\n",
        "transcript_text = \"\"\n",
        "with pdfplumber.open(pdf_file_path) as pdf:\n",
        "    for page in pdf.pages:\n",
        "        page_text = page.extract_text()\n",
        "        if page_text:  # Ensure that text was extracted\n",
        "            transcript_text += page_text + \"\\n\"\n",
        "\n",
        "# Optional: Print a snippet of the extracted text for a quick review\n",
        "print(\"Extracted text preview:\")\n",
        "print(transcript_text[:1000])\n",
        "\n",
        "# Step 5: Clean the extracted text (remove extraneous lines and artifacts)\n",
        "# Remove lines that are just long sequences of dots\n",
        "transcript_clean = re.sub(r'\\n\\s*\\.{10,}\\s*\\n', '\\n', transcript_text)\n",
        "# Remove page numbers that might appear on their own lines\n",
        "transcript_clean = re.sub(r'\\n\\d+\\n', '\\n', transcript_clean)\n",
        "# Normalize whitespace and newlines\n",
        "transcript_clean = re.sub(r'\\s+\\n', '\\n', transcript_clean)\n",
        "transcript_clean = re.sub(r'\\n+', '\\n', transcript_clean).strip()\n",
        "\n",
        "# Optional: Print a snippet of the cleaned transcript\n",
        "print(\"\\nCleaned text preview:\")\n",
        "print(transcript_clean[:1000])\n"
      ],
      "metadata": {
        "id": "Vm3SAYJrCfa7",
        "outputId": "45f2403d-be50-46e2-a9a1-1610b70230a7",
        "colab": {
          "base_uri": "https://localhost:8080/"
        }
      },
      "execution_count": 7,
      "outputs": [
        {
          "output_type": "stream",
          "name": "stdout",
          "text": [
            "Extracted text preview:\n",
            "NOVEMBER 2024\n",
            "4Q24 FINANCIAL RESULTS\n",
            "EARNINGS CALL TRANSCRIPT\n",
            "January 15, 2025\n",
            "MANAGEMENT DISCUSSION SECTION\n",
            "........................................................................................................................................................................................................................................................................................\n",
            "Operator: Good morning, ladies and gentlemen. Welcome to JPMorganChase's Fourth Quarter 2024 Earnings Call. This call is being recorded.\n",
            "Your line will be muted for the duration of the call. We will now go live to the presentation. The presentation is available on JPMorganChase's\n",
            "website. Please refer to the disclaimer in the back concerning forward-looking statements. Please stand by.\n",
            "At this time, I would like to turn the call over to JPMorganChase's Chairman and CEO, Jamie Dimon, and Chief Financial Officer, Jeremy Barnum.\n",
            "Mr. Barnum, please go ahead.\n",
            ".................................................\n",
            "\n",
            "Cleaned text preview:\n",
            "NOVEMBER 2024\n",
            "4Q24 FINANCIAL RESULTS\n",
            "EARNINGS CALL TRANSCRIPT\n",
            "January 15, 2025\n",
            "MANAGEMENT DISCUSSION SECTION\n",
            "Operator: Good morning, ladies and gentlemen. Welcome to JPMorganChase's Fourth Quarter 2024 Earnings Call. This call is being recorded.\n",
            "Your line will be muted for the duration of the call. We will now go live to the presentation. The presentation is available on JPMorganChase's\n",
            "website. Please refer to the disclaimer in the back concerning forward-looking statements. Please stand by.\n",
            "At this time, I would like to turn the call over to JPMorganChase's Chairman and CEO, Jamie Dimon, and Chief Financial Officer, Jeremy Barnum.\n",
            "Mr. Barnum, please go ahead.\n",
            "Jeremy Barnum\n",
            "Chief Financial Officer, JPMorganChase\n",
            "Thank you, and good morning, everyone. Starting on page 1, the Firm reported net income of $14 billion, EPS of $4.81 on revenue of $43.7\n",
            "billion, with an ROTCE of 21%. On page 2, we have more on our fourth-quarter results. The Firm reported revenue of $43.7 billion, up $3.8 bi\n"
          ]
        }
      ]
    }
  ],
  "metadata": {
    "colab": {
      "provenance": [],
      "include_colab_link": true
    },
    "kernelspec": {
      "display_name": "Python 3",
      "name": "python3"
    },
    "language_info": {
      "codemirror_mode": {
        "name": "ipython",
        "version": 3
      },
      "file_extension": ".py",
      "mimetype": "text/x-python",
      "name": "python",
      "nbconvert_exporter": "python",
      "pygments_lexer": "ipython3",
      "version": "3.9.6"
    }
  },
  "nbformat": 4,
  "nbformat_minor": 0
}